{
  "nbformat": 4,
  "nbformat_minor": 0,
  "metadata": {
    "colab": {
      "provenance": []
    },
    "kernelspec": {
      "name": "python3",
      "display_name": "Python 3"
    },
    "language_info": {
      "name": "python"
    }
  },
  "cells": [
    {
      "cell_type": "markdown",
      "source": [
        "# Task 1\n",
        "Создайте функцию func1, которая будет принтить вам строку 'hello'"
      ],
      "metadata": {
        "id": "nz5PCxQBQn08"
      }
    },
    {
      "cell_type": "code",
      "source": [
        "def func1():\n",
        "  ..."
      ],
      "metadata": {
        "id": "iOPLDHn4QrHY"
      },
      "execution_count": null,
      "outputs": []
    },
    {
      "cell_type": "markdown",
      "source": [
        "# Task 2\n",
        "Создайте функцию func2, которая будет принимать два числа в качестве аргументов\n",
        "и возвращать их сложение\n"
      ],
      "metadata": {
        "id": "VLrmzPAnQ4li"
      }
    },
    {
      "cell_type": "code",
      "source": [
        "def func2():\n",
        "  ..."
      ],
      "metadata": {
        "id": "EI6m7x-bQ8ow"
      },
      "execution_count": null,
      "outputs": []
    },
    {
      "cell_type": "markdown",
      "source": [
        "# Task 3\n",
        "Создайте функцию wallet, которая принимает два аргумента:\n",
        "\n",
        "1) на что потрачены деньги\n",
        "\n",
        "2) сколько потрачено\n",
        "\n",
        "В итоге функция должна возвращать строку в виде\n",
        "\n",
        "```'На *example_молоко* было потрачено *example_60* сом'```\n"
      ],
      "metadata": {
        "id": "-Jurlc2DRAGw"
      }
    },
    {
      "cell_type": "code",
      "source": [],
      "metadata": {
        "id": "o4WrvEZkRAbw"
      },
      "execution_count": null,
      "outputs": []
    },
    {
      "cell_type": "markdown",
      "source": [
        "# Task 4\n",
        "Создайте функцию ```func4()```, которая на вход будет принимать одну строку, проверять ее и на выходе\n",
        "возвращать строку, заменяя запятые на точки, пробелы на '' - пустые кавычки"
      ],
      "metadata": {
        "id": "bX3CRQ0tRAqE"
      }
    },
    {
      "cell_type": "code",
      "source": [
        "def func4():\n",
        "  ..."
      ],
      "metadata": {
        "id": "kbcIy5mkRA6Y"
      },
      "execution_count": null,
      "outputs": []
    },
    {
      "cell_type": "markdown",
      "source": [
        "# Task 5\n",
        "Создайте две функции ```add``` и ```div```\n",
        "\n",
        "первая функция должна принимать два числа и возвращать их сумму\n",
        "\n",
        "вторая функция должна принимать в качестве первого аргумента результат сложения первой функции и\n",
        "вторым аргументом число. Внутри себя вторая функция будет делить первый аргумент на второй и возвращать результат\n",
        "\n",
        "Например:\n",
        "```\n",
        "add(4, 5) => 9\n",
        "div(9, 3) => 3\n",
        "```"
      ],
      "metadata": {
        "id": "vqu2Gw7cRBMK"
      }
    },
    {
      "cell_type": "code",
      "source": [],
      "metadata": {
        "id": "9efFdZS4RBap"
      },
      "execution_count": null,
      "outputs": []
    },
    {
      "cell_type": "markdown",
      "source": [
        "# Task 6\n",
        "Создайте функцию ```mult```, которая в аргументы принимает список чисел и возвращает произведение\n",
        "чисел этого списка.\n",
        "\n",
        "Например:\n",
        "```print(mult([1, 2, 3, 4, 5])) => 120```"
      ],
      "metadata": {
        "id": "xX4O0NskRBpn"
      }
    },
    {
      "cell_type": "code",
      "source": [],
      "metadata": {
        "id": "df5qSGq3RB4j"
      },
      "execution_count": null,
      "outputs": []
    },
    {
      "cell_type": "markdown",
      "source": [
        "# Task 7\n",
        "Создайте функцию ```str_check```, которая будет проверять есть ли в приходящей ей строке словосочетание\n",
        "'data science', если да возвращать True, нет - False\n"
      ],
      "metadata": {
        "id": "nl55Gp8oRCHk"
      }
    },
    {
      "cell_type": "code",
      "source": [],
      "metadata": {
        "id": "9sW9pRHERCWD"
      },
      "execution_count": null,
      "outputs": []
    },
    {
      "cell_type": "markdown",
      "source": [
        "# Task 8\n",
        "Вам дан список\n",
        "```\n",
        "bd = ['Emil', 'Rena', 'Aliya', 'Hur']\n",
        "```\n",
        "создайте функцию ```check```, которая в качестве аргумента будет принимать имя и проверять есть ли это имя\n",
        "в базе данных (bd), если да то возвращать 'yes', нет - 'no'"
      ],
      "metadata": {
        "id": "pK4kYOYbRhiD"
      }
    },
    {
      "cell_type": "code",
      "source": [],
      "metadata": {
        "id": "5QfD5VvoRhxj"
      },
      "execution_count": null,
      "outputs": []
    },
    {
      "cell_type": "markdown",
      "source": [
        "# Task 9\n",
        "Создайте функцию ```func9()```, которая будет принимать 1 аргумент - число и возвращать два аргумента:\n",
        "принимаемое число и квадрат этого числа\n",
        "\n"
      ],
      "metadata": {
        "id": "1dzCCZNlLKBs"
      }
    },
    {
      "cell_type": "code",
      "source": [
        "def func9():\n",
        "  ..."
      ],
      "metadata": {
        "id": "PcPu_-2NLKe-"
      },
      "execution_count": null,
      "outputs": []
    },
    {
      "cell_type": "markdown",
      "source": [
        "# Task 10\n",
        "Дана база данных потенциальных кандидатов на место работы\n",
        "```\n",
        "users = [\n",
        "  { 'name': 'Ron', 'age': 18, 'work': 'IT-backend developer'},\n",
        "  { 'name': 'Sam', 'age': 23, 'work': 'Doctor'},\n",
        "  { 'name': 'Bob', 'age': 26, 'work': 'Driver'},\n",
        "  { 'name': 'John', 'age': 39, 'work': 'Teacher'},\n",
        "  { 'name': 'Jack', 'age': 29, 'work': 'IT-frontend developer'}\n",
        "]   \n",
        "```\n",
        "Напишите функцию ```employee```, которая будет смотреть на список users и возвращать имена только тех кандидатов,\n",
        "которым больше 21 и они в сфере IT"
      ],
      "metadata": {
        "id": "6beM0r6-LLCE"
      }
    },
    {
      "cell_type": "code",
      "source": [],
      "metadata": {
        "id": "GSaqBBeWLLd_"
      },
      "execution_count": null,
      "outputs": []
    },
    {
      "cell_type": "markdown",
      "source": [
        "# Task 11\n",
        "Создайте функцию: ```arg_types()```, которая принимает два обязательных параметра.\n",
        "Задача этой функции выводить тип принятых аргументов\n",
        "\n"
      ],
      "metadata": {
        "id": "7cxX9PL7ORoq"
      }
    },
    {
      "cell_type": "code",
      "source": [],
      "metadata": {
        "id": "kL9gyPj_OSEL"
      },
      "execution_count": null,
      "outputs": []
    },
    {
      "cell_type": "markdown",
      "source": [
        "# Task 12\n",
        "Создайте функцию ```check_nan```, которая будет принимать обязательным аргументом список и проверять\n",
        "есть ли в этом списке 'nan', если да, то удалять его и возвращать список без nan, если же список чист\n",
        "то вернуть его в изначальном виде"
      ],
      "metadata": {
        "id": "axwhfDXMOSvg"
      }
    },
    {
      "cell_type": "code",
      "source": [],
      "metadata": {
        "id": "hxgJUhKyOTMs"
      },
      "execution_count": null,
      "outputs": []
    }
  ]
}