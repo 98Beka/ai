{
  "nbformat": 4,
  "nbformat_minor": 0,
  "metadata": {
    "colab": {
      "provenance": []
    },
    "kernelspec": {
      "name": "python3",
      "display_name": "Python 3"
    },
    "language_info": {
      "name": "python"
    }
  },
  "cells": [
    {
      "cell_type": "markdown",
      "source": [
        "# Functions seminar"
      ],
      "metadata": {
        "id": "C5ELH7od9qwJ"
      }
    },
    {
      "cell_type": "markdown",
      "source": [
        "# Task_1\n",
        "\n",
        "Напишите функцию, которая выводит на отображение текст:\n",
        "* 'Lets go for a walk!'"
      ],
      "metadata": {
        "id": "fgNEmZnr9uq1"
      }
    },
    {
      "cell_type": "code",
      "execution_count": null,
      "metadata": {
        "id": "G8VO-g969jU4"
      },
      "outputs": [],
      "source": []
    },
    {
      "cell_type": "code",
      "source": [],
      "metadata": {
        "id": "JW4yOsBr9nOl"
      },
      "execution_count": null,
      "outputs": []
    },
    {
      "cell_type": "markdown",
      "source": [
        "# Task_2\n",
        "Напишите функцию 'indifference', которая осуществляет следующие действия:\n",
        "* Спрашивает пользователя 'How are you?'\n",
        "* Запрашивает ввод ответа с клавиатуры\n",
        "* Независимо от ответа функция пишет сообщение: 'Have a nice day!'"
      ],
      "metadata": {
        "id": "uMdrPGC_9xQF"
      }
    },
    {
      "cell_type": "code",
      "source": [],
      "metadata": {
        "id": "DZDajqE19nLl"
      },
      "execution_count": null,
      "outputs": []
    },
    {
      "cell_type": "code",
      "source": [],
      "metadata": {
        "id": "bkETmi089nI_"
      },
      "execution_count": null,
      "outputs": []
    },
    {
      "cell_type": "markdown",
      "source": [
        "# Task_3\n",
        "\n",
        "Напишите функцию 'Hello', которая запрашивает у пользователя его имя и возвращает сообщение 'Hi, [name]!'"
      ],
      "metadata": {
        "id": "NdJfFnM99yba"
      }
    },
    {
      "cell_type": "code",
      "source": [],
      "metadata": {
        "id": "DD7_FO7k9nGl"
      },
      "execution_count": null,
      "outputs": []
    },
    {
      "cell_type": "code",
      "source": [],
      "metadata": {
        "id": "61R5m5H29nEF"
      },
      "execution_count": null,
      "outputs": []
    },
    {
      "cell_type": "markdown",
      "source": [
        "Это были безвозвратные функции не получающие на вход ни одного аргумента.\n",
        "Рассмотрим пример функций с аргументами."
      ],
      "metadata": {
        "id": "7MR0m0GICfBl"
      }
    },
    {
      "cell_type": "markdown",
      "source": [
        "# Task_4\n",
        "\n",
        "Напишите функцию, которая получает на вход строку с названием блюда, которое вы хотите заказать. Функция выводит сообщение\n",
        "* 'Отличный выбор!'"
      ],
      "metadata": {
        "id": "Kn9tU9rp9zwA"
      }
    },
    {
      "cell_type": "code",
      "source": [],
      "metadata": {
        "id": "TmK2fArM9nBk"
      },
      "execution_count": null,
      "outputs": []
    },
    {
      "cell_type": "code",
      "source": [],
      "metadata": {
        "id": "9_3T0lkv9m-x"
      },
      "execution_count": null,
      "outputs": []
    },
    {
      "cell_type": "markdown",
      "source": [
        "# Task_5\n",
        "\n",
        "Напишите функцию 'odd_even' которая получает на вход целое число и распечатывает сообщение:\n",
        "\n",
        "* 'even' - если число четное\n",
        "* 'odd' - если число нечетное"
      ],
      "metadata": {
        "id": "rO3lzRHs91LS"
      }
    },
    {
      "cell_type": "code",
      "source": [],
      "metadata": {
        "id": "u-PugFlQ9m8Q"
      },
      "execution_count": null,
      "outputs": []
    },
    {
      "cell_type": "code",
      "source": [],
      "metadata": {
        "id": "_Abaj6zG9m5m"
      },
      "execution_count": null,
      "outputs": []
    },
    {
      "cell_type": "markdown",
      "source": [
        "# Task_6\n",
        "\n",
        "Напишите функцию 'my_sum', которая получает на вход два целых числа и выводит на печать их сумму."
      ],
      "metadata": {
        "id": "1lmYvric92SC"
      }
    },
    {
      "cell_type": "code",
      "source": [],
      "metadata": {
        "id": "jpe-D3cd9m2s"
      },
      "execution_count": null,
      "outputs": []
    },
    {
      "cell_type": "code",
      "source": [],
      "metadata": {
        "id": "Jg1tcHxh9mzy"
      },
      "execution_count": null,
      "outputs": []
    },
    {
      "cell_type": "markdown",
      "source": [
        "### Возвратные функции. Return"
      ],
      "metadata": {
        "id": "AiLYDLfkEWTq"
      }
    },
    {
      "cell_type": "markdown",
      "source": [
        "# Task_7\n",
        "\n",
        "Напишите функцию 'mult_2', которая получает на вход число и возвращает результат его умножения на 2."
      ],
      "metadata": {
        "id": "e7eEXMBi93pD"
      }
    },
    {
      "cell_type": "code",
      "source": [],
      "metadata": {
        "id": "S_HVZthh9mw9"
      },
      "execution_count": null,
      "outputs": []
    },
    {
      "cell_type": "code",
      "source": [],
      "metadata": {
        "id": "EfzMNMAG9muH"
      },
      "execution_count": null,
      "outputs": []
    },
    {
      "cell_type": "markdown",
      "source": [
        "# Task_8\n",
        "\n",
        "Напишите функцию, которая получает на вход число и значение процента, на которое необходимо увеличить это число. Функция возвращает результат.\n",
        "\n",
        "\n",
        "\n",
        "```\n",
        "add_perc(5, 20)\n",
        "\n",
        ">>> 6.0\n",
        "```\n",
        "\n"
      ],
      "metadata": {
        "id": "sF0SBMxm95Xp"
      }
    },
    {
      "cell_type": "code",
      "source": [],
      "metadata": {
        "id": "Bc5wfrh_9moo"
      },
      "execution_count": null,
      "outputs": []
    },
    {
      "cell_type": "code",
      "source": [],
      "metadata": {
        "id": "x7cX1knnFJrf"
      },
      "execution_count": null,
      "outputs": []
    },
    {
      "cell_type": "markdown",
      "source": [
        "# Task_9\n",
        "\n",
        "Напишите функцию 'abs_delta', которая получает на вход два числа и возвращает абсолютную разницу в процентах."
      ],
      "metadata": {
        "id": "Cerr6RpL96rw"
      }
    },
    {
      "cell_type": "code",
      "source": [],
      "metadata": {
        "id": "8LX6m73b9ml2"
      },
      "execution_count": null,
      "outputs": []
    },
    {
      "cell_type": "code",
      "source": [],
      "metadata": {
        "id": "8UbZHpLj9mjQ",
        "outputId": "3e7a5766-ba19-447b-c9d8-0f4b39fe5c17",
        "colab": {
          "base_uri": "https://localhost:8080/"
        }
      },
      "execution_count": null,
      "outputs": [
        {
          "output_type": "execute_result",
          "data": {
            "text/plain": [
              "150.0"
            ]
          },
          "metadata": {},
          "execution_count": 15
        }
      ]
    },
    {
      "cell_type": "markdown",
      "source": [
        "### Function with IF"
      ],
      "metadata": {
        "id": "Fd2cxWdfGDTj"
      }
    },
    {
      "cell_type": "markdown",
      "source": [
        "# Task_10\n",
        "\n",
        "Напишите функцию 'get_odd', которая получает число и возвращает само это число если оно нечетное. Если оно четное, то вычитает 1 и возвращает результат."
      ],
      "metadata": {
        "id": "cz7kRuz7973H"
      }
    },
    {
      "cell_type": "code",
      "source": [],
      "metadata": {
        "id": "ofXDAJob9mgx"
      },
      "execution_count": null,
      "outputs": []
    },
    {
      "cell_type": "code",
      "source": [],
      "metadata": {
        "id": "YKwplZns9md-"
      },
      "execution_count": null,
      "outputs": []
    },
    {
      "cell_type": "markdown",
      "source": [
        "# Task_11\n",
        "\n",
        "Напишите функцию 'roots', которая получает на вход коэффициенты квадратного уравнения. Функция возвращает список с корнями(корнем). Если нет корней, то возвращается пустой список. Реализуйте алгоритм с использованием формулы нахождения корней через дискриминант.\n",
        "\n",
        "$$ax^2 + bx+c = 0$$\n",
        "\n",
        "$$D = b^2 - 4ac$$\n",
        "\n",
        "$$x_1 = \\frac{-b + \\sqrt{D}}{2a}$$\n",
        "\n",
        "$$x_2 = \\frac{-b - \\sqrt{D}}{2a}$$"
      ],
      "metadata": {
        "id": "NS90JXxRGfzk"
      }
    },
    {
      "cell_type": "code",
      "source": [
        "\n"
      ],
      "metadata": {
        "id": "jZ9DeVM79mba"
      },
      "execution_count": null,
      "outputs": []
    },
    {
      "cell_type": "code",
      "source": [],
      "metadata": {
        "id": "eGEkcyla9mZC"
      },
      "execution_count": null,
      "outputs": []
    },
    {
      "cell_type": "code",
      "source": [],
      "metadata": {
        "id": "OiGPUPETmyix"
      },
      "execution_count": null,
      "outputs": []
    },
    {
      "cell_type": "markdown",
      "source": [
        "### Function with loop"
      ],
      "metadata": {
        "id": "ozEz69AwG-y7"
      }
    },
    {
      "cell_type": "markdown",
      "source": [
        "# Task_12\n",
        "\n",
        "Напишите функцию iter_roots' которая получает на вход коэффициенты квадратного уравнения и возвращает список с целочисленными корнями уравнения. Реализуйте алгоритм итеративно с шагом 1."
      ],
      "metadata": {
        "id": "_ovAPR4rHC8U"
      }
    },
    {
      "cell_type": "code",
      "source": [],
      "metadata": {
        "id": "gLRiFb_Z9mWi"
      },
      "execution_count": null,
      "outputs": []
    },
    {
      "cell_type": "code",
      "source": [],
      "metadata": {
        "id": "R3ZEXmX49mUL"
      },
      "execution_count": null,
      "outputs": []
    },
    {
      "cell_type": "markdown",
      "source": [
        "# Task_13\n",
        "\n",
        "Напишите функцию iter_roots' которая получает на вход коэффициенты квадратного уравнения и шаг итерации. Функция возвращает список с корнями уравнения. Реализуйте алгоритм итеративно с указанным шагом шагом.\n",
        "\n",
        "\n",
        "```\n",
        "example input:\n",
        "\n",
        "iter_roots(1, 2, 5, 0.1)\n",
        "```\n",
        "\n"
      ],
      "metadata": {
        "id": "3USh_LW5HwJd"
      }
    },
    {
      "cell_type": "code",
      "source": [],
      "metadata": {
        "id": "pi_txd7-9mRm"
      },
      "execution_count": null,
      "outputs": []
    },
    {
      "cell_type": "code",
      "source": [],
      "metadata": {
        "id": "-hU09N-19mPK"
      },
      "execution_count": null,
      "outputs": []
    },
    {
      "cell_type": "code",
      "source": [],
      "metadata": {
        "id": "KtZ6t_DB9mM0"
      },
      "execution_count": null,
      "outputs": []
    },
    {
      "cell_type": "markdown",
      "source": [
        "# Task_14\n",
        "\n",
        "Напишите функцию 'correct' которая приведет номер телефона в формат +996(ccc) nnn-nnn.\n",
        "\n",
        "Примените ее к данным номерам."
      ],
      "metadata": {
        "id": "xcqgm5LlIrt6"
      }
    },
    {
      "cell_type": "code",
      "source": [
        "client_1 = '0777784542'\n",
        "client_2 = '996(707) 435493'\n",
        "client_3 = '0(999)34-54-45'\n",
        "client_4 = '0777-349-034'\n",
        "client_5 = '(707)_ 989989'\n",
        "client_6 = '0453345034'\n",
        "client_7 = '+996777784541'"
      ],
      "metadata": {
        "id": "bFGPpAax9mKb"
      },
      "execution_count": null,
      "outputs": []
    },
    {
      "cell_type": "code",
      "source": [],
      "metadata": {
        "id": "CfLG54ak9mH6"
      },
      "execution_count": null,
      "outputs": []
    },
    {
      "cell_type": "code",
      "source": [],
      "metadata": {
        "id": "jCTjwaMdJZKs"
      },
      "execution_count": null,
      "outputs": []
    },
    {
      "cell_type": "markdown",
      "source": [
        "# Task_15\n",
        "Дан словарь с именами студентов и их результатом по тесту. Напишите функцию 'add_student', которая добавит в него новую пару значений."
      ],
      "metadata": {
        "id": "xPHtdVciJZhj"
      }
    },
    {
      "cell_type": "code",
      "source": [
        "score_dict = {'Kate': 90, 'Nick': 74}"
      ],
      "metadata": {
        "id": "_a9I6R3RJZIO"
      },
      "execution_count": null,
      "outputs": []
    },
    {
      "cell_type": "code",
      "source": [],
      "metadata": {
        "id": "cGm486zdJZFQ"
      },
      "execution_count": null,
      "outputs": []
    },
    {
      "cell_type": "code",
      "source": [],
      "metadata": {
        "id": "_36jhmFbJZBj"
      },
      "execution_count": null,
      "outputs": []
    },
    {
      "cell_type": "markdown",
      "source": [
        "# Task_16\n",
        "\n",
        "Напишите функцию 'str_atrib', которая получает на вход строку, в которой есть заглавные символы, строчные символы и цифры. Функция возвращает словарь с ключами:\n",
        "\n",
        "* 'count' - общее количество символов\n",
        "* 'upper' - количество заглавных букв\n",
        "* 'lower' - количество строчных букв\n",
        "* 'digit' - количество цифр\n",
        "\n",
        "\n",
        "\n",
        "```\n",
        "input:\n",
        "'AbaaBBaB123'\n",
        "\n",
        "output:\n",
        "{'count': 11\n",
        "'upper': 4,\n",
        "'lower': 4,\n",
        "'digit': 3}\n",
        "```\n",
        "\n",
        "\n",
        "\n",
        "Helpfull functions:\n",
        "\n",
        "\n",
        "```\n",
        "isupper()\n",
        "islower()\n",
        "isdigit()\n",
        "```"
      ],
      "metadata": {
        "id": "rteYoZE-KVc1"
      }
    },
    {
      "cell_type": "code",
      "source": [],
      "metadata": {
        "id": "H_KECfdX9mFd"
      },
      "execution_count": null,
      "outputs": []
    },
    {
      "cell_type": "code",
      "source": [],
      "metadata": {
        "id": "Jk19Q30W9mDK"
      },
      "execution_count": null,
      "outputs": []
    },
    {
      "cell_type": "markdown",
      "source": [
        "# Task_17\n",
        "\n",
        "Дан словарь с посещениями пользователями сайта. Напишите функцию, которая вернет новый словарь со следующими ключами и значениями:\n",
        "\n",
        "* 'rare' - ID пользователя с самым малым количеством посещения.\n",
        "* 'frequent' - ID пользователя с самым большим количеством посещения.\n",
        "\n",
        "Если есть несколько пользователей с минимальным или максимальным количеством визитов, то функция вернет один любой ID с таким пользователем."
      ],
      "metadata": {
        "id": "WCMtw5otLgsj"
      }
    },
    {
      "cell_type": "code",
      "source": [
        "users = { 'ID_1234': 12,\n",
        "          'ID_25343': 13,\n",
        "          'ID_4564': 34,\n",
        "          'ID_6644': 23,\n",
        "          'ID_3453': 45,\n",
        "          'ID_45645': 23,\n",
        "          'ID_5656': 70,\n",
        "          'ID_43456': 34,\n",
        "          'ID_57567': 45,\n",
        "          'ID_6745': 57,\n",
        "          'ID_6756': 36,\n",
        "          'ID_45654': 34}"
      ],
      "metadata": {
        "id": "XdiAO5J7LBMH"
      },
      "execution_count": null,
      "outputs": []
    },
    {
      "cell_type": "code",
      "source": [],
      "metadata": {
        "id": "XbM4lS5FLBIS"
      },
      "execution_count": null,
      "outputs": []
    },
    {
      "cell_type": "code",
      "source": [],
      "metadata": {
        "id": "snvrYTvuLBDx"
      },
      "execution_count": null,
      "outputs": []
    },
    {
      "cell_type": "markdown",
      "source": [
        "# Task_18\n",
        "\n",
        "Дан словарь с ID и рейтингом. Напишите функцию, которая переформатирует его в вид\n",
        "\n",
        "\n",
        "\n",
        "```\n",
        "output:\n",
        "\n",
        "{'ID_123': 3.1, 'ID_234': 4.6 ...}\n",
        "```\n",
        "И вернет результат.\n",
        "\n"
      ],
      "metadata": {
        "id": "4QacQTF-M4Rm"
      }
    },
    {
      "cell_type": "code",
      "source": [
        "id_rat_dict = {'id': ['ID_123', 'ID_234', 'ID_235', 'ID_234', 'ID_345', 'ID_456', 'ID_67', 'ID_567', 'ID_4563', 'ID_560'],\n",
        "              'rating': [3.1, 4.6, 5, 4.8, 3.4, 3.1, 2.9, 1.1, 2.7, 4]}"
      ],
      "metadata": {
        "id": "SFQ74tNzM32j"
      },
      "execution_count": null,
      "outputs": []
    },
    {
      "cell_type": "code",
      "source": [],
      "metadata": {
        "id": "8wu5DjFUM3zf"
      },
      "execution_count": null,
      "outputs": []
    },
    {
      "cell_type": "code",
      "source": [],
      "metadata": {
        "id": "HWTqvThqM3w-"
      },
      "execution_count": null,
      "outputs": []
    },
    {
      "cell_type": "markdown",
      "source": [
        "# Task_19\n",
        "\n",
        "Напишите функцию 'triangle_attr' которая получает на вход два катета прямоугольного треугольника. Функция вернет словарь со значениями:\n",
        "\n",
        "* 'gip' - значение гипотенузы\n",
        "* 'min_angle' - значение наименьшего острого угла в градусах\n",
        "* 'max_angle' - значение наибольшего острого угла в градусах"
      ],
      "metadata": {
        "id": "dBA17T9ENcIZ"
      }
    },
    {
      "cell_type": "code",
      "source": [],
      "metadata": {
        "id": "C3YQjBdKM3uA"
      },
      "execution_count": null,
      "outputs": []
    },
    {
      "cell_type": "code",
      "source": [],
      "metadata": {
        "id": "zurBfMQcOY7L"
      },
      "execution_count": null,
      "outputs": []
    },
    {
      "cell_type": "code",
      "source": [],
      "metadata": {
        "id": "usE4oRM2OY4l"
      },
      "execution_count": null,
      "outputs": []
    },
    {
      "cell_type": "code",
      "source": [],
      "metadata": {
        "id": "krRJLGpBOY2B"
      },
      "execution_count": null,
      "outputs": []
    }
  ]
}