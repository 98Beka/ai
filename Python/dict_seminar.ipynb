{
  "nbformat": 4,
  "nbformat_minor": 0,
  "metadata": {
    "colab": {
      "provenance": [],
      "collapsed_sections": [
        "20_3Ow2n2h6V"
      ]
    },
    "kernelspec": {
      "name": "python3",
      "display_name": "Python 3"
    },
    "language_info": {
      "name": "python"
    }
  },
  "cells": [
    {
      "cell_type": "markdown",
      "source": [
        "# Dict seminar\n",
        "\n",
        "\n",
        "```\n",
        "# dict comprehension\n",
        "{key: value for key, value in f({множество}) if {условие}}\n",
        "```\n",
        "\n"
      ],
      "metadata": {
        "id": "ZBi6wyT9euY-"
      }
    },
    {
      "cell_type": "markdown",
      "source": [
        "# Task_1\n",
        "\n",
        "Cоздайте пустой словарь. Затем добавте в него пару 'key': 'value':\n",
        "\n",
        "* key = 'ID_32'\n",
        "* value = 'Simon23'"
      ],
      "metadata": {
        "id": "SiORlB-mexiy"
      }
    },
    {
      "cell_type": "code",
      "execution_count": null,
      "metadata": {
        "id": "nvrQovibdv7N"
      },
      "outputs": [],
      "source": [
        "dict_ = ..."
      ]
    },
    {
      "cell_type": "markdown",
      "source": [
        "# Task_2\n",
        "\n",
        "Дан словарь. Организуйте пользовательский ввод с клавиатуры имени студента и его балл за экзамен.\n",
        "\n",
        "Добавьте эту пару ('name': 'score') в данный словарь."
      ],
      "metadata": {
        "id": "sfdR5kljgDWG"
      }
    },
    {
      "cell_type": "code",
      "source": [
        "score_dict = {'Kate': 90, 'Nick': 74}\n",
        "name = ...\n",
        "score = ..."
      ],
      "metadata": {
        "id": "XCte61OQd23Y"
      },
      "execution_count": null,
      "outputs": []
    },
    {
      "cell_type": "code",
      "source": [],
      "metadata": {
        "id": "JLQO-XhDd205"
      },
      "execution_count": null,
      "outputs": []
    },
    {
      "cell_type": "code",
      "source": [],
      "metadata": {
        "id": "zQhzIiD1d0uA"
      },
      "execution_count": null,
      "outputs": []
    },
    {
      "cell_type": "markdown",
      "source": [
        "# Task_3\n",
        "\n",
        "Дан словарь. Выведите на отображение:\n",
        "\n",
        "* Все его ключи\n",
        "* Все его значения"
      ],
      "metadata": {
        "id": "tSJ6XPjGgvSK"
      }
    },
    {
      "cell_type": "code",
      "source": [
        "dict_ = {123: 'Moskow', 234: 'New-York', 532: 'Dublin', 554: 'Neapol', 653: 'Paris', 234: 'Sarov', 564: 'Tokmak'}"
      ],
      "metadata": {
        "id": "XpYnf7rad0rD"
      },
      "execution_count": null,
      "outputs": []
    },
    {
      "cell_type": "code",
      "source": [],
      "metadata": {
        "id": "vQ---Kk-d0oY"
      },
      "execution_count": null,
      "outputs": []
    },
    {
      "cell_type": "code",
      "source": [],
      "metadata": {
        "id": "uWraZekBdw0t"
      },
      "execution_count": null,
      "outputs": []
    },
    {
      "cell_type": "markdown",
      "source": [
        "# Tack_4\n",
        "\n",
        "В словаре из прошлой задачи замените значение 'Dublin' на новое значение 'Stambul' по ключу 532."
      ],
      "metadata": {
        "id": "kMxunrkYhXcv"
      }
    },
    {
      "cell_type": "code",
      "source": [
        "dict_ = {123: 'Moskow', 234: 'New-York', 532: 'Dublin', 554: 'Neapol', 653: 'Paris', 234: 'Sarov', 564: 'Tokmak'}"
      ],
      "metadata": {
        "id": "tcoCyVm0dwyJ"
      },
      "execution_count": null,
      "outputs": []
    },
    {
      "cell_type": "code",
      "source": [],
      "metadata": {
        "id": "DqAAYqnIdwvf"
      },
      "execution_count": null,
      "outputs": []
    },
    {
      "cell_type": "code",
      "source": [],
      "metadata": {
        "id": "q5K5AKAehvhE"
      },
      "execution_count": null,
      "outputs": []
    },
    {
      "cell_type": "markdown",
      "source": [
        "# Task_5*\n",
        "\n",
        "Из словаря из предыдущей задачи достаньте вторую пару 'key': 'value' по индексу, если это возможно."
      ],
      "metadata": {
        "id": "BzeitcryhzHY"
      }
    },
    {
      "cell_type": "code",
      "source": [
        "dict_ = {123: 'Moskow', 234: 'New-York', 532: 'Dublin', 554: 'Neapol', 653: 'Paris', 234: 'Sarov', 564: 'Tokmak'}"
      ],
      "metadata": {
        "id": "ldknP60Yhvep"
      },
      "execution_count": null,
      "outputs": []
    },
    {
      "cell_type": "code",
      "source": [],
      "metadata": {
        "id": "59AlC9A7N07w"
      },
      "execution_count": null,
      "outputs": []
    },
    {
      "cell_type": "markdown",
      "source": [
        "# Task_6\n",
        "\n",
        "Напишите программу, которая последовательно запрашивает информацию по студентам с результатами их теста. Дан пустой словарь, куда будут сохраняться пары 'name': 'score'. Сделайте процесс запроса циклическим. На каждой  итерации программа принимает от пользователя команду 'next' или 'stop'. Если пользователь ввел 'next', то программа запрашивает имя и балл студента. Так продолжается многократно, пока пользователь не введет команду 'stop', после чего программа выводит сообщение \"Ввод данных завершен\".\n",
        "\n",
        "Чтобы остановить цикл существует команда 'break'.\n",
        "\n",
        "Посмотрите код ниже, чтобы проверить, как это работает."
      ],
      "metadata": {
        "id": "4IhvoaUEiLTV"
      }
    },
    {
      "cell_type": "code",
      "source": [
        "n = 0\n",
        "for _ in range(10000):\n",
        "  print(n, end = ' ')\n",
        "  if n > 9-1:\n",
        "    break\n",
        "  n+=1"
      ],
      "metadata": {
        "colab": {
          "base_uri": "https://localhost:8080/"
        },
        "id": "m1FqXqPkj7z0",
        "outputId": "c94902d1-7f37-4053-ca0c-670e0a65786c"
      },
      "execution_count": null,
      "outputs": [
        {
          "output_type": "stream",
          "name": "stdout",
          "text": [
            "0 1 2 3 4 5 6 7 8 9 "
          ]
        }
      ]
    },
    {
      "cell_type": "code",
      "source": [
        "# your part\n",
        "score_dict = {}\n"
      ],
      "metadata": {
        "id": "6L_V4TZMiKDS"
      },
      "execution_count": null,
      "outputs": []
    },
    {
      "cell_type": "code",
      "source": [],
      "metadata": {
        "id": "w2XzhnVtiKAj"
      },
      "execution_count": null,
      "outputs": []
    },
    {
      "cell_type": "code",
      "source": [],
      "metadata": {
        "id": "Q7uwk5lNlJVQ"
      },
      "execution_count": null,
      "outputs": []
    },
    {
      "cell_type": "markdown",
      "source": [
        "# Task_7\n",
        "\n",
        "Дан список чисел. Составте словарь с описательной статистикой по этим числам:\n",
        "\n",
        "* 'count' - количество чисел в списке\n",
        "* 'min' - минимальное значение в списке\n",
        "* 'mean' - среднее арифметическое\n",
        "* 'max' - максимальное значение в списке\n",
        "* 'sum' - сумма всех чисел в списке\n",
        "\n",
        "\n",
        "\n",
        "```\n",
        "input:\n",
        "[1, 2, 3, 4, 5]\n",
        "\n",
        "output:\n",
        "{'count': 5, 'min': 1, 'mean': 3, 'max': 5, 'sum': 15}\n",
        "```\n",
        "\n"
      ],
      "metadata": {
        "id": "LqIoFeJ-lJtn"
      }
    },
    {
      "cell_type": "code",
      "source": [
        "list_ = [3, 5, 4, 6, 5, 3, 12, 13, 14, 35, 46, 57, 46, 35]"
      ],
      "metadata": {
        "id": "ZH6Q8ua-lJS1"
      },
      "execution_count": null,
      "outputs": []
    },
    {
      "cell_type": "code",
      "source": [],
      "metadata": {
        "id": "y1RQGejDlJQG"
      },
      "execution_count": null,
      "outputs": []
    },
    {
      "cell_type": "markdown",
      "source": [
        "# Task_8\n",
        "\n",
        "Дана строка. В ней есть заглавные символы, строчные символы и цифры. Составте словарь с ключами:\n",
        "\n",
        "* 'upper' - количество заглавных букв\n",
        "* 'lower' - количество строчных букв\n",
        "* 'digit' - количество цифр\n",
        "\n",
        "\n",
        "\n",
        "```\n",
        "input:\n",
        "'AbaaBBaB123'\n",
        "\n",
        "output:\n",
        "{'upper': 4,\n",
        "'lower': 3,\n",
        "'digit': 3}\n",
        "```\n",
        "\n"
      ],
      "metadata": {
        "id": "6VCiC48nmxZM"
      }
    },
    {
      "cell_type": "markdown",
      "source": [
        "functions:\n",
        "\n",
        "\n",
        "```\n",
        "isupper()\n",
        "islower()\n",
        "isdigit()\n",
        "```\n",
        "\n"
      ],
      "metadata": {
        "id": "Yqj7kBhDnxlq"
      }
    },
    {
      "cell_type": "code",
      "source": [
        "str_ = 'gGHJjhfgfj6546GGjjhjJhJ76GC6780HJKhiu87687gGHj5444AAal'"
      ],
      "metadata": {
        "id": "nMWBnWT_lJNp"
      },
      "execution_count": null,
      "outputs": []
    },
    {
      "cell_type": "code",
      "source": [],
      "metadata": {
        "id": "HLhiiz6JlJLN"
      },
      "execution_count": null,
      "outputs": []
    },
    {
      "cell_type": "code",
      "source": [],
      "metadata": {
        "id": "hT8_-ESulJI0"
      },
      "execution_count": null,
      "outputs": []
    },
    {
      "cell_type": "markdown",
      "source": [
        "# Task_9\n",
        "\n",
        "Дана строка. Составте словарь, где ключи будут индексами символов а значения самими символами строки. Решите задачу с помощью классического цикла и dict comprehension.\n",
        "\n",
        "\n",
        "\n",
        "```\n",
        "str_ = 'abc12'\n",
        "\n",
        "output:\n",
        "{0: 'a', 1: 'b', 2: 'c', 3: '1', 4: '2'}\n",
        "```\n",
        "\n"
      ],
      "metadata": {
        "id": "MQT_IMEroCsq"
      }
    },
    {
      "cell_type": "code",
      "source": [
        "str_ = 'hjkfh2345j6k'"
      ],
      "metadata": {
        "id": "zbm9res6oA-9"
      },
      "execution_count": null,
      "outputs": []
    },
    {
      "cell_type": "code",
      "source": [],
      "metadata": {
        "id": "fYZVayesoA8s"
      },
      "execution_count": null,
      "outputs": []
    },
    {
      "cell_type": "code",
      "source": [],
      "metadata": {
        "id": "0OTFE1wwRMY1"
      },
      "execution_count": null,
      "outputs": []
    },
    {
      "cell_type": "code",
      "source": [],
      "metadata": {
        "id": "PsHa4d20RMU0"
      },
      "execution_count": null,
      "outputs": []
    },
    {
      "cell_type": "markdown",
      "source": [
        "# Task_10\n",
        "\n",
        "Дана строка. Составте словарь cо всеми словами в строке. Ключи будут указывать номер слова в строке начиная с 1. Решите задачу с помощью классического цикла и dict comprehension.\n",
        "\n",
        "\n",
        "\n",
        "```\n",
        "str_ = 'Шел мужик попукивал палочкой постукивал.'\n",
        "\n",
        "output:\n",
        "{1: 'Шел',\n",
        "2: 'мужик',\n",
        "3: 'попукивал',\n",
        "4: 'палочкой',\n",
        "...}\n",
        "```\n",
        "\n"
      ],
      "metadata": {
        "id": "dWe1CH3fpQFB"
      }
    },
    {
      "cell_type": "code",
      "source": [
        "str_ = 'Однажды в студеную зимнюю пору я из лесу вышел; был сильный мороз.'"
      ],
      "metadata": {
        "id": "LkB0V65boA6I"
      },
      "execution_count": null,
      "outputs": []
    },
    {
      "cell_type": "code",
      "source": [],
      "metadata": {
        "id": "GKr4jogQoA35"
      },
      "execution_count": null,
      "outputs": []
    },
    {
      "cell_type": "code",
      "source": [],
      "metadata": {
        "id": "ULWwKmR_S-Zv"
      },
      "execution_count": null,
      "outputs": []
    },
    {
      "cell_type": "code",
      "source": [],
      "metadata": {
        "id": "-MSoTc_gS-VX"
      },
      "execution_count": null,
      "outputs": []
    },
    {
      "cell_type": "code",
      "source": [],
      "metadata": {
        "id": "VRl7B5LIlJGB"
      },
      "execution_count": null,
      "outputs": []
    },
    {
      "cell_type": "markdown",
      "source": [
        "# Task_11\n",
        "\n",
        "Даны два списка. Первый список содержит ключи, второй значения. Составте из них словарю. Решите задачу классически и используя dict comprehension."
      ],
      "metadata": {
        "id": "_PKmqyZ7rX3r"
      }
    },
    {
      "cell_type": "code",
      "source": [
        "keys = [860, 862, 882, 907, 911]\n",
        "values = ['Petr', 'Ulan', 'Bektur', 'Kate', 'Den']"
      ],
      "metadata": {
        "id": "urpztBgrlJEE"
      },
      "execution_count": null,
      "outputs": []
    },
    {
      "cell_type": "code",
      "source": [],
      "metadata": {
        "id": "icQAo7TolJBE"
      },
      "execution_count": null,
      "outputs": []
    },
    {
      "cell_type": "code",
      "source": [],
      "metadata": {
        "id": "S6IWO-4ghvXH"
      },
      "execution_count": null,
      "outputs": []
    },
    {
      "cell_type": "markdown",
      "source": [
        "# Task_12\n",
        "\n",
        "Дан словарь с посещениями страницы сайта пользователями. Сложите все ID и все количества посещений в отдельные списки. Найдите ID самого активного пользователя."
      ],
      "metadata": {
        "id": "QQP_UQ03tAEx"
      }
    },
    {
      "cell_type": "code",
      "source": [
        "users = { 'ID_1234': 12,\n",
        "          'ID_25343': 13,\n",
        "          'ID_4564': 34,\n",
        "          'ID_6644': 23,\n",
        "          'ID_3453': 45,\n",
        "          'ID_45645': 23,\n",
        "          'ID_5656': 70,\n",
        "          'ID_43456': 34,\n",
        "          'ID_57567': 45,\n",
        "          'ID_6745': 57,\n",
        "          'ID_6756': 36,\n",
        "          'ID_45654': 34}"
      ],
      "metadata": {
        "id": "IPUwd_sxs8ln"
      },
      "execution_count": null,
      "outputs": []
    },
    {
      "cell_type": "code",
      "source": [],
      "metadata": {
        "id": "48_XA1z6s8jU"
      },
      "execution_count": null,
      "outputs": []
    },
    {
      "cell_type": "code",
      "source": [],
      "metadata": {
        "id": "mJU23hZkWQCE"
      },
      "execution_count": null,
      "outputs": []
    },
    {
      "cell_type": "code",
      "source": [],
      "metadata": {
        "id": "m8J_VHy2WP4n"
      },
      "execution_count": null,
      "outputs": []
    },
    {
      "cell_type": "code",
      "source": [],
      "metadata": {
        "id": "-q7wUk8kWPxs"
      },
      "execution_count": null,
      "outputs": []
    },
    {
      "cell_type": "markdown",
      "source": [
        "# Task_13\n",
        "\n",
        "Решите предыдущую задачу не используя списки.\n",
        "\n",
        "Вам может помоч функция items()"
      ],
      "metadata": {
        "id": "mPTXFzOEuQ0K"
      }
    },
    {
      "cell_type": "code",
      "source": [
        "users = { 'ID_1234': 12,\n",
        "          'ID_25343': 13,\n",
        "          'ID_4564': 34,\n",
        "          'ID_6644': 23,\n",
        "          'ID_3453': 45,\n",
        "          'ID_45645': 23,\n",
        "          'ID_5656': 70,\n",
        "          'ID_43456': 34,\n",
        "          'ID_57567': 45,\n",
        "          'ID_6745': 57,\n",
        "          'ID_6756': 36,\n",
        "          'ID_45654': 34}"
      ],
      "metadata": {
        "id": "3dC1BJ58s8hL"
      },
      "execution_count": null,
      "outputs": []
    },
    {
      "cell_type": "code",
      "source": [],
      "metadata": {
        "id": "C3aJ8eBRqqxK"
      },
      "execution_count": null,
      "outputs": []
    },
    {
      "cell_type": "markdown",
      "source": [
        "# Task_14\n",
        "\n",
        "Даны два списка. Добавте их в словарь по ключам 'name' и 'score'.\n",
        "\n",
        "\n",
        "\n",
        "```\n",
        "a = [1, 2, 3]\n",
        "b = [4, 5, 6]\n",
        "\n",
        "output:\n",
        "{a:[1, 2, 3], b:[4, 5, 6]}\n",
        "```\n",
        "\n"
      ],
      "metadata": {
        "id": "xgHi7JT2vFZH"
      }
    },
    {
      "cell_type": "code",
      "source": [
        "a = [1, 2, 3]\n",
        "b = [4, 5, 6]"
      ],
      "metadata": {
        "id": "TEBFo767uoQJ"
      },
      "execution_count": null,
      "outputs": []
    },
    {
      "cell_type": "code",
      "source": [],
      "metadata": {
        "id": "03BpZG1WuoNo"
      },
      "execution_count": null,
      "outputs": []
    },
    {
      "cell_type": "markdown",
      "source": [
        "# Task_15\n",
        "\n",
        "Дан словарь, где по ключам храняться списки. Добавте в список по ключу 'key_1' новое значение 100."
      ],
      "metadata": {
        "id": "wDLSidc6vh5-"
      }
    },
    {
      "cell_type": "code",
      "source": [
        "dict_ = {'key_1': [1, 2, 3, 20], 'key_2': [23, 234, 45], 'key_3': [1]}"
      ],
      "metadata": {
        "id": "UO8GR9a9uoLC"
      },
      "execution_count": null,
      "outputs": []
    },
    {
      "cell_type": "code",
      "source": [],
      "metadata": {
        "id": "1Ce_zP7mqqug"
      },
      "execution_count": null,
      "outputs": []
    },
    {
      "cell_type": "code",
      "source": [],
      "metadata": {
        "id": "rFIGzsZ1wBTI"
      },
      "execution_count": null,
      "outputs": []
    },
    {
      "cell_type": "markdown",
      "source": [
        "# Task_16\n",
        "\n",
        "Дан список со смешанным типом данных. Дан словарь, где ключи соответствуют типам данных. По каждому ключу создан пустой лист. В эти листы сложите элементы из исходного списка по ключу с именем соответствующего типа.\n",
        "\n",
        "\n",
        "\n",
        "```\n",
        "list_ = [1, 2, 2.3, 43, 'sd', 2, '23', '3.4']\n",
        "\n",
        "output:\n",
        "{'int': [1, 2, 43, 2],\n",
        "'float': [2.3],\n",
        "'str': ['sd', '23', '3.4']}\n",
        "```\n",
        "\n"
      ],
      "metadata": {
        "id": "J81fr31RwwT6"
      }
    },
    {
      "cell_type": "code",
      "source": [
        "getero_list = [34, 2.3, 24, '3.3', 'sd', 24, '234.2', 'df3', 321, 43, 'fds.r', 23.3, '32.0', 23, 'ds']"
      ],
      "metadata": {
        "id": "E6mrmBm6wBQO"
      },
      "execution_count": null,
      "outputs": []
    },
    {
      "cell_type": "code",
      "source": [],
      "metadata": {
        "id": "LdRSF1DYwBN0"
      },
      "execution_count": null,
      "outputs": []
    },
    {
      "cell_type": "code",
      "source": [],
      "metadata": {
        "id": "XTPFbtGgwBLc"
      },
      "execution_count": null,
      "outputs": []
    },
    {
      "cell_type": "code",
      "source": [],
      "metadata": {
        "id": "SLHtyL7AwBI2"
      },
      "execution_count": null,
      "outputs": []
    },
    {
      "cell_type": "markdown",
      "source": [
        "# Task_17\n",
        "\n",
        "Дан список. Создайте словарь, где будет два ключа и им будут соответствовать пустые списки.\n",
        "\n",
        "* 'even'- для четных\n",
        "* 'odd' - для нечетных\n",
        "\n",
        "Сложите все элементы списка под четными индексами в список по ключу 'even', и под нечетными соответственно в список по ключу 'odd'."
      ],
      "metadata": {
        "id": "7q5N_aBXyhe6"
      }
    },
    {
      "cell_type": "code",
      "source": [
        "list_ = [12, 13, 24, 35, 46, 35, 36, 47, 58, 45, 3, 4, 6, 5, 34, 45]"
      ],
      "metadata": {
        "id": "_bhp_yN7yUB4"
      },
      "execution_count": null,
      "outputs": []
    },
    {
      "cell_type": "code",
      "source": [],
      "metadata": {
        "id": "UK6542T1yT_X"
      },
      "execution_count": null,
      "outputs": []
    },
    {
      "cell_type": "code",
      "source": [],
      "metadata": {
        "id": "5iwq55ywyT89"
      },
      "execution_count": null,
      "outputs": []
    },
    {
      "cell_type": "markdown",
      "source": [
        "# Task_18\n",
        "\n",
        "Дан словарь. Сформируйте новый словарь, где id будут ключами и рейтинги значениями.\n",
        "\n",
        "\n",
        "\n",
        "```\n",
        "output:\n",
        "\n",
        "{'ID_123': 3.1, 'ID_234': 4.6 ...}\n",
        "```\n",
        "\n"
      ],
      "metadata": {
        "id": "Itb9tDvPzTrQ"
      }
    },
    {
      "cell_type": "code",
      "source": [
        "id_rat_dict = {'id': ['ID_123', 'ID_234', 'ID_235', 'ID_234', 'ID_345', 'ID_456', 'ID_67', 'ID_567', 'ID_4563', 'ID_560'],\n",
        "              'rating': [3.1, 4.6, 5, 4.8, 3.4, 3.1, 2.9, 1.1, 2.7, 4]}"
      ],
      "metadata": {
        "id": "L315lOwayT3_"
      },
      "execution_count": null,
      "outputs": []
    },
    {
      "cell_type": "code",
      "source": [],
      "metadata": {
        "id": "8MFFsqBS0Egx"
      },
      "execution_count": null,
      "outputs": []
    },
    {
      "cell_type": "code",
      "source": [],
      "metadata": {
        "id": "_Pe9ud3z0EeU"
      },
      "execution_count": null,
      "outputs": []
    },
    {
      "cell_type": "markdown",
      "source": [
        "# Task_19\n",
        "\n",
        "Решите обратную задачу. Верните полученный словарь к виду:\n",
        "\n",
        "\n",
        "\n",
        "```\n",
        "{'id': ['ID_123', 'ID_234', ...],\n",
        " 'rating': [3.1, 4.6, ...]}\n",
        "```\n",
        "\n"
      ],
      "metadata": {
        "id": "fEkfsfnk0np_"
      }
    },
    {
      "cell_type": "code",
      "source": [
        "id_dict = {'ID_123': 3.1,\n",
        "           'ID_234': 4.8,\n",
        "           'ID_235': 5,\n",
        "           'ID_345': 3.4,\n",
        "           'ID_456': 3.1,\n",
        "           'ID_67': 2.9,\n",
        "           'ID_567': 1.1,\n",
        "           'ID_4563': 2.7,\n",
        "           'ID_560': 4}"
      ],
      "metadata": {
        "id": "ZQTIXcdx0Eby"
      },
      "execution_count": null,
      "outputs": []
    },
    {
      "cell_type": "code",
      "source": [],
      "metadata": {
        "id": "IdPM6eg11AZx"
      },
      "execution_count": null,
      "outputs": []
    },
    {
      "cell_type": "code",
      "source": [],
      "metadata": {
        "id": "cKAmL2h21McN"
      },
      "execution_count": null,
      "outputs": []
    },
    {
      "cell_type": "code",
      "source": [],
      "metadata": {
        "id": "XUo2SGCk1MZ1"
      },
      "execution_count": null,
      "outputs": []
    },
    {
      "cell_type": "markdown",
      "source": [
        "# Task_20\n",
        "\n",
        "Дан список со словарями по каждой роли в фильме. В каждом словаре по ключу 'character' хранится имя персонажа, а по ключу 'name' имя актера, который его играет. Составте новый словарь 'character_dict', в котором будут ключи и значения соответствовать именая персонажа и актера соответственно."
      ],
      "metadata": {
        "id": "wFdiMX791qrw"
      }
    },
    {
      "cell_type": "markdown",
      "source": [
        "# Data"
      ],
      "metadata": {
        "id": "20_3Ow2n2h6V"
      }
    },
    {
      "cell_type": "code",
      "source": [
        "credit_list = [{'cast_id': 25,\n",
        "                'character': 'Lt. Vincent Hanna',\n",
        "                'credit_id': '52fe4292c3a36847f80291f5',\n",
        "                'gender': 2,\n",
        "                'id': 1158,\n",
        "                'name': 'Al Pacino',\n",
        "                'order': 0,\n",
        "                'profile_path': '/ks7Ba8x9fJUlP9decBr6Dh5mThX.jpg'},\n",
        "              {'cast_id': 26,\n",
        "                'character': 'Neil McCauley',\n",
        "                'credit_id': '52fe4292c3a36847f80291f9',\n",
        "                'gender': 2,\n",
        "                'id': 380,\n",
        "                'name': 'Robert De Niro',\n",
        "                'order': 1,\n",
        "                'profile_path': '/lvTSwUcvJRLAJ2FB5qFaukel516.jpg'},\n",
        "              {'cast_id': 27,\n",
        "                'character': 'Chris Shiherlis',\n",
        "                'credit_id': '52fe4292c3a36847f80291fd',\n",
        "                'gender': 2,\n",
        "                'id': 5576,\n",
        "                'name': 'Val Kilmer',\n",
        "                'order': 2,\n",
        "                'profile_path': '/AlhPeiH8R4reMNGNQ9ag1FPbuW9.jpg'},\n",
        "              {'cast_id': 28,\n",
        "                'character': 'Nate',\n",
        "                'credit_id': '52fe4292c3a36847f8029201',\n",
        "                'gender': 2,\n",
        "                'id': 10127,\n",
        "                'name': 'Jon Voight',\n",
        "                'order': 3,\n",
        "                'profile_path': '/c7BvyqlvqDkfkFqSBUCiR21fvTh.jpg'},\n",
        "              {'cast_id': 29,\n",
        "                'character': 'Michael Cheritto',\n",
        "                'credit_id': '52fe4292c3a36847f8029205',\n",
        "                'gender': 2,\n",
        "                'id': 3197,\n",
        "                'name': 'Tom Sizemore',\n",
        "                'order': 4,\n",
        "                'profile_path': '/soINOuacuiThRb2LyPD4tTWve7C.jpg'},\n",
        "              {'cast_id': 30,\n",
        "                'character': 'Justine Hanna',\n",
        "                'credit_id': '52fe4292c3a36847f8029209',\n",
        "                'gender': 1,\n",
        "                'id': 6200,\n",
        "                'name': 'Diane Venora',\n",
        "                'order': 5,\n",
        "                'profile_path': '/3k7w5Y7gTAxN1JML7jhN8F8rVrS.jpg'},\n",
        "              {'cast_id': 31,\n",
        "                'character': 'Eady',\n",
        "                'credit_id': '52fe4292c3a36847f802920d',\n",
        "                'gender': 1,\n",
        "                'id': 15851,\n",
        "                'name': 'Amy Brenneman',\n",
        "                'order': 6,\n",
        "                'profile_path': '/xC408loYq7tQlkpS5YH68SoaDND.jpg'},\n",
        "              {'cast_id': 32,\n",
        "                'character': 'Charlene Shiherlis',\n",
        "                'credit_id': '52fe4292c3a36847f8029211',\n",
        "                'gender': 1,\n",
        "                'id': 15852,\n",
        "                'name': 'Ashley Judd',\n",
        "                'order': 7,\n",
        "                'profile_path': '/3bgmRDt02iGFVjhqCqstVyEeiwG.jpg'},\n",
        "              {'cast_id': 33,\n",
        "                'character': 'Sergeant Drucker',\n",
        "                'credit_id': '52fe4292c3a36847f8029215',\n",
        "                'gender': 2,\n",
        "                'id': 34,\n",
        "                'name': 'Mykelti Williamson',\n",
        "                'order': 8,\n",
        "                'profile_path': '/8TTxzpuvvpw2tB8xZBCDslYupNU.jpg'},\n",
        "              {'cast_id': 38,\n",
        "                'character': 'Lauren Gustafson',\n",
        "                'credit_id': '52fe4292c3a36847f8029229',\n",
        "                'gender': 1,\n",
        "                'id': 524,\n",
        "                'name': 'Natalie Portman',\n",
        "                'order': 9,\n",
        "                'profile_path': '/1oEP6OyYZgyLubgJXifx2GO78c7.jpg'},\n",
        "              {'cast_id': 35,\n",
        "                'character': 'Bosko',\n",
        "                'credit_id': '52fe4292c3a36847f802921d',\n",
        "                'gender': 2,\n",
        "                'id': 15854,\n",
        "                'name': 'Ted Levine',\n",
        "                'order': 10,\n",
        "                'profile_path': '/7O3vgqgicfNeGr3leC0qB074fjX.jpg'},\n",
        "              {'cast_id': 39,\n",
        "                'character': 'Kelso',\n",
        "                'credit_id': '52fe4292c3a36847f802922d',\n",
        "                'gender': 2,\n",
        "                'id': 119232,\n",
        "                'name': 'Tom Noonan',\n",
        "                'order': 11,\n",
        "                'profile_path': '/cpINV4Q8IeVgSLyKz9ldzzAGr5n.jpg'},\n",
        "              {'cast_id': 41,\n",
        "                'character': 'Richard Torena',\n",
        "                'credit_id': '52fe4292c3a36847f8029237',\n",
        "                'gender': 2,\n",
        "                'id': 31004,\n",
        "                'name': 'Tone Loc',\n",
        "                'order': 12,\n",
        "                'profile_path': '/o940ZhEYQYrOJdhRnmPrYoc9iOq.jpg'},\n",
        "              {'cast_id': 42,\n",
        "                'character': 'Alan Marciano',\n",
        "                'credit_id': '52fe4292c3a36847f802923b',\n",
        "                'gender': 2,\n",
        "                'id': 5587,\n",
        "                'name': 'Hank Azaria',\n",
        "                'order': 13,\n",
        "                'profile_path': '/3vIdbP73nKnKpMAcgGWoALPF2JO.jpg'},\n",
        "              {'cast_id': 34,\n",
        "                'character': 'Detective Casals',\n",
        "                'credit_id': '52fe4292c3a36847f8029219',\n",
        "                'gender': 2,\n",
        "                'id': 15853,\n",
        "                'name': 'Wes Studi',\n",
        "                'order': 14,\n",
        "                'profile_path': '/2b1hfAOoVjU7HoSbyHzGjl8DWs1.jpg'},\n",
        "              {'cast_id': 36,\n",
        "                'character': 'Donald Breedan',\n",
        "                'credit_id': '52fe4292c3a36847f8029221',\n",
        "                'gender': 2,\n",
        "                'id': 352,\n",
        "                'name': 'Dennis Haysbert',\n",
        "                'order': 15,\n",
        "                'profile_path': '/mn5Nc5Q31GslpVVWs8p41W4TBma.jpg'},\n",
        "              {'cast_id': 46,\n",
        "                'character': 'Trejo',\n",
        "                'credit_id': '52fe4292c3a36847f802924b',\n",
        "                'gender': 2,\n",
        "                'id': 11160,\n",
        "                'name': 'Danny Trejo',\n",
        "                'order': 16,\n",
        "                'profile_path': '/7b8cDfrmeheQbgryfCm7MeJOxxM.jpg'},\n",
        "              {'cast_id': 47,\n",
        "                'character': 'Hugh Benny',\n",
        "                'credit_id': '52fe4292c3a36847f802924f',\n",
        "                'gender': 2,\n",
        "                'id': 9290,\n",
        "                'name': 'Henry Rollins',\n",
        "                'order': 17,\n",
        "                'profile_path': '/2E0cZdoJsdt1Lv4waG3s6fsfJeU.jpg'},\n",
        "              {'cast_id': 37,\n",
        "                'character': 'Roger Van Zant',\n",
        "                'credit_id': '52fe4292c3a36847f8029225',\n",
        "                'gender': 2,\n",
        "                'id': 886,\n",
        "                'name': 'William Fichtner',\n",
        "                'order': 18,\n",
        "                'profile_path': '/apj1bgzZI2efSdJolfp6KjhG8CF.jpg'},\n",
        "              {'cast_id': 43,\n",
        "                'character': 'Waingro',\n",
        "                'credit_id': '52fe4292c3a36847f802923f',\n",
        "                'gender': 2,\n",
        "                'id': 34839,\n",
        "                'name': 'Kevin Gage',\n",
        "                'order': 19,\n",
        "                'profile_path': '/egIApa0PPsHkAwrGnOAUtdqO6CQ.jpg'},\n",
        "              {'cast_id': 44,\n",
        "                'character': 'Elaine Cheritto',\n",
        "                'credit_id': '52fe4292c3a36847f8029243',\n",
        "                'gender': 1,\n",
        "                'id': 4158,\n",
        "                'name': 'Susan Traylor',\n",
        "                'order': 20,\n",
        "                'profile_path': '/A3ZpoAui1ure4Nx2b83wUMI8lvv.jpg'},\n",
        "              {'cast_id': 48,\n",
        "                'character': 'Schwartz',\n",
        "                'credit_id': '52fe4292c3a36847f8029253',\n",
        "                'gender': 2,\n",
        "                'id': 86602,\n",
        "                'name': 'Jerry Trimble',\n",
        "                'order': 21,\n",
        "                'profile_path': '/oDK7NCnz2z2BFV8YquEpj8PBwed.jpg'},\n",
        "              {'cast_id': 50,\n",
        "                'character': 'Albert Torena',\n",
        "                'credit_id': '52fe4292c3a36847f802925b',\n",
        "                'gender': 2,\n",
        "                'id': 158452,\n",
        "                'name': 'Ricky Harris',\n",
        "                'order': 22,\n",
        "                'profile_path': '/eJEzFSHTjGdUz1JDThdTR5C1Jrd.jpg'},\n",
        "              {'cast_id': 54,\n",
        "                'character': 'Dr. Bob',\n",
        "                'credit_id': '52fe4292c3a36847f802926b',\n",
        "                'gender': 2,\n",
        "                'id': 12799,\n",
        "                'name': 'Jeremy Piven',\n",
        "                'order': 23,\n",
        "                'profile_path': '/qtho4ZUcValnVvscTGgyWfUr4VP.jpg'},\n",
        "              {'cast_id': 55,\n",
        "                'character': 'Ralph',\n",
        "                'credit_id': '52fe4292c3a36847f802926f',\n",
        "                'gender': 2,\n",
        "                'id': 3982,\n",
        "                'name': 'Xander Berkeley',\n",
        "                'order': 24,\n",
        "                'profile_path': '/vlZ9FDMk2Xd1WHixPKxnheZoXgR.jpg'},\n",
        "              {'cast_id': 51,\n",
        "                'character': 'Anna Trejo',\n",
        "                'credit_id': '52fe4292c3a36847f802925f',\n",
        "                'gender': 1,\n",
        "                'id': 181343,\n",
        "                'name': 'Begonya Plaza',\n",
        "                'order': 25,\n",
        "                'profile_path': '/2TtFPBtz0Bd3CXAc4W5K6zF66RY.jpg'},\n",
        "              {'cast_id': 56,\n",
        "                'character': 'Armoured Guard',\n",
        "                'credit_id': '52fe4292c3a36847f8029273',\n",
        "                'gender': 2,\n",
        "                'id': 81687,\n",
        "                'name': 'Rick Avery',\n",
        "                'order': 26,\n",
        "                'profile_path': '/rXar2OrwkorJyQ9dRGf18zUEByW.jpg'},\n",
        "              {'cast_id': 52,\n",
        "                'character': \"Hooker's Mother\",\n",
        "                'credit_id': '52fe4292c3a36847f8029263',\n",
        "                'gender': 0,\n",
        "                'id': 91756,\n",
        "                'name': 'Hazelle Goodman',\n",
        "                'order': 27,\n",
        "                'profile_path': '/kTa2cn8cuJdxKJBqFnYHibIknI9.jpg'},\n",
        "              {'cast_id': 53,\n",
        "                'character': 'Timmons',\n",
        "                'credit_id': '52fe4292c3a36847f8029267',\n",
        "                'gender': 2,\n",
        "                'id': 160970,\n",
        "                'name': 'Ray Buktenica',\n",
        "                'order': 28,\n",
        "                'profile_path': '/aMBLygqfsJv3QrBCvvZ7wMc3Ejq.jpg'},\n",
        "              {'cast_id': 59,\n",
        "                'character': 'Shooter at Drive-in',\n",
        "                'credit_id': '52fe4292c3a36847f802927f',\n",
        "                'gender': 0,\n",
        "                'id': 175600,\n",
        "                'name': 'Max Daniels',\n",
        "                'order': 29,\n",
        "                'profile_path': '/5zjSVtxyDExuf1913re1lG3k0Q3.jpg'},\n",
        "              {'cast_id': 60,\n",
        "                'character': 'Driver at Drive-in',\n",
        "                'credit_id': '52fe4292c3a36847f8029283',\n",
        "                'gender': 0,\n",
        "                'id': 12879,\n",
        "                'name': 'Vince Deadrick Jr.',\n",
        "                'order': 30,\n",
        "                'profile_path': '/z4HIKOQGQj8QXozFpQhj43xlmHm.jpg'},\n",
        "              {'cast_id': 96,\n",
        "                'character': 'Officer Bruce',\n",
        "                'credit_id': '56be773e9251417359005063',\n",
        "                'gender': 2,\n",
        "                'id': 9258,\n",
        "                'name': 'Steven Ford',\n",
        "                'order': 31,\n",
        "                'profile_path': '/iw8CUyekmYkGwmg0bp7foY4KvrH.jpg'},\n",
        "              {'cast_id': 97,\n",
        "                'character': 'Claudia',\n",
        "                'credit_id': '56be7769c3a36817f200506f',\n",
        "                'gender': 1,\n",
        "                'id': 167501,\n",
        "                'name': 'Farrah Forke',\n",
        "                'order': 32,\n",
        "                'profile_path': '/gmKm7TiZduyyaLlNgWnQEZHTc5Q.jpg'},\n",
        "              {'cast_id': 99,\n",
        "                'character': \"Bosko's Date\",\n",
        "                'credit_id': '56be794dc3a36818020054bd',\n",
        "                'gender': 1,\n",
        "                'id': 95145,\n",
        "                'name': 'Patricia Healy',\n",
        "                'order': 33,\n",
        "                'profile_path': '/RsHWe8vW3Hzbp8FeeEVqOD6Kux.jpg'},\n",
        "              {'cast_id': 100,\n",
        "                'character': 'Sergeant Heinz',\n",
        "                'credit_id': '56be79839251417347004f69',\n",
        "                'gender': 2,\n",
        "                'id': 58535,\n",
        "                'name': 'Paul Herman',\n",
        "                'order': 34,\n",
        "                'profile_path': '/vaK8wxkMeKJdZEdGUufyV0Ma24M.jpg'},\n",
        "              {'cast_id': 101,\n",
        "                'character': 'Rachel',\n",
        "                'credit_id': '56be79cec3a36817f200511b',\n",
        "                'gender': 1,\n",
        "                'id': 161939,\n",
        "                'name': 'Cindy Katz',\n",
        "                'order': 35,\n",
        "                'profile_path': '/eENk49BVUS9grR2ffwEsYh9Wl69.jpg'},\n",
        "              {'cast_id': 102,\n",
        "                'character': 'Captain Jackson',\n",
        "                'credit_id': '56be79fa9251417344004ea0',\n",
        "                'gender': 0,\n",
        "                'id': 6580,\n",
        "                'name': 'Brian Libby',\n",
        "                'order': 36,\n",
        "                'profile_path': '/lvY7hpUtU12BUD8mwQqFymnsxFI.jpg'},\n",
        "              {'cast_id': 104,\n",
        "                'character': 'Harry Dieter',\n",
        "                'credit_id': '56be7a8ac3a36817f200516d',\n",
        "                'gender': 2,\n",
        "                'id': 95796,\n",
        "                'name': 'Dan Martin',\n",
        "                'order': 37,\n",
        "                'profile_path': '/u24mFuqwEE7kguXK32SS1UzIQzJ.jpg'},\n",
        "              {'cast_id': 109,\n",
        "                'character': 'Bank Guard',\n",
        "                'credit_id': '56be7bafc3a36817ef005294',\n",
        "                'gender': 0,\n",
        "                'id': 166543,\n",
        "                'name': 'Mario Roberts',\n",
        "                'order': 38,\n",
        "                'profile_path': '/TVlt1SNz2zoF2hTqY4HM3MnWHz.jpg'},\n",
        "              {'cast_id': 110,\n",
        "                'character': 'Armoured Truck Driver',\n",
        "                'credit_id': '56be7c61c3a36817ef0052cf',\n",
        "                'gender': 0,\n",
        "                'id': 43010,\n",
        "                'name': 'Thomas Rosales, Jr.',\n",
        "                'order': 39,\n",
        "                'profile_path': '/ffDrcpKGvjPgpcjd0t9T6EtQ2hz.jpg'},\n",
        "              {'cast_id': 112,\n",
        "                'character': 'Hostage Girl',\n",
        "                'credit_id': '56be7db1925141735600517b',\n",
        "                'gender': 1,\n",
        "                'id': 37252,\n",
        "                'name': 'Yvonne Zima',\n",
        "                'order': 40,\n",
        "                'profile_path': '/dWA4Hsq8kkFXlmWERCoAh1OqK5M.jpg'},\n",
        "              {'cast_id': 116,\n",
        "                'character': '1st SIS Detective in the hallway (uncredited)',\n",
        "                'credit_id': '56be7ed4c3a36817f9005000',\n",
        "                'gender': 0,\n",
        "                'id': 1457709,\n",
        "                'name': 'Mick Gould',\n",
        "                'order': 41,\n",
        "                'profile_path': '/6BcVGV4fUITs2jaThbOq4GHlAFU.jpg'},\n",
        "              {'cast_id': 115,\n",
        "                'character': 'Solenko, Restaurant Manager (uncredited)',\n",
        "                'credit_id': '56be7e6e92514173590052b3',\n",
        "                'gender': 2,\n",
        "                'id': 4971,\n",
        "                'name': 'Bud Cort',\n",
        "                'order': 42,\n",
        "                'profile_path': '/mwCVkL9BG1ZCF9icbcKjE8TCS7H.jpg'},\n",
        "              {'cast_id': 123,\n",
        "                'character': 'Castilian Woman (uncredited)',\n",
        "                'credit_id': '56be80ed925141735900535e',\n",
        "                'gender': 0,\n",
        "                'id': 941147,\n",
        "                'name': 'Viviane Vives',\n",
        "                'order': 43,\n",
        "                'profile_path': '/rGHOmMfoykUQJTnryRAl2t4XXG6.jpg'},\n",
        "              {'cast_id': 45,\n",
        "                'character': 'Lillian',\n",
        "                'credit_id': '52fe4292c3a36847f8029247',\n",
        "                'gender': 1,\n",
        "                'id': 17358,\n",
        "                'name': 'Kim Staunton',\n",
        "                'order': 44,\n",
        "                'profile_path': '/9CJmJ5l7DZAtZvdbltalwoV2NfH.jpg'},\n",
        "              {'cast_id': 49,\n",
        "                'character': 'Construction Clerk',\n",
        "                'credit_id': '52fe4292c3a36847f8029257',\n",
        "                'gender': 2,\n",
        "                'id': 4790,\n",
        "                'name': 'Martin Ferrero',\n",
        "                'order': 45,\n",
        "                'profile_path': '/gTIclBDE9q6TFmOx7JIn32zTaVk.jpg'},\n",
        "              {'cast_id': 57,\n",
        "                'character': \"Children's Hospital Doctor\",\n",
        "                'credit_id': '52fe4292c3a36847f8029277',\n",
        "                'gender': 0,\n",
        "                'id': 1090464,\n",
        "                'name': 'Brad Baldridge',\n",
        "                'order': 46,\n",
        "                'profile_path': None},\n",
        "              {'cast_id': 58,\n",
        "                'character': 'Dominick',\n",
        "                'credit_id': '52fe4292c3a36847f802927b',\n",
        "                'gender': 0,\n",
        "                'id': 1090465,\n",
        "                'name': 'Andrew Camuccio',\n",
        "                'order': 47,\n",
        "                'profile_path': None},\n",
        "              {'cast_id': 94,\n",
        "                'character': 'Bartender',\n",
        "                'credit_id': '56be231dc3a3681806004214',\n",
        "                'gender': 0,\n",
        "                'id': 1576419,\n",
        "                'name': 'Kenny Endoso',\n",
        "                'order': 48,\n",
        "                'profile_path': None},\n",
        "              {'cast_id': 95,\n",
        "                'character': \"Casals' Date\",\n",
        "                'credit_id': '56be7708c3a36817f200504f',\n",
        "                'gender': 1,\n",
        "                'id': 106714,\n",
        "                'name': 'Kimberly Flynn',\n",
        "                'order': 49,\n",
        "                'profile_path': None},\n",
        "              {'cast_id': 98,\n",
        "                'character': 'Marcia Drucker',\n",
        "                'credit_id': '56be77fcc3a36817ef005164',\n",
        "                'gender': 0,\n",
        "                'id': 116153,\n",
        "                'name': 'Niki Harris',\n",
        "                'order': 50,\n",
        "                'profile_path': None},\n",
        "              {'cast_id': 103,\n",
        "                'character': 'Armoured Guard',\n",
        "                'credit_id': '56be7a30c3a36817f2005154',\n",
        "                'gender': 0,\n",
        "                'id': 237923,\n",
        "                'name': 'Bill McIntosh',\n",
        "                'order': 51,\n",
        "                'profile_path': None},\n",
        "              {'cast_id': 105,\n",
        "                'character': 'Basketball Player',\n",
        "                'credit_id': '56be7aabc3a36817f40053ec',\n",
        "                'gender': 0,\n",
        "                'id': 4047,\n",
        "                'name': 'Rick Marzan',\n",
        "                'order': 52,\n",
        "                'profile_path': None},\n",
        "              {'cast_id': 106,\n",
        "                'character': \"Children's Hospital Nurse\",\n",
        "                'credit_id': '56be7aec9251417344004ee2',\n",
        "                'gender': 0,\n",
        "                'id': 57347,\n",
        "                'name': 'Terry Miller',\n",
        "                'order': 53,\n",
        "                'profile_path': None},\n",
        "              {'cast_id': 107,\n",
        "                'character': 'Detective',\n",
        "                'credit_id': '56be7b44c3a368180200556a',\n",
        "                'gender': 0,\n",
        "                'id': 1576553,\n",
        "                'name': \"Daniel O'Haco\",\n",
        "                'order': 54,\n",
        "                'profile_path': None},\n",
        "              {'cast_id': 111,\n",
        "                'character': 'Prostitute',\n",
        "                'credit_id': '56be7d28c3a368180200560d',\n",
        "                'gender': 1,\n",
        "                'id': 218094,\n",
        "                'name': 'Kai Soremekun',\n",
        "                'order': 55,\n",
        "                'profile_path': None},\n",
        "              {'cast_id': 113,\n",
        "                'character': 'Bar Couple (uncredited)',\n",
        "                'credit_id': '56be7e1c9251411d27000305',\n",
        "                'gender': 0,\n",
        "                'id': 1491009,\n",
        "                'name': 'Peter Blackwell',\n",
        "                'order': 56,\n",
        "                'profile_path': None},\n",
        "              {'cast_id': 114,\n",
        "                'character': 'Restaurant Patron (uncredited)',\n",
        "                'credit_id': '56be7e45c3a36817ef005374',\n",
        "                'gender': 0,\n",
        "                'id': 1137847,\n",
        "                'name': 'Trevor Coppola',\n",
        "                'order': 57,\n",
        "                'profile_path': None},\n",
        "              {'cast_id': 118,\n",
        "                'character': 'Police Woman (uncredited)',\n",
        "                'credit_id': '56be7f699251417344005036',\n",
        "                'gender': 1,\n",
        "                'id': 1504112,\n",
        "                'name': 'Mary Kircher',\n",
        "                'order': 58,\n",
        "                'profile_path': None},\n",
        "              {'cast_id': 119,\n",
        "                'character': 'Grocery Store Employee (uncredited)',\n",
        "                'credit_id': '56be7fbd925141734d005299',\n",
        "                'gender': 0,\n",
        "                'id': 1504568,\n",
        "                'name': 'Darin Mangan',\n",
        "                'order': 59,\n",
        "                'profile_path': None},\n",
        "              {'cast_id': 120,\n",
        "                'character': 'Cusamano (uncredited)',\n",
        "                'credit_id': '56be8014c3a36817ef00540a',\n",
        "                'gender': 2,\n",
        "                'id': 20625,\n",
        "                'name': 'Robert Miranda',\n",
        "                'order': 60,\n",
        "                'profile_path': None},\n",
        "              {'cast_id': 121,\n",
        "                'character': 'Grocery Store Cop (uncredited)',\n",
        "                'credit_id': '56be8053c3a36817f40055b3',\n",
        "                'gender': 2,\n",
        "                'id': 1502517,\n",
        "                'name': 'Manny Perry',\n",
        "                'order': 61,\n",
        "                'profile_path': None},\n",
        "              {'cast_id': 122,\n",
        "                'character': 'Waitress (uncredited)',\n",
        "                'credit_id': '56be80a8925141734400508d',\n",
        "                'gender': 1,\n",
        "                'id': 114625,\n",
        "                'name': 'Iva Franks Singer',\n",
        "                'order': 62,\n",
        "                'profile_path': None},\n",
        "              {'cast_id': 124,\n",
        "                'character': 'Bank Guard (uncredited)',\n",
        "                'credit_id': '56be8132925141735900536f',\n",
        "                'gender': 0,\n",
        "                'id': 1576562,\n",
        "                'name': 'Tim Werner',\n",
        "                'order': 63,\n",
        "                'profile_path': None},\n",
        "              {'cast_id': 133,\n",
        "                'character': 'Ellis (uncredited)',\n",
        "                'credit_id': '56d48f67925141799e013151',\n",
        "                'gender': 2,\n",
        "                'id': 1584544,\n",
        "                'name': 'Philip Ettington',\n",
        "                'order': 64,\n",
        "                'profile_path': None}]"
      ],
      "metadata": {
        "id": "p3C91PEs1MXc"
      },
      "execution_count": null,
      "outputs": []
    },
    {
      "cell_type": "markdown",
      "source": [
        "# End_import Data"
      ],
      "metadata": {
        "id": "xOP9QvYB2lzS"
      }
    },
    {
      "cell_type": "code",
      "source": [
        "# your part"
      ],
      "metadata": {
        "id": "_Q26roTp1AXU"
      },
      "execution_count": null,
      "outputs": []
    },
    {
      "cell_type": "code",
      "source": [],
      "metadata": {
        "id": "eO5x5cJF2lhF"
      },
      "execution_count": null,
      "outputs": []
    },
    {
      "cell_type": "markdown",
      "source": [
        "# Task_21\n",
        "\n",
        "В данном задании используйте credit_list из предыдущей задачи.\n",
        "\n",
        "Рассчитайте процент актеров из представленных данных, у которых на платформе MovieLens нет фото.\n",
        "\n",
        "Для этого вам надлежит внимательно изучить структуру данных."
      ],
      "metadata": {
        "id": "B7H8DDNQ3PJ_"
      }
    },
    {
      "cell_type": "code",
      "source": [],
      "metadata": {
        "id": "nUN5XKz62leo"
      },
      "execution_count": null,
      "outputs": []
    },
    {
      "cell_type": "code",
      "source": [],
      "metadata": {
        "id": "dwQwKcq72lcE"
      },
      "execution_count": null,
      "outputs": []
    },
    {
      "cell_type": "code",
      "source": [],
      "metadata": {
        "id": "EUTVxrV03vUt"
      },
      "execution_count": null,
      "outputs": []
    },
    {
      "cell_type": "markdown",
      "source": [
        "# Task_22\n",
        "\n",
        "Сопоставте id персонажа и актера. Сделайте словаь вида:\n",
        "\n",
        "\n",
        "\n",
        "```\n",
        "{'cast_id': [], 'id': []}\n",
        "```\n",
        "\n"
      ],
      "metadata": {
        "id": "wpPFHnLx3v3V"
      }
    },
    {
      "cell_type": "code",
      "source": [],
      "metadata": {
        "id": "mcA_ZEtq3vRe"
      },
      "execution_count": null,
      "outputs": []
    },
    {
      "cell_type": "code",
      "source": [],
      "metadata": {
        "id": "PSduF14-3vPV"
      },
      "execution_count": null,
      "outputs": []
    },
    {
      "cell_type": "markdown",
      "source": [
        "# Task_23\n",
        "\n",
        "В представленных данных в словарях есть ключ 'gender':\n",
        "* 2 - meil\n",
        "* 1 - femeil\n",
        "\n",
        "Составте словарь с id актера вида:\n",
        "\n",
        "\n",
        "\n",
        "```\n",
        "{'meil': [], 'femeil': []}\n",
        "```\n",
        "\n",
        "Каков процент актеров в данном фильме мужчины, а какой женщины?\n",
        "\n",
        "\n",
        "\n",
        "```\n",
        "meil_perc = ...\n",
        "femeil_perc = ...\n",
        "```\n",
        "\n"
      ],
      "metadata": {
        "id": "TpcPwM5V4dih"
      }
    },
    {
      "cell_type": "code",
      "source": [],
      "metadata": {
        "id": "uL6Jp59g4dav"
      },
      "execution_count": null,
      "outputs": []
    },
    {
      "cell_type": "code",
      "source": [],
      "metadata": {
        "id": "WMWnbRr74dYE"
      },
      "execution_count": null,
      "outputs": []
    },
    {
      "cell_type": "code",
      "source": [],
      "metadata": {
        "id": "hK1F7VdY4dVt"
      },
      "execution_count": null,
      "outputs": []
    }
  ]
}