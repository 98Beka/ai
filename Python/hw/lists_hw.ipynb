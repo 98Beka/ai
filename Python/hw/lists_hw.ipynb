{
  "nbformat": 4,
  "nbformat_minor": 0,
  "metadata": {
    "colab": {
      "provenance": []
    },
    "kernelspec": {
      "name": "python3",
      "display_name": "Python 3"
    },
    "language_info": {
      "name": "python"
    }
  },
  "cells": [
    {
      "cell_type": "markdown",
      "source": [
        "# Task 1\n",
        "Создайте список list_ с пятью элементами.\n",
        "Затем присвойте третий элемент этого списка переменной list1"
      ],
      "metadata": {
        "id": "nz5PCxQBQn08"
      }
    },
    {
      "cell_type": "code",
      "source": [
        "list_ = [...]\n",
        "list1 = ..."
      ],
      "metadata": {
        "id": "iOPLDHn4QrHY"
      },
      "execution_count": null,
      "outputs": []
    },
    {
      "cell_type": "markdown",
      "source": [
        "# Task 2\n",
        "Дан список list2.\n",
        "\n",
        "Oтсортируйте его в возрастающем порядке\n",
        "и удалите элемент, который будет находится по середине.\n",
        "\n",
        "\n",
        "\n",
        "```\n",
        "input:\n",
        "[5, 3, 1, -1, 10]\n",
        "output:\n",
        ">>> [-1, 1, 5, 10]\n",
        "```\n",
        "\n"
      ],
      "metadata": {
        "id": "VLrmzPAnQ4li"
      }
    },
    {
      "cell_type": "code",
      "source": [
        "list2 = [23, 34, 12, 7, 0, -4, -56, -100, 344, 98, 232]"
      ],
      "metadata": {
        "id": "EI6m7x-bQ8ow"
      },
      "execution_count": null,
      "outputs": []
    },
    {
      "cell_type": "code",
      "source": [],
      "metadata": {
        "id": "7LNwYjrs6CGI"
      },
      "execution_count": null,
      "outputs": []
    },
    {
      "cell_type": "markdown",
      "source": [
        "# Task 3\n",
        "Дан список list_ и переменная num со значением input().\n",
        "Посчитайте, сколько раз элемент, который придет в num, встречается в списке.\n",
        "Oтвет запишите в переменную list3.\n"
      ],
      "metadata": {
        "id": "-Jurlc2DRAGw"
      }
    },
    {
      "cell_type": "code",
      "source": [
        "list_ = [1, 22, 3, 45, 22, 4, 89, 87, 87, 4]\n",
        "num = ...\n",
        "list3 = ..."
      ],
      "metadata": {
        "id": "o4WrvEZkRAbw"
      },
      "execution_count": null,
      "outputs": []
    },
    {
      "cell_type": "markdown",
      "source": [
        "# Task 4\n",
        "Представьте себе, что у вас есть сад с фруктами. Соберите 5 фруктов из этого сада в корзину (список list4),\n",
        "используя метод добавления в списки.\n",
        "Затем замените третий(index = 2) элемент на другой фрукт через метод списка."
      ],
      "metadata": {
        "id": "bX3CRQ0tRAqE"
      }
    },
    {
      "cell_type": "code",
      "source": [
        "list4 = ..."
      ],
      "metadata": {
        "id": "kbcIy5mkRA6Y"
      },
      "execution_count": null,
      "outputs": []
    },
    {
      "cell_type": "markdown",
      "source": [
        "# Task 5\n",
        "Создайте список list5 заполненныый числами от 0 до 19 включительно используя range() так, чтобы не было вложенностей."
      ],
      "metadata": {
        "id": "vqu2Gw7cRBMK"
      }
    },
    {
      "cell_type": "code",
      "source": [
        "list5 = ..."
      ],
      "metadata": {
        "id": "9efFdZS4RBap"
      },
      "execution_count": null,
      "outputs": []
    },
    {
      "cell_type": "markdown",
      "source": [
        "# Task 6\n",
        "Создайте два списка ls1, ls2 со случайным набором чисел. Объедините эти списки в один, азатем присвойте сумму всех чисел переменной list6."
      ],
      "metadata": {
        "id": "xX4O0NskRBpn"
      }
    },
    {
      "cell_type": "code",
      "source": [
        "list6 = ..."
      ],
      "metadata": {
        "id": "df5qSGq3RB4j"
      },
      "execution_count": null,
      "outputs": []
    },
    {
      "cell_type": "markdown",
      "source": [
        "# Task 7\n",
        "Дан список lst7. Извлеките из него только те числа, которые больше 10. Ответ запишите в переменную list9. Вам понадобится функция filter(), про которую стоит прочитать в документации или в Google)\n",
        "\n",
        "\n",
        "\n",
        "```\n",
        "input:\n",
        "[1, 2, 3, 10, 100, 12, 4]\n",
        "\n",
        "output:\n",
        "[100, 12]\n",
        "```\n",
        "\n"
      ],
      "metadata": {
        "id": "Dr9CrnUWNSH7"
      }
    },
    {
      "cell_type": "code",
      "source": [
        "lst7 = [1, 22, 10, 45, 22, 4, 89, 87, 87, 4]\n",
        "list9 = ..."
      ],
      "metadata": {
        "id": "DTeyNuhaNtb_"
      },
      "execution_count": null,
      "outputs": []
    },
    {
      "cell_type": "code",
      "source": [],
      "metadata": {
        "id": "lwyafQ2i-gdp"
      },
      "execution_count": null,
      "outputs": []
    },
    {
      "cell_type": "markdown",
      "source": [
        "# Task 8\n",
        "\n",
        "Дана строка str_. Превратите ее в список разбив по пробелу.\n",
        "\n",
        "\n",
        "\n",
        "```\n",
        "str = 'Data science is good!'\n",
        "\n",
        ">>> ['Data', 'science', 'is', 'good!']\n",
        "\n",
        "```\n",
        "Ответ запишите в переменную list10\n"
      ],
      "metadata": {
        "id": "CWSpoOv8-g-w"
      }
    },
    {
      "cell_type": "code",
      "source": [
        "str_ = 'The second type of coordinate system is a projected coordinate system.'\n",
        "\n",
        "list10 = ..."
      ],
      "metadata": {
        "id": "QVjhJGiG_IJN"
      },
      "execution_count": null,
      "outputs": []
    },
    {
      "cell_type": "code",
      "source": [],
      "metadata": {
        "id": "PPGJOLNd_JCL"
      },
      "execution_count": null,
      "outputs": []
    }
  ]
}