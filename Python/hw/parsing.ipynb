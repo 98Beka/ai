{
  "cells": [
    {
      "cell_type": "markdown",
      "metadata": {
        "id": "ronzC60TklkR"
      },
      "source": [
        "Дана статья из википедии про [Александра Македонского](https://ru.wikipedia.org/wiki/Александр_Македонский).</br>\n",
        "</br>"
      ]
    },
    {
      "cell_type": "markdown",
      "metadata": {
        "id": "-quxTLoJk7VQ"
      },
      "source": [
        "Task 1.</br>\n",
        "Извлеките древне-гереческое написание его имени в переменную `original`"
      ]
    },
    {
      "cell_type": "code",
      "execution_count": 47,
      "metadata": {
        "id": "ltmzr7gek7J6"
      },
      "outputs": [
        {
          "data": {
            "text/plain": [
              "'Ἀλέξανδρος ὁ Μέγας'"
            ]
          },
          "execution_count": 47,
          "metadata": {},
          "output_type": "execute_result"
        }
      ],
      "source": [
        "from bs4 import BeautifulSoup\n",
        "import requests\n",
        "\n",
        "response = requests.get(\"https://ru.wikipedia.org/wiki/%D0%90%D0%BB%D0%B5%D0%BA%D1%81%D0%B0%D0%BD%D0%B4%D1%80_%D0%9C%D0%B0%D0%BA%D0%B5%D0%B4%D0%BE%D0%BD%D1%81%D0%BA%D0%B8%D0%B9\")\n",
        "html_about_alex = BeautifulSoup(response.text, 'html.parser')\n",
        "original = html_about_alex.find(\"span\", lang=\"grc\").text\n",
        "original"
      ]
    },
    {
      "cell_type": "markdown",
      "metadata": {
        "id": "18HFmx9tlo9p"
      },
      "source": [
        "Task 2.</br>\n",
        "Извлеките информацию о его рождении и смерти из правой колонны под фотографией его бюста в переменные `birth, death `\n"
      ]
    },
    {
      "cell_type": "code",
      "execution_count": 15,
      "metadata": {
        "id": "Zd5hrHFtlop_"
      },
      "outputs": [
        {
          "name": "stdout",
          "output_type": "stream",
          "text": [
            "20/23 июля или 6/10 октября 356 года до н. э.\n",
            "10 или 13 июня 323 года до н. э.\n"
          ]
        }
      ],
      "source": [
        "birth = html_about_alex.find('span', {\"data-wikidata-property-id\": \"P569\"}).text\n",
        "death = html_about_alex.find('span', {\"data-wikidata-property-id\": \"P570\"}).text\n",
        "print(birth)\n",
        "print(death)"
      ]
    },
    {
      "cell_type": "markdown",
      "metadata": {
        "id": "KwKfFzFQlpmS"
      },
      "source": [
        "Task 3.</br>\n",
        "Извлеките имена всех его детей в лист `children`\n"
      ]
    },
    {
      "cell_type": "code",
      "execution_count": 22,
      "metadata": {
        "id": "ImRdfT4VlE_m"
      },
      "outputs": [
        {
          "data": {
            "text/plain": [
              "['Геракл', 'Барсины', 'Александр IV']"
            ]
          },
          "execution_count": 22,
          "metadata": {},
          "output_type": "execute_result"
        }
      ],
      "source": [
        "children = html_about_alex.find('span', {\"data-wikidata-property-id\": \"P40\"}).find_all('a')\n",
        "text_list = [child.text.strip() for child in children]\n",
        "text_list"
      ]
    },
    {
      "cell_type": "markdown",
      "metadata": {
        "id": "x2-KMLgBlp_3"
      },
      "source": [
        "Task 4.</br>\n",
        "В секции о юности найдите цитату Плутарха об Александре и извлеките ее в переменную `plutarh`"
      ]
    },
    {
      "cell_type": "code",
      "execution_count": 24,
      "metadata": {
        "id": "m9fIrCNmk6gC"
      },
      "outputs": [
        {
          "data": {
            "text/plain": [
              "'\\n\\nАттал… опьянев во время пиршества, стал призывать македонян молить богов, чтобы у Филиппа и Клеопатры родился законный наследник престола. Взбешённый этим Александр вскричал: «Так что же, негодяй, я по-твоему незаконнорождённый, что ли?»\\xa0— и швырнул в Аттала чашу. Филипп бросился на сына, обнажив меч, но по счастью для обоих гнев и вино сделали своё дело: царь споткнулся и упал. Александр, издеваясь над отцом, сказал: «Смотрите, люди! Этот человек, который собирается переправиться из Европы в Азию, растянулся, переправляясь от ложа к ложу».\\n\\n— Плутарх. Александр, 9[44].'"
            ]
          },
          "execution_count": 24,
          "metadata": {},
          "output_type": "execute_result"
        }
      ],
      "source": [
        "plutarh = html_about_alex.find('blockquote', class_=\"ts-Начало_цитаты-quote\").text\n",
        "plutarh"
      ]
    },
    {
      "cell_type": "markdown",
      "metadata": {
        "id": "dmLOyCpMmfFf"
      },
      "source": [
        "Task 5.</br>\n",
        "В секции \"Царь Азии\" посчитайте сколько раз упоминается имя Александра `al_count`"
      ]
    },
    {
      "cell_type": "code",
      "execution_count": 92,
      "metadata": {
        "id": "P4N1F0BfkjHk"
      },
      "outputs": [
        {
          "name": "stdout",
          "output_type": "stream",
          "text": [
            "RESULT: 10\n"
          ]
        }
      ],
      "source": [
        "asia_section = html_about_alex.find('h3', {'id': 'Царь_Азии'}).find_parent('div')\n",
        "paragraphs = asia_section.find_next_siblings('p')[:4]\n",
        "section_text = \" \".join(p.get_text() for p in paragraphs)\n",
        "al_count = section_text.count(\"Александр\")\n",
        "print(f\"RESULT: {al_count}\")"
      ]
    },
    {
      "cell_type": "markdown",
      "metadata": {
        "id": "JH4N0DE0nxsS"
      },
      "source": [
        "Дан сайт справочник по [питону](https://pythonworld.ru/tipy-dannyx-v-python/slovari-dict-funkcii-i-metody-slovarej.html)"
      ]
    },
    {
      "cell_type": "markdown",
      "metadata": {
        "id": "TQyu_IuFn2jf"
      },
      "source": [
        "Task 6.</br>\n",
        "Извлеките все названия методов словарей и описание того что они делают в словарь `methods` с названием метода в качестве ключа и описанием в значение. Пример:` {'str.replace()':'Заменяет часть на слова на что-то другое'}`"
      ]
    },
    {
      "cell_type": "code",
      "execution_count": 67,
      "metadata": {
        "id": "mjpC6VCcnroP"
      },
      "outputs": [
        {
          "name": "stdout",
          "output_type": "stream",
          "text": [
            "{'dict.clear': 'очищает словарь.', 'dict.copy': 'возвращает копию словаря.', 'dict.fromkeys': 'classmethod   (seq[, value]) - создает словарь с ключами из seq и значением value (по умолчанию None).', 'dict.get': 'key[, default]) - возвращает значение ключа, но если его нет, не бросает исключение, а возвращает default (по умолчанию None).', 'dict.items': 'возвращает пары (ключ, значение).', 'dict.keys': 'возвращает ключи в словаре.', 'dict.pop': 'key[, default]) - удаляет ключ и возвращает значение. Если ключа нет, возвращает default (по умолчанию бросает исключение).', 'dict.popitem': 'удаляет и возвращает пару (ключ, значение). Если словарь пуст, бросает исключение KeyError. Помните, что словари неупорядочены.', 'dict.setdefault': 'key[, default]) - возвращает значение ключа, но если его нет, не бросает исключение, а создает ключ со значением default (по умолчанию None).', 'dict.update': '[other]) - обновляет словарь, добавляя пары (ключ, значение) из other. Существующие ключи перезаписываются. Возвращает None (не новый словарь!).', 'dict.values': 'возвращает значения в словаре.'}\n"
          ]
        }
      ],
      "source": [
        "responce = requests.get(\"https://pythonworld.ru/tipy-dannyx-v-python/slovari-dict-funkcii-i-metody-slovarej.html\")\n",
        "piton_html = BeautifulSoup(responce.text, 'html.parser')\n",
        "methods_list = piton_html.find('div', {'id': 'section-1'}).find_all('p')\n",
        "\n",
        "methods_dic = {}\n",
        "for paragraph in methods_list:\n",
        "    method_name = paragraph.b.get_text().strip()\n",
        "    description = paragraph.get_text(separator=\" \").replace(method_name, \"\").strip(\"() -\")\n",
        "    methods_dic[method_name] = description\n",
        "\n",
        "print(methods_dic)"
      ]
    },
    {
      "cell_type": "markdown",
      "metadata": {
        "id": "s1p3Nb8PpAo0"
      },
      "source": [
        "Task 7.</br>\n",
        "Дан сайт с информацией о профессорах [MIT](https://be.mit.edu/directory?field_faculty_research_areas_tid=66&field_faculty_centers_tid=All&field_faculty_rank_tid=All).</br>\n",
        "Извлеките в список словарей `profs` данные об имени, фамилии и статусе всех людей. Ключи каждого словаря first_name, last_name, rank"
      ]
    },
    {
      "cell_type": "code",
      "execution_count": 91,
      "metadata": {
        "id": "Rsvka3wcnxHy"
      },
      "outputs": [
        {
          "name": "stderr",
          "output_type": "stream",
          "text": [
            "d:\\AI_academy\\ai\\.venv\\Lib\\site-packages\\urllib3\\connectionpool.py:1099: InsecureRequestWarning: Unverified HTTPS request is being made to host 'be.mit.edu'. Adding certificate verification is strongly advised. See: https://urllib3.readthedocs.io/en/latest/advanced-usage.html#tls-warnings\n",
            "  warnings.warn(\n"
          ]
        },
        {
          "name": "stdout",
          "output_type": "stream",
          "text": [
            "[{'first_name': 'Daniel', 'last_name': 'J. Darling', 'rank': 'BE'}, {'first_name': 'Aran', 'last_name': 'M. Parillo', 'rank': 'BE-IT'}, {'first_name': 'Alexis', 'last_name': 'C. Runstadler', 'rank': 'BE-IT'}]\n"
          ]
        }
      ],
      "source": [
        "import requests\n",
        "from bs4 import BeautifulSoup\n",
        "\n",
        "url = \"https://be.mit.edu/directory?field_faculty_research_areas_tid=66&field_faculty_centers_tid=All&field_faculty_rank_tid=All\"\n",
        "response = requests.get(url, verify=False)\n",
        "soup = BeautifulSoup(response.text, 'html.parser')\n",
        "profs = []\n",
        "\n",
        "block = soup.find('p', class_=\"wp-block-opus-core-block-rewrite-op text-none\")\n",
        "text_content = block.get_text(separator=\" \").strip()\n",
        "links = block.find_all('a')\n",
        "\n",
        "for link in links:\n",
        "    full_name = link.text.strip().split()\n",
        "    previous_siblings = []\n",
        "    for sibling in link.previous_siblings:\n",
        "        if sibling.name is None:\n",
        "            previous_siblings.append(sibling.strip())\n",
        "    previous_text = \" \".join(reversed(previous_siblings)).strip()\n",
        "    words_before_link = previous_text.split()[-5:] \n",
        "    rank_candidates = [word for word in words_before_link if word.isupper()]\n",
        "    rank = \" \".join(rank_candidates).strip() if rank_candidates else None\n",
        "\n",
        "    profs.append({\n",
        "        'first_name': full_name[0],\n",
        "        'last_name': \" \".join(full_name[1:]),\n",
        "        'rank': rank\n",
        "    })\n",
        "\n",
        "print(profs)\n"
      ]
    }
  ],
  "metadata": {
    "colab": {
      "provenance": []
    },
    "kernelspec": {
      "display_name": ".venv",
      "language": "python",
      "name": "python3"
    },
    "language_info": {
      "codemirror_mode": {
        "name": "ipython",
        "version": 3
      },
      "file_extension": ".py",
      "mimetype": "text/x-python",
      "name": "python",
      "nbconvert_exporter": "python",
      "pygments_lexer": "ipython3",
      "version": "3.12.7"
    }
  },
  "nbformat": 4,
  "nbformat_minor": 0
}
