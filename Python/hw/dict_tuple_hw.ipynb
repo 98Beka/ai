{
 "cells": [
  {
   "cell_type": "markdown",
   "metadata": {
    "id": "nz5PCxQBQn08"
   },
   "source": [
    "# Task 1\n",
    "Создайте словарь dict1 и удалите все его элементы специальным методом"
   ]
  },
  {
   "cell_type": "code",
   "execution_count": null,
   "metadata": {
    "id": "iOPLDHn4QrHY"
   },
   "outputs": [
    {
     "name": "stdout",
     "output_type": "stream",
     "text": [
      "{'name': 'Bekzat', 'age': 25, 'city': 'Bishkek'}\n"
     ]
    },
    {
     "data": {
      "text/plain": [
       "{}"
      ]
     },
     "execution_count": 1,
     "metadata": {},
     "output_type": "execute_result"
    }
   ],
   "source": [
    "dict1 = my_dict = {\n",
    "    \"name\": \"Bekzat\",\n",
    "    \"age\": 25,\n",
    "    \"city\": \"Bishkek\"\n",
    "}\n",
    "\n",
    "print(dict1)\n",
    "dict1.clear()\n",
    "print(dict1)"
   ]
  },
  {
   "cell_type": "markdown",
   "metadata": {
    "id": "VLrmzPAnQ4li"
   },
   "source": [
    "# Task 2\n",
    "Дан словарь dict_ = {'a': 1, 'b': 2, 'c': 1}, выведите все его ключи\n"
   ]
  },
  {
   "cell_type": "code",
   "execution_count": null,
   "metadata": {
    "id": "EI6m7x-bQ8ow"
   },
   "outputs": [
    {
     "data": {
      "text/plain": [
       "dict_keys(['a', 'b', 'c'])"
      ]
     },
     "execution_count": 4,
     "metadata": {},
     "output_type": "execute_result"
    }
   ],
   "source": [
    "dict_ = {'a': 1, 'b':2, 'c':1}\n",
    "dict_.keys()"
   ]
  },
  {
   "cell_type": "markdown",
   "metadata": {
    "id": "-Jurlc2DRAGw"
   },
   "source": [
    "# Task 3\n",
    "Используя предыдущий словарь проитерируйте его по парам ключ-значение\n",
    "и распечатайте каждую пару\n"
   ]
  },
  {
   "cell_type": "code",
   "execution_count": 10,
   "metadata": {
    "id": "o4WrvEZkRAbw"
   },
   "outputs": [
    {
     "name": "stdout",
     "output_type": "stream",
     "text": [
      "key: a; value: 1\n",
      "key: b; value: 2\n",
      "key: c; value: 1\n"
     ]
    }
   ],
   "source": [
    "for key, value in dict_.items():\n",
    "    print(f\"key: {key}; value: {value}\")"
   ]
  },
  {
   "cell_type": "markdown",
   "metadata": {
    "id": "bX3CRQ0tRAqE"
   },
   "source": [
    "# Task 4\n",
    "Из словаря dict4 = {'a': 1, 'b': 4, 'c': 1, 'd': 5, 'e': 6}\n",
    "удалите пары у которых значение меньше 4"
   ]
  },
  {
   "cell_type": "code",
   "execution_count": 22,
   "metadata": {
    "id": "kbcIy5mkRA6Y"
   },
   "outputs": [
    {
     "data": {
      "text/plain": [
       "{'b': 4, 'd': 5, 'e': 6}"
      ]
     },
     "execution_count": 22,
     "metadata": {},
     "output_type": "execute_result"
    }
   ],
   "source": [
    "dict4 = {'a': 1, 'b': 4, 'c': 1, 'd': 5, 'e': 6}\n",
    "res = { key:value for key, value in dict4.items() if value >= 4}\n",
    "res"
   ]
  },
  {
   "cell_type": "markdown",
   "metadata": {
    "id": "vqu2Gw7cRBMK"
   },
   "source": [
    "# Task 5\n",
    "Дан словарь\n",
    "```\n",
    "dict5 = {1: {'a': 1}, 2: {'b': 4}, 3: {'c': 1}, 4: {'d': 5}, 5: {'e': 6}}\n",
    "```\n",
    "Сделайте так, чтобы значениями внешних ключей были ключи внутренних словарей.\n",
    "\n",
    "Например {1: 'a', 2: 'b', ....}"
   ]
  },
  {
   "cell_type": "code",
   "execution_count": 28,
   "metadata": {
    "id": "9efFdZS4RBap"
   },
   "outputs": [
    {
     "data": {
      "text/plain": [
       "{1: 'a', 2: 'b', 3: 'c', 4: 'd', 5: 'e'}"
      ]
     },
     "execution_count": 28,
     "metadata": {},
     "output_type": "execute_result"
    }
   ],
   "source": [
    "dict5 = {1: {'a': 1}, 2: {'b': 4}, 3: {'c': 1}, 4: {'d': 5}, 5: {'e': 6}}\n",
    "dict5 = {key:list(value.keys())[0]for key, value in dict5.items()}\n",
    "dict5"
   ]
  },
  {
   "cell_type": "markdown",
   "metadata": {
    "id": "nl55Gp8oRCHk"
   },
   "source": [
    "# Task 7\n",
    "В словарь dict7 = {'a': 1, 'b': 2, 'c': 1} добавьте новую пару ('d', 3)\n"
   ]
  },
  {
   "cell_type": "code",
   "execution_count": 29,
   "metadata": {
    "id": "9sW9pRHERCWD"
   },
   "outputs": [
    {
     "data": {
      "text/plain": [
       "{'a': 1, 'b': 2, 'c': 1, 'd': 3}"
      ]
     },
     "execution_count": 29,
     "metadata": {},
     "output_type": "execute_result"
    }
   ],
   "source": [
    "dict7 = {'a': 1, 'b': 2, 'c': 1}\n",
    "dict7['d'] = 3\n",
    "dict7"
   ]
  },
  {
   "cell_type": "markdown",
   "metadata": {
    "id": "1dzCCZNlLKBs"
   },
   "source": [
    "# Task 9\n",
    "Даны два словаря ```d1 = {'a': 1, 'b': 2}```, ```d2 = {'c': 3, 'd': 4}```, объедините их в переменной  dict9. Используйте `update()`\n",
    "\n"
   ]
  },
  {
   "cell_type": "code",
   "execution_count": 34,
   "metadata": {
    "id": "PcPu_-2NLKe-"
   },
   "outputs": [
    {
     "data": {
      "text/plain": [
       "{'a': 1, 'b': 2, 'c': 3, 'd': 4}"
      ]
     },
     "execution_count": 34,
     "metadata": {},
     "output_type": "execute_result"
    }
   ],
   "source": [
    "d1 = {'a': 1, 'b': 2}\n",
    "d2 = {'c': 3, 'd': 4}\n",
    "dict9 = {}\n",
    "dict9.update(d1)\n",
    "dict9.update(d2)\n",
    "dict9"
   ]
  }
 ],
 "metadata": {
  "colab": {
   "provenance": []
  },
  "kernelspec": {
   "display_name": "Python 3",
   "name": "python3"
  },
  "language_info": {
   "codemirror_mode": {
    "name": "ipython",
    "version": 3
   },
   "file_extension": ".py",
   "mimetype": "text/x-python",
   "name": "python",
   "nbconvert_exporter": "python",
   "pygments_lexer": "ipython3",
   "version": "3.12.7"
  }
 },
 "nbformat": 4,
 "nbformat_minor": 0
}
