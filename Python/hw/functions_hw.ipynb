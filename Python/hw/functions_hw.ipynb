{
 "cells": [
  {
   "cell_type": "markdown",
   "metadata": {
    "id": "nz5PCxQBQn08"
   },
   "source": [
    "# Task 1\n",
    "Создайте функцию func1, которая будет принтить вам строку 'hello'"
   ]
  },
  {
   "cell_type": "code",
   "execution_count": null,
   "metadata": {
    "id": "iOPLDHn4QrHY"
   },
   "outputs": [
    {
     "name": "stdout",
     "output_type": "stream",
     "text": [
      "hello\n"
     ]
    }
   ],
   "source": [
    "def func1():\n",
    "  print('hello')\n",
    "\n",
    "func1()"
   ]
  },
  {
   "cell_type": "markdown",
   "metadata": {
    "id": "VLrmzPAnQ4li"
   },
   "source": [
    "# Task 2\n",
    "Создайте функцию func2, которая будет принимать два числа в качестве аргументов\n",
    "и возвращать их сложение\n"
   ]
  },
  {
   "cell_type": "code",
   "execution_count": 2,
   "metadata": {
    "id": "EI6m7x-bQ8ow"
   },
   "outputs": [
    {
     "data": {
      "text/plain": [
       "3"
      ]
     },
     "execution_count": 2,
     "metadata": {},
     "output_type": "execute_result"
    }
   ],
   "source": [
    "def func2(a: int, b: int):\n",
    "  return a + b\n",
    "\n",
    "func2(1, 2)"
   ]
  },
  {
   "cell_type": "markdown",
   "metadata": {
    "id": "-Jurlc2DRAGw"
   },
   "source": [
    "# Task 3\n",
    "Создайте функцию wallet, которая принимает два аргумента:\n",
    "\n",
    "1) на что потрачены деньги\n",
    "\n",
    "2) сколько потрачено\n",
    "\n",
    "В итоге функция должна возвращать строку в виде\n",
    "\n",
    "```'На *example_молоко* было потрачено *example_60* сом'```\n"
   ]
  },
  {
   "cell_type": "code",
   "execution_count": 3,
   "metadata": {
    "id": "o4WrvEZkRAbw"
   },
   "outputs": [
    {
     "name": "stdout",
     "output_type": "stream",
     "text": [
      "На *milk* было потрачено *3* сом\n"
     ]
    }
   ],
   "source": [
    "def wallet(item:str, spendet_money: int):\n",
    "    print(f'На *{item}* было потрачено *{spendet_money}* сом')\n",
    "\n",
    "wallet(\"milk\", 3)"
   ]
  },
  {
   "cell_type": "markdown",
   "metadata": {
    "id": "bX3CRQ0tRAqE"
   },
   "source": [
    "# Task 4\n",
    "Создайте функцию ```func4()```, которая на вход будет принимать одну строку, проверять ее и на выходе\n",
    "возвращать строку, заменяя запятые на точки, пробелы на '' - пустые кавычки"
   ]
  },
  {
   "cell_type": "code",
   "execution_count": 4,
   "metadata": {
    "id": "kbcIy5mkRA6Y"
   },
   "outputs": [
    {
     "data": {
      "text/plain": [
       "\"test''my''supper''function.''example\""
      ]
     },
     "execution_count": 4,
     "metadata": {},
     "output_type": "execute_result"
    }
   ],
   "source": [
    "def func4(input:str):\n",
    "  return input.replace(',', '.').replace(' ', \"''\")\n",
    "\n",
    "func4(\"test my supper function, example\")"
   ]
  },
  {
   "cell_type": "markdown",
   "metadata": {
    "id": "vqu2Gw7cRBMK"
   },
   "source": [
    "# Task 5\n",
    "Создайте две функции ```add``` и ```div```\n",
    "\n",
    "первая функция должна принимать два числа и возвращать их сумму\n",
    "\n",
    "вторая функция должна принимать в качестве первого аргумента результат сложения первой функции и\n",
    "вторым аргументом число. Внутри себя вторая функция будет делить первый аргумент на второй и возвращать результат\n",
    "\n",
    "Например:\n",
    "```\n",
    "add(4, 5) => 9\n",
    "div(9, 3) => 3\n",
    "```"
   ]
  },
  {
   "cell_type": "code",
   "execution_count": 6,
   "metadata": {
    "id": "9efFdZS4RBap"
   },
   "outputs": [
    {
     "name": "stdout",
     "output_type": "stream",
     "text": [
      "res1:15; res2:3.0\n"
     ]
    }
   ],
   "source": [
    "def add(arg1:int, arg2:int):\n",
    "    return arg1 + arg2\n",
    "\n",
    "def div(firs_func_res:int, arg:int):\n",
    "    return firs_func_res/arg if arg != 0 else 0\n",
    "\n",
    "res1 = add(10, 5)\n",
    "res2 = div(res1, 5)\n",
    "print(f\"res1:{res1}; res2:{res2}\")"
   ]
  },
  {
   "cell_type": "markdown",
   "metadata": {
    "id": "xX4O0NskRBpn"
   },
   "source": [
    "# Task 6\n",
    "Создайте функцию ```mult```, которая в аргументы принимает список чисел и возвращает произведение\n",
    "чисел этого списка.\n",
    "\n",
    "Например:\n",
    "```print(mult([1, 2, 3, 4, 5])) => 120```"
   ]
  },
  {
   "cell_type": "code",
   "execution_count": 11,
   "metadata": {
    "id": "df5qSGq3RB4j"
   },
   "outputs": [
    {
     "data": {
      "text/plain": [
       "120"
      ]
     },
     "execution_count": 11,
     "metadata": {},
     "output_type": "execute_result"
    }
   ],
   "source": [
    "def mult(args:list[int]):\n",
    "    res = 1\n",
    "    for x in args:\n",
    "        res *= x\n",
    "    return res\n",
    "mult([1, 2, 3, 4, 5])"
   ]
  },
  {
   "cell_type": "code",
   "execution_count": null,
   "metadata": {},
   "outputs": [],
   "source": []
  },
  {
   "cell_type": "markdown",
   "metadata": {
    "id": "nl55Gp8oRCHk"
   },
   "source": [
    "# Task 7\n",
    "Создайте функцию ```str_check```, которая будет проверять есть ли в приходящей ей строке словосочетание\n",
    "'data science', если да возвращать True, нет - False\n"
   ]
  },
  {
   "cell_type": "code",
   "execution_count": 12,
   "metadata": {
    "id": "9sW9pRHERCWD"
   },
   "outputs": [
    {
     "name": "stdout",
     "output_type": "stream",
     "text": [
      "True\n",
      "False\n"
     ]
    }
   ],
   "source": [
    "def str_check(input:str):\n",
    "    return True if 'data science' in input else False\n",
    "\n",
    "print(str_check(\"supper data science\"))\n",
    "print(str_check(\"supper math science\"))"
   ]
  },
  {
   "cell_type": "markdown",
   "metadata": {
    "id": "pK4kYOYbRhiD"
   },
   "source": [
    "# Task 8\n",
    "Вам дан список\n",
    "```\n",
    "bd = ['Emil', 'Rena', 'Aliya', 'Hur']\n",
    "```\n",
    "создайте функцию ```check```, которая в качестве аргумента будет принимать имя и проверять есть ли это имя\n",
    "в базе данных (bd), если да то возвращать 'yes', нет - 'no'"
   ]
  },
  {
   "cell_type": "code",
   "execution_count": 13,
   "metadata": {
    "id": "5QfD5VvoRhxj"
   },
   "outputs": [
    {
     "name": "stdout",
     "output_type": "stream",
     "text": [
      "no\n",
      "yes\n"
     ]
    }
   ],
   "source": [
    "bd = ['Emil', 'Rena', 'Aliya', 'Hur']\n",
    "\n",
    "def check(input:str):\n",
    "    return 'yes' if input in bd else 'no'\n",
    "\n",
    "print(check('Bek'))\n",
    "print(check('Emil'))"
   ]
  },
  {
   "cell_type": "markdown",
   "metadata": {
    "id": "1dzCCZNlLKBs"
   },
   "source": [
    "# Task 9\n",
    "Создайте функцию ```func9()```, которая будет принимать 1 аргумент - число и возвращать два аргумента:\n",
    "принимаемое число и квадрат этого числа\n",
    "\n"
   ]
  },
  {
   "cell_type": "code",
   "execution_count": 14,
   "metadata": {
    "id": "PcPu_-2NLKe-"
   },
   "outputs": [
    {
     "data": {
      "text/plain": [
       "(5, 25)"
      ]
     },
     "execution_count": 14,
     "metadata": {},
     "output_type": "execute_result"
    }
   ],
   "source": [
    "def func9(input:int):\n",
    "  return(input, input**2)\n",
    "\n",
    "func9(5)"
   ]
  },
  {
   "cell_type": "markdown",
   "metadata": {
    "id": "6beM0r6-LLCE"
   },
   "source": [
    "# Task 10\n",
    "Дана база данных потенциальных кандидатов на место работы\n",
    "```\n",
    "users = [\n",
    "  { 'name': 'Ron', 'age': 18, 'work': 'IT-backend developer'},\n",
    "  { 'name': 'Sam', 'age': 23, 'work': 'Doctor'},\n",
    "  { 'name': 'Bob', 'age': 26, 'work': 'Driver'},\n",
    "  { 'name': 'John', 'age': 39, 'work': 'Teacher'},\n",
    "  { 'name': 'Jack', 'age': 29, 'work': 'IT-frontend developer'}\n",
    "]   \n",
    "```\n",
    "Напишите функцию ```employee```, которая будет смотреть на список users и возвращать имена только тех кандидатов,\n",
    "которым больше 21 и они в сфере IT"
   ]
  },
  {
   "cell_type": "code",
   "execution_count": 15,
   "metadata": {
    "id": "GSaqBBeWLLd_"
   },
   "outputs": [
    {
     "data": {
      "text/plain": [
       "[{'name': 'Jack', 'age': 29, 'work': 'IT-frontend developer'}]"
      ]
     },
     "execution_count": 15,
     "metadata": {},
     "output_type": "execute_result"
    }
   ],
   "source": [
    "users = [\n",
    "  { 'name': 'Ron', 'age': 18, 'work': 'IT-backend developer'},\n",
    "  { 'name': 'Sam', 'age': 23, 'work': 'Doctor'},\n",
    "  { 'name': 'Bob', 'age': 26, 'work': 'Driver'},\n",
    "  { 'name': 'John', 'age': 39, 'work': 'Teacher'},\n",
    "  { 'name': 'Jack', 'age': 29, 'work': 'IT-frontend developer'}\n",
    "]  \n",
    "\n",
    "def employee():\n",
    "    return [user for user in users if user['age'] > 21 and 'IT' in user['work']]\n",
    "\n",
    "employee()"
   ]
  },
  {
   "cell_type": "markdown",
   "metadata": {
    "id": "7cxX9PL7ORoq"
   },
   "source": [
    "# Task 11\n",
    "Создайте функцию: ```arg_types()```, которая принимает два обязательных параметра.\n",
    "Задача этой функции выводить тип принятых аргументов\n",
    "\n"
   ]
  },
  {
   "cell_type": "code",
   "execution_count": 16,
   "metadata": {
    "id": "kL9gyPj_OSEL"
   },
   "outputs": [
    {
     "name": "stdout",
     "output_type": "stream",
     "text": [
      "<class 'int'> <class 'str'>\n"
     ]
    }
   ],
   "source": [
    "def arg_types(a, b):\n",
    "    print(type(a), type(b))\n",
    "\n",
    "arg_types(2, \"str\")"
   ]
  },
  {
   "cell_type": "markdown",
   "metadata": {
    "id": "axwhfDXMOSvg"
   },
   "source": [
    "# Task 12\n",
    "Создайте функцию ```check_nan```, которая будет принимать обязательным аргументом список и проверять\n",
    "есть ли в этом списке 'nan', если да, то удалять его и возвращать список без nan, если же список чист\n",
    "то вернуть его в изначальном виде"
   ]
  },
  {
   "cell_type": "code",
   "execution_count": 20,
   "metadata": {
    "id": "hxgJUhKyOTMs"
   },
   "outputs": [
    {
     "data": {
      "text/plain": [
       "[1, 2, 3, 3]"
      ]
     },
     "execution_count": 20,
     "metadata": {},
     "output_type": "execute_result"
    }
   ],
   "source": [
    "import math\n",
    "\n",
    "def check_nan(input:list):\n",
    "    return [x for x in input if math.isnan(x) == False]\n",
    "\n",
    "check_nan([1, 2, 3, math.nan, 3])"
   ]
  }
 ],
 "metadata": {
  "colab": {
   "provenance": []
  },
  "kernelspec": {
   "display_name": "Python 3",
   "name": "python3"
  },
  "language_info": {
   "codemirror_mode": {
    "name": "ipython",
    "version": 3
   },
   "file_extension": ".py",
   "mimetype": "text/x-python",
   "name": "python",
   "nbconvert_exporter": "python",
   "pygments_lexer": "ipython3",
   "version": "3.13.0"
  }
 },
 "nbformat": 4,
 "nbformat_minor": 0
}
