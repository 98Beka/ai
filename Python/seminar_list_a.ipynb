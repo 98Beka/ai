{
  "nbformat": 4,
  "nbformat_minor": 0,
  "metadata": {
    "colab": {
      "provenance": []
    },
    "kernelspec": {
      "name": "python3",
      "display_name": "Python 3"
    },
    "language_info": {
      "name": "python"
    }
  },
  "cells": [
    {
      "cell_type": "markdown",
      "source": [
        "# Task_1\n",
        "\n",
        "Создайте два пустых листа, присвоив их в переменные list_1 и list_2 соответственно двумя разными способами. Выведите на печать типы этих переменных в указанном формате:\n",
        "\n",
        "\n",
        "\n",
        "```\n",
        "Type of list_1 is [type].\n",
        "Type of list_2 is [type].\n",
        "```\n",
        "\n"
      ],
      "metadata": {
        "id": "KmsasxemMUVj"
      }
    },
    {
      "cell_type": "code",
      "execution_count": null,
      "metadata": {
        "id": "m0hFSWe6MN8h"
      },
      "outputs": [],
      "source": [
        "list_1 = ...\n",
        "list_2 = ..."
      ]
    },
    {
      "cell_type": "code",
      "source": [],
      "metadata": {
        "id": "pn0nT03qMTuG"
      },
      "execution_count": null,
      "outputs": []
    },
    {
      "cell_type": "code",
      "source": [],
      "metadata": {
        "id": "5gK76yZTMTrX"
      },
      "execution_count": null,
      "outputs": []
    },
    {
      "cell_type": "markdown",
      "source": [
        "# Task_2\n",
        "\n",
        "Создайте любой список и выведите его на печать."
      ],
      "metadata": {
        "id": "yLWmey39OWho"
      }
    },
    {
      "cell_type": "code",
      "source": [],
      "metadata": {
        "id": "EubnxHi4MTo-"
      },
      "execution_count": null,
      "outputs": []
    },
    {
      "cell_type": "code",
      "source": [],
      "metadata": {
        "id": "D8C0E5KKMTmw"
      },
      "execution_count": null,
      "outputs": []
    },
    {
      "cell_type": "markdown",
      "source": [
        "# Task_3\n",
        "\n",
        "Создайте список целых чисел на множестве [1; 20] используя функцию range()"
      ],
      "metadata": {
        "id": "-DMkNqC6OhTn"
      }
    },
    {
      "cell_type": "code",
      "source": [],
      "metadata": {
        "id": "UNW9GFYpMTlR"
      },
      "execution_count": null,
      "outputs": []
    },
    {
      "cell_type": "code",
      "source": [],
      "metadata": {
        "id": "COsAWbQ_MTim"
      },
      "execution_count": null,
      "outputs": []
    },
    {
      "cell_type": "markdown",
      "source": [
        "# Task_4\n",
        "\n",
        "Создайте список ЧЕТНЫХ чисел на множестве [0; 20] используя функцию range()."
      ],
      "metadata": {
        "id": "2oyg_qQtPKKh"
      }
    },
    {
      "cell_type": "code",
      "source": [],
      "metadata": {
        "id": "nJdQ7KcHMTgY"
      },
      "execution_count": null,
      "outputs": []
    },
    {
      "cell_type": "code",
      "source": [],
      "metadata": {
        "id": "nVYRBa4RMTev"
      },
      "execution_count": null,
      "outputs": []
    },
    {
      "cell_type": "markdown",
      "source": [
        "# Task_5\n",
        "\n",
        "Создайте список чисел на множестве [0; 13) в убывающем порядке от большего к меньшему."
      ],
      "metadata": {
        "id": "3BsO6Sq4Q3eh"
      }
    },
    {
      "cell_type": "code",
      "source": [],
      "metadata": {
        "id": "ZBZbmCYXMTay"
      },
      "execution_count": null,
      "outputs": []
    },
    {
      "cell_type": "code",
      "source": [],
      "metadata": {
        "id": "iJlz3oqIMTYR"
      },
      "execution_count": null,
      "outputs": []
    },
    {
      "cell_type": "markdown",
      "source": [
        "# Task_6\n",
        "\n",
        "Дана строка. Каждый элемент данной строки сделайте элементом списка."
      ],
      "metadata": {
        "id": "X5aJc-a_RYwu"
      }
    },
    {
      "cell_type": "code",
      "source": [
        "str_ = 'abcd1234'"
      ],
      "metadata": {
        "id": "wfeSE-WxMTAy"
      },
      "execution_count": null,
      "outputs": []
    },
    {
      "cell_type": "code",
      "source": [],
      "metadata": {
        "id": "M7S2Fwr1MS-I"
      },
      "execution_count": null,
      "outputs": []
    },
    {
      "cell_type": "markdown",
      "source": [
        "# Task_7\n",
        "\n",
        "Дан список популярных брендов ноутбуков. Создайте список, который будет содержать перечень данных брендов. Используйте функцию split()."
      ],
      "metadata": {
        "id": "l0LlRUgcR1bp"
      }
    },
    {
      "cell_type": "code",
      "source": [
        "brand = 'Acer, HP, Lenovo, Asus, Honor, Apple, Toshiba, Samsung'\n",
        "brand_list = ..."
      ],
      "metadata": {
        "id": "uDjkPDlDMS8a"
      },
      "execution_count": null,
      "outputs": []
    },
    {
      "cell_type": "code",
      "source": [],
      "metadata": {
        "id": "ZE6OC2OiMS4u"
      },
      "execution_count": null,
      "outputs": []
    },
    {
      "cell_type": "code",
      "source": [],
      "metadata": {
        "id": "KN1WoK4_MS07"
      },
      "execution_count": null,
      "outputs": []
    },
    {
      "cell_type": "markdown",
      "source": [
        "# Task_8\n",
        "\n",
        "Напишите программу, которая запрашивает у пользователя ввод чисел через пробел. Создайте список из этих чисел. Ничего страшного, если эти числа будут иметь вид строки."
      ],
      "metadata": {
        "id": "ZN3s4CwdS6Xn"
      }
    },
    {
      "cell_type": "code",
      "source": [
        "num_str = ...\n",
        "num_list = ..."
      ],
      "metadata": {
        "id": "x9WvVl_vMSyk"
      },
      "execution_count": null,
      "outputs": []
    },
    {
      "cell_type": "code",
      "source": [],
      "metadata": {
        "id": "etY4cXDGK_7X",
        "outputId": "151ab4ca-808d-4fe2-91f0-a921178ab583",
        "colab": {
          "base_uri": "https://localhost:8080/"
        }
      },
      "execution_count": null,
      "outputs": [
        {
          "name": "stdout",
          "output_type": "stream",
          "text": [
            "1 2 3 4 5\n"
          ]
        },
        {
          "output_type": "execute_result",
          "data": {
            "text/plain": [
              "[1, 2, 3, 4, 5]"
            ]
          },
          "metadata": {},
          "execution_count": 30
        }
      ]
    },
    {
      "cell_type": "code",
      "source": [],
      "metadata": {
        "id": "YHK5fhzrLcNH"
      },
      "execution_count": null,
      "outputs": []
    },
    {
      "cell_type": "markdown",
      "source": [
        "# Task_9\n",
        "\n",
        "Пользователь вводит список покупок через знак '_' чтобы разграничить названия товаров состоящие из нескольких слов. Сложите все эти наименования в список."
      ],
      "metadata": {
        "id": "Sb9Ego2qTvoi"
      }
    },
    {
      "cell_type": "code",
      "source": [],
      "metadata": {
        "id": "fYyR-SayS2Ms"
      },
      "execution_count": null,
      "outputs": []
    },
    {
      "cell_type": "code",
      "source": [],
      "metadata": {
        "id": "egT1bYfXS2Kn"
      },
      "execution_count": null,
      "outputs": []
    },
    {
      "cell_type": "markdown",
      "source": [
        "# Task_10\n",
        "\n",
        "Дан список чисел. Используя индексацию выведите на отображение данные значения списка:\n",
        "\n",
        "\n",
        "\n",
        "*   Первый элемент\n",
        "*   Предпоследний элемент\n",
        "\n",
        "\n",
        "*   Со второго по предпоследний\n",
        "*   Со второго через один\n",
        "\n",
        "\n",
        "*   Все числа в обратном порядке.\n",
        "*   Все числа, кроме первого и последнего в обратном порядке.\n",
        "\n",
        "\n",
        "\n",
        "\n",
        "\n"
      ],
      "metadata": {
        "id": "zeF50G3RUKOr"
      }
    },
    {
      "cell_type": "code",
      "source": [
        "list_ = [1, 2, 3, 4, 5, 6, 7, 8, 9, 10, 11, 12, 13, 14]"
      ],
      "metadata": {
        "id": "Pt3D6ECgUIE1"
      },
      "execution_count": null,
      "outputs": []
    },
    {
      "cell_type": "code",
      "source": [],
      "metadata": {
        "id": "e_GSTIn7UIB6"
      },
      "execution_count": null,
      "outputs": []
    },
    {
      "cell_type": "code",
      "source": [],
      "metadata": {
        "id": "WIREs5G4UH_t"
      },
      "execution_count": null,
      "outputs": []
    },
    {
      "cell_type": "markdown",
      "source": [
        "# Task_11\n",
        "\n",
        "Дан список чисел. Замените второе число на 100."
      ],
      "metadata": {
        "id": "7JEZWfILVLya"
      }
    },
    {
      "cell_type": "code",
      "source": [
        "list_ = [1, 2, 3, 4, 5, 6, 7, 8, 9]"
      ],
      "metadata": {
        "id": "cgZZcHOtUH5e",
        "outputId": "f732451c-f512-4c25-9161-6098960c98e5",
        "colab": {
          "base_uri": "https://localhost:8080/"
        }
      },
      "execution_count": null,
      "outputs": [
        {
          "output_type": "execute_result",
          "data": {
            "text/plain": [
              "[2, 3, 4, 5]"
            ]
          },
          "metadata": {},
          "execution_count": 34
        }
      ]
    },
    {
      "cell_type": "code",
      "source": [],
      "metadata": {
        "id": "g-jAjvVrU8SE"
      },
      "execution_count": null,
      "outputs": []
    },
    {
      "cell_type": "code",
      "source": [],
      "metadata": {
        "id": "mCncxxd6U8Or"
      },
      "execution_count": null,
      "outputs": []
    },
    {
      "cell_type": "markdown",
      "source": [
        "# Task_12\n",
        "\n",
        "Дан список чисел. Замените два последние элемента на числа 12 и 13 одним действием."
      ],
      "metadata": {
        "id": "2WAWaTkxVvDG"
      }
    },
    {
      "cell_type": "code",
      "source": [
        "list_ = [1, 2, 3, 4, 5]"
      ],
      "metadata": {
        "id": "4sPE8Bj3U8Mc"
      },
      "execution_count": null,
      "outputs": []
    },
    {
      "cell_type": "code",
      "source": [],
      "metadata": {
        "id": "OKu5_TdnU8J6"
      },
      "execution_count": null,
      "outputs": []
    },
    {
      "cell_type": "markdown",
      "source": [
        "# Task_13\n",
        "\n",
        "Дан список чисел. Выведите на отображение:\n",
        "\n",
        "\n",
        "\n",
        "*   Максимальное значение\n",
        "\n",
        "*   Минимальное значение\n",
        "*   Сумму всех чисел\n",
        "\n",
        "\n",
        "*   Длину списка\n",
        "\n",
        "\n",
        "\n",
        "*   Среднее арифметическое всех чисел\n",
        "\n",
        "\n",
        "\n"
      ],
      "metadata": {
        "id": "NWbU9sssV7fl"
      }
    },
    {
      "cell_type": "code",
      "source": [
        "list_ = [1, 3, 5, 4, 7, 9, 8, 10, 1, 14, 19, 20]"
      ],
      "metadata": {
        "id": "HQ9360PfU8H6"
      },
      "execution_count": null,
      "outputs": []
    },
    {
      "cell_type": "code",
      "source": [],
      "metadata": {
        "id": "E4iMPvYIU8FL",
        "outputId": "cdf9c2cc-9711-4633-a701-2a3005cccc0f",
        "colab": {
          "base_uri": "https://localhost:8080/"
        }
      },
      "execution_count": null,
      "outputs": [
        {
          "output_type": "execute_result",
          "data": {
            "text/plain": [
              "7.5"
            ]
          },
          "metadata": {},
          "execution_count": 60
        }
      ]
    },
    {
      "cell_type": "code",
      "source": [
        "list_"
      ],
      "metadata": {
        "id": "Ab2TGDJdU8CG",
        "outputId": "670b6870-8a17-4962-85ee-2768d49c963f",
        "colab": {
          "base_uri": "https://localhost:8080/"
        }
      },
      "execution_count": null,
      "outputs": [
        {
          "output_type": "execute_result",
          "data": {
            "text/plain": [
              "[1, 1, 3, 4, 5, 7, 8, 9, 10, 14, 19]"
            ]
          },
          "metadata": {},
          "execution_count": 50
        }
      ]
    },
    {
      "cell_type": "markdown",
      "source": [
        "# Task_14\n",
        "\n",
        "Дан список брендов ноутбуков. Верните индекс элемента 'Honor'."
      ],
      "metadata": {
        "id": "qxYwHEEgWz_C"
      }
    },
    {
      "cell_type": "code",
      "source": [
        "brand = ['Acer', 'HP', 'Lenovo', 'Asus', 'Honor', 'Apple', 'Toshiba', 'Samsung']"
      ],
      "metadata": {
        "id": "ROFWHFNUU7--"
      },
      "execution_count": null,
      "outputs": []
    },
    {
      "cell_type": "code",
      "source": [
        "brand.index('Honor')"
      ],
      "metadata": {
        "id": "vC8emPrQU78i",
        "outputId": "1fdf291c-4a16-4a71-9bf1-cecd352a284e",
        "colab": {
          "base_uri": "https://localhost:8080/"
        }
      },
      "execution_count": null,
      "outputs": [
        {
          "output_type": "execute_result",
          "data": {
            "text/plain": [
              "4"
            ]
          },
          "metadata": {},
          "execution_count": 62
        }
      ]
    },
    {
      "cell_type": "code",
      "source": [
        "brand[4]"
      ],
      "metadata": {
        "id": "FAwTZQfIU75k",
        "outputId": "ae5e0599-2327-45a8-bdd6-a4638bdb41bd",
        "colab": {
          "base_uri": "https://localhost:8080/",
          "height": 36
        }
      },
      "execution_count": null,
      "outputs": [
        {
          "output_type": "execute_result",
          "data": {
            "text/plain": [
              "'Honor'"
            ],
            "application/vnd.google.colaboratory.intrinsic+json": {
              "type": "string"
            }
          },
          "metadata": {},
          "execution_count": 63
        }
      ]
    },
    {
      "cell_type": "markdown",
      "source": [
        "# Task_15\n",
        "\n",
        "Дан список брендов ноутбуков. Найдите среди элементов бренд 'Apple' и замените его на 'Irbis'."
      ],
      "metadata": {
        "id": "O4HBo8PKXd08"
      }
    },
    {
      "cell_type": "code",
      "source": [
        "brand = ['Acer', 'HP', 'Lenovo', 'Asus', 'Honor', 'Apple', 'Toshiba', 'Samsung']"
      ],
      "metadata": {
        "id": "YAK73YKOXbcK"
      },
      "execution_count": null,
      "outputs": []
    },
    {
      "cell_type": "code",
      "source": [],
      "metadata": {
        "id": "gkAst7DHXbYy"
      },
      "execution_count": null,
      "outputs": []
    },
    {
      "cell_type": "code",
      "source": [],
      "metadata": {
        "id": "t629bNMUXbXJ"
      },
      "execution_count": null,
      "outputs": []
    },
    {
      "cell_type": "markdown",
      "source": [
        "# Task_16\n",
        "\n",
        "Дан список брендов ноутбуков а также список стоимостей ноутбуков данных брендов по соответствующим индексам. Выведите название бренда, у которого максимальная стоимость."
      ],
      "metadata": {
        "id": "Zjn2Jmx0X602"
      }
    },
    {
      "cell_type": "code",
      "source": [
        "brand = ['Acer', 'HP', 'Lenovo', 'Asus', 'Honor', 'Apple', 'Toshiba', 'Samsung']\n",
        "price = [20000, 27000, 95000, 15000, 50000, 100000, 85000, 80000]"
      ],
      "metadata": {
        "id": "btP8X_FXXbU_"
      },
      "execution_count": null,
      "outputs": []
    },
    {
      "cell_type": "code",
      "source": [],
      "metadata": {
        "id": "TBgFcHCEU73B"
      },
      "execution_count": null,
      "outputs": []
    },
    {
      "cell_type": "code",
      "source": [],
      "metadata": {
        "id": "LQOZXFSpU7wD"
      },
      "execution_count": null,
      "outputs": []
    },
    {
      "cell_type": "markdown",
      "source": [
        "# Task_17\n",
        "\n",
        "Пользователь вводит название продукта и его стоимость через '-' . Добавьте эти значения в соответствующие списки. Cоздайте списки в другой ячейке, чтобы повторное выполнение пользовательского ввода добавляло в списки новые данные.\n",
        "\n",
        "\n",
        "\n",
        "```\n",
        "product_name = []\n",
        "price = []\n",
        "\n",
        "input_ = input()\n",
        ">>> 'Milk - 65'\n",
        "\n",
        "product_name = ['Milk']\n",
        "price = [65]\n",
        "```\n",
        "\n"
      ],
      "metadata": {
        "id": "RHL6LlpjYnoo"
      }
    },
    {
      "cell_type": "code",
      "source": [
        "product_name = []\n",
        "price = []"
      ],
      "metadata": {
        "id": "B8uxduVuS2IG"
      },
      "execution_count": null,
      "outputs": []
    },
    {
      "cell_type": "code",
      "source": [
        "input_ = ..."
      ],
      "metadata": {
        "id": "V8bzZcxBZNLq"
      },
      "execution_count": null,
      "outputs": []
    },
    {
      "cell_type": "code",
      "source": [],
      "metadata": {
        "id": "-1A1WplvZNIQ"
      },
      "execution_count": null,
      "outputs": []
    },
    {
      "cell_type": "code",
      "source": [],
      "metadata": {
        "id": "FAt27gznZNF2"
      },
      "execution_count": null,
      "outputs": []
    },
    {
      "cell_type": "markdown",
      "source": [
        "# Task_18\n",
        "\n",
        "Пользователь вводит два числа через пробел, которые являются границами множества. Создайте список всех целых чисел лежащих на этом множестве. Числа должны быть расположены от меньшего к большему, при том, что пользователь их может вводить в любом порядке.\n",
        "\n",
        "\n",
        "\n",
        "```\n",
        "input:\n",
        ">>> 12 5\n",
        "\n",
        "output:\n",
        "[5, 6, 7, 8, 9, 10, 11, 12]\n",
        "```\n",
        "\n"
      ],
      "metadata": {
        "id": "4lqLNrydZ9_Q"
      }
    },
    {
      "cell_type": "code",
      "source": [],
      "metadata": {
        "id": "MthHp66_ZND3"
      },
      "execution_count": null,
      "outputs": []
    },
    {
      "cell_type": "code",
      "source": [],
      "metadata": {
        "id": "UKaNqSyKZNB1"
      },
      "execution_count": null,
      "outputs": []
    },
    {
      "cell_type": "code",
      "source": [],
      "metadata": {
        "id": "bWUgvfNXSlDH"
      },
      "execution_count": null,
      "outputs": []
    },
    {
      "cell_type": "code",
      "source": [],
      "metadata": {
        "id": "PCoJa5JBSk--"
      },
      "execution_count": null,
      "outputs": []
    },
    {
      "cell_type": "markdown",
      "source": [
        "# Task_19\n",
        "\n",
        "Психотерапевт дал пациенту задание вести ежедневный мониторинг своего настроения. Каждый день пациент в список добавляет:\n",
        "\n",
        "\n",
        "\n",
        "*   1 - если настроение хорошее\n",
        "*   0 - если настроение так себе..\n",
        "\n",
        "Получился список. Посчитайте, сколько дней у пациента прошло с хорошим настроением, а сколько дней было с плохим.\n",
        "\n",
        "Выполните задачу двумя способами))\n",
        "\n"
      ],
      "metadata": {
        "id": "ZuBdwwh9bG0I"
      }
    },
    {
      "cell_type": "code",
      "source": [
        "daily_list = [1, 1, 1, 0, 0, 1, 0, 1, 0, 0, 1, 1, 0, 0, 0, 0, 0, 1, 1, 1, 0, 0, 1, 0, 1, 1, 0, 0, 0, 1]"
      ],
      "metadata": {
        "id": "BHbMwm6RZM_f"
      },
      "execution_count": null,
      "outputs": []
    },
    {
      "cell_type": "code",
      "source": [],
      "metadata": {
        "id": "gkESfOJXZM9r"
      },
      "execution_count": null,
      "outputs": []
    },
    {
      "cell_type": "code",
      "source": [],
      "metadata": {
        "id": "wYzXwc77ZM7k"
      },
      "execution_count": null,
      "outputs": []
    },
    {
      "cell_type": "markdown",
      "source": [
        "# Task_20\n",
        "\n",
        "Выполним анализ: какой процент наблюдаемых дней пациент провел в хорошем настроении. Используйте список из предыдущего таска."
      ],
      "metadata": {
        "id": "J-9vJ8hucGFN"
      }
    },
    {
      "cell_type": "code",
      "source": [],
      "metadata": {
        "id": "exOTK2pcZM5e"
      },
      "execution_count": null,
      "outputs": []
    },
    {
      "cell_type": "code",
      "source": [],
      "metadata": {
        "id": "u4eQMGzOZM3d"
      },
      "execution_count": null,
      "outputs": []
    },
    {
      "cell_type": "markdown",
      "source": [
        "# Task_21\n",
        "\n",
        "Дан список с ежедневным курсом доллара по отношению к рублю. Отсортируйте данный список по возрастанию.\n"
      ],
      "metadata": {
        "id": "JRrILoevc8NF"
      }
    },
    {
      "cell_type": "code",
      "source": [
        "dol_list = [70, 75, 80, 90, 90, 91, 90, 89, 100, 101, 95, 90, 89, 90, 91, 90, 90, 89, 92]"
      ],
      "metadata": {
        "id": "kvK63dw6cdXy"
      },
      "execution_count": null,
      "outputs": []
    },
    {
      "cell_type": "code",
      "source": [],
      "metadata": {
        "id": "vqYAFjj7cdMO"
      },
      "execution_count": null,
      "outputs": []
    },
    {
      "cell_type": "code",
      "source": [],
      "metadata": {
        "id": "4osPsTygdmCU"
      },
      "execution_count": null,
      "outputs": []
    },
    {
      "cell_type": "markdown",
      "source": [
        "# if/else"
      ],
      "metadata": {
        "id": "O94sknu0eLAq"
      }
    },
    {
      "cell_type": "markdown",
      "source": [
        "# Task_22\n",
        "\n",
        "И снова ноутбуки!) Нам дан список с самыми популярными брендами. Программа запрашивает у пользователя ввести какой-либо бренд. Если этот бренд встречается в списке, то программа пишет сообщение:\n",
        "\n",
        "* \"Данный бренд уже есть в списке\"\n",
        "\n",
        "Если же такого бренда нет, то программа добавляет его в список и затем выводит данный список на отображение.\n",
        "\n",
        "Примечание:\n",
        "\n",
        "Пользователь может вводить название и с маленькой буквы.."
      ],
      "metadata": {
        "id": "f8Q_t5tAdpFv"
      }
    },
    {
      "cell_type": "code",
      "source": [
        "brand = ['Acer', 'HP', 'Lenovo', 'Honor']"
      ],
      "metadata": {
        "id": "VhBalRy4dl-u"
      },
      "execution_count": null,
      "outputs": []
    },
    {
      "cell_type": "code",
      "source": [],
      "metadata": {
        "id": "7nf8DYujdl4S"
      },
      "execution_count": null,
      "outputs": []
    },
    {
      "cell_type": "code",
      "source": [],
      "metadata": {
        "id": "z17pZZZLcdIs"
      },
      "execution_count": null,
      "outputs": []
    },
    {
      "cell_type": "markdown",
      "source": [
        "# Task_23\n",
        "\n",
        "Пользователь вводит два числа через пробел, которые являются границами множества. Составте список всех чисел в включительных границах данного множества. Если второе число меньше первого, то множество будет убывающим.\n",
        "\n",
        "\n",
        "\n",
        "```\n",
        "input:\n",
        ">>> 5 1\n",
        "\n",
        "output:\n",
        "[5, 4, 3, 2, 1]\n",
        "```\n",
        "\n",
        "Если пользователь ввел через пробел одинаковые числа, то список будет состоять из единственного такого числа.\n",
        "\n"
      ],
      "metadata": {
        "id": "AtHcW_2Nf6pL"
      }
    },
    {
      "cell_type": "code",
      "source": [],
      "metadata": {
        "id": "gTsP5Fldf6OQ"
      },
      "execution_count": null,
      "outputs": []
    },
    {
      "cell_type": "code",
      "source": [],
      "metadata": {
        "id": "vAbXk8IEf6HE"
      },
      "execution_count": null,
      "outputs": []
    },
    {
      "cell_type": "markdown",
      "source": [
        "# Task_24\n",
        "\n",
        "Дан список брендов. Удалите из него элемент 'Honor'."
      ],
      "metadata": {
        "id": "ddChkE4ifY0d"
      }
    },
    {
      "cell_type": "code",
      "source": [
        "brand = ['Acer', 'HP', 'Lenovo', 'Asus', 'Honor', 'Apple', 'Toshiba', 'Samsung']"
      ],
      "metadata": {
        "id": "97Xnj8MacdE-"
      },
      "execution_count": null,
      "outputs": []
    },
    {
      "cell_type": "code",
      "source": [],
      "metadata": {
        "id": "7_RJ3_6fcdBF"
      },
      "execution_count": null,
      "outputs": []
    },
    {
      "cell_type": "code",
      "source": [],
      "metadata": {
        "id": "DDA0Owhdcc-G"
      },
      "execution_count": null,
      "outputs": []
    },
    {
      "cell_type": "markdown",
      "source": [
        "# Task_25\n",
        "\n",
        "Дан список чисел. Удалите из него максимальное."
      ],
      "metadata": {
        "id": "Gj52fKjOfj8Z"
      }
    },
    {
      "cell_type": "code",
      "source": [
        "num_list = [1, 4, 2, 5, 3, 10, 2, 4]"
      ],
      "metadata": {
        "id": "lHDm1TAefjf3"
      },
      "execution_count": null,
      "outputs": []
    },
    {
      "cell_type": "code",
      "source": [],
      "metadata": {
        "id": "mFaFRoZRfjcD"
      },
      "execution_count": null,
      "outputs": []
    },
    {
      "cell_type": "code",
      "source": [],
      "metadata": {
        "id": "UErdwk60fjY4"
      },
      "execution_count": null,
      "outputs": []
    },
    {
      "cell_type": "markdown",
      "source": [
        "# Task_26\n",
        "\n",
        "Снова даны два списка с брендами ноутбуков и их стоимости. Организуйте пользовательский ввод данных. Пользователь вводит название бренда и стоимость через символ '-'. (Пользователь может вводить название бренда с маленькой буквы..)\n",
        "\n",
        "*   Если указанный бренд отсутствует в списках, то добавте в конец каждого название и стоимость соответственно.\n",
        "\n",
        "*   Если данный бренд уже есть в списках, то по указанному бренду обновите стоимость.\n",
        "*   Если пользователь после знака '-' поставил '0', то удалите из списков данный бренд и его стоимость, если данный бренд присутствует.\n",
        "\n",
        "\n",
        "*   Если пользователь после знака '-' поставил '0', и данный бренд в списках не представлен, то программа не делает ничего.\n"
      ],
      "metadata": {
        "id": "0ZQgU3skg74z"
      }
    },
    {
      "cell_type": "code",
      "source": [
        "brand = ['Acer', 'HP', 'Lenovo', 'Asus', 'Honor', 'Apple']\n",
        "price = [20000, 27000, 95000, 15000, 50000, 90000]"
      ],
      "metadata": {
        "id": "uViUX1DafjR6"
      },
      "execution_count": null,
      "outputs": []
    },
    {
      "cell_type": "code",
      "source": [
        "input_ = input()"
      ],
      "metadata": {
        "id": "mpwzs8Y3fxmU"
      },
      "execution_count": null,
      "outputs": []
    },
    {
      "cell_type": "code",
      "source": [],
      "metadata": {
        "id": "6WHdSVqSfxjz"
      },
      "execution_count": null,
      "outputs": []
    },
    {
      "cell_type": "code",
      "source": [],
      "metadata": {
        "id": "cnomlCzKfxcM"
      },
      "execution_count": null,
      "outputs": []
    },
    {
      "cell_type": "markdown",
      "source": [
        "# Task_27\n",
        "\n",
        "Пользователь вводит числа с клавиатуры через пробел. Все введенные числа сохраняются в список. Рассчитайте медиану для данного списка."
      ],
      "metadata": {
        "id": "DzBlkNgLjFZr"
      }
    },
    {
      "cell_type": "code",
      "source": [],
      "metadata": {
        "id": "D10DkMTfcc26"
      },
      "execution_count": null,
      "outputs": []
    },
    {
      "cell_type": "code",
      "source": [],
      "metadata": {
        "id": "lUldvUg6jWQ9"
      },
      "execution_count": null,
      "outputs": []
    },
    {
      "cell_type": "code",
      "source": [],
      "metadata": {
        "id": "MEyOVc4RjWJ_"
      },
      "execution_count": null,
      "outputs": []
    },
    {
      "cell_type": "code",
      "source": [],
      "metadata": {
        "id": "Xe5n0ouZS2Fz"
      },
      "execution_count": null,
      "outputs": []
    },
    {
      "cell_type": "code",
      "source": [],
      "metadata": {
        "id": "MOiI2OvQS2AI"
      },
      "execution_count": null,
      "outputs": []
    },
    {
      "cell_type": "markdown",
      "source": [
        "# Task_28\n",
        "В списке все элементы различны. Поменяйте местами минимальный и максимальный элемент этого списка."
      ],
      "metadata": {
        "id": "NCLs3EmaL-yL"
      }
    },
    {
      "cell_type": "code",
      "source": [
        "a = [2, 6, 8, 3, 6, 1, 7, 4]"
      ],
      "metadata": {
        "id": "z4MXXaWuMVLv"
      },
      "execution_count": null,
      "outputs": []
    },
    {
      "cell_type": "code",
      "source": [],
      "metadata": {
        "id": "oXD1oIGWZOcT"
      },
      "execution_count": null,
      "outputs": []
    },
    {
      "cell_type": "markdown",
      "source": [
        "# Task_29\n",
        "Пользователь вводит три числа через пробел, которые являются баллами по трем предметам (от 0 до 100). Все введенные числа сохраняются в список. Напишите программу, которая считает среднее арифметическое от баллов студента, и если оно больше 85, выводится сообщение \"Повышенная стипендия\". если среднее арифметическое больше 60 и меньше 85, выводится сообщение \"Обычная стипендия\". если среднее арифметическое ниже 60, выводится сообщение \"Нет стипендии\""
      ],
      "metadata": {
        "id": "FRwUiRErQdfY"
      }
    },
    {
      "cell_type": "code",
      "source": [],
      "metadata": {
        "id": "5k3i9__xRcng"
      },
      "execution_count": null,
      "outputs": []
    },
    {
      "cell_type": "markdown",
      "source": [
        "# Task_30\n",
        "Дан список имен в виде строки. Необходимо создать список, содержащий эти имена. Пользователь вводит новое имя, и программа проверяет, есть ли имя в списке. если имя в списке уже есть, программа удаляет его из списка. Если такого имени в списке нет, программа добавляет новое имя в список."
      ],
      "metadata": {
        "id": "sWHQMaXiR-sW"
      }
    },
    {
      "cell_type": "code",
      "source": [
        "names_str = 'Айдана Жылдыз Бакыт Чолпон Мадина Жаныбек Алиса'"
      ],
      "metadata": {
        "id": "r_uOhlWnSyLS"
      },
      "execution_count": null,
      "outputs": []
    },
    {
      "cell_type": "code",
      "source": [
        "names_list"
      ],
      "metadata": {
        "id": "gmCkonOtUYok"
      },
      "execution_count": null,
      "outputs": []
    },
    {
      "cell_type": "code",
      "source": [],
      "metadata": {
        "id": "ThGF01F0UYkZ"
      },
      "execution_count": null,
      "outputs": []
    },
    {
      "cell_type": "code",
      "source": [],
      "metadata": {
        "id": "oeKYye2OUZQF"
      },
      "execution_count": null,
      "outputs": []
    }
  ]
}