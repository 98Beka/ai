{
  "nbformat": 4,
  "nbformat_minor": 0,
  "metadata": {
    "colab": {
      "provenance": []
    },
    "kernelspec": {
      "name": "python3",
      "display_name": "Python 3"
    },
    "language_info": {
      "name": "python"
    }
  },
  "cells": [
    {
      "cell_type": "markdown",
      "source": [
        "Дана статья из википедии про [Александра Македонского](https://ru.wikipedia.org/wiki/Александр_Македонский).</br>\n",
        "</br>"
      ],
      "metadata": {
        "id": "ronzC60TklkR"
      }
    },
    {
      "cell_type": "markdown",
      "source": [
        "Task 1.</br>\n",
        "Извлеките древне-гереческое написание его имени в переменную `original`"
      ],
      "metadata": {
        "id": "-quxTLoJk7VQ"
      }
    },
    {
      "cell_type": "code",
      "source": [],
      "metadata": {
        "id": "ltmzr7gek7J6"
      },
      "execution_count": null,
      "outputs": []
    },
    {
      "cell_type": "markdown",
      "source": [
        "Task 2.</br>\n",
        "Извлеките информацию о его рождении и смерти из правой колонны под фотографией его бюста в переменные `birth, death `\n"
      ],
      "metadata": {
        "id": "18HFmx9tlo9p"
      }
    },
    {
      "cell_type": "code",
      "source": [],
      "metadata": {
        "id": "Zd5hrHFtlop_"
      },
      "execution_count": null,
      "outputs": []
    },
    {
      "cell_type": "markdown",
      "source": [
        "Task 3.</br>\n",
        "Извлеките имена всех его детей в лист `children`\n"
      ],
      "metadata": {
        "id": "KwKfFzFQlpmS"
      }
    },
    {
      "cell_type": "code",
      "source": [],
      "metadata": {
        "id": "ImRdfT4VlE_m"
      },
      "execution_count": null,
      "outputs": []
    },
    {
      "cell_type": "markdown",
      "source": [
        "Task 4.</br>\n",
        "В секции о юности найдите цитату Плутарха об Александре и извлеките ее в переменную `plutarh`"
      ],
      "metadata": {
        "id": "x2-KMLgBlp_3"
      }
    },
    {
      "cell_type": "code",
      "source": [],
      "metadata": {
        "id": "m9fIrCNmk6gC"
      },
      "execution_count": null,
      "outputs": []
    },
    {
      "cell_type": "markdown",
      "source": [
        "Task 5.</br>\n",
        "В секции \"Царь Азии\" посчитайте сколько раз упоминается имя Александра `al_count`"
      ],
      "metadata": {
        "id": "dmLOyCpMmfFf"
      }
    },
    {
      "cell_type": "code",
      "execution_count": null,
      "metadata": {
        "id": "P4N1F0BfkjHk"
      },
      "outputs": [],
      "source": []
    },
    {
      "cell_type": "markdown",
      "source": [
        "Дан сайт справочник по [питону](https://pythonworld.ru/tipy-dannyx-v-python/slovari-dict-funkcii-i-metody-slovarej.html)"
      ],
      "metadata": {
        "id": "JH4N0DE0nxsS"
      }
    },
    {
      "cell_type": "markdown",
      "source": [
        "Task 6.</br>\n",
        "Извлеките все названия методов словарей и описание того что они делают в словарь `methods` с названием метода в качестве ключа и описанием в значение. Пример:` {'str.replace()':'Заменяет часть на слова на что-то другое'}`"
      ],
      "metadata": {
        "id": "TQyu_IuFn2jf"
      }
    },
    {
      "cell_type": "code",
      "source": [],
      "metadata": {
        "id": "mjpC6VCcnroP"
      },
      "execution_count": null,
      "outputs": []
    },
    {
      "cell_type": "markdown",
      "source": [
        "Task 7.</br>\n",
        "Дан сайт с информацией о профессорах [MIT](https://be.mit.edu/directory?field_faculty_research_areas_tid=66&field_faculty_centers_tid=All&field_faculty_rank_tid=All).</br>\n",
        "Извлеките в список словарей `profs` данные об имени, фамилии и статусе всех людей. Ключи каждого словаря first_name, last_name, rank"
      ],
      "metadata": {
        "id": "s1p3Nb8PpAo0"
      }
    },
    {
      "cell_type": "code",
      "source": [],
      "metadata": {
        "id": "Rsvka3wcnxHy"
      },
      "execution_count": null,
      "outputs": []
    }
  ]
}