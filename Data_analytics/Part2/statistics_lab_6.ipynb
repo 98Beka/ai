{
  "cells": [
    {
      "cell_type": "markdown",
      "metadata": {
        "id": "-hT3qvAuOrvB"
      },
      "source": [
        "# Калькулятор расчета вероятности для случайной величины\n",
        "\n",
        "https://gallery.shinyapps.io/dist_calc/"
      ]
    },
    {
      "cell_type": "code",
      "execution_count": null,
      "metadata": {
        "id": "JEfQyeWdOfy-"
      },
      "outputs": [],
      "source": [
        "import numpy as np\n",
        "import pandas as pd\n",
        "import seaborn as sns\n",
        "import matplotlib.pyplot as plt\n",
        "import matplotlib.patches as patches\n",
        "from scipy.stats import ttest_ind, ttest_rel, ttest_1samp, mannwhitneyu\n",
        "from scipy import stats"
      ]
    },
    {
      "cell_type": "markdown",
      "metadata": {
        "id": "vrtEHwBN6PIO"
      },
      "source": [
        "[Преамбула (Не пропусти!)](https://www.youtube.com/watch?v=T5qytDfOe-I&ab_channel=VBMStorage)"
      ]
    },
    {
      "cell_type": "markdown",
      "metadata": {
        "id": "jBUMA1yd50y_"
      },
      "source": [
        "# Task_0 (Experiment)\n",
        "\n",
        "Представим, что у нас есть ГС и мы можем многократно делать из нее случайные выборки. Так как у каждой выборки среднее (выборочное) будет близко к среднему по ГС, следовательно, Разница между выборочными средними для двух случайных выборок будет близка к нулю.\n",
        "\n",
        "* Если мы будем многократно делать из ГС по две случайных выборки и для каждой пары находить разницу средних, получем множество значений, распределенных вокруг нуля. Давайте проделаем этот эксперименти в этом убедимся!\n",
        "* Найдем стандартное отклонение полученного распределения (набора `diff`), то есть стандартную ошибку и сравним результат с результатом ручного рассчета по формуле:\n",
        "\n",
        "$$se = \\sqrt{\\frac{sd_1^2}{n_1} + \\frac{sd_2^2}{n_2}}$$"
      ]
    },
    {
      "cell_type": "code",
      "execution_count": null,
      "metadata": {
        "id": "1ttGJf2v5xbI"
      },
      "outputs": [],
      "source": [
        "population = np.random.normal(20, 5, 10000) # ГС"
      ]
    },
    {
      "cell_type": "code",
      "execution_count": null,
      "metadata": {
        "id": "nuHYSE_E5xYc"
      },
      "outputs": [],
      "source": [
        "diff = []\n",
        "for _ in range(1000):\n",
        "  diff.append(np.random.choice(population, 100).mean() - np.random.choice(population, 100).mean())\n",
        "diff = np.array(diff)"
      ]
    },
    {
      "cell_type": "markdown",
      "metadata": {
        "id": "Y4sa3ePPZtYQ"
      },
      "source": [
        "`diff` - множество разниц между средними для каждой пары случайных выборок."
      ]
    },
    {
      "cell_type": "code",
      "execution_count": null,
      "metadata": {
        "colab": {
          "base_uri": "https://localhost:8080/"
        },
        "id": "TxWyEchrZpxW",
        "outputId": "30cb7b11-9ea9-49da-fe22-e35113aa6301"
      },
      "outputs": [
        {
          "data": {
            "text/plain": [
              "-0.00909028441869443"
            ]
          },
          "execution_count": 54,
          "metadata": {},
          "output_type": "execute_result"
        }
      ],
      "source": [
        "diff.mean() # Так и есть, средняя разница близка к нулю."
      ]
    },
    {
      "cell_type": "code",
      "execution_count": null,
      "metadata": {
        "colab": {
          "base_uri": "https://localhost:8080/",
          "height": 447
        },
        "id": "iYBvjbHDaaR9",
        "outputId": "b24812f4-e212-4487-db51-30f56ebb5c92"
      },
      "outputs": [
        {
          "data": {
            "text/plain": [
              "<Axes: ylabel='Density'>"
            ]
          },
          "execution_count": 44,
          "metadata": {},
          "output_type": "execute_result"
        },
        {
          "data": {
            "image/png": "[encoded data removed]",
            "text/plain": [
              "<Figure size 640x480 with 1 Axes>"
            ]
          },
          "metadata": {},
          "output_type": "display_data"
        }
      ],
      "source": [
        "sns.kdeplot(diff)"
      ]
    },
    {
      "cell_type": "code",
      "execution_count": null,
      "metadata": {
        "colab": {
          "base_uri": "https://localhost:8080/"
        },
        "id": "Yy3B1nRn5xVL",
        "outputId": "67b69cd6-f730-46a0-c3e5-7ec59c52b7e1"
      },
      "outputs": [
        {
          "data": {
            "text/plain": [
              "0.6867046882612081"
            ]
          },
          "execution_count": 56,
          "metadata": {},
          "output_type": "execute_result"
        }
      ],
      "source": [
        "np.array(diff).std() # фактическая стандартная ошибка"
      ]
    },
    {
      "cell_type": "code",
      "execution_count": null,
      "metadata": {
        "colab": {
          "base_uri": "https://localhost:8080/"
        },
        "id": "QOwdY5Ph7Y1P",
        "outputId": "f90353b4-b557-4514-aafc-798ac7f96063"
      },
      "outputs": [
        {
          "data": {
            "text/plain": [
              "0.6727438431296067"
            ]
          },
          "execution_count": 61,
          "metadata": {},
          "output_type": "execute_result"
        }
      ],
      "source": [
        "x_1 = np.random.choice(population, 100) # Сделаем две случайных выборки\n",
        "x_2 = np.random.choice(population, 100)\n",
        "\n",
        "se = np.sqrt(x_1.std()**2 / 100 + x_2.std()**2 / 100)\n",
        "se # теоретическия стандартная ошибка.\n",
        "\n",
        "# запустите этот код несколько раз и убедитесь, что значение близко к фактическому значению стандартной ошибки"
      ]
    },
    {
      "cell_type": "code",
      "execution_count": null,
      "metadata": {
        "id": "JAD5_17BbJDK"
      },
      "outputs": [],
      "source": []
    },
    {
      "cell_type": "markdown",
      "metadata": {
        "id": "iVXhqfHccyuY"
      },
      "source": [
        "# Task_1\n",
        "\n",
        "Нам даны три выборки. Две из них взяты из одной ГС а одна из другой.\n",
        "* Изучите графики доверительных интервалов для среднего согласно t-распределению и на основании их сделайте предположение, какая выборка тут \"лишняя\".\n",
        "\n",
        "* Выполните двухвыборочный t-test используя ручной рассчет.\n",
        "\n",
        "$$se = \\sqrt{\\frac{sd_1^2}{n_1} + \\frac{sd_2^2}{n_2}}$$\n",
        "$$t = \\frac{\\overline{x_1} - \\overline{x_2}}{se}$$\n",
        "$$df = n_1 + n_2 -2$$\n",
        "\n",
        "* Выполните t-test используя готовый метод `ttest_ind()`"
      ]
    },
    {
      "cell_type": "code",
      "execution_count": null,
      "metadata": {
        "id": "1PRqNIvgOl4w"
      },
      "outputs": [],
      "source": [
        "sample_1 = np.array([19.32676221, 29.19425263, 26.38138814, 23.30351141, 15.86729213,\n",
        "       26.56226576, 22.81763438, 21.84699593, 24.50040797, 14.58707147,\n",
        "       15.83566726, 19.42263153,  7.25222997, 23.06690226, 18.5503099 ,\n",
        "       18.77449153, 23.23823752, 20.01519695, 19.06254618, 18.29220525,\n",
        "       23.64318159, 19.70347702, 20.03019837, 27.64422373, 17.74567421,\n",
        "       28.59407019, 25.43322908, 13.73170486, 16.38700447, 17.97451892,\n",
        "       26.91960857, 12.23604337, 19.31477735, 22.13408118, 23.18771673,\n",
        "       16.99851246, 26.75822073, 23.41398823, 16.41607913, 20.57899818,\n",
        "       31.44778042, 19.45369714, 22.51142021, 12.65522557, 21.45369355,\n",
        "       21.25283488,  8.12452244, 19.18425206, 18.34660642, 21.42529687])\n",
        "\n",
        "sample_2 = np.array([28.16087199, 19.57157364, 19.69313723, 26.1223764 ,  9.17506298,\n",
        "       23.09347692, 16.56632958, 19.04314943, 15.71324736, 25.40170373,\n",
        "        1.77015849,  6.2347795 , 22.58815879, 14.62512495, 22.78149315,\n",
        "       18.90764505, 24.94628249, 14.45038939, 33.27078999, 27.47014221,\n",
        "       20.45378078, 20.98295988, 22.00621928, 13.81176238, 21.76232766,\n",
        "       16.03957935, 25.00872183, 17.17154106, 29.35597764, 14.0781291 ,\n",
        "       24.54732569, 14.63152582, 18.1126436 , 16.29480125, 27.32549987,\n",
        "       18.71224832, 27.56135303, 13.62446997, 25.36059819, 15.352573  ,\n",
        "       16.28245193, 26.35831355, 22.39554352, 22.39286931, 27.28039476,\n",
        "       22.90562574, 24.91221731, 20.17785347, 20.46876683, 23.31015328])\n",
        "\n",
        "sample_3 = np.array([29.72482333, 25.13024257, 26.83283622, 21.30779387, 21.35056719,\n",
        "       27.27630039, 22.18939331, 15.40218464, 27.83084198, 22.43124828,\n",
        "       24.81339447, 25.24017089, 23.72453759, 24.9097882 , 27.90344715,\n",
        "       30.34866467, 29.15375367, 27.88165091, 26.07759598, 37.92786476,\n",
        "       34.01311434, 23.07935809, 20.27185194, 29.40127197, 22.22136825,\n",
        "       23.38207988, 28.59205407, 25.45416981, 31.27406025, 26.14801427,\n",
        "       28.44215563, 27.09963257, 23.69491734, 25.76824525, 28.40769086,\n",
        "       23.20955749, 25.678573  , 27.85338663, 18.76747052, 21.83558655,\n",
        "       26.3647069 , 39.04867948, 17.31217972, 15.87556111, 32.99525821,\n",
        "       21.92166055, 24.22249314, 13.94931494, 25.65191879, 24.62079928])"
      ]
    },
    {
      "cell_type": "code",
      "execution_count": null,
      "metadata": {
        "colab": {
          "base_uri": "https://localhost:8080/",
          "height": 143
        },
        "id": "whgJc27UOlyx",
        "outputId": "c1f71864-e8a5-41c3-b6ef-fc12d8813304"
      },
      "outputs": [
        {
          "data": {
            "text/html": [
              "\n",
              "  <div id=\"df-5d86e1dd-65a7-40c4-aade-5fe565e344a6\" class=\"colab-df-container\">\n",
              "    <div>\n",
              "<style scoped>\n",
              "    .dataframe tbody tr th:only-of-type {\n",
              "        vertical-align: middle;\n",
              "    }\n",
              "\n",
              "    .dataframe tbody tr th {\n",
              "        vertical-align: top;\n",
              "    }\n",
              "\n",
              "    .dataframe thead th {\n",
              "        text-align: right;\n",
              "    }\n",
              "</style>\n",
              "<table border=\"1\" class=\"dataframe\">\n",
              "  <thead>\n",
              "    <tr style=\"text-align: right;\">\n",
              "      <th></th>\n",
              "      <th>Mx</th>\n",
              "      <th>SD</th>\n",
              "      <th>N</th>\n",
              "      <th>SE</th>\n",
              "      <th>interval</th>\n",
              "    </tr>\n",
              "  </thead>\n",
              "  <tbody>\n",
              "    <tr>\n",
              "      <th>Выборка1</th>\n",
              "      <td>20.451973</td>\n",
              "      <td>5.022881</td>\n",
              "      <td>50.0</td>\n",
              "      <td>0.710343</td>\n",
              "      <td>1.427487</td>\n",
              "    </tr>\n",
              "    <tr>\n",
              "      <th>Выборка2</th>\n",
              "      <td>20.365282</td>\n",
              "      <td>6.042270</td>\n",
              "      <td>50.0</td>\n",
              "      <td>0.854506</td>\n",
              "      <td>1.717194</td>\n",
              "    </tr>\n",
              "    <tr>\n",
              "      <th>Выборка3</th>\n",
              "      <td>25.480285</td>\n",
              "      <td>4.976330</td>\n",
              "      <td>50.0</td>\n",
              "      <td>0.703759</td>\n",
              "      <td>1.414257</td>\n",
              "    </tr>\n",
              "  </tbody>\n",
              "</table>\n",
              "</div>\n",
              "    <div class=\"colab-df-buttons\">\n",
              "\n",
              "  <div class=\"colab-df-container\">\n",
              "    <button class=\"colab-df-convert\" onclick=\"convertToInteractive('df-5d86e1dd-65a7-40c4-aade-5fe565e344a6')\"\n",
              "            title=\"Convert this dataframe to an interactive table.\"\n",
              "            style=\"display:none;\">\n",
              "\n",
              "  <svg xmlns=\"http://www.w3.org/2000/svg\" height=\"24px\" viewBox=\"0 -960 960 960\">\n",
              "    <path d=\"M120-120v-720h720v720H120Zm60-500h600v-160H180v160Zm220 220h160v-160H400v160Zm0 220h160v-160H400v160ZM180-400h160v-160H180v160Zm440 0h160v-160H620v160ZM180-180h160v-160H180v160Zm440 0h160v-160H620v160Z\"/>\n",
              "  </svg>\n",
              "    </button>\n",
              "\n",
              "  <style>\n",
              "    .colab-df-container {\n",
              "      display:flex;\n",
              "      gap: 12px;\n",
              "    }\n",
              "\n",
              "    .colab-df-convert {\n",
              "      background-color: #E8F0FE;\n",
              "      border: none;\n",
              "      border-radius: 50%;\n",
              "      cursor: pointer;\n",
              "      display: none;\n",
              "      fill: #1967D2;\n",
              "      height: 32px;\n",
              "      padding: 0 0 0 0;\n",
              "      width: 32px;\n",
              "    }\n",
              "\n",
              "    .colab-df-convert:hover {\n",
              "      background-color: #E2EBFA;\n",
              "      box-shadow: 0px 1px 2px rgba(60, 64, 67, 0.3), 0px 1px 3px 1px rgba(60, 64, 67, 0.15);\n",
              "      fill: #174EA6;\n",
              "    }\n",
              "\n",
              "    .colab-df-buttons div {\n",
              "      margin-bottom: 4px;\n",
              "    }\n",
              "\n",
              "    [theme=dark] .colab-df-convert {\n",
              "      background-color: #3B4455;\n",
              "      fill: #D2E3FC;\n",
              "    }\n",
              "\n",
              "    [theme=dark] .colab-df-convert:hover {\n",
              "      background-color: #434B5C;\n",
              "      box-shadow: 0px 1px 3px 1px rgba(0, 0, 0, 0.15);\n",
              "      filter: drop-shadow(0px 1px 2px rgba(0, 0, 0, 0.3));\n",
              "      fill: #FFFFFF;\n",
              "    }\n",
              "  </style>\n",
              "\n",
              "    <script>\n",
              "      const buttonEl =\n",
              "        document.querySelector('#df-5d86e1dd-65a7-40c4-aade-5fe565e344a6 button.colab-df-convert');\n",
              "      buttonEl.style.display =\n",
              "        google.colab.kernel.accessAllowed ? 'block' : 'none';\n",
              "\n",
              "      async function convertToInteractive(key) {\n",
              "        const element = document.querySelector('#df-5d86e1dd-65a7-40c4-aade-5fe565e344a6');\n",
              "        const dataTable =\n",
              "          await google.colab.kernel.invokeFunction('convertToInteractive',\n",
              "                                                    [key], {});\n",
              "        if (!dataTable) return;\n",
              "\n",
              "        const docLinkHtml = 'Like what you see? Visit the ' +\n",
              "          '<a target=\"_blank\" href=https://colab.research.google.com/notebooks/data_table.ipynb>data table notebook</a>'\n",
              "          + ' to learn more about interactive tables.';\n",
              "        element.innerHTML = '';\n",
              "        dataTable['output_type'] = 'display_data';\n",
              "        await google.colab.output.renderOutput(dataTable, element);\n",
              "        const docLink = document.createElement('div');\n",
              "        docLink.innerHTML = docLinkHtml;\n",
              "        element.appendChild(docLink);\n",
              "      }\n",
              "    </script>\n",
              "  </div>\n",
              "\n",
              "\n",
              "<div id=\"df-d9ebb93e-ed52-4bd2-9479-c919f0612ada\">\n",
              "  <button class=\"colab-df-quickchart\" onclick=\"quickchart('df-d9ebb93e-ed52-4bd2-9479-c919f0612ada')\"\n",
              "            title=\"Suggest charts\"\n",
              "            style=\"display:none;\">\n",
              "\n",
              "<svg xmlns=\"http://www.w3.org/2000/svg\" height=\"24px\"viewBox=\"0 0 24 24\"\n",
              "     width=\"24px\">\n",
              "    <g>\n",
              "        <path d=\"M19 3H5c-1.1 0-2 .9-2 2v14c0 1.1.9 2 2 2h14c1.1 0 2-.9 2-2V5c0-1.1-.9-2-2-2zM9 17H7v-7h2v7zm4 0h-2V7h2v10zm4 0h-2v-4h2v4z\"/>\n",
              "    </g>\n",
              "</svg>\n",
              "  </button>\n",
              "\n",
              "<style>\n",
              "  .colab-df-quickchart {\n",
              "      --bg-color: #E8F0FE;\n",
              "      --fill-color: #1967D2;\n",
              "      --hover-bg-color: #E2EBFA;\n",
              "      --hover-fill-color: #174EA6;\n",
              "      --disabled-fill-color: #AAA;\n",
              "      --disabled-bg-color: #DDD;\n",
              "  }\n",
              "\n",
              "  [theme=dark] .colab-df-quickchart {\n",
              "      --bg-color: #3B4455;\n",
              "      --fill-color: #D2E3FC;\n",
              "      --hover-bg-color: #434B5C;\n",
              "      --hover-fill-color: #FFFFFF;\n",
              "      --disabled-bg-color: #3B4455;\n",
              "      --disabled-fill-color: #666;\n",
              "  }\n",
              "\n",
              "  .colab-df-quickchart {\n",
              "    background-color: var(--bg-color);\n",
              "    border: none;\n",
              "    border-radius: 50%;\n",
              "    cursor: pointer;\n",
              "    display: none;\n",
              "    fill: var(--fill-color);\n",
              "    height: 32px;\n",
              "    padding: 0;\n",
              "    width: 32px;\n",
              "  }\n",
              "\n",
              "  .colab-df-quickchart:hover {\n",
              "    background-color: var(--hover-bg-color);\n",
              "    box-shadow: 0 1px 2px rgba(60, 64, 67, 0.3), 0 1px 3px 1px rgba(60, 64, 67, 0.15);\n",
              "    fill: var(--button-hover-fill-color);\n",
              "  }\n",
              "\n",
              "  .colab-df-quickchart-complete:disabled,\n",
              "  .colab-df-quickchart-complete:disabled:hover {\n",
              "    background-color: var(--disabled-bg-color);\n",
              "    fill: var(--disabled-fill-color);\n",
              "    box-shadow: none;\n",
              "  }\n",
              "\n",
              "  .colab-df-spinner {\n",
              "    border: 2px solid var(--fill-color);\n",
              "    border-color: transparent;\n",
              "    border-bottom-color: var(--fill-color);\n",
              "    animation:\n",
              "      spin 1s steps(1) infinite;\n",
              "  }\n",
              "\n",
              "  @keyframes spin {\n",
              "    0% {\n",
              "      border-color: transparent;\n",
              "      border-bottom-color: var(--fill-color);\n",
              "      border-left-color: var(--fill-color);\n",
              "    }\n",
              "    20% {\n",
              "      border-color: transparent;\n",
              "      border-left-color: var(--fill-color);\n",
              "      border-top-color: var(--fill-color);\n",
              "    }\n",
              "    30% {\n",
              "      border-color: transparent;\n",
              "      border-left-color: var(--fill-color);\n",
              "      border-top-color: var(--fill-color);\n",
              "      border-right-color: var(--fill-color);\n",
              "    }\n",
              "    40% {\n",
              "      border-color: transparent;\n",
              "      border-right-color: var(--fill-color);\n",
              "      border-top-color: var(--fill-color);\n",
              "    }\n",
              "    60% {\n",
              "      border-color: transparent;\n",
              "      border-right-color: var(--fill-color);\n",
              "    }\n",
              "    80% {\n",
              "      border-color: transparent;\n",
              "      border-right-color: var(--fill-color);\n",
              "      border-bottom-color: var(--fill-color);\n",
              "    }\n",
              "    90% {\n",
              "      border-color: transparent;\n",
              "      border-bottom-color: var(--fill-color);\n",
              "    }\n",
              "  }\n",
              "</style>\n",
              "\n",
              "  <script>\n",
              "    async function quickchart(key) {\n",
              "      const quickchartButtonEl =\n",
              "        document.querySelector('#' + key + ' button');\n",
              "      quickchartButtonEl.disabled = true;  // To prevent multiple clicks.\n",
              "      quickchartButtonEl.classList.add('colab-df-spinner');\n",
              "      try {\n",
              "        const charts = await google.colab.kernel.invokeFunction(\n",
              "            'suggestCharts', [key], {});\n",
              "      } catch (error) {\n",
              "        console.error('Error during call to suggestCharts:', error);\n",
              "      }\n",
              "      quickchartButtonEl.classList.remove('colab-df-spinner');\n",
              "      quickchartButtonEl.classList.add('colab-df-quickchart-complete');\n",
              "    }\n",
              "    (() => {\n",
              "      let quickchartButtonEl =\n",
              "        document.querySelector('#df-d9ebb93e-ed52-4bd2-9479-c919f0612ada button');\n",
              "      quickchartButtonEl.style.display =\n",
              "        google.colab.kernel.accessAllowed ? 'block' : 'none';\n",
              "    })();\n",
              "  </script>\n",
              "</div>\n",
              "    </div>\n",
              "  </div>\n"
            ],
            "text/plain": [
              "                 Mx        SD     N        SE  interval\n",
              "Выборка1  20.451973  5.022881  50.0  0.710343  1.427487\n",
              "Выборка2  20.365282  6.042270  50.0  0.854506  1.717194\n",
              "Выборка3  25.480285  4.976330  50.0  0.703759  1.414257"
            ]
          },
          "execution_count": 62,
          "metadata": {},
          "output_type": "execute_result"
        }
      ],
      "source": [
        "from scipy.stats import t\n",
        "df = pd.DataFrame({'Выборка1':sample_1, 'Выборка2':sample_2, 'Выборка3':sample_3}).agg(['mean','std','count','sem']).transpose()\n",
        "df.columns = ['Mx','SD','N','SE']\n",
        "p = 0.95\n",
        "K = t.ppf((1 + p)/2,  df['N']-1)\n",
        "df['interval'] = K * df['SE']\n",
        "df"
      ]
    },
    {
      "cell_type": "code",
      "execution_count": null,
      "metadata": {
        "colab": {
          "base_uri": "https://localhost:8080/",
          "height": 502
        },
        "id": "55tLEbBMOlw5",
        "outputId": "b7cbef97-60e7-4b9d-93dc-fffcc7d1f98f"
      },
      "outputs": [
        {
          "name": "stderr",
          "output_type": "stream",
          "text": [
            "<ipython-input-63-7cf150ff070b>:1: UserWarning: marker is redundantly defined by the 'marker' keyword argument and the fmt string \"o\" (-> marker='o'). The keyword argument will take precedence.\n",
            "  plt.errorbar(x=df.index, y=df['Mx'], yerr=df['interval'],\\\n"
          ]
        },
        {
          "data": {
            "text/plain": [
              "<ErrorbarContainer object of 3 artists>"
            ]
          },
          "execution_count": 63,
          "metadata": {},
          "output_type": "execute_result"
        },
        {
          "data": {
            "image/png": "[encoded data removed]",
            "text/plain": [
              "<Figure size 640x480 with 1 Axes>"
            ]
          },
          "metadata": {},
          "output_type": "display_data"
        }
      ],
      "source": [
        "plt.errorbar(x=df.index, y=df['Mx'], yerr=df['interval'],\\\n",
        "                      color=\"black\", capsize=3, marker=\"s\", markersize=4, mfc=\"red\", mec=\"black\", fmt ='o')"
      ]
    },
    {
      "cell_type": "code",
      "execution_count": null,
      "metadata": {
        "id": "Bm0MsHOGOlu5"
      },
      "outputs": [],
      "source": []
    },
    {
      "cell_type": "code",
      "execution_count": null,
      "metadata": {
        "id": "py4ZsmeRcnxf"
      },
      "outputs": [],
      "source": []
    },
    {
      "cell_type": "markdown",
      "metadata": {
        "id": "VDwEpe22epIp"
      },
      "source": [
        "# Task_2\n",
        "\n",
        "Мы взяли две группы клиентов и одной из групп сделали рекламную акцию. Каждое наблюдение - это количество посещений клиентом сайта за фиксированный период времени.\n",
        "* Сделайте t-test для выявления различий между группами.\n",
        "* Сделайте тест U-критерия Манна-Уитни. Почему мы видим такую разницу? Проверьте выбросы. Они сильно искажают результаты теста.\n",
        "* Почистите данные от выбросов и попробуйте снова провести тесты. Выбросы можно удалить при помощи 1.5 межквартильных интервалов."
      ]
    },
    {
      "cell_type": "code",
      "execution_count": null,
      "metadata": {
        "id": "L5ssJPJ8cntr"
      },
      "outputs": [],
      "source": [
        "clients_A = np.array([14., 22., 23., 14., 24., 19., 13., 32., 24., 10., 16., 19., 17.,\n",
        "       28., 29., 19., 21., 15., 21., 23., 20., 14., 20., 19., 12., 25.,\n",
        "       20., 30., 18., 20., 22., 22., 20., 20., 16., 23., 16., 14., 26.,\n",
        "       13., 18., 23., 19., 24., 27., 22., 20., 31., 25., 24., 21., 23.,\n",
        "       18., 22., 24., 26., 13., 22., 23., 23., 13., 27., 14., 28., 25.,\n",
        "       16., 16., 19., 22., 22., 20., 23., 30., 15., 28., 36., 25., 22.,\n",
        "       14., 21., 14., 24.,  5., 21.,  7., 16., 22., 21., 21., 19., 17.,\n",
        "       23., 12., 18., 24., 18., 19., 20., 22., 21.])\n",
        "clients_B = np.array([20., 20., 19., 20., 18., 24., 23., 17., 19., 17., 19., 18., 21.,\n",
        "       22., 23., 21., 17., 21., 0., 23., 22., 19., 26., 20., 16., 21.,\n",
        "       21., 18., 20., 21., 21., 24., 16., 14., 17., 17., 20., 18., 20.,\n",
        "       16., 16., 15., 27., 24., 25., 22., 18., 16., 19., 17., 19., 24.,\n",
        "       22., 23., 21., 19., 24., 170., 24., 16., 23., 19., 17., 25., 20.,\n",
        "       25., 25., 19., 18., 23., 18., 23., 24., 27., 200., 19., 18., 21.,\n",
        "       17., 21., 18., 21., 19., 20., 16., 19., 200., 13., 216., 26., 23.,\n",
        "       19., 20., 21., 20., 19., 17., 23., 230., 16.])"
      ]
    },
    {
      "cell_type": "code",
      "execution_count": null,
      "metadata": {
        "id": "OQ8Mn9hAf7v3"
      },
      "outputs": [],
      "source": []
    },
    {
      "cell_type": "code",
      "execution_count": null,
      "metadata": {
        "id": "9eCmwMS9Wuyz"
      },
      "outputs": [],
      "source": []
    },
    {
      "cell_type": "markdown",
      "metadata": {
        "id": "tf8hGmI_lf1i"
      },
      "source": [
        "# Task_3\n",
        "\n",
        "У нас есть интернет магазин и мы внимательно следим за своими покупателями. У нас отобрана группа из 100 клиентов и по этой группе собрана статистика с усредненным чеком за месяц в USD, которая представлена в первом наборе данных. Мы решили провести эксперимент и для этих же людей провели рекламную акцию. Затем наблюдали за ними весь следующий месяц и снова собрали статистику. Проведите тесты:\n",
        "\n",
        "* Двухвыборочный t-тест `ttest_ind` двух независимых выборок\n",
        "* Парный t-тест `ttest_rel` двух зависимых выборок\n",
        "\n",
        "Какой из них в этом случае корректно использовать? Сработала ли рекламная акция?"
      ]
    },
    {
      "cell_type": "code",
      "execution_count": null,
      "metadata": {
        "id": "fqyBQ41PWuwg"
      },
      "outputs": [],
      "source": [
        "clients = np.array([555., 465., 593., 493., 500., 357., 431., 506., 333., 510., 442.,\n",
        "                    446., 467., 575., 545., 468., 653., 491., 416., 338., 332., 483.,\n",
        "                    174., 438., 588., 434., 610., 459., 409., 743., 353., 354., 539.,\n",
        "                    334., 459., 618., 362., 505., 598., 594., 331., 563., 613., 480.,\n",
        "                    594., 644., 592., 470., 345., 650., 521., 339., 410., 491., 514.,\n",
        "                    514., 664., 693., 497., 554., 409., 569., 558., 341., 479., 528.,\n",
        "                    350., 424., 473., 439., 454., 525., 412., 630., 381., 620., 540.,\n",
        "                    587., 539., 600., 623., 419., 614., 383., 529., 507., 448., 520.,\n",
        "                    437., 428., 613., 408., 432., 393., 396., 557., 439., 415., 466.,\n",
        "                    577.])\n",
        "\n",
        "clients_modified = np.array([588., 487., 612., 500., 513., 403., 442., 517., 358., 537., 449.,\n",
        "                            466., 474., 585., 572., 487., 675., 523., 442., 361., 348., 509.,\n",
        "                            178., 456., 588., 451., 649., 461., 443., 753., 387., 388., 588.,\n",
        "                            362., 469., 649., 413., 534., 618., 623., 344., 608., 622., 485.,\n",
        "                            622., 647., 621., 474., 377., 658., 526., 363., 427., 507., 521.,\n",
        "                            563., 672., 714., 557., 559., 426., 587., 563., 343., 498., 559.,\n",
        "                            378., 432., 491., 452., 501., 540., 430., 652., 390., 627., 551.,\n",
        "                            618., 548., 634., 624., 439., 616., 401., 538., 513., 505., 528.,\n",
        "                            449., 454., 664., 441., 454., 422., 407., 558., 470., 421., 506.,\n",
        "                            581.])"
      ]
    },
    {
      "cell_type": "code",
      "execution_count": null,
      "metadata": {
        "id": "kRm4txgXqkLX"
      },
      "outputs": [],
      "source": []
    },
    {
      "cell_type": "code",
      "execution_count": null,
      "metadata": {
        "id": "7G-vvIqVqkIB"
      },
      "outputs": [],
      "source": []
    },
    {
      "cell_type": "code",
      "execution_count": null,
      "metadata": {
        "id": "Aum-nmeXqw_j"
      },
      "outputs": [],
      "source": []
    },
    {
      "cell_type": "markdown",
      "metadata": {
        "id": "VnrZqVnrqxvA"
      },
      "source": [
        "# Task_4\n",
        "\n",
        "Перед нами массив наблюдений `arr`.\n",
        "\n",
        "Для многих статистических тестов нам необходимо чтобы данные имели распределение близкое к нормальному. ДЛя проверки распределения на нормальность существуют методики:\n",
        "\n",
        "* QQ-plot (квантиль-квантиль плот). Этот метод позволяет сравнить элементы множества по своим рангам (квантилям) с эталонным нормальным распределением. Все точки наблюдений должны располагаться близко к прямой. Ниже написан код построения данного графика\n",
        "* Тест Шапиро-Уилко. Возвращает p-value. Нулевая гипотеза утверждает, что распределение нормально. Тест сильно уязвим перед выбросами.\n",
        "* Тест Колмогорова-Смирнова. Возвращает p-value. Нулевая гипотеза утверждает, что распределение нормально. Тест также крайне сильно уязвим перед выбросами. (Имхо: Очень противный тест который вечно выкобенивается и все время бухтит на данные)\n",
        "\n",
        "Посмотрите на результаты тестов и примите меры по устранению причин, которые вызвали у вас опасения касательно адекватности тестов.\n"
      ]
    },
    {
      "cell_type": "code",
      "execution_count": null,
      "metadata": {
        "id": "-_Kx073mkD2a"
      },
      "outputs": [],
      "source": [
        "arr = np.concatenate([np.random.normal(100, 10, 200), np.array([400, 500])])"
      ]
    },
    {
      "cell_type": "code",
      "execution_count": null,
      "metadata": {
        "colab": {
          "base_uri": "https://localhost:8080/"
        },
        "id": "gPnERXdKf7s3",
        "outputId": "b490876d-5bc7-4da4-cf36-5513e6e6e007"
      },
      "outputs": [
        {
          "name": "stdout",
          "output_type": "stream",
          "text": [
            "ShapiroResult(statistic=0.2770490050315857, pvalue=1.814539741600717e-27)\n",
            "Шапиро-Уилко: Выборка распредена ненормально.\n",
            "\n",
            "KstestResult(statistic=1.0, pvalue=0.0, statistic_location=63.81691014467167, statistic_sign=-1)\n",
            "Колмогоров-Смирнов: Выборка распредена ненормально.\n"
          ]
        }
      ],
      "source": [
        "shapiro_test = stats.shapiro(arr)\n",
        "print(shapiro_test)\n",
        "print('Шапиро-Уилко: Выборка распредена нормально.') if shapiro_test[1] > 0.05 else print('Шапиро-Уилко: Выборка распредена ненормально.')\n",
        "print()\n",
        "\n",
        "ks_test = stats.kstest(arr, 'norm')\n",
        "print(ks_test)\n",
        "print('Колмогоров-Смирнов: Выборка распредена нормально.') if ks_test[1] > 0.05 else print('Колмогоров-Смирнов: Выборка распредена ненормально.')"
      ]
    },
    {
      "cell_type": "code",
      "execution_count": null,
      "metadata": {
        "colab": {
          "base_uri": "https://localhost:8080/",
          "height": 472
        },
        "id": "b6JIepe3cnkd",
        "outputId": "c1db4b3e-3fe4-4dfb-d8db-341fd17ef4a9"
      },
      "outputs": [
        {
          "data": {
            "image/png": "[encoded data removed]",
            "text/plain": [
              "<Figure size 1920x480 with 1 Axes>"
            ]
          },
          "metadata": {},
          "output_type": "display_data"
        }
      ],
      "source": [
        "plt.figure(figsize = [6.4*3, 4.8])  # Создаем фигуру qq_plot\n",
        "plt.subplot(1, 3, 1)\n",
        "norm = stats.probplot(arr, dist=\"norm\", plot=plt)  # Создаем график QQ-plot при помощи функции по поиску квантелей значений нашего распределения\n",
        "plt.title('QQ-plot / Квантиль-квантиль \"arr\"')  # Заголовок\n",
        "plt.xlabel('Квантили Z-распределения')  # Подпись по оси X\n",
        "plt.ylabel('Квантили фактического распределения')  # Подпись по оси Y\n",
        "plt.grid(True)"
      ]
    },
    {
      "cell_type": "markdown",
      "metadata": {
        "id": "NZbIJwXbsxqf"
      },
      "source": [
        "Если у вас еще остались сомнения, проведите непараметрический тест Мана-Уитни `mannwhitneyu` сравнив массив с исправленными недочетами с эталонной нормальной выборкой `normal_arr`."
      ]
    },
    {
      "cell_type": "code",
      "execution_count": null,
      "metadata": {
        "id": "BSdgudHoBWO0"
      },
      "outputs": [],
      "source": [
        "normal_arr = np.random.normal(100, 10, 100000)"
      ]
    },
    {
      "cell_type": "code",
      "execution_count": null,
      "metadata": {
        "id": "dBerMnRbttrO"
      },
      "outputs": [],
      "source": []
    },
    {
      "cell_type": "code",
      "execution_count": null,
      "metadata": {
        "id": "ZFEW4iKsu5XK"
      },
      "outputs": [],
      "source": []
    },
    {
      "cell_type": "markdown",
      "metadata": {
        "id": "H183yBExu-V9"
      },
      "source": [
        "# Task_5"
      ]
    },
    {
      "cell_type": "markdown",
      "metadata": {
        "id": "NoNJUB_Z2Aew"
      },
      "source": [
        "Перед нами данные по земельным участкам. Все участки представлены в виде двух групп.\n",
        "\n",
        "Первая группа - это участки в Столице, и по ним мы знаем\n",
        "\n",
        "* price_1 - Стоимости в долларах\n",
        "* sq_1 - Площади этих участков\n",
        "\n",
        "Вторая группа - это участки либо в Столице либо в другом городе регионального значения. По ним мы также знаем\n",
        "\n",
        "* price_2 - Стоимости в долларах\n",
        "* sq_2 - Площади этих участков\n",
        "\n",
        "Задача:\n",
        "\n",
        "Выясните, вторая группа - это участки в столице или в регионе?\n",
        "\n",
        "Для выбора типа теста проверьте данные на нормальность распределения. Не забывайте про нормирование данных."
      ]
    },
    {
      "cell_type": "code",
      "execution_count": null,
      "metadata": {
        "id": "m4LkkAq41l8h"
      },
      "outputs": [],
      "source": [
        "!wget 'https://www.dropbox.com/scl/fi/uipxh7emvsdqsupm91hc5/lend_market.csv?rlkey=zkss0vmf0xkhcre4wofawh9ad&dl=0'"
      ]
    },
    {
      "cell_type": "code",
      "execution_count": null,
      "metadata": {
        "id": "EjdmPcJhwi7q"
      },
      "outputs": [],
      "source": [
        "df = pd.read_csv('lend_market.csv?rlkey=zkss0vmf0xkhcre4wofawh9ad&dl=0')"
      ]
    },
    {
      "cell_type": "code",
      "execution_count": null,
      "metadata": {
        "colab": {
          "base_uri": "https://localhost:8080/",
          "height": 423
        },
        "id": "t8CqLgkAw3Jz",
        "outputId": "f7e1ab48-ab61-409a-dfee-ab80844ae2eb"
      },
      "outputs": [
        {
          "data": {
            "text/html": [
              "\n",
              "  <div id=\"df-6253fecc-3b1c-4e4a-952a-3f89bd654af0\" class=\"colab-df-container\">\n",
              "    <div>\n",
              "<style scoped>\n",
              "    .dataframe tbody tr th:only-of-type {\n",
              "        vertical-align: middle;\n",
              "    }\n",
              "\n",
              "    .dataframe tbody tr th {\n",
              "        vertical-align: top;\n",
              "    }\n",
              "\n",
              "    .dataframe thead th {\n",
              "        text-align: right;\n",
              "    }\n",
              "</style>\n",
              "<table border=\"1\" class=\"dataframe\">\n",
              "  <thead>\n",
              "    <tr style=\"text-align: right;\">\n",
              "      <th></th>\n",
              "      <th>sq_1</th>\n",
              "      <th>sq_2</th>\n",
              "      <th>price_1</th>\n",
              "      <th>price_2</th>\n",
              "    </tr>\n",
              "  </thead>\n",
              "  <tbody>\n",
              "    <tr>\n",
              "      <th>0</th>\n",
              "      <td>10.0</td>\n",
              "      <td>98.0</td>\n",
              "      <td>143649.370684</td>\n",
              "      <td>9.964814e+05</td>\n",
              "    </tr>\n",
              "    <tr>\n",
              "      <th>1</th>\n",
              "      <td>11.0</td>\n",
              "      <td>48.0</td>\n",
              "      <td>119876.602349</td>\n",
              "      <td>3.796865e+05</td>\n",
              "    </tr>\n",
              "    <tr>\n",
              "      <th>2</th>\n",
              "      <td>10.0</td>\n",
              "      <td>84.0</td>\n",
              "      <td>57634.748942</td>\n",
              "      <td>5.965443e+05</td>\n",
              "    </tr>\n",
              "    <tr>\n",
              "      <th>3</th>\n",
              "      <td>6.0</td>\n",
              "      <td>89.0</td>\n",
              "      <td>87603.111613</td>\n",
              "      <td>1.078165e+06</td>\n",
              "    </tr>\n",
              "    <tr>\n",
              "      <th>4</th>\n",
              "      <td>6.0</td>\n",
              "      <td>26.0</td>\n",
              "      <td>59828.615336</td>\n",
              "      <td>2.921165e+05</td>\n",
              "    </tr>\n",
              "    <tr>\n",
              "      <th>...</th>\n",
              "      <td>...</td>\n",
              "      <td>...</td>\n",
              "      <td>...</td>\n",
              "      <td>...</td>\n",
              "    </tr>\n",
              "    <tr>\n",
              "      <th>495</th>\n",
              "      <td>9.0</td>\n",
              "      <td>21.0</td>\n",
              "      <td>116183.002636</td>\n",
              "      <td>1.301508e+05</td>\n",
              "    </tr>\n",
              "    <tr>\n",
              "      <th>496</th>\n",
              "      <td>10.0</td>\n",
              "      <td>90.0</td>\n",
              "      <td>112742.679232</td>\n",
              "      <td>8.568423e+05</td>\n",
              "    </tr>\n",
              "    <tr>\n",
              "      <th>497</th>\n",
              "      <td>10.0</td>\n",
              "      <td>23.0</td>\n",
              "      <td>87065.569674</td>\n",
              "      <td>1.456783e+05</td>\n",
              "    </tr>\n",
              "    <tr>\n",
              "      <th>498</th>\n",
              "      <td>11.0</td>\n",
              "      <td>51.0</td>\n",
              "      <td>145891.374494</td>\n",
              "      <td>3.298557e+05</td>\n",
              "    </tr>\n",
              "    <tr>\n",
              "      <th>499</th>\n",
              "      <td>11.0</td>\n",
              "      <td>12.0</td>\n",
              "      <td>141085.906081</td>\n",
              "      <td>1.246964e+05</td>\n",
              "    </tr>\n",
              "  </tbody>\n",
              "</table>\n",
              "<p>500 rows × 4 columns</p>\n",
              "</div>\n",
              "    <div class=\"colab-df-buttons\">\n",
              "\n",
              "  <div class=\"colab-df-container\">\n",
              "    <button class=\"colab-df-convert\" onclick=\"convertToInteractive('df-6253fecc-3b1c-4e4a-952a-3f89bd654af0')\"\n",
              "            title=\"Convert this dataframe to an interactive table.\"\n",
              "            style=\"display:none;\">\n",
              "\n",
              "  <svg xmlns=\"http://www.w3.org/2000/svg\" height=\"24px\" viewBox=\"0 -960 960 960\">\n",
              "    <path d=\"M120-120v-720h720v720H120Zm60-500h600v-160H180v160Zm220 220h160v-160H400v160Zm0 220h160v-160H400v160ZM180-400h160v-160H180v160Zm440 0h160v-160H620v160ZM180-180h160v-160H180v160Zm440 0h160v-160H620v160Z\"/>\n",
              "  </svg>\n",
              "    </button>\n",
              "\n",
              "  <style>\n",
              "    .colab-df-container {\n",
              "      display:flex;\n",
              "      gap: 12px;\n",
              "    }\n",
              "\n",
              "    .colab-df-convert {\n",
              "      background-color: #E8F0FE;\n",
              "      border: none;\n",
              "      border-radius: 50%;\n",
              "      cursor: pointer;\n",
              "      display: none;\n",
              "      fill: #1967D2;\n",
              "      height: 32px;\n",
              "      padding: 0 0 0 0;\n",
              "      width: 32px;\n",
              "    }\n",
              "\n",
              "    .colab-df-convert:hover {\n",
              "      background-color: #E2EBFA;\n",
              "      box-shadow: 0px 1px 2px rgba(60, 64, 67, 0.3), 0px 1px 3px 1px rgba(60, 64, 67, 0.15);\n",
              "      fill: #174EA6;\n",
              "    }\n",
              "\n",
              "    .colab-df-buttons div {\n",
              "      margin-bottom: 4px;\n",
              "    }\n",
              "\n",
              "    [theme=dark] .colab-df-convert {\n",
              "      background-color: #3B4455;\n",
              "      fill: #D2E3FC;\n",
              "    }\n",
              "\n",
              "    [theme=dark] .colab-df-convert:hover {\n",
              "      background-color: #434B5C;\n",
              "      box-shadow: 0px 1px 3px 1px rgba(0, 0, 0, 0.15);\n",
              "      filter: drop-shadow(0px 1px 2px rgba(0, 0, 0, 0.3));\n",
              "      fill: #FFFFFF;\n",
              "    }\n",
              "  </style>\n",
              "\n",
              "    <script>\n",
              "      const buttonEl =\n",
              "        document.querySelector('#df-6253fecc-3b1c-4e4a-952a-3f89bd654af0 button.colab-df-convert');\n",
              "      buttonEl.style.display =\n",
              "        google.colab.kernel.accessAllowed ? 'block' : 'none';\n",
              "\n",
              "      async function convertToInteractive(key) {\n",
              "        const element = document.querySelector('#df-6253fecc-3b1c-4e4a-952a-3f89bd654af0');\n",
              "        const dataTable =\n",
              "          await google.colab.kernel.invokeFunction('convertToInteractive',\n",
              "                                                    [key], {});\n",
              "        if (!dataTable) return;\n",
              "\n",
              "        const docLinkHtml = 'Like what you see? Visit the ' +\n",
              "          '<a target=\"_blank\" href=https://colab.research.google.com/notebooks/data_table.ipynb>data table notebook</a>'\n",
              "          + ' to learn more about interactive tables.';\n",
              "        element.innerHTML = '';\n",
              "        dataTable['output_type'] = 'display_data';\n",
              "        await google.colab.output.renderOutput(dataTable, element);\n",
              "        const docLink = document.createElement('div');\n",
              "        docLink.innerHTML = docLinkHtml;\n",
              "        element.appendChild(docLink);\n",
              "      }\n",
              "    </script>\n",
              "  </div>\n",
              "\n",
              "\n",
              "<div id=\"df-827a318f-4a7c-436b-ae79-1bcda6b60803\">\n",
              "  <button class=\"colab-df-quickchart\" onclick=\"quickchart('df-827a318f-4a7c-436b-ae79-1bcda6b60803')\"\n",
              "            title=\"Suggest charts\"\n",
              "            style=\"display:none;\">\n",
              "\n",
              "<svg xmlns=\"http://www.w3.org/2000/svg\" height=\"24px\"viewBox=\"0 0 24 24\"\n",
              "     width=\"24px\">\n",
              "    <g>\n",
              "        <path d=\"M19 3H5c-1.1 0-2 .9-2 2v14c0 1.1.9 2 2 2h14c1.1 0 2-.9 2-2V5c0-1.1-.9-2-2-2zM9 17H7v-7h2v7zm4 0h-2V7h2v10zm4 0h-2v-4h2v4z\"/>\n",
              "    </g>\n",
              "</svg>\n",
              "  </button>\n",
              "\n",
              "<style>\n",
              "  .colab-df-quickchart {\n",
              "      --bg-color: #E8F0FE;\n",
              "      --fill-color: #1967D2;\n",
              "      --hover-bg-color: #E2EBFA;\n",
              "      --hover-fill-color: #174EA6;\n",
              "      --disabled-fill-color: #AAA;\n",
              "      --disabled-bg-color: #DDD;\n",
              "  }\n",
              "\n",
              "  [theme=dark] .colab-df-quickchart {\n",
              "      --bg-color: #3B4455;\n",
              "      --fill-color: #D2E3FC;\n",
              "      --hover-bg-color: #434B5C;\n",
              "      --hover-fill-color: #FFFFFF;\n",
              "      --disabled-bg-color: #3B4455;\n",
              "      --disabled-fill-color: #666;\n",
              "  }\n",
              "\n",
              "  .colab-df-quickchart {\n",
              "    background-color: var(--bg-color);\n",
              "    border: none;\n",
              "    border-radius: 50%;\n",
              "    cursor: pointer;\n",
              "    display: none;\n",
              "    fill: var(--fill-color);\n",
              "    height: 32px;\n",
              "    padding: 0;\n",
              "    width: 32px;\n",
              "  }\n",
              "\n",
              "  .colab-df-quickchart:hover {\n",
              "    background-color: var(--hover-bg-color);\n",
              "    box-shadow: 0 1px 2px rgba(60, 64, 67, 0.3), 0 1px 3px 1px rgba(60, 64, 67, 0.15);\n",
              "    fill: var(--button-hover-fill-color);\n",
              "  }\n",
              "\n",
              "  .colab-df-quickchart-complete:disabled,\n",
              "  .colab-df-quickchart-complete:disabled:hover {\n",
              "    background-color: var(--disabled-bg-color);\n",
              "    fill: var(--disabled-fill-color);\n",
              "    box-shadow: none;\n",
              "  }\n",
              "\n",
              "  .colab-df-spinner {\n",
              "    border: 2px solid var(--fill-color);\n",
              "    border-color: transparent;\n",
              "    border-bottom-color: var(--fill-color);\n",
              "    animation:\n",
              "      spin 1s steps(1) infinite;\n",
              "  }\n",
              "\n",
              "  @keyframes spin {\n",
              "    0% {\n",
              "      border-color: transparent;\n",
              "      border-bottom-color: var(--fill-color);\n",
              "      border-left-color: var(--fill-color);\n",
              "    }\n",
              "    20% {\n",
              "      border-color: transparent;\n",
              "      border-left-color: var(--fill-color);\n",
              "      border-top-color: var(--fill-color);\n",
              "    }\n",
              "    30% {\n",
              "      border-color: transparent;\n",
              "      border-left-color: var(--fill-color);\n",
              "      border-top-color: var(--fill-color);\n",
              "      border-right-color: var(--fill-color);\n",
              "    }\n",
              "    40% {\n",
              "      border-color: transparent;\n",
              "      border-right-color: var(--fill-color);\n",
              "      border-top-color: var(--fill-color);\n",
              "    }\n",
              "    60% {\n",
              "      border-color: transparent;\n",
              "      border-right-color: var(--fill-color);\n",
              "    }\n",
              "    80% {\n",
              "      border-color: transparent;\n",
              "      border-right-color: var(--fill-color);\n",
              "      border-bottom-color: var(--fill-color);\n",
              "    }\n",
              "    90% {\n",
              "      border-color: transparent;\n",
              "      border-bottom-color: var(--fill-color);\n",
              "    }\n",
              "  }\n",
              "</style>\n",
              "\n",
              "  <script>\n",
              "    async function quickchart(key) {\n",
              "      const quickchartButtonEl =\n",
              "        document.querySelector('#' + key + ' button');\n",
              "      quickchartButtonEl.disabled = true;  // To prevent multiple clicks.\n",
              "      quickchartButtonEl.classList.add('colab-df-spinner');\n",
              "      try {\n",
              "        const charts = await google.colab.kernel.invokeFunction(\n",
              "            'suggestCharts', [key], {});\n",
              "      } catch (error) {\n",
              "        console.error('Error during call to suggestCharts:', error);\n",
              "      }\n",
              "      quickchartButtonEl.classList.remove('colab-df-spinner');\n",
              "      quickchartButtonEl.classList.add('colab-df-quickchart-complete');\n",
              "    }\n",
              "    (() => {\n",
              "      let quickchartButtonEl =\n",
              "        document.querySelector('#df-827a318f-4a7c-436b-ae79-1bcda6b60803 button');\n",
              "      quickchartButtonEl.style.display =\n",
              "        google.colab.kernel.accessAllowed ? 'block' : 'none';\n",
              "    })();\n",
              "  </script>\n",
              "</div>\n",
              "    </div>\n",
              "  </div>\n"
            ],
            "text/plain": [
              "     sq_1  sq_2        price_1       price_2\n",
              "0    10.0  98.0  143649.370684  9.964814e+05\n",
              "1    11.0  48.0  119876.602349  3.796865e+05\n",
              "2    10.0  84.0   57634.748942  5.965443e+05\n",
              "3     6.0  89.0   87603.111613  1.078165e+06\n",
              "4     6.0  26.0   59828.615336  2.921165e+05\n",
              "..    ...   ...            ...           ...\n",
              "495   9.0  21.0  116183.002636  1.301508e+05\n",
              "496  10.0  90.0  112742.679232  8.568423e+05\n",
              "497  10.0  23.0   87065.569674  1.456783e+05\n",
              "498  11.0  51.0  145891.374494  3.298557e+05\n",
              "499  11.0  12.0  141085.906081  1.246964e+05\n",
              "\n",
              "[500 rows x 4 columns]"
            ]
          },
          "execution_count": 194,
          "metadata": {},
          "output_type": "execute_result"
        }
      ],
      "source": [
        "df"
      ]
    },
    {
      "cell_type": "code",
      "execution_count": null,
      "metadata": {
        "id": "L0qUoyPqxNew"
      },
      "outputs": [],
      "source": [
        "price_1 = np.array(df.price_1)\n",
        "price_2 = np.array(df.price_2)\n",
        "sq_1 = np.array(df.sq_1)\n",
        "sq_2 = np.array(df.sq_2)"
      ]
    },
    {
      "cell_type": "code",
      "execution_count": null,
      "metadata": {
        "id": "8EXtN0C00DdI"
      },
      "outputs": [],
      "source": []
    },
    {
      "cell_type": "code",
      "execution_count": null,
      "metadata": {
        "id": "Z3ys-FIyIYVx"
      },
      "outputs": [],
      "source": []
    },
    {
      "cell_type": "markdown",
      "metadata": {
        "id": "sJxXyp2J3Ord"
      },
      "source": [
        "# Task_6\n",
        "\n",
        "Перед нами набор данных по успеваемости студентов.\n",
        "* score - усредненный балл успеваемости по 100-бальной шкале для каждого студента\n",
        "* age - возраст студента\n",
        "* stage - предложена ли студенту гарантированная стажировка. 1-да, 0-нет.\n",
        "\n",
        "* Давайте попробуем выяснить, влияет ли факт обещанной стажировки на успеваемость студентов. Сперва посмотрите на распределение интересующей величины.\n",
        "* Чтобы исследование было более полным, давайте разделим студентов на возрастные страты (группы):\n",
        "  1. 18 - 25 лет\n",
        "  2. 25 - 30 лет\n",
        "  3. 30 + лет\n",
        "  Для каждой страты посмотрим влияние на успеваемость факта обещанной стажировки. Какие выводы сделаем? Можете также посмотреть на сколько процентов по каждой группе отличается средний балл в зависимости от предложенной стажировки."
      ]
    },
    {
      "cell_type": "code",
      "execution_count": null,
      "metadata": {
        "id": "nKoHwVTBIYWb"
      },
      "outputs": [],
      "source": [
        "!wget 'https://www.dropbox.com/scl/fi/eozut9ngdvviajgg6h7dx/student_score.csv?rlkey=z1ypuhqloj9sr7fgjz9tbdufr&dl=0'"
      ]
    },
    {
      "cell_type": "code",
      "execution_count": null,
      "metadata": {
        "id": "C1huUamNVeNF",
        "colab": {
          "base_uri": "https://localhost:8080/",
          "height": 206
        },
        "outputId": "d42dc27f-d4f7-4eba-9faa-9811f186f51a"
      },
      "outputs": [
        {
          "output_type": "execute_result",
          "data": {
            "text/plain": [
              "   score   age  stage\n",
              "0   45.0  29.0    0.0\n",
              "1   38.2  23.0    1.0\n",
              "2   60.4  25.0    1.0\n",
              "3   24.3  24.0    1.0\n",
              "4   78.2  50.0    0.0"
            ],
            "text/html": [
              "\n",
              "  <div id=\"df-fc4b9d5b-7acf-47a1-985e-93646a96fb1d\" class=\"colab-df-container\">\n",
              "    <div>\n",
              "<style scoped>\n",
              "    .dataframe tbody tr th:only-of-type {\n",
              "        vertical-align: middle;\n",
              "    }\n",
              "\n",
              "    .dataframe tbody tr th {\n",
              "        vertical-align: top;\n",
              "    }\n",
              "\n",
              "    .dataframe thead th {\n",
              "        text-align: right;\n",
              "    }\n",
              "</style>\n",
              "<table border=\"1\" class=\"dataframe\">\n",
              "  <thead>\n",
              "    <tr style=\"text-align: right;\">\n",
              "      <th></th>\n",
              "      <th>score</th>\n",
              "      <th>age</th>\n",
              "      <th>stage</th>\n",
              "    </tr>\n",
              "  </thead>\n",
              "  <tbody>\n",
              "    <tr>\n",
              "      <th>0</th>\n",
              "      <td>45.0</td>\n",
              "      <td>29.0</td>\n",
              "      <td>0.0</td>\n",
              "    </tr>\n",
              "    <tr>\n",
              "      <th>1</th>\n",
              "      <td>38.2</td>\n",
              "      <td>23.0</td>\n",
              "      <td>1.0</td>\n",
              "    </tr>\n",
              "    <tr>\n",
              "      <th>2</th>\n",
              "      <td>60.4</td>\n",
              "      <td>25.0</td>\n",
              "      <td>1.0</td>\n",
              "    </tr>\n",
              "    <tr>\n",
              "      <th>3</th>\n",
              "      <td>24.3</td>\n",
              "      <td>24.0</td>\n",
              "      <td>1.0</td>\n",
              "    </tr>\n",
              "    <tr>\n",
              "      <th>4</th>\n",
              "      <td>78.2</td>\n",
              "      <td>50.0</td>\n",
              "      <td>0.0</td>\n",
              "    </tr>\n",
              "  </tbody>\n",
              "</table>\n",
              "</div>\n",
              "    <div class=\"colab-df-buttons\">\n",
              "\n",
              "  <div class=\"colab-df-container\">\n",
              "    <button class=\"colab-df-convert\" onclick=\"convertToInteractive('df-fc4b9d5b-7acf-47a1-985e-93646a96fb1d')\"\n",
              "            title=\"Convert this dataframe to an interactive table.\"\n",
              "            style=\"display:none;\">\n",
              "\n",
              "  <svg xmlns=\"http://www.w3.org/2000/svg\" height=\"24px\" viewBox=\"0 -960 960 960\">\n",
              "    <path d=\"M120-120v-720h720v720H120Zm60-500h600v-160H180v160Zm220 220h160v-160H400v160Zm0 220h160v-160H400v160ZM180-400h160v-160H180v160Zm440 0h160v-160H620v160ZM180-180h160v-160H180v160Zm440 0h160v-160H620v160Z\"/>\n",
              "  </svg>\n",
              "    </button>\n",
              "\n",
              "  <style>\n",
              "    .colab-df-container {\n",
              "      display:flex;\n",
              "      gap: 12px;\n",
              "    }\n",
              "\n",
              "    .colab-df-convert {\n",
              "      background-color: #E8F0FE;\n",
              "      border: none;\n",
              "      border-radius: 50%;\n",
              "      cursor: pointer;\n",
              "      display: none;\n",
              "      fill: #1967D2;\n",
              "      height: 32px;\n",
              "      padding: 0 0 0 0;\n",
              "      width: 32px;\n",
              "    }\n",
              "\n",
              "    .colab-df-convert:hover {\n",
              "      background-color: #E2EBFA;\n",
              "      box-shadow: 0px 1px 2px rgba(60, 64, 67, 0.3), 0px 1px 3px 1px rgba(60, 64, 67, 0.15);\n",
              "      fill: #174EA6;\n",
              "    }\n",
              "\n",
              "    .colab-df-buttons div {\n",
              "      margin-bottom: 4px;\n",
              "    }\n",
              "\n",
              "    [theme=dark] .colab-df-convert {\n",
              "      background-color: #3B4455;\n",
              "      fill: #D2E3FC;\n",
              "    }\n",
              "\n",
              "    [theme=dark] .colab-df-convert:hover {\n",
              "      background-color: #434B5C;\n",
              "      box-shadow: 0px 1px 3px 1px rgba(0, 0, 0, 0.15);\n",
              "      filter: drop-shadow(0px 1px 2px rgba(0, 0, 0, 0.3));\n",
              "      fill: #FFFFFF;\n",
              "    }\n",
              "  </style>\n",
              "\n",
              "    <script>\n",
              "      const buttonEl =\n",
              "        document.querySelector('#df-fc4b9d5b-7acf-47a1-985e-93646a96fb1d button.colab-df-convert');\n",
              "      buttonEl.style.display =\n",
              "        google.colab.kernel.accessAllowed ? 'block' : 'none';\n",
              "\n",
              "      async function convertToInteractive(key) {\n",
              "        const element = document.querySelector('#df-fc4b9d5b-7acf-47a1-985e-93646a96fb1d');\n",
              "        const dataTable =\n",
              "          await google.colab.kernel.invokeFunction('convertToInteractive',\n",
              "                                                    [key], {});\n",
              "        if (!dataTable) return;\n",
              "\n",
              "        const docLinkHtml = 'Like what you see? Visit the ' +\n",
              "          '<a target=\"_blank\" href=https://colab.research.google.com/notebooks/data_table.ipynb>data table notebook</a>'\n",
              "          + ' to learn more about interactive tables.';\n",
              "        element.innerHTML = '';\n",
              "        dataTable['output_type'] = 'display_data';\n",
              "        await google.colab.output.renderOutput(dataTable, element);\n",
              "        const docLink = document.createElement('div');\n",
              "        docLink.innerHTML = docLinkHtml;\n",
              "        element.appendChild(docLink);\n",
              "      }\n",
              "    </script>\n",
              "  </div>\n",
              "\n",
              "\n",
              "<div id=\"df-fb20ae1f-9774-4fc5-bfe1-c9888a757319\">\n",
              "  <button class=\"colab-df-quickchart\" onclick=\"quickchart('df-fb20ae1f-9774-4fc5-bfe1-c9888a757319')\"\n",
              "            title=\"Suggest charts\"\n",
              "            style=\"display:none;\">\n",
              "\n",
              "<svg xmlns=\"http://www.w3.org/2000/svg\" height=\"24px\"viewBox=\"0 0 24 24\"\n",
              "     width=\"24px\">\n",
              "    <g>\n",
              "        <path d=\"M19 3H5c-1.1 0-2 .9-2 2v14c0 1.1.9 2 2 2h14c1.1 0 2-.9 2-2V5c0-1.1-.9-2-2-2zM9 17H7v-7h2v7zm4 0h-2V7h2v10zm4 0h-2v-4h2v4z\"/>\n",
              "    </g>\n",
              "</svg>\n",
              "  </button>\n",
              "\n",
              "<style>\n",
              "  .colab-df-quickchart {\n",
              "      --bg-color: #E8F0FE;\n",
              "      --fill-color: #1967D2;\n",
              "      --hover-bg-color: #E2EBFA;\n",
              "      --hover-fill-color: #174EA6;\n",
              "      --disabled-fill-color: #AAA;\n",
              "      --disabled-bg-color: #DDD;\n",
              "  }\n",
              "\n",
              "  [theme=dark] .colab-df-quickchart {\n",
              "      --bg-color: #3B4455;\n",
              "      --fill-color: #D2E3FC;\n",
              "      --hover-bg-color: #434B5C;\n",
              "      --hover-fill-color: #FFFFFF;\n",
              "      --disabled-bg-color: #3B4455;\n",
              "      --disabled-fill-color: #666;\n",
              "  }\n",
              "\n",
              "  .colab-df-quickchart {\n",
              "    background-color: var(--bg-color);\n",
              "    border: none;\n",
              "    border-radius: 50%;\n",
              "    cursor: pointer;\n",
              "    display: none;\n",
              "    fill: var(--fill-color);\n",
              "    height: 32px;\n",
              "    padding: 0;\n",
              "    width: 32px;\n",
              "  }\n",
              "\n",
              "  .colab-df-quickchart:hover {\n",
              "    background-color: var(--hover-bg-color);\n",
              "    box-shadow: 0 1px 2px rgba(60, 64, 67, 0.3), 0 1px 3px 1px rgba(60, 64, 67, 0.15);\n",
              "    fill: var(--button-hover-fill-color);\n",
              "  }\n",
              "\n",
              "  .colab-df-quickchart-complete:disabled,\n",
              "  .colab-df-quickchart-complete:disabled:hover {\n",
              "    background-color: var(--disabled-bg-color);\n",
              "    fill: var(--disabled-fill-color);\n",
              "    box-shadow: none;\n",
              "  }\n",
              "\n",
              "  .colab-df-spinner {\n",
              "    border: 2px solid var(--fill-color);\n",
              "    border-color: transparent;\n",
              "    border-bottom-color: var(--fill-color);\n",
              "    animation:\n",
              "      spin 1s steps(1) infinite;\n",
              "  }\n",
              "\n",
              "  @keyframes spin {\n",
              "    0% {\n",
              "      border-color: transparent;\n",
              "      border-bottom-color: var(--fill-color);\n",
              "      border-left-color: var(--fill-color);\n",
              "    }\n",
              "    20% {\n",
              "      border-color: transparent;\n",
              "      border-left-color: var(--fill-color);\n",
              "      border-top-color: var(--fill-color);\n",
              "    }\n",
              "    30% {\n",
              "      border-color: transparent;\n",
              "      border-left-color: var(--fill-color);\n",
              "      border-top-color: var(--fill-color);\n",
              "      border-right-color: var(--fill-color);\n",
              "    }\n",
              "    40% {\n",
              "      border-color: transparent;\n",
              "      border-right-color: var(--fill-color);\n",
              "      border-top-color: var(--fill-color);\n",
              "    }\n",
              "    60% {\n",
              "      border-color: transparent;\n",
              "      border-right-color: var(--fill-color);\n",
              "    }\n",
              "    80% {\n",
              "      border-color: transparent;\n",
              "      border-right-color: var(--fill-color);\n",
              "      border-bottom-color: var(--fill-color);\n",
              "    }\n",
              "    90% {\n",
              "      border-color: transparent;\n",
              "      border-bottom-color: var(--fill-color);\n",
              "    }\n",
              "  }\n",
              "</style>\n",
              "\n",
              "  <script>\n",
              "    async function quickchart(key) {\n",
              "      const quickchartButtonEl =\n",
              "        document.querySelector('#' + key + ' button');\n",
              "      quickchartButtonEl.disabled = true;  // To prevent multiple clicks.\n",
              "      quickchartButtonEl.classList.add('colab-df-spinner');\n",
              "      try {\n",
              "        const charts = await google.colab.kernel.invokeFunction(\n",
              "            'suggestCharts', [key], {});\n",
              "      } catch (error) {\n",
              "        console.error('Error during call to suggestCharts:', error);\n",
              "      }\n",
              "      quickchartButtonEl.classList.remove('colab-df-spinner');\n",
              "      quickchartButtonEl.classList.add('colab-df-quickchart-complete');\n",
              "    }\n",
              "    (() => {\n",
              "      let quickchartButtonEl =\n",
              "        document.querySelector('#df-fb20ae1f-9774-4fc5-bfe1-c9888a757319 button');\n",
              "      quickchartButtonEl.style.display =\n",
              "        google.colab.kernel.accessAllowed ? 'block' : 'none';\n",
              "    })();\n",
              "  </script>\n",
              "</div>\n",
              "\n",
              "    </div>\n",
              "  </div>\n"
            ]
          },
          "metadata": {},
          "execution_count": 17
        }
      ],
      "source": [
        "df = pd.read_csv('student_score.csv?rlkey=z1ypuhqloj9sr7fgjz9tbdufr&dl=0')\n",
        "df.head()"
      ]
    },
    {
      "cell_type": "code",
      "source": [
        "students = np.array(df)"
      ],
      "metadata": {
        "id": "ndWDKKRoJrLo"
      },
      "execution_count": null,
      "outputs": []
    },
    {
      "cell_type": "code",
      "source": [
        "students"
      ],
      "metadata": {
        "colab": {
          "base_uri": "https://localhost:8080/"
        },
        "id": "wIKrsw92JrGE",
        "outputId": "3c1e4c34-704f-40ad-d570-33765d437659"
      },
      "execution_count": null,
      "outputs": [
        {
          "output_type": "execute_result",
          "data": {
            "text/plain": [
              "array([[45. , 29. ,  0. ],\n",
              "       [38.2, 23. ,  1. ],\n",
              "       [60.4, 25. ,  1. ],\n",
              "       ...,\n",
              "       [82.6, 51. ,  1. ],\n",
              "       [13.2, 18. ,  0. ],\n",
              "       [83.5, 49. ,  0. ]])"
            ]
          },
          "metadata": {},
          "execution_count": 16
        }
      ]
    },
    {
      "cell_type": "code",
      "source": [],
      "metadata": {
        "id": "NLqy4_29J71m"
      },
      "execution_count": null,
      "outputs": []
    },
    {
      "cell_type": "code",
      "source": [],
      "metadata": {
        "id": "7WlHo00XJ7yE"
      },
      "execution_count": null,
      "outputs": []
    },
    {
      "cell_type": "markdown",
      "metadata": {
        "id": "9VQJJ-j0AnS2"
      },
      "source": [
        "# Task_7\n",
        "\n"
      ]
    },
    {
      "cell_type": "code",
      "execution_count": null,
      "metadata": {
        "id": "NZAyW2BDB-1x"
      },
      "outputs": [],
      "source": [
        "# Просто запусти этот код, человек!)\n",
        "def get_plot(x:np.ndarray, y:np.ndarray):\n",
        "  plt.subplots()\n",
        "  plt.axhline(y=y.mean(), color='black', linestyle='--')\n",
        "  plt.axvline(x=x.mean(), color='black', linestyle='--')\n",
        "  x2, y2 = x.mean(), y.mean()\n",
        "  for i, j in zip(x, y):\n",
        "    if (i>0 and j>0) or (i<0 and j<0):\n",
        "      x1, y1 = i, j\n",
        "      width = abs(x1 - x2)\n",
        "      height = abs(y1 - y2)\n",
        "      rect = patches.Rectangle((min(x1, x2), min(y1, y2)), width, height, linewidth=1, edgecolor='r', facecolor='pink', alpha=0.5)\n",
        "      plt.gca().add_patch(rect)\n",
        "    else:\n",
        "      x1, y1 = i, j\n",
        "      width = abs(x1 - x2)\n",
        "      height = abs(y1 - y2)\n",
        "      rect = patches.Rectangle((min(x1, x2), min(y1, y2)), width, height, linewidth=1, edgecolor='b', facecolor='lightblue', alpha=0.5)\n",
        "      plt.gca().add_patch(rect)\n",
        "  sns.scatterplot(x=x, y=y, color='black')\n",
        "  plt.xlabel('X')\n",
        "  plt.ylabel('Y')"
      ]
    },
    {
      "cell_type": "markdown",
      "metadata": {
        "id": "Jd23Es4ZIYWc"
      },
      "source": [
        "Дан набор данных в виде двух независимых переменных. Давайте попробуем сделать вычисления по данной формуле и осмыслить результат.\n",
        "\n",
        "$$C = \\frac{\\sum_{i=1}^{n}{(x_i - \\overline{x})(y_i - \\overline{y})}}{n-1}$$"
      ]
    },
    {
      "cell_type": "code",
      "execution_count": null,
      "metadata": {
        "id": "sn_Ppn6zWHrX"
      },
      "outputs": [],
      "source": [
        "x = np.random.randn(100)\n",
        "y = x + np.random.randn(100)*.7\n",
        "\n",
        "x_1 = np.random.randn(100)\n",
        "y_1 = np.random.randn(100)\n",
        "\n",
        "x_2 = np.random.randn(100)\n",
        "y_2 = -x_2 + np.random.randn(100)*.5"
      ]
    },
    {
      "cell_type": "code",
      "execution_count": null,
      "metadata": {
        "id": "9vNMlun4IYWc",
        "outputId": "ff416039-8e7d-45ac-c419-cbb1eb913c8c",
        "colab": {
          "base_uri": "https://localhost:8080/",
          "height": 447
        }
      },
      "outputs": [
        {
          "output_type": "execute_result",
          "data": {
            "text/plain": [
              "<Axes: >"
            ]
          },
          "metadata": {},
          "execution_count": 28
        },
        {
          "output_type": "display_data",
          "data": {
            "text/plain": [
              "<Figure size 640x480 with 1 Axes>"
            ],
            "image/png": "[encoded data removed]"
          },
          "metadata": {}
        }
      ],
      "source": [
        "sns.scatterplot(x=x, y=y)\n",
        "#plt.axhline(y=y.mean(), color='black', linestyle='--')\n",
        "#plt.axvline(x=x.mean(), color='black', linestyle='--')"
      ]
    },
    {
      "cell_type": "markdown",
      "source": [
        "Геометрический смысл:"
      ],
      "metadata": {
        "id": "MaZlhIYcOIuN"
      }
    },
    {
      "cell_type": "code",
      "execution_count": null,
      "metadata": {
        "colab": {
          "base_uri": "https://localhost:8080/",
          "height": 449
        },
        "id": "MpPp59O5B-yG",
        "outputId": "1bce57db-4283-4e58-94e2-146e17489bd8"
      },
      "outputs": [
        {
          "data": {
            "image/png": "[encoded data removed]",
            "text/plain": [
              "<Figure size 640x480 with 1 Axes>"
            ]
          },
          "metadata": {},
          "output_type": "display_data"
        }
      ],
      "source": [
        "get_plot(x, y)"
      ]
    },
    {
      "cell_type": "code",
      "execution_count": null,
      "metadata": {
        "id": "UIvVmItQB-lK"
      },
      "outputs": [],
      "source": []
    }
  ],
  "metadata": {
    "colab": {
      "provenance": []
    },
    "kernelspec": {
      "display_name": "Python 3 (ipykernel)",
      "language": "python",
      "name": "python3"
    },
    "language_info": {
      "codemirror_mode": {
        "name": "ipython",
        "version": 3
      },
      "file_extension": ".py",
      "mimetype": "text/x-python",
      "name": "python",
      "nbconvert_exporter": "python",
      "pygments_lexer": "ipython3",
      "version": "3.11.0"
    }
  },
  "nbformat": 4,
  "nbformat_minor": 0
}