{
  "nbformat": 4,
  "nbformat_minor": 0,
  "metadata": {
    "colab": {
      "provenance": []
    },
    "kernelspec": {
      "name": "python3",
      "display_name": "Python 3"
    },
    "language_info": {
      "name": "python"
    }
  },
  "cells": [
    {
      "cell_type": "code",
      "execution_count": null,
      "metadata": {
        "id": "gxcrfATiKXpE"
      },
      "outputs": [],
      "source": [
        "import pandas as pd\n",
        "import numpy as np"
      ]
    },
    {
      "cell_type": "markdown",
      "source": [
        "# Import"
      ],
      "metadata": {
        "id": "D4Qm4L5iJBtF"
      }
    },
    {
      "cell_type": "code",
      "source": [
        "!wget 'https://www.dropbox.com/scl/fi/34rwv3kxznlucchq2l76o/file.xlsx?rlkey=693xccag3odydv1wg0xg59dlo&dl=0'"
      ],
      "metadata": {
        "id": "9pAfS7lZUoHX",
        "outputId": "4fbcada2-1e72-491e-d15c-0881cf9d6a61",
        "colab": {
          "base_uri": "https://localhost:8080/"
        }
      },
      "execution_count": null,
      "outputs": [
        {
          "output_type": "stream",
          "name": "stdout",
          "text": [
            "--2024-01-29 13:05:07--  https://www.dropbox.com/scl/fi/34rwv3kxznlucchq2l76o/file.xlsx?rlkey=693xccag3odydv1wg0xg59dlo&dl=0\n",
            "Resolving www.dropbox.com (www.dropbox.com)... 162.125.3.18, 2620:100:6018:18::a27d:312\n",
            "Connecting to www.dropbox.com (www.dropbox.com)|162.125.3.18|:443... connected.\n",
            "HTTP request sent, awaiting response... 302 Found\n",
            "Location: /c/scl/fi/34rwv3kxznlucchq2l76o/file.xlsx?rlkey=693xccag3odydv1wg0xg59dlo&dl=0 [following]\n",
            "--2024-01-29 13:05:08--  https://www.dropbox.com/c/scl/fi/34rwv3kxznlucchq2l76o/file.xlsx?rlkey=693xccag3odydv1wg0xg59dlo&dl=0\n",
            "Reusing existing connection to www.dropbox.com:443.\n",
            "HTTP request sent, awaiting response... 302 Found\n",
            "Location: https://uce82b383f59bb2e89f8a1473e1e.dl.dropboxusercontent.com/cd/0/get/CMQfgT5sC6YIQNq5NykEHfh8uLIyayLQcnVhmUNmpEbUg0EW_7SPnXijOCrF8Ut_iuzayzBWX8R8uMTbMh3qOQZnoAQEeyBQybZ4YEwVw_WzUkGwb94DU5kDF9tZ9JB7u5eUMqnGL5VvNKppO9HKVRpk/file# [following]\n",
            "--2024-01-29 13:05:08--  https://uce82b383f59bb2e89f8a1473e1e.dl.dropboxusercontent.com/cd/0/get/CMQfgT5sC6YIQNq5NykEHfh8uLIyayLQcnVhmUNmpEbUg0EW_7SPnXijOCrF8Ut_iuzayzBWX8R8uMTbMh3qOQZnoAQEeyBQybZ4YEwVw_WzUkGwb94DU5kDF9tZ9JB7u5eUMqnGL5VvNKppO9HKVRpk/file\n",
            "Resolving uce82b383f59bb2e89f8a1473e1e.dl.dropboxusercontent.com (uce82b383f59bb2e89f8a1473e1e.dl.dropboxusercontent.com)... 162.125.3.15, 2620:100:601b:15::a27d:80f\n",
            "Connecting to uce82b383f59bb2e89f8a1473e1e.dl.dropboxusercontent.com (uce82b383f59bb2e89f8a1473e1e.dl.dropboxusercontent.com)|162.125.3.15|:443... connected.\n",
            "HTTP request sent, awaiting response... 200 OK\n",
            "Length: 143891 (141K) [application/binary]\n",
            "Saving to: ‘file.xlsx?rlkey=693xccag3odydv1wg0xg59dlo&dl=0’\n",
            "\n",
            "file.xlsx?rlkey=693 100%[===================>] 140.52K  --.-KB/s    in 0.03s   \n",
            "\n",
            "2024-01-29 13:05:09 (4.43 MB/s) - ‘file.xlsx?rlkey=693xccag3odydv1wg0xg59dlo&dl=0’ saved [143891/143891]\n",
            "\n"
          ]
        }
      ]
    },
    {
      "cell_type": "code",
      "source": [
        "df = pd.read_excel('file.xlsx?rlkey=693xccag3odydv1wg0xg59dlo&dl=0')\n",
        "df.columns"
      ],
      "metadata": {
        "colab": {
          "base_uri": "https://localhost:8080/"
        },
        "id": "V6vJbupaKjxH",
        "outputId": "951577b3-ea1b-4ebe-e49f-2120bdbad4cb"
      },
      "execution_count": null,
      "outputs": [
        {
          "output_type": "execute_result",
          "data": {
            "text/plain": [
              "Index(['Тип предложения', 'Площадь участка', 'Местоположение', 'Коммуникации',\n",
              "       'adress', 'describe', 'USD_price', 'KGS_price ',\n",
              "       'Возможность рассрочки', 'Возможность ипотеки', 'Возможность обмена',\n",
              "       'Разное', 'Правоустанавливающие документы', 'Серия', 'Кол-во этажей',\n",
              "       'Высота потолков', 'Состояние', 'Телефон', 'Санузел', 'Канализация',\n",
              "       'Питьевая вода', 'Электричество', 'Газ', 'Пол'],\n",
              "      dtype='object')"
            ]
          },
          "metadata": {},
          "execution_count": 4
        }
      ]
    },
    {
      "cell_type": "code",
      "source": [
        "df.drop(['Телефон', 'Санузел', 'Канализация',\n",
        "       'Питьевая вода', 'Электричество', 'Газ'], axis=1, inplace=True)"
      ],
      "metadata": {
        "id": "hwhtFcIZOgrq"
      },
      "execution_count": null,
      "outputs": []
    },
    {
      "cell_type": "markdown",
      "source": [
        "# Part 1\n",
        "\n",
        "Помните, как мы парсили данные с сайта House kg?\n",
        "\n",
        "Давайте рассмотрим полученный датафрейм, его структуру, колонки."
      ],
      "metadata": {
        "id": "wgZgSMtRMToE"
      }
    },
    {
      "cell_type": "code",
      "source": [
        "df.head()"
      ],
      "metadata": {
        "id": "NQC4HzQKKkSJ",
        "colab": {
          "base_uri": "https://localhost:8080/",
          "height": 556
        },
        "outputId": "9a21bb3d-7f8d-4737-e06f-3090540a504c"
      },
      "execution_count": null,
      "outputs": [
        {
          "output_type": "execute_result",
          "data": {
            "text/plain": [
              "   Тип предложения Площадь участка Местоположение  \\\n",
              "0  от собственника        60 соток   вдоль трассы   \n",
              "1  от собственника      2600 соток   вдоль трассы   \n",
              "2        от агента       5.8 соток       в городе   \n",
              "3  от собственника        12 соток       в городе   \n",
              "4  от собственника         4 соток   в предгорьях   \n",
              "\n",
              "                                        Коммуникации  \\\n",
              "0  газ,                                          ...   \n",
              "1                                                NaN   \n",
              "2  свет,                                         ...   \n",
              "3                                                NaN   \n",
              "4                                               вода   \n",
              "\n",
              "                                              adress  \\\n",
              "0                  Бишкек, Баха, Баха Ахунбаева/Баха   \n",
              "1                            Бишкек, АЮ Grand/Анкара   \n",
              "2  Бишкек, Ден Сяопина - Фучика, Жибек-Жолу 58/44...   \n",
              "3        Бишкек, Киргизия 1 ж/м/проспект Ч.Айтматова   \n",
              "4  Бишкек, ж/м Ала-Арча 2, переулок Торгой 18/Мас...   \n",
              "\n",
              "                                            describe  USD_price  KGS_price   \\\n",
              "0  Продаётся участок под строительство многоэтажн...    1100000    95439960   \n",
              "1  Продаётся участок под строительство многоэтажн...      17990     1560877   \n",
              "2  Продаётся Участок под бизнес с огромным трафик...     195000    16918902   \n",
              "3  Продаётся участок 12 соток (красная книга).  К...     660000    57263976   \n",
              "4  Продаю земельный участок, площадью 4 соток, пр...      45000     3904362   \n",
              "\n",
              "  Возможность рассрочки Возможность ипотеки   Возможность обмена  \\\n",
              "0                   NaN                 NaN                  NaN   \n",
              "1                  есть                 NaN                  NaN   \n",
              "2                   NaN                 NaN                  NaN   \n",
              "3                   нет                 нет  обмен не предлагать   \n",
              "4                   NaN                есть  обмен не предлагать   \n",
              "\n",
              "                                              Разное  \\\n",
              "0                                                NaN   \n",
              "1                                                NaN   \n",
              "2                                                NaN   \n",
              "3                                                NaN   \n",
              "4  ровный,                                       ...   \n",
              "\n",
              "  Правоустанавливающие документы Серия  Кол-во этажей Высота потолков  \\\n",
              "0                            NaN   NaN            NaN             NaN   \n",
              "1                            NaN   NaN            NaN             NaN   \n",
              "2                            NaN   NaN            NaN             NaN   \n",
              "3                            NaN   NaN            NaN             NaN   \n",
              "4                            NaN   NaN            NaN             NaN   \n",
              "\n",
              "  Состояние  Пол  \n",
              "0       NaN  NaN  \n",
              "1       NaN  NaN  \n",
              "2       NaN  NaN  \n",
              "3       NaN  NaN  \n",
              "4       NaN  NaN  "
            ],
            "text/html": [
              "\n",
              "  <div id=\"df-0c355a9d-6a10-4536-bbb2-a928d61d4a4b\" class=\"colab-df-container\">\n",
              "    <div>\n",
              "<style scoped>\n",
              "    .dataframe tbody tr th:only-of-type {\n",
              "        vertical-align: middle;\n",
              "    }\n",
              "\n",
              "    .dataframe tbody tr th {\n",
              "        vertical-align: top;\n",
              "    }\n",
              "\n",
              "    .dataframe thead th {\n",
              "        text-align: right;\n",
              "    }\n",
              "</style>\n",
              "<table border=\"1\" class=\"dataframe\">\n",
              "  <thead>\n",
              "    <tr style=\"text-align: right;\">\n",
              "      <th></th>\n",
              "      <th>Тип предложения</th>\n",
              "      <th>Площадь участка</th>\n",
              "      <th>Местоположение</th>\n",
              "      <th>Коммуникации</th>\n",
              "      <th>adress</th>\n",
              "      <th>describe</th>\n",
              "      <th>USD_price</th>\n",
              "      <th>KGS_price</th>\n",
              "      <th>Возможность рассрочки</th>\n",
              "      <th>Возможность ипотеки</th>\n",
              "      <th>Возможность обмена</th>\n",
              "      <th>Разное</th>\n",
              "      <th>Правоустанавливающие документы</th>\n",
              "      <th>Серия</th>\n",
              "      <th>Кол-во этажей</th>\n",
              "      <th>Высота потолков</th>\n",
              "      <th>Состояние</th>\n",
              "      <th>Пол</th>\n",
              "    </tr>\n",
              "  </thead>\n",
              "  <tbody>\n",
              "    <tr>\n",
              "      <th>0</th>\n",
              "      <td>от собственника</td>\n",
              "      <td>60 соток</td>\n",
              "      <td>вдоль трассы</td>\n",
              "      <td>газ,                                          ...</td>\n",
              "      <td>Бишкек, Баха, Баха Ахунбаева/Баха</td>\n",
              "      <td>Продаётся участок под строительство многоэтажн...</td>\n",
              "      <td>1100000</td>\n",
              "      <td>95439960</td>\n",
              "      <td>NaN</td>\n",
              "      <td>NaN</td>\n",
              "      <td>NaN</td>\n",
              "      <td>NaN</td>\n",
              "      <td>NaN</td>\n",
              "      <td>NaN</td>\n",
              "      <td>NaN</td>\n",
              "      <td>NaN</td>\n",
              "      <td>NaN</td>\n",
              "      <td>NaN</td>\n",
              "    </tr>\n",
              "    <tr>\n",
              "      <th>1</th>\n",
              "      <td>от собственника</td>\n",
              "      <td>2600 соток</td>\n",
              "      <td>вдоль трассы</td>\n",
              "      <td>NaN</td>\n",
              "      <td>Бишкек, АЮ Grand/Анкара</td>\n",
              "      <td>Продаётся участок под строительство многоэтажн...</td>\n",
              "      <td>17990</td>\n",
              "      <td>1560877</td>\n",
              "      <td>есть</td>\n",
              "      <td>NaN</td>\n",
              "      <td>NaN</td>\n",
              "      <td>NaN</td>\n",
              "      <td>NaN</td>\n",
              "      <td>NaN</td>\n",
              "      <td>NaN</td>\n",
              "      <td>NaN</td>\n",
              "      <td>NaN</td>\n",
              "      <td>NaN</td>\n",
              "    </tr>\n",
              "    <tr>\n",
              "      <th>2</th>\n",
              "      <td>от агента</td>\n",
              "      <td>5.8 соток</td>\n",
              "      <td>в городе</td>\n",
              "      <td>свет,                                         ...</td>\n",
              "      <td>Бишкек, Ден Сяопина - Фучика, Жибек-Жолу 58/44...</td>\n",
              "      <td>Продаётся Участок под бизнес с огромным трафик...</td>\n",
              "      <td>195000</td>\n",
              "      <td>16918902</td>\n",
              "      <td>NaN</td>\n",
              "      <td>NaN</td>\n",
              "      <td>NaN</td>\n",
              "      <td>NaN</td>\n",
              "      <td>NaN</td>\n",
              "      <td>NaN</td>\n",
              "      <td>NaN</td>\n",
              "      <td>NaN</td>\n",
              "      <td>NaN</td>\n",
              "      <td>NaN</td>\n",
              "    </tr>\n",
              "    <tr>\n",
              "      <th>3</th>\n",
              "      <td>от собственника</td>\n",
              "      <td>12 соток</td>\n",
              "      <td>в городе</td>\n",
              "      <td>NaN</td>\n",
              "      <td>Бишкек, Киргизия 1 ж/м/проспект Ч.Айтматова</td>\n",
              "      <td>Продаётся участок 12 соток (красная книга).  К...</td>\n",
              "      <td>660000</td>\n",
              "      <td>57263976</td>\n",
              "      <td>нет</td>\n",
              "      <td>нет</td>\n",
              "      <td>обмен не предлагать</td>\n",
              "      <td>NaN</td>\n",
              "      <td>NaN</td>\n",
              "      <td>NaN</td>\n",
              "      <td>NaN</td>\n",
              "      <td>NaN</td>\n",
              "      <td>NaN</td>\n",
              "      <td>NaN</td>\n",
              "    </tr>\n",
              "    <tr>\n",
              "      <th>4</th>\n",
              "      <td>от собственника</td>\n",
              "      <td>4 соток</td>\n",
              "      <td>в предгорьях</td>\n",
              "      <td>вода</td>\n",
              "      <td>Бишкек, ж/м Ала-Арча 2, переулок Торгой 18/Мас...</td>\n",
              "      <td>Продаю земельный участок, площадью 4 соток, пр...</td>\n",
              "      <td>45000</td>\n",
              "      <td>3904362</td>\n",
              "      <td>NaN</td>\n",
              "      <td>есть</td>\n",
              "      <td>обмен не предлагать</td>\n",
              "      <td>ровный,                                       ...</td>\n",
              "      <td>NaN</td>\n",
              "      <td>NaN</td>\n",
              "      <td>NaN</td>\n",
              "      <td>NaN</td>\n",
              "      <td>NaN</td>\n",
              "      <td>NaN</td>\n",
              "    </tr>\n",
              "  </tbody>\n",
              "</table>\n",
              "</div>\n",
              "    <div class=\"colab-df-buttons\">\n",
              "\n",
              "  <div class=\"colab-df-container\">\n",
              "    <button class=\"colab-df-convert\" onclick=\"convertToInteractive('df-0c355a9d-6a10-4536-bbb2-a928d61d4a4b')\"\n",
              "            title=\"Convert this dataframe to an interactive table.\"\n",
              "            style=\"display:none;\">\n",
              "\n",
              "  <svg xmlns=\"http://www.w3.org/2000/svg\" height=\"24px\" viewBox=\"0 -960 960 960\">\n",
              "    <path d=\"M120-120v-720h720v720H120Zm60-500h600v-160H180v160Zm220 220h160v-160H400v160Zm0 220h160v-160H400v160ZM180-400h160v-160H180v160Zm440 0h160v-160H620v160ZM180-180h160v-160H180v160Zm440 0h160v-160H620v160Z\"/>\n",
              "  </svg>\n",
              "    </button>\n",
              "\n",
              "  <style>\n",
              "    .colab-df-container {\n",
              "      display:flex;\n",
              "      gap: 12px;\n",
              "    }\n",
              "\n",
              "    .colab-df-convert {\n",
              "      background-color: #E8F0FE;\n",
              "      border: none;\n",
              "      border-radius: 50%;\n",
              "      cursor: pointer;\n",
              "      display: none;\n",
              "      fill: #1967D2;\n",
              "      height: 32px;\n",
              "      padding: 0 0 0 0;\n",
              "      width: 32px;\n",
              "    }\n",
              "\n",
              "    .colab-df-convert:hover {\n",
              "      background-color: #E2EBFA;\n",
              "      box-shadow: 0px 1px 2px rgba(60, 64, 67, 0.3), 0px 1px 3px 1px rgba(60, 64, 67, 0.15);\n",
              "      fill: #174EA6;\n",
              "    }\n",
              "\n",
              "    .colab-df-buttons div {\n",
              "      margin-bottom: 4px;\n",
              "    }\n",
              "\n",
              "    [theme=dark] .colab-df-convert {\n",
              "      background-color: #3B4455;\n",
              "      fill: #D2E3FC;\n",
              "    }\n",
              "\n",
              "    [theme=dark] .colab-df-convert:hover {\n",
              "      background-color: #434B5C;\n",
              "      box-shadow: 0px 1px 3px 1px rgba(0, 0, 0, 0.15);\n",
              "      filter: drop-shadow(0px 1px 2px rgba(0, 0, 0, 0.3));\n",
              "      fill: #FFFFFF;\n",
              "    }\n",
              "  </style>\n",
              "\n",
              "    <script>\n",
              "      const buttonEl =\n",
              "        document.querySelector('#df-0c355a9d-6a10-4536-bbb2-a928d61d4a4b button.colab-df-convert');\n",
              "      buttonEl.style.display =\n",
              "        google.colab.kernel.accessAllowed ? 'block' : 'none';\n",
              "\n",
              "      async function convertToInteractive(key) {\n",
              "        const element = document.querySelector('#df-0c355a9d-6a10-4536-bbb2-a928d61d4a4b');\n",
              "        const dataTable =\n",
              "          await google.colab.kernel.invokeFunction('convertToInteractive',\n",
              "                                                    [key], {});\n",
              "        if (!dataTable) return;\n",
              "\n",
              "        const docLinkHtml = 'Like what you see? Visit the ' +\n",
              "          '<a target=\"_blank\" href=https://colab.research.google.com/notebooks/data_table.ipynb>data table notebook</a>'\n",
              "          + ' to learn more about interactive tables.';\n",
              "        element.innerHTML = '';\n",
              "        dataTable['output_type'] = 'display_data';\n",
              "        await google.colab.output.renderOutput(dataTable, element);\n",
              "        const docLink = document.createElement('div');\n",
              "        docLink.innerHTML = docLinkHtml;\n",
              "        element.appendChild(docLink);\n",
              "      }\n",
              "    </script>\n",
              "  </div>\n",
              "\n",
              "\n",
              "<div id=\"df-38186cc0-3343-430d-bb38-2906ea958f02\">\n",
              "  <button class=\"colab-df-quickchart\" onclick=\"quickchart('df-38186cc0-3343-430d-bb38-2906ea958f02')\"\n",
              "            title=\"Suggest charts.\"\n",
              "            style=\"display:none;\">\n",
              "\n",
              "<svg xmlns=\"http://www.w3.org/2000/svg\" height=\"24px\"viewBox=\"0 0 24 24\"\n",
              "     width=\"24px\">\n",
              "    <g>\n",
              "        <path d=\"M19 3H5c-1.1 0-2 .9-2 2v14c0 1.1.9 2 2 2h14c1.1 0 2-.9 2-2V5c0-1.1-.9-2-2-2zM9 17H7v-7h2v7zm4 0h-2V7h2v10zm4 0h-2v-4h2v4z\"/>\n",
              "    </g>\n",
              "</svg>\n",
              "  </button>\n",
              "\n",
              "<style>\n",
              "  .colab-df-quickchart {\n",
              "      --bg-color: #E8F0FE;\n",
              "      --fill-color: #1967D2;\n",
              "      --hover-bg-color: #E2EBFA;\n",
              "      --hover-fill-color: #174EA6;\n",
              "      --disabled-fill-color: #AAA;\n",
              "      --disabled-bg-color: #DDD;\n",
              "  }\n",
              "\n",
              "  [theme=dark] .colab-df-quickchart {\n",
              "      --bg-color: #3B4455;\n",
              "      --fill-color: #D2E3FC;\n",
              "      --hover-bg-color: #434B5C;\n",
              "      --hover-fill-color: #FFFFFF;\n",
              "      --disabled-bg-color: #3B4455;\n",
              "      --disabled-fill-color: #666;\n",
              "  }\n",
              "\n",
              "  .colab-df-quickchart {\n",
              "    background-color: var(--bg-color);\n",
              "    border: none;\n",
              "    border-radius: 50%;\n",
              "    cursor: pointer;\n",
              "    display: none;\n",
              "    fill: var(--fill-color);\n",
              "    height: 32px;\n",
              "    padding: 0;\n",
              "    width: 32px;\n",
              "  }\n",
              "\n",
              "  .colab-df-quickchart:hover {\n",
              "    background-color: var(--hover-bg-color);\n",
              "    box-shadow: 0 1px 2px rgba(60, 64, 67, 0.3), 0 1px 3px 1px rgba(60, 64, 67, 0.15);\n",
              "    fill: var(--button-hover-fill-color);\n",
              "  }\n",
              "\n",
              "  .colab-df-quickchart-complete:disabled,\n",
              "  .colab-df-quickchart-complete:disabled:hover {\n",
              "    background-color: var(--disabled-bg-color);\n",
              "    fill: var(--disabled-fill-color);\n",
              "    box-shadow: none;\n",
              "  }\n",
              "\n",
              "  .colab-df-spinner {\n",
              "    border: 2px solid var(--fill-color);\n",
              "    border-color: transparent;\n",
              "    border-bottom-color: var(--fill-color);\n",
              "    animation:\n",
              "      spin 1s steps(1) infinite;\n",
              "  }\n",
              "\n",
              "  @keyframes spin {\n",
              "    0% {\n",
              "      border-color: transparent;\n",
              "      border-bottom-color: var(--fill-color);\n",
              "      border-left-color: var(--fill-color);\n",
              "    }\n",
              "    20% {\n",
              "      border-color: transparent;\n",
              "      border-left-color: var(--fill-color);\n",
              "      border-top-color: var(--fill-color);\n",
              "    }\n",
              "    30% {\n",
              "      border-color: transparent;\n",
              "      border-left-color: var(--fill-color);\n",
              "      border-top-color: var(--fill-color);\n",
              "      border-right-color: var(--fill-color);\n",
              "    }\n",
              "    40% {\n",
              "      border-color: transparent;\n",
              "      border-right-color: var(--fill-color);\n",
              "      border-top-color: var(--fill-color);\n",
              "    }\n",
              "    60% {\n",
              "      border-color: transparent;\n",
              "      border-right-color: var(--fill-color);\n",
              "    }\n",
              "    80% {\n",
              "      border-color: transparent;\n",
              "      border-right-color: var(--fill-color);\n",
              "      border-bottom-color: var(--fill-color);\n",
              "    }\n",
              "    90% {\n",
              "      border-color: transparent;\n",
              "      border-bottom-color: var(--fill-color);\n",
              "    }\n",
              "  }\n",
              "</style>\n",
              "\n",
              "  <script>\n",
              "    async function quickchart(key) {\n",
              "      const quickchartButtonEl =\n",
              "        document.querySelector('#' + key + ' button');\n",
              "      quickchartButtonEl.disabled = true;  // To prevent multiple clicks.\n",
              "      quickchartButtonEl.classList.add('colab-df-spinner');\n",
              "      try {\n",
              "        const charts = await google.colab.kernel.invokeFunction(\n",
              "            'suggestCharts', [key], {});\n",
              "      } catch (error) {\n",
              "        console.error('Error during call to suggestCharts:', error);\n",
              "      }\n",
              "      quickchartButtonEl.classList.remove('colab-df-spinner');\n",
              "      quickchartButtonEl.classList.add('colab-df-quickchart-complete');\n",
              "    }\n",
              "    (() => {\n",
              "      let quickchartButtonEl =\n",
              "        document.querySelector('#df-38186cc0-3343-430d-bb38-2906ea958f02 button');\n",
              "      quickchartButtonEl.style.display =\n",
              "        google.colab.kernel.accessAllowed ? 'block' : 'none';\n",
              "    })();\n",
              "  </script>\n",
              "</div>\n",
              "    </div>\n",
              "  </div>\n"
            ]
          },
          "metadata": {},
          "execution_count": 18
        }
      ]
    },
    {
      "cell_type": "code",
      "source": [
        "df.shape"
      ],
      "metadata": {
        "id": "luJCaT8vKkPl",
        "colab": {
          "base_uri": "https://localhost:8080/"
        },
        "outputId": "007b58fb-da35-4276-d042-f1c380f2c7be"
      },
      "execution_count": null,
      "outputs": [
        {
          "output_type": "execute_result",
          "data": {
            "text/plain": [
              "(410, 18)"
            ]
          },
          "metadata": {},
          "execution_count": 19
        }
      ]
    },
    {
      "cell_type": "code",
      "source": [],
      "metadata": {
        "id": "32GeAnQtNbsf"
      },
      "execution_count": null,
      "outputs": []
    },
    {
      "cell_type": "code",
      "source": [],
      "metadata": {
        "id": "pR1xyUeWNbqE"
      },
      "execution_count": null,
      "outputs": []
    },
    {
      "cell_type": "markdown",
      "source": [
        "Давайте удалим те колонки, которые заполнены менее чем на 30%."
      ],
      "metadata": {
        "id": "G7uPg0SsNcKw"
      }
    },
    {
      "cell_type": "code",
      "source": [],
      "metadata": {
        "id": "Na5bVmsYKsSC"
      },
      "execution_count": null,
      "outputs": []
    },
    {
      "cell_type": "markdown",
      "source": [
        "# Part 2\n",
        "\n",
        "Давайте приведем в порядок количественные фичи.\n",
        "\n",
        "Сделаем колонки \"площадь участка\" в сотках, стоимости и другие в числовом виде."
      ],
      "metadata": {
        "id": "h3YGDjWbP5mZ"
      }
    },
    {
      "cell_type": "code",
      "source": [
        "df.info()"
      ],
      "metadata": {
        "id": "uRJcED5NNbiK",
        "outputId": "172d6526-fa4e-44c2-cce1-44d51d068ad7",
        "colab": {
          "base_uri": "https://localhost:8080/"
        }
      },
      "execution_count": null,
      "outputs": [
        {
          "output_type": "stream",
          "name": "stdout",
          "text": [
            "<class 'pandas.core.frame.DataFrame'>\n",
            "RangeIndex: 410 entries, 0 to 409\n",
            "Data columns (total 9 columns):\n",
            " #   Column           Non-Null Count  Dtype \n",
            "---  ------           --------------  ----- \n",
            " 0   Тип предложения  409 non-null    object\n",
            " 1   Площадь участка  409 non-null    object\n",
            " 2   Местоположение   186 non-null    object\n",
            " 3   Коммуникации     233 non-null    object\n",
            " 4   adress           410 non-null    object\n",
            " 5   describe         396 non-null    object\n",
            " 6   USD_price        410 non-null    int64 \n",
            " 7   KGS_price        410 non-null    int64 \n",
            " 8   Разное           175 non-null    object\n",
            "dtypes: int64(2), object(7)\n",
            "memory usage: 29.0+ KB\n"
          ]
        }
      ]
    },
    {
      "cell_type": "code",
      "source": [],
      "metadata": {
        "id": "JEaYfeKtMzqt"
      },
      "execution_count": null,
      "outputs": []
    },
    {
      "cell_type": "markdown",
      "source": [
        "# Part 3\n",
        "\n",
        "Проверим оутлаеры в Площади участка. Слишком большие или слишком маленькие значения могут быть связаны с опечаткой. Чекнем описание."
      ],
      "metadata": {
        "id": "iug1B_CKQqHW"
      }
    },
    {
      "cell_type": "code",
      "source": [],
      "metadata": {
        "id": "7l2VmpUDSbG4"
      },
      "execution_count": null,
      "outputs": []
    },
    {
      "cell_type": "markdown",
      "source": [
        "# Part 4\n",
        "\n",
        "Создадим фичу 'Price_sq' - стоимость за сотку в долларах.\n",
        "\n",
        "Посмотрим на описательную статистику и при наличии оутлаеров обрежем по 2.5 процента по краям."
      ],
      "metadata": {
        "id": "TD6PMHnuSbrc"
      }
    },
    {
      "cell_type": "code",
      "source": [],
      "metadata": {
        "id": "UNV-fXzLqHGI"
      },
      "execution_count": null,
      "outputs": []
    },
    {
      "cell_type": "code",
      "source": [],
      "metadata": {
        "id": "jTR94KvnqHC9"
      },
      "execution_count": null,
      "outputs": []
    },
    {
      "cell_type": "code",
      "source": [],
      "metadata": {
        "id": "f0um3r9OsRFo"
      },
      "execution_count": null,
      "outputs": []
    },
    {
      "cell_type": "code",
      "source": [],
      "metadata": {
        "id": "GYWok0b2sRB5"
      },
      "execution_count": null,
      "outputs": []
    },
    {
      "cell_type": "markdown",
      "source": [
        "# Part 5\n",
        "\n",
        "Приведем в порядок фичу Коммуникации.\n",
        "\n",
        "Сделаем фичи \"газ\", \"свет\"... с бинарным значением 0 и 1 по фиче \"Коммуникации\""
      ],
      "metadata": {
        "id": "BWh0Bgo0RG7_"
      }
    },
    {
      "cell_type": "code",
      "source": [],
      "metadata": {
        "id": "wYO_YnVRVABg"
      },
      "execution_count": null,
      "outputs": []
    },
    {
      "cell_type": "code",
      "source": [],
      "metadata": {
        "id": "e6Hxl_rjU_-A"
      },
      "execution_count": null,
      "outputs": []
    },
    {
      "cell_type": "markdown",
      "source": [
        "# Part 6\n",
        "\n",
        "Аналогичные действия предпримем для правоустанавливающих документов."
      ],
      "metadata": {
        "id": "1vKu_sBvRr2w"
      }
    },
    {
      "cell_type": "code",
      "source": [
        "kr_1 = 'красная книга'\n",
        "kr_2 = 'кызыл китеп'\n"
      ],
      "metadata": {
        "id": "68qCBZWBSDIN"
      },
      "execution_count": null,
      "outputs": []
    },
    {
      "cell_type": "code",
      "source": [
        "df['describe']"
      ],
      "metadata": {
        "id": "W5MO3l9GSDGN",
        "outputId": "f0253534-19fb-47e5-988c-3d8c721157a8",
        "colab": {
          "base_uri": "https://localhost:8080/"
        }
      },
      "execution_count": null,
      "outputs": [
        {
          "output_type": "execute_result",
          "data": {
            "text/plain": [
              "0      Продаётся участок под строительство многоэтажн...\n",
              "1      Продаётся участок под строительство многоэтажн...\n",
              "2      Продаётся Участок под бизнес с огромным трафик...\n",
              "3      Продаётся участок 12 соток (красная книга).  К...\n",
              "4      Продаю земельный участок, площадью 4 соток, пр...\n",
              "                             ...                        \n",
              "405    Продается участок под строительство в Южной ча...\n",
              "406    Участок под строительство клубных домов ! \\r А...\n",
              "407    СРОЧНО ПРОДАЮ недостроенный дом !!!! Общая пло...\n",
              "408    Продается участок 10.6 соток в ж/м Арча Бешик....\n",
              "409    🔥 Срочно продается 🔥 Участок под строительство...\n",
              "Name: describe, Length: 409, dtype: object"
            ]
          },
          "metadata": {},
          "execution_count": 54
        }
      ]
    },
    {
      "cell_type": "code",
      "source": [],
      "metadata": {
        "id": "teEu8-R6SDDG"
      },
      "execution_count": null,
      "outputs": []
    },
    {
      "cell_type": "code",
      "source": [],
      "metadata": {
        "id": "gl8jrNrO3OaP"
      },
      "execution_count": null,
      "outputs": []
    },
    {
      "cell_type": "markdown",
      "source": [
        "# Part 7\n",
        "\n",
        "Попробуем установить зависимости между медианой и средним по стоимости и стоимости за сотку в зависимости от наличия Газа, электричества, Вида правоустанавливающих документов и местоположения.\n",
        "\n",
        "Будем использовать Groupby()"
      ],
      "metadata": {
        "id": "4oBm7Y_WSEMj"
      }
    },
    {
      "cell_type": "code",
      "source": [],
      "metadata": {
        "id": "MLPNhhgiRqe1"
      },
      "execution_count": null,
      "outputs": []
    },
    {
      "cell_type": "markdown",
      "source": [
        "# Part 8\n",
        "\n",
        "Попробуем проранжировать фичу стоимость за сотку на 3 категории: Дешево, Средне, Дорого.\n",
        "\n",
        "Создадим новую фичу, где укажем медианую стоимость за сотку участка для каждой категории."
      ],
      "metadata": {
        "id": "Dj6j2uWNT63F"
      }
    },
    {
      "cell_type": "code",
      "source": [
        "df.columns"
      ],
      "metadata": {
        "colab": {
          "base_uri": "https://localhost:8080/"
        },
        "id": "pLe-RY9tSCga",
        "outputId": "47172a35-4b7b-41d1-e59d-2460e37d3e53"
      },
      "execution_count": null,
      "outputs": [
        {
          "output_type": "execute_result",
          "data": {
            "text/plain": [
              "Index(['Тип предложения', 'Площадь участка', 'Местоположение', 'adress',\n",
              "       'describe', 'USD_price', 'KGS_price ', 'Разное', 'Price_sq', 'газ',\n",
              "       'свет', 'канализация', 'вода', 'отопление'],\n",
              "      dtype='object')"
            ]
          },
          "metadata": {},
          "execution_count": 63
        }
      ]
    },
    {
      "cell_type": "code",
      "source": [],
      "metadata": {
        "id": "F6Ksd7E8eqNQ"
      },
      "execution_count": null,
      "outputs": []
    },
    {
      "cell_type": "code",
      "source": [],
      "metadata": {
        "id": "X2NpOPmhd_ZB"
      },
      "execution_count": null,
      "outputs": []
    },
    {
      "cell_type": "code",
      "source": [],
      "metadata": {
        "id": "BjvVnph6d_VJ"
      },
      "execution_count": null,
      "outputs": []
    },
    {
      "cell_type": "markdown",
      "source": [
        "# Part 9\n",
        "\n",
        "Сгруппируем датасет по категории стоимости (Part 8) и посмотрим на медианы и средние площади. Какие выводы можно сделать? Может ли быть так, что цены не очень адекватны."
      ],
      "metadata": {
        "id": "OUqoSc04UsL4"
      }
    },
    {
      "cell_type": "code",
      "source": [],
      "metadata": {
        "id": "dcNYq4ySUrVr"
      },
      "execution_count": null,
      "outputs": []
    },
    {
      "cell_type": "code",
      "source": [],
      "metadata": {
        "id": "pNrylgAQUrTB"
      },
      "execution_count": null,
      "outputs": []
    },
    {
      "cell_type": "code",
      "source": [],
      "metadata": {
        "id": "Sm-I2RbqUrQQ"
      },
      "execution_count": null,
      "outputs": []
    },
    {
      "cell_type": "markdown",
      "source": [
        "# Part 10\n",
        "\n",
        "Влияет ли фича \"тип предложения\" на Стоимость."
      ],
      "metadata": {
        "id": "h01DiDiUVW4i"
      }
    },
    {
      "cell_type": "code",
      "source": [],
      "metadata": {
        "id": "NBYJidcUVIMn"
      },
      "execution_count": null,
      "outputs": []
    },
    {
      "cell_type": "code",
      "source": [],
      "metadata": {
        "id": "hoTT1W2cVII2"
      },
      "execution_count": null,
      "outputs": []
    },
    {
      "cell_type": "code",
      "source": [],
      "metadata": {
        "id": "GxmCeNCxVIF_"
      },
      "execution_count": null,
      "outputs": []
    },
    {
      "cell_type": "markdown",
      "source": [
        "# Part 11\n",
        "\n",
        "Примерно какой курс доллара к сому в объявлениях?"
      ],
      "metadata": {
        "id": "g-JvChwrVqPk"
      }
    },
    {
      "cell_type": "code",
      "source": [],
      "metadata": {
        "id": "Iksg78ctVIDQ"
      },
      "execution_count": null,
      "outputs": []
    },
    {
      "cell_type": "markdown",
      "source": [
        "# Part 12\n",
        "## Визуализация"
      ],
      "metadata": {
        "id": "lCj9QjsWhAzs"
      }
    },
    {
      "cell_type": "code",
      "source": [],
      "metadata": {
        "id": "SAULYNq3606k"
      },
      "execution_count": null,
      "outputs": []
    },
    {
      "cell_type": "code",
      "source": [],
      "metadata": {
        "id": "66yaJihT602P"
      },
      "execution_count": null,
      "outputs": []
    },
    {
      "cell_type": "code",
      "source": [],
      "metadata": {
        "id": "cUC7vJpl60yu"
      },
      "execution_count": null,
      "outputs": []
    },
    {
      "cell_type": "markdown",
      "source": [
        "Боксплот стоимости и стоимости за сотку в зависимости от местоположения"
      ],
      "metadata": {
        "id": "A94aM-DqjhZc"
      }
    },
    {
      "cell_type": "code",
      "source": [],
      "metadata": {
        "id": "xAB1lp-_WPhU"
      },
      "execution_count": null,
      "outputs": []
    }
  ]
}