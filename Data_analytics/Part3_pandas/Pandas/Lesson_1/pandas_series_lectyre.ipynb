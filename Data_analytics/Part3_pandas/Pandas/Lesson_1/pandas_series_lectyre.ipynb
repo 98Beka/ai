{
  "nbformat": 4,
  "nbformat_minor": 0,
  "metadata": {
    "colab": {
      "provenance": [],
      "name": "pandas_series_lectyre.ipynb"
    },
    "kernelspec": {
      "name": "python3",
      "display_name": "Python 3"
    },
    "language_info": {
      "name": "python"
    }
  },
  "cells": [
    {
      "cell_type": "code",
      "source": [
        "import numpy as np\n",
        "import pandas as pd"
      ],
      "metadata": {
        "id": "wEmYOQQ5dYGO"
      },
      "execution_count": null,
      "outputs": []
    },
    {
      "cell_type": "markdown",
      "source": [
        "# Create Series\n",
        "\n",
        "Pandas Series - одномерный массив элементов, подобный одномерному numpy массиву, в котором помимо чисел могут содержатся строчные элементы.\n",
        "\n",
        "Сгенерим несколько серий используя функцию Series()"
      ],
      "metadata": {
        "id": "p7dEMPkec--S"
      }
    },
    {
      "cell_type": "code",
      "execution_count": null,
      "metadata": {
        "id": "e4Hg7vZ4c-E2"
      },
      "outputs": [],
      "source": [
        "my_list = [i for i in range(21)]\n"
      ]
    },
    {
      "cell_type": "code",
      "source": [
        "s_1"
      ],
      "metadata": {
        "id": "a7FP1Zy6d3Ra",
        "colab": {
          "base_uri": "https://localhost:8080/"
        },
        "outputId": "92c5dcb5-57ec-4082-e091-fc5fde20fd35"
      },
      "execution_count": null,
      "outputs": [
        {
          "output_type": "execute_result",
          "data": {
            "text/plain": [
              "0      0\n",
              "1      1\n",
              "2      2\n",
              "3      3\n",
              "4      4\n",
              "5      5\n",
              "6      6\n",
              "7      7\n",
              "8      8\n",
              "9      9\n",
              "10    10\n",
              "11    11\n",
              "12    12\n",
              "13    13\n",
              "14    14\n",
              "15    15\n",
              "16    16\n",
              "17    17\n",
              "18    18\n",
              "19    19\n",
              "20    20\n",
              "dtype: int64"
            ]
          },
          "metadata": {},
          "execution_count": 5
        }
      ]
    },
    {
      "cell_type": "code",
      "source": [
        "s_1.dtype"
      ],
      "metadata": {
        "id": "V7Cm-EgueENS",
        "colab": {
          "base_uri": "https://localhost:8080/"
        },
        "outputId": "892ca1a9-b195-4129-e81e-2014cd964058"
      },
      "execution_count": null,
      "outputs": [
        {
          "output_type": "execute_result",
          "data": {
            "text/plain": [
              "dtype('int64')"
            ]
          },
          "metadata": {},
          "execution_count": 5
        }
      ]
    },
    {
      "cell_type": "code",
      "source": [
        "s_1.shape"
      ],
      "metadata": {
        "id": "z3_VEpeOeKf2",
        "colab": {
          "base_uri": "https://localhost:8080/"
        },
        "outputId": "1bc8ee3d-7b8a-4297-aa5d-e09950e5f6a3"
      },
      "execution_count": null,
      "outputs": [
        {
          "output_type": "execute_result",
          "data": {
            "text/plain": [
              "(21,)"
            ]
          },
          "metadata": {},
          "execution_count": 6
        }
      ]
    },
    {
      "cell_type": "code",
      "source": [
        "# сгенерим серию с строками\n",
        "my_str = 'Однажды в студеную зимнюю пору я из лесу вышел был сильный мороз.'\n",
        "my_list = my_str.split()\n",
        "s_2 ="
      ],
      "metadata": {
        "id": "D1sd8BKnd3O5"
      },
      "execution_count": null,
      "outputs": []
    },
    {
      "cell_type": "code",
      "source": [
        "#s_2[1] = 'kjkjhkdf'\n",
        "#s_2[15] = 'sdkjshk'\n",
        "ind = [2, 3, 4, 5, 6, 7, 8, 9, 10, 11, 12, 13]"
      ],
      "metadata": {
        "id": "FYW8fgcGd3Mr"
      },
      "execution_count": null,
      "outputs": []
    },
    {
      "cell_type": "code",
      "source": [
        "# посмотрите тип и размер"
      ],
      "metadata": {
        "id": "YKLXYOIgd3KR"
      },
      "execution_count": null,
      "outputs": []
    },
    {
      "cell_type": "code",
      "source": [
        "s_2.reindex([8, 7, 6, 15])"
      ],
      "metadata": {
        "id": "7DJLA3zVd3H_",
        "colab": {
          "base_uri": "https://localhost:8080/"
        },
        "outputId": "6ebd9a8c-46bb-47ba-a6e8-642994e72112"
      },
      "execution_count": null,
      "outputs": [
        {
          "output_type": "execute_result",
          "data": {
            "text/plain": [
              "8       из\n",
              "7        я\n",
              "6     пору\n",
              "15     NaN\n",
              "dtype: object"
            ]
          },
          "metadata": {},
          "execution_count": 15
        }
      ]
    },
    {
      "cell_type": "code",
      "source": [
        "s_2[2] = 'kjsdkj'\n",
        "s_2[15] = 'kjhkjhfkjsdlfjshklf'\n",
        "s_2"
      ],
      "metadata": {
        "id": "0PaJ6-N9faNf",
        "colab": {
          "base_uri": "https://localhost:8080/"
        },
        "outputId": "eefcb0f6-9a00-4831-9b03-ccba6d2ae3bb"
      },
      "execution_count": null,
      "outputs": [
        {
          "output_type": "execute_result",
          "data": {
            "text/plain": [
              "0                 Однажды\n",
              "1                       в\n",
              "2                  kjsdkj\n",
              "3                  зимнюю\n",
              "4                    пору\n",
              "5                       я\n",
              "6                      из\n",
              "7                    лесу\n",
              "8                   вышел\n",
              "9                     был\n",
              "10                сильный\n",
              "11                 мороз.\n",
              "15    kjhkjhfkjsdlfjshklf\n",
              "dtype: object"
            ]
          },
          "metadata": {},
          "execution_count": 21
        }
      ]
    },
    {
      "cell_type": "markdown",
      "source": [
        "Сгенерим серию из словаря. Мудрить с индексами не будем."
      ],
      "metadata": {
        "id": "ATNnyKswfmNj"
      }
    },
    {
      "cell_type": "code",
      "source": [
        "key = [i for i in range(11)]\n",
        "my_str = 'ansmdkfhgir'\n",
        "val = [i for i in my_str]\n",
        "my_dict = {k:v for k, v in zip(key, val)}"
      ],
      "metadata": {
        "id": "yKRckC5GfaKF"
      },
      "execution_count": null,
      "outputs": []
    },
    {
      "cell_type": "code",
      "source": [],
      "metadata": {
        "id": "zUHOlp39faFr",
        "colab": {
          "base_uri": "https://localhost:8080/"
        },
        "outputId": "87cad417-23e7-4084-a918-ecf8e8b29fd4"
      },
      "execution_count": null,
      "outputs": [
        {
          "output_type": "execute_result",
          "data": {
            "text/plain": [
              "0     a\n",
              "1     n\n",
              "2     s\n",
              "3     m\n",
              "4     d\n",
              "5     k\n",
              "6     f\n",
              "7     h\n",
              "8     g\n",
              "9     i\n",
              "10    r\n",
              "dtype: object"
            ]
          },
          "metadata": {},
          "execution_count": 12
        }
      ]
    },
    {
      "cell_type": "markdown",
      "source": [
        "# Notnull as Bool Masks\n",
        "\n",
        "Функционал фильтрации в панде полностью аналогичен нампаевскому"
      ],
      "metadata": {
        "id": "Tn6hmNvorpby"
      }
    },
    {
      "cell_type": "code",
      "source": [
        "s_3 = pd.Series([1, 2, 3, np.nan, 5, 6, np.nan])\n",
        "s_3[s_3.notnull()]"
      ],
      "metadata": {
        "id": "ofZal3ywfaBh",
        "colab": {
          "base_uri": "https://localhost:8080/"
        },
        "outputId": "2af7ac6d-d16e-45b0-d20c-2b2782a47903"
      },
      "execution_count": null,
      "outputs": [
        {
          "output_type": "execute_result",
          "data": {
            "text/plain": [
              "0    1.0\n",
              "1    2.0\n",
              "2    3.0\n",
              "4    5.0\n",
              "5    6.0\n",
              "dtype: float64"
            ]
          },
          "metadata": {},
          "execution_count": 28
        }
      ]
    },
    {
      "cell_type": "code",
      "source": [],
      "metadata": {
        "id": "OMZ1VnQ3d3F1"
      },
      "execution_count": null,
      "outputs": []
    },
    {
      "cell_type": "markdown",
      "source": [
        "# Mat Operations"
      ],
      "metadata": {
        "id": "E8A-v6-3r3Qa"
      }
    },
    {
      "cell_type": "markdown",
      "source": [
        "Сгенерим серию рандомных чисел и уменьшим все ее значения на 30%"
      ],
      "metadata": {
        "id": "WAN1RgNSgr-r"
      }
    },
    {
      "cell_type": "code",
      "source": [
        "s_4 = pd.Series(np.random.randint(1, 50, 20))\n"
      ],
      "metadata": {
        "id": "22W0BMCLgr4Y",
        "colab": {
          "base_uri": "https://localhost:8080/"
        },
        "outputId": "d84a3645-2e64-48fd-90d8-be00fc18bb32"
      },
      "execution_count": null,
      "outputs": [
        {
          "output_type": "execute_result",
          "data": {
            "text/plain": [
              "0     True\n",
              "1    False\n",
              "2     True\n",
              "dtype: bool"
            ]
          },
          "metadata": {},
          "execution_count": 42
        }
      ]
    },
    {
      "cell_type": "code",
      "source": [],
      "metadata": {
        "id": "SmM_7tz9gr2C"
      },
      "execution_count": null,
      "outputs": []
    },
    {
      "cell_type": "code",
      "source": [
        "\n"
      ],
      "metadata": {
        "id": "_MQcKZ-Ogrzr"
      },
      "execution_count": null,
      "outputs": []
    },
    {
      "cell_type": "code",
      "source": [],
      "metadata": {
        "id": "qjRs1Y1poU0a"
      },
      "execution_count": null,
      "outputs": []
    },
    {
      "cell_type": "markdown",
      "source": [
        "# isin()\n",
        "\n",
        "Данная функция проверяет ихождение элемента или элементов одной серии в другую серию."
      ],
      "metadata": {
        "id": "CREEg7d9oQ9a"
      }
    },
    {
      "cell_type": "code",
      "source": [],
      "metadata": {
        "id": "tQn3qEQKoVbk"
      },
      "execution_count": null,
      "outputs": []
    },
    {
      "cell_type": "code",
      "source": [],
      "metadata": {
        "id": "5veUcjiqgrxE"
      },
      "execution_count": null,
      "outputs": []
    },
    {
      "cell_type": "markdown",
      "source": [
        "# Фильтрация и чистка данных"
      ],
      "metadata": {
        "id": "iqNtYbClsO8G"
      }
    },
    {
      "cell_type": "markdown",
      "source": [
        "Создадим серию, и выкинем все, что откланяется более чем на одну сигму (стандартное отклонение)\n",
        "\n",
        "Метод values позволяет посмотреть содержимое серии в более компактном виде без индексов"
      ],
      "metadata": {
        "id": "q85pIfQuhgu_"
      }
    },
    {
      "cell_type": "code",
      "source": [
        "s_4 = pd.Series(np.random.rand(40)*10)\n",
        "s_4.values"
      ],
      "metadata": {
        "colab": {
          "base_uri": "https://localhost:8080/"
        },
        "id": "usImGcpcgruq",
        "outputId": "335738d0-ae53-4a48-b225-54f4fd953406"
      },
      "execution_count": null,
      "outputs": [
        {
          "output_type": "execute_result",
          "data": {
            "text/plain": [
              "array([4.79442318, 0.20319015, 5.88621864, 7.59916999, 1.54321435,\n",
              "       0.89476477, 5.66471507, 6.48435703, 2.39366554, 6.0293324 ,\n",
              "       1.05520407, 0.25586859, 9.84814942, 3.34263406, 0.23111301,\n",
              "       4.49001186, 0.02250844, 1.87806701, 2.39288635, 6.28228254,\n",
              "       9.74042529, 3.00388366, 2.61024184, 3.70648382, 4.60459138,\n",
              "       9.20479826, 2.77360828, 6.71026497, 1.03884783, 2.90243205,\n",
              "       5.9133756 , 1.06416531, 2.59411726, 3.93136928, 4.18885182,\n",
              "       4.63392761, 1.97966576, 3.98428085, 4.61653101, 1.0663583 ])"
            ]
          },
          "metadata": {},
          "execution_count": 35
        }
      ]
    },
    {
      "cell_type": "code",
      "source": [
        "shape_1 = s_4.shape[0] # проверим размер\n",
        "shape_1"
      ],
      "metadata": {
        "id": "4BnQRPxqiznx",
        "colab": {
          "base_uri": "https://localhost:8080/"
        },
        "outputId": "38e858a6-6179-4f9a-c536-13344ea7da03"
      },
      "execution_count": null,
      "outputs": [
        {
          "output_type": "execute_result",
          "data": {
            "text/plain": [
              "40"
            ]
          },
          "metadata": {},
          "execution_count": 27
        }
      ]
    },
    {
      "cell_type": "code",
      "source": [
        "std = s_4.std()\n",
        "mean = s_4.mean()"
      ],
      "metadata": {
        "id": "w14J7YCsgrsg"
      },
      "execution_count": null,
      "outputs": []
    },
    {
      "cell_type": "code",
      "source": [
        "mask_1 = s_4 > mean-std\n",
        "mask_2 = s_4 < mean+std  #создали маски для всех элементов, относительно отклонения от среднего на 1 сигму"
      ],
      "metadata": {
        "id": "iIGqbmuwgrqP"
      },
      "execution_count": null,
      "outputs": []
    },
    {
      "cell_type": "code",
      "source": [],
      "metadata": {
        "id": "N1EVxXYrPoTk"
      },
      "execution_count": null,
      "outputs": []
    },
    {
      "cell_type": "code",
      "source": [
        "display(mask_1.values, mask_2.values)"
      ],
      "metadata": {
        "id": "K4FMJC1WgrnG",
        "colab": {
          "base_uri": "https://localhost:8080/",
          "height": 196
        },
        "outputId": "e1aff0a0-1104-4d69-a648-d33aacbb9542"
      },
      "execution_count": null,
      "outputs": [
        {
          "output_type": "display_data",
          "data": {
            "text/plain": [
              "array([ True,  True,  True,  True, False,  True,  True, False, False,\n",
              "        True,  True,  True,  True,  True, False, False,  True,  True,\n",
              "        True,  True,  True,  True,  True,  True,  True,  True,  True,\n",
              "        True,  True,  True, False,  True,  True,  True,  True,  True,\n",
              "       False,  True, False,  True])"
            ]
          },
          "metadata": {}
        },
        {
          "output_type": "display_data",
          "data": {
            "text/plain": [
              "array([ True,  True, False,  True,  True,  True,  True,  True,  True,\n",
              "        True, False,  True, False,  True,  True,  True,  True, False,\n",
              "        True,  True,  True,  True,  True,  True, False,  True,  True,\n",
              "        True, False,  True,  True,  True,  True,  True,  True,  True,\n",
              "        True,  True,  True,  True])"
            ]
          },
          "metadata": {}
        }
      ]
    },
    {
      "cell_type": "code",
      "source": [
        "s_4 = s_4[mask_1 & mask_2] # пересохраним серию после отделения элементов из нужного диапозона\n",
        "s_4.values"
      ],
      "metadata": {
        "id": "fVsjIZOZd3DG",
        "colab": {
          "base_uri": "https://localhost:8080/"
        },
        "outputId": "844dd145-eff2-445c-bad6-8ac94d7f1400"
      },
      "execution_count": null,
      "outputs": [
        {
          "output_type": "execute_result",
          "data": {
            "text/plain": [
              "array([5.66055875, 7.46953669, 8.35216619, 7.89849524, 7.95190538,\n",
              "       7.96920684, 4.43883838, 5.57952447, 7.69363622, 5.9163733 ,\n",
              "       3.40950239, 4.53176455, 3.67006507, 8.53557783, 5.47126799,\n",
              "       6.92264868, 8.54533931, 8.54946656, 8.32779291, 6.68915   ,\n",
              "       8.19720281, 2.74281689, 4.19311089, 8.46402712, 3.12955493,\n",
              "       5.31881299])"
            ]
          },
          "metadata": {},
          "execution_count": 31
        }
      ]
    },
    {
      "cell_type": "code",
      "source": [
        "shape_2 = s_4.shape[0]"
      ],
      "metadata": {
        "id": "Lakx0oyGjBFO"
      },
      "execution_count": null,
      "outputs": []
    },
    {
      "cell_type": "code",
      "source": [
        "# сравним длины того что было и того что стало\n",
        "display(shape_1, shape_2)"
      ],
      "metadata": {
        "id": "KMkqYYzRjBCb",
        "colab": {
          "base_uri": "https://localhost:8080/",
          "height": 53
        },
        "outputId": "f261c8b7-f544-434a-8b1b-330fceaa9a01"
      },
      "execution_count": null,
      "outputs": [
        {
          "output_type": "display_data",
          "data": {
            "text/plain": [
              "40"
            ]
          },
          "metadata": {}
        },
        {
          "output_type": "display_data",
          "data": {
            "text/plain": [
              "26"
            ]
          },
          "metadata": {}
        }
      ]
    },
    {
      "cell_type": "code",
      "source": [
        "26/40"
      ],
      "metadata": {
        "id": "nutr3IZBjBAP",
        "colab": {
          "base_uri": "https://localhost:8080/"
        },
        "outputId": "c44ddf56-0a88-40be-902d-be1a34739192"
      },
      "execution_count": null,
      "outputs": [
        {
          "output_type": "execute_result",
          "data": {
            "text/plain": [
              "0.65"
            ]
          },
          "metadata": {},
          "execution_count": 34
        }
      ]
    },
    {
      "cell_type": "code",
      "source": [
        "import seaborn as sns\n",
        "sns.distplot(s_4, kde=True, bins=20)"
      ],
      "metadata": {
        "colab": {
          "base_uri": "https://localhost:8080/",
          "height": 480
        },
        "id": "COV7RDN6Qg-W",
        "outputId": "d7cee3de-574a-4519-a857-2ba8f88259a6"
      },
      "execution_count": null,
      "outputs": [
        {
          "output_type": "stream",
          "name": "stderr",
          "text": [
            "<ipython-input-70-b24d7ec6f166>:2: UserWarning: \n",
            "\n",
            "`distplot` is a deprecated function and will be removed in seaborn v0.14.0.\n",
            "\n",
            "Please adapt your code to use either `displot` (a figure-level function with\n",
            "similar flexibility) or `histplot` (an axes-level function for histograms).\n",
            "\n",
            "For a guide to updating your code to use the new functions, please see\n",
            "https://gist.github.com/mwaskom/de44147ed2974457ad6372750bbe5751\n",
            "\n",
            "  sns.distplot(s_4, kde=True, bins=20)\n"
          ]
        },
        {
          "output_type": "execute_result",
          "data": {
            "text/plain": [
              "<Axes: ylabel='Density'>"
            ]
          },
          "metadata": {},
          "execution_count": 70
        },
        {
          "output_type": "display_data",
          "data": {
            "text/plain": [
              "<Figure size 432x288 with 1 Axes>"
            ],
            "image/png": "[encoded data removed]"
          },
          "metadata": {
            "needs_background": "light"
          }
        }
      ]
    },
    {
      "cell_type": "markdown",
      "source": [
        "Создадим 2 серии и выполним их сумму."
      ],
      "metadata": {
        "id": "Iv8pS_0OkMSD"
      }
    },
    {
      "cell_type": "code",
      "source": [
        "a = pd.Series(np.random.randint(1, 50, 10))\n",
        "b = pd.Series(np.random.randint(1, 50, 11))"
      ],
      "metadata": {
        "id": "MIdel1iSjA9n"
      },
      "execution_count": null,
      "outputs": []
    },
    {
      "cell_type": "code",
      "source": [
        "a, b"
      ],
      "metadata": {
        "colab": {
          "base_uri": "https://localhost:8080/"
        },
        "id": "LWk8EpXgxCZD",
        "outputId": "d0987546-afae-43e2-abcc-3bf7af0bddab"
      },
      "execution_count": null,
      "outputs": [
        {
          "output_type": "execute_result",
          "data": {
            "text/plain": [
              "(0    44\n",
              " 1    30\n",
              " 2    36\n",
              " 3    49\n",
              " 4    49\n",
              " 5    44\n",
              " 6     4\n",
              " 7    12\n",
              " 8    30\n",
              " 9    38\n",
              " dtype: int64,\n",
              " 0     16\n",
              " 1      8\n",
              " 2     20\n",
              " 3     41\n",
              " 4     41\n",
              " 5     15\n",
              " 6     40\n",
              " 7     49\n",
              " 8     47\n",
              " 9     31\n",
              " 10     9\n",
              " dtype: int64)"
            ]
          },
          "metadata": {},
          "execution_count": 56
        }
      ]
    },
    {
      "cell_type": "code",
      "source": [
        "c = b>a\n",
        "c"
      ],
      "metadata": {
        "id": "ukHaq4IFjA7S",
        "colab": {
          "base_uri": "https://localhost:8080/",
          "height": 328
        },
        "outputId": "46e04922-a66b-43b7-e04a-60e41063a238"
      },
      "execution_count": null,
      "outputs": [
        {
          "output_type": "error",
          "ename": "ValueError",
          "evalue": "ignored",
          "traceback": [
            "\u001b[0;31m---------------------------------------------------------------------------\u001b[0m",
            "\u001b[0;31mValueError\u001b[0m                                Traceback (most recent call last)",
            "\u001b[0;32m<ipython-input-57-2110bf4ab472>\u001b[0m in \u001b[0;36m<cell line: 1>\u001b[0;34m()\u001b[0m\n\u001b[0;32m----> 1\u001b[0;31m \u001b[0mc\u001b[0m \u001b[0;34m=\u001b[0m \u001b[0mb\u001b[0m\u001b[0;34m>\u001b[0m\u001b[0ma\u001b[0m\u001b[0;34m\u001b[0m\u001b[0;34m\u001b[0m\u001b[0m\n\u001b[0m\u001b[1;32m      2\u001b[0m \u001b[0mc\u001b[0m\u001b[0;34m\u001b[0m\u001b[0;34m\u001b[0m\u001b[0m\n",
            "\u001b[0;32m/usr/local/lib/python3.9/dist-packages/pandas/core/ops/common.py\u001b[0m in \u001b[0;36mnew_method\u001b[0;34m(self, other)\u001b[0m\n\u001b[1;32m     68\u001b[0m         \u001b[0mother\u001b[0m \u001b[0;34m=\u001b[0m \u001b[0mitem_from_zerodim\u001b[0m\u001b[0;34m(\u001b[0m\u001b[0mother\u001b[0m\u001b[0;34m)\u001b[0m\u001b[0;34m\u001b[0m\u001b[0;34m\u001b[0m\u001b[0m\n\u001b[1;32m     69\u001b[0m \u001b[0;34m\u001b[0m\u001b[0m\n\u001b[0;32m---> 70\u001b[0;31m         \u001b[0;32mreturn\u001b[0m \u001b[0mmethod\u001b[0m\u001b[0;34m(\u001b[0m\u001b[0mself\u001b[0m\u001b[0;34m,\u001b[0m \u001b[0mother\u001b[0m\u001b[0;34m)\u001b[0m\u001b[0;34m\u001b[0m\u001b[0;34m\u001b[0m\u001b[0m\n\u001b[0m\u001b[1;32m     71\u001b[0m \u001b[0;34m\u001b[0m\u001b[0m\n\u001b[1;32m     72\u001b[0m     \u001b[0;32mreturn\u001b[0m \u001b[0mnew_method\u001b[0m\u001b[0;34m\u001b[0m\u001b[0;34m\u001b[0m\u001b[0m\n",
            "\u001b[0;32m/usr/local/lib/python3.9/dist-packages/pandas/core/arraylike.py\u001b[0m in \u001b[0;36m__gt__\u001b[0;34m(self, other)\u001b[0m\n\u001b[1;32m     54\u001b[0m     \u001b[0;34m@\u001b[0m\u001b[0munpack_zerodim_and_defer\u001b[0m\u001b[0;34m(\u001b[0m\u001b[0;34m\"__gt__\"\u001b[0m\u001b[0;34m)\u001b[0m\u001b[0;34m\u001b[0m\u001b[0;34m\u001b[0m\u001b[0m\n\u001b[1;32m     55\u001b[0m     \u001b[0;32mdef\u001b[0m \u001b[0m__gt__\u001b[0m\u001b[0;34m(\u001b[0m\u001b[0mself\u001b[0m\u001b[0;34m,\u001b[0m \u001b[0mother\u001b[0m\u001b[0;34m)\u001b[0m\u001b[0;34m:\u001b[0m\u001b[0;34m\u001b[0m\u001b[0;34m\u001b[0m\u001b[0m\n\u001b[0;32m---> 56\u001b[0;31m         \u001b[0;32mreturn\u001b[0m \u001b[0mself\u001b[0m\u001b[0;34m.\u001b[0m\u001b[0m_cmp_method\u001b[0m\u001b[0;34m(\u001b[0m\u001b[0mother\u001b[0m\u001b[0;34m,\u001b[0m \u001b[0moperator\u001b[0m\u001b[0;34m.\u001b[0m\u001b[0mgt\u001b[0m\u001b[0;34m)\u001b[0m\u001b[0;34m\u001b[0m\u001b[0;34m\u001b[0m\u001b[0m\n\u001b[0m\u001b[1;32m     57\u001b[0m \u001b[0;34m\u001b[0m\u001b[0m\n\u001b[1;32m     58\u001b[0m     \u001b[0;34m@\u001b[0m\u001b[0munpack_zerodim_and_defer\u001b[0m\u001b[0;34m(\u001b[0m\u001b[0;34m\"__ge__\"\u001b[0m\u001b[0;34m)\u001b[0m\u001b[0;34m\u001b[0m\u001b[0;34m\u001b[0m\u001b[0m\n",
            "\u001b[0;32m/usr/local/lib/python3.9/dist-packages/pandas/core/series.py\u001b[0m in \u001b[0;36m_cmp_method\u001b[0;34m(self, other, op)\u001b[0m\n\u001b[1;32m   5615\u001b[0m \u001b[0;34m\u001b[0m\u001b[0m\n\u001b[1;32m   5616\u001b[0m         \u001b[0;32mif\u001b[0m \u001b[0misinstance\u001b[0m\u001b[0;34m(\u001b[0m\u001b[0mother\u001b[0m\u001b[0;34m,\u001b[0m \u001b[0mSeries\u001b[0m\u001b[0;34m)\u001b[0m \u001b[0;32mand\u001b[0m \u001b[0;32mnot\u001b[0m \u001b[0mself\u001b[0m\u001b[0;34m.\u001b[0m\u001b[0m_indexed_same\u001b[0m\u001b[0;34m(\u001b[0m\u001b[0mother\u001b[0m\u001b[0;34m)\u001b[0m\u001b[0;34m:\u001b[0m\u001b[0;34m\u001b[0m\u001b[0;34m\u001b[0m\u001b[0m\n\u001b[0;32m-> 5617\u001b[0;31m             \u001b[0;32mraise\u001b[0m \u001b[0mValueError\u001b[0m\u001b[0;34m(\u001b[0m\u001b[0;34m\"Can only compare identically-labeled Series objects\"\u001b[0m\u001b[0;34m)\u001b[0m\u001b[0;34m\u001b[0m\u001b[0;34m\u001b[0m\u001b[0m\n\u001b[0m\u001b[1;32m   5618\u001b[0m \u001b[0;34m\u001b[0m\u001b[0m\n\u001b[1;32m   5619\u001b[0m         \u001b[0mlvalues\u001b[0m \u001b[0;34m=\u001b[0m \u001b[0mself\u001b[0m\u001b[0;34m.\u001b[0m\u001b[0m_values\u001b[0m\u001b[0;34m\u001b[0m\u001b[0;34m\u001b[0m\u001b[0m\n",
            "\u001b[0;31mValueError\u001b[0m: Can only compare identically-labeled Series objects"
          ]
        }
      ]
    },
    {
      "cell_type": "code",
      "source": [
        "# уберем NaN\n",
        "c[c.notnull()]"
      ],
      "metadata": {
        "id": "mvM-5zVCjA4u",
        "colab": {
          "base_uri": "https://localhost:8080/"
        },
        "outputId": "256f3bb6-eccb-4a56-ef5d-2506fbdf09d8"
      },
      "execution_count": null,
      "outputs": [
        {
          "output_type": "execute_result",
          "data": {
            "text/plain": [
              "0    15.0\n",
              "1    67.0\n",
              "2    18.0\n",
              "3    17.0\n",
              "4    49.0\n",
              "5    27.0\n",
              "6    13.0\n",
              "7    71.0\n",
              "8    34.0\n",
              "9    51.0\n",
              "dtype: float64"
            ]
          },
          "metadata": {},
          "execution_count": 49
        }
      ]
    },
    {
      "cell_type": "code",
      "source": [
        "c.notnull()"
      ],
      "metadata": {
        "id": "R40o_uv4ktGD",
        "colab": {
          "base_uri": "https://localhost:8080/"
        },
        "outputId": "1f0b3aef-79ba-45cc-9ed8-a8b73717c002"
      },
      "execution_count": null,
      "outputs": [
        {
          "output_type": "execute_result",
          "data": {
            "text/plain": [
              "0      True\n",
              "1      True\n",
              "2      True\n",
              "3      True\n",
              "4      True\n",
              "5      True\n",
              "6      True\n",
              "7      True\n",
              "8      True\n",
              "9      True\n",
              "10    False\n",
              "11    False\n",
              "12    False\n",
              "13    False\n",
              "14    False\n",
              "dtype: bool"
            ]
          },
          "metadata": {},
          "execution_count": 48
        }
      ]
    },
    {
      "cell_type": "code",
      "source": [],
      "metadata": {
        "id": "82YJB4RZoLSr"
      },
      "execution_count": null,
      "outputs": []
    },
    {
      "cell_type": "code",
      "source": [],
      "metadata": {
        "id": "JdTxaA2LoLP_"
      },
      "execution_count": null,
      "outputs": []
    },
    {
      "cell_type": "markdown",
      "source": [
        "Как добавить в серию элемент?\n",
        "\n",
        "Можно обратиться по существующему элементу и переприсвоить туда новое значение.\n",
        "\n",
        "Если обратиться по не несуществующему индексу и добавить туда значение, то появится в серии новый элемент."
      ],
      "metadata": {
        "id": "F5dTzIavoL5C"
      }
    },
    {
      "cell_type": "code",
      "source": [
        "s = pd.Series([1, 2, 3, 4])\n",
        "s"
      ],
      "metadata": {
        "id": "2UVyRunfn3lb",
        "colab": {
          "base_uri": "https://localhost:8080/"
        },
        "outputId": "6b914958-836c-4c60-cf68-76b3a352b261"
      },
      "execution_count": null,
      "outputs": [
        {
          "output_type": "execute_result",
          "data": {
            "text/plain": [
              "0    1\n",
              "1    2\n",
              "2    3\n",
              "3    4\n",
              "dtype: int64"
            ]
          },
          "metadata": {},
          "execution_count": 62
        }
      ]
    },
    {
      "cell_type": "code",
      "source": [
        "s[3] = 9789 # заменили элемент под индексом 3"
      ],
      "metadata": {
        "id": "Qc-X2fY3n3im"
      },
      "execution_count": null,
      "outputs": []
    },
    {
      "cell_type": "code",
      "source": [
        "s_1 = s[:2].copy()\n",
        "s_1"
      ],
      "metadata": {
        "id": "RSN8HXVun3fz",
        "colab": {
          "base_uri": "https://localhost:8080/"
        },
        "outputId": "9d5ad5f5-0945-4aa7-a39a-d79480e4ea3c"
      },
      "execution_count": null,
      "outputs": [
        {
          "output_type": "execute_result",
          "data": {
            "text/plain": [
              "0    1\n",
              "1    2\n",
              "dtype: int64"
            ]
          },
          "metadata": {},
          "execution_count": 63
        }
      ]
    },
    {
      "cell_type": "code",
      "source": [
        "s_1[0] = 10000000"
      ],
      "metadata": {
        "id": "Faz8CJXEn3bY"
      },
      "execution_count": null,
      "outputs": []
    },
    {
      "cell_type": "code",
      "source": [
        "s_1"
      ],
      "metadata": {
        "colab": {
          "base_uri": "https://localhost:8080/"
        },
        "id": "88oEKmYgSnbU",
        "outputId": "17f943da-ddee-4e1c-cf88-4ccd9ac9142e"
      },
      "execution_count": null,
      "outputs": [
        {
          "output_type": "execute_result",
          "data": {
            "text/plain": [
              "0    10000000\n",
              "1           2\n",
              "dtype: int64"
            ]
          },
          "metadata": {},
          "execution_count": 66
        }
      ]
    },
    {
      "cell_type": "code",
      "source": [
        "s_2 = pd.Series([2, 3, 4, 5], index=['a', 'b', 'c', 'd'])\n",
        "s_2['a'] # вытащим элемент под индексом 'a'"
      ],
      "metadata": {
        "id": "Gmj36uMWonaG",
        "colab": {
          "base_uri": "https://localhost:8080/"
        },
        "outputId": "d4949108-1d77-4e58-e94d-70f47fd3c6db"
      },
      "execution_count": null,
      "outputs": [
        {
          "output_type": "execute_result",
          "data": {
            "text/plain": [
              "2"
            ]
          },
          "metadata": {},
          "execution_count": 67
        }
      ]
    },
    {
      "cell_type": "code",
      "source": [
        "s_2['h'] = 10000 # сщздадим новое значение под индексом 'h'\n",
        "s_2"
      ],
      "metadata": {
        "id": "bS86s7nTonXI",
        "colab": {
          "base_uri": "https://localhost:8080/"
        },
        "outputId": "92ba3ca3-c022-4d54-acfa-30993511f7ed"
      },
      "execution_count": null,
      "outputs": [
        {
          "output_type": "execute_result",
          "data": {
            "text/plain": [
              "a        2\n",
              "b        3\n",
              "c        4\n",
              "d        5\n",
              "h    10000\n",
              "dtype: int64"
            ]
          },
          "metadata": {},
          "execution_count": 69
        }
      ]
    },
    {
      "cell_type": "code",
      "source": [],
      "metadata": {
        "id": "ZEzc_Asbn3Yj"
      },
      "execution_count": null,
      "outputs": []
    }
  ]
}