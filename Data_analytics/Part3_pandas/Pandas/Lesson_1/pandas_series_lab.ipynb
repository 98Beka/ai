{
  "nbformat": 4,
  "nbformat_minor": 0,
  "metadata": {
    "colab": {
      "provenance": [],
      "name": "pandas_series_lab.ipynb"
    },
    "kernelspec": {
      "name": "python3",
      "display_name": "Python 3"
    },
    "language_info": {
      "name": "python"
    }
  },
  "cells": [
    {
      "cell_type": "code",
      "execution_count": null,
      "metadata": {
        "id": "1DmvOsrFlELm"
      },
      "outputs": [],
      "source": [
        "import numpy as np\n",
        "import pandas as pd\n",
        "import seaborn as sns\n",
        "import matplotlib.pyplot as plt"
      ]
    },
    {
      "cell_type": "markdown",
      "source": [
        "# Task 1\n",
        "\n",
        "Данн массив случайных целых чисел.\n",
        "* Преобразуйте его в серию.\n",
        "* Выведите отдельно массив с индексами и массив со значениями серии.\n",
        "* Измените индексы на упорядоченное множество чисел начиная с 1. [1, 2, 3,...]\n",
        "* Постройте гистограмму распрпеделения элементов серии.\n",
        "* Определите, на сколько процентов отличается количество четных от нечетных Надо помнить, что булева фильтрация с `pd.Series` работает в точности также как и с `np.ndarray`."
      ],
      "metadata": {
        "id": "4-q30KGqlY8C"
      }
    },
    {
      "cell_type": "code",
      "source": [
        "arr = np.random.randint(1, 40, 40)\n",
        "ser = pd.Series()\n",
        "# your code"
      ],
      "metadata": {
        "id": "uMVr38cplFFZ",
        "colab": {
          "base_uri": "https://localhost:8080/"
        },
        "outputId": "952152f3-fd0d-4270-b7ac-716b0acef160"
      },
      "execution_count": null,
      "outputs": [
        {
          "output_type": "stream",
          "name": "stderr",
          "text": [
            "<ipython-input-9-5391cab7bfbd>:2: FutureWarning: The default dtype for empty Series will be 'object' instead of 'float64' in a future version. Specify a dtype explicitly to silence this warning.\n",
            "  ser = pd.Series()\n"
          ]
        }
      ]
    },
    {
      "cell_type": "code",
      "source": [],
      "metadata": {
        "id": "i4okQAqYlFAo"
      },
      "execution_count": null,
      "outputs": []
    },
    {
      "cell_type": "code",
      "source": [],
      "metadata": {
        "id": "i8junGFWlE-b"
      },
      "execution_count": null,
      "outputs": []
    },
    {
      "cell_type": "markdown",
      "source": [
        "# Task 2\n",
        "\n",
        "Дан список имен и баллов за тест.\n",
        "* Сгенерите из представленных данныъх серию, где в качестве индекса будет имя, а в качестве значения - балл. Присвойте серии имя test.\n",
        "* Отсортируйте полученную серию по убыванию используя функцию `ser.sort_values(ascending=False)`\n",
        "* Постройте `sns.barplot`\n",
        "\n",
        "![image.png](data:image/png;base64,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)"
      ],
      "metadata": {
        "id": "Ha4H_PnXmAOH"
      }
    },
    {
      "cell_type": "code",
      "source": [
        "names = ['Ырыс', 'Василий', 'Мария', 'Павел', 'Улан', 'Айдар', 'Саид', 'Ирина', 'Ден', 'Айхан']\n",
        "score = [95, 85, 30, 40, 50, 67, 21, 1, 2, 38]"
      ],
      "metadata": {
        "id": "P0MM9ATGlE8E"
      },
      "execution_count": null,
      "outputs": []
    },
    {
      "cell_type": "code",
      "source": [],
      "metadata": {
        "id": "kKHIBW-c1wyM"
      },
      "execution_count": null,
      "outputs": []
    },
    {
      "cell_type": "code",
      "source": [],
      "metadata": {
        "id": "3Xgp64Pv1wvX"
      },
      "execution_count": null,
      "outputs": []
    },
    {
      "cell_type": "markdown",
      "source": [
        "# Task 3\n",
        "Напишите функцию, на вход которой подается словарь и лист с желаемым расположением индексов. Функция возвращает серию.\n",
        "\n",
        "С помощью данной функции остройте серию так, чтобы индексы были расположены в порядке: e, a, c, b, d"
      ],
      "metadata": {
        "id": "DBJeulfTnP9t"
      }
    },
    {
      "cell_type": "code",
      "source": [
        "your_dict = {'a': 1, 'b': 10, 'c': 21, 'd': 12, 'e': 31}"
      ],
      "metadata": {
        "id": "UQXZ5bV_m8cU"
      },
      "execution_count": null,
      "outputs": []
    },
    {
      "cell_type": "code",
      "source": [],
      "metadata": {
        "id": "LpJy8Jxy5iV3"
      },
      "execution_count": null,
      "outputs": []
    },
    {
      "cell_type": "code",
      "source": [],
      "metadata": {
        "id": "BHp88HSz5iS1"
      },
      "execution_count": null,
      "outputs": []
    },
    {
      "cell_type": "markdown",
      "source": [
        "# Task 4\n",
        "\n",
        "Даны два массива.\n",
        "* Сформируйте из них словарь.\n",
        "* Напишите функцию, которая получает на вход словарь и возвращает серию.\n",
        "* Постройте серию `my_ser` из сформированного словаря применив написанную функцию.\n",
        "* Добавьте в серию еще один индекс g. Индексу g присвойте значение 10."
      ],
      "metadata": {
        "id": "jNyYahOjpSRX"
      }
    },
    {
      "cell_type": "code",
      "source": [
        "l_val = [2, 3, 4, 5, 3, 2]\n",
        "l_keys = ['a', 'b', 'c', 'd', 'e', 'f']\n",
        "\n",
        "my_dict..."
      ],
      "metadata": {
        "id": "6AAPoo4lplal"
      },
      "execution_count": null,
      "outputs": []
    },
    {
      "cell_type": "code",
      "source": [],
      "metadata": {
        "id": "YRxw9BVFm8S_"
      },
      "execution_count": null,
      "outputs": []
    },
    {
      "cell_type": "code",
      "source": [],
      "metadata": {
        "id": "MKqSk7V2m8Qp"
      },
      "execution_count": null,
      "outputs": []
    },
    {
      "cell_type": "code",
      "source": [
        "my_ser"
      ],
      "metadata": {
        "id": "9C0kJatxm8Ny",
        "colab": {
          "base_uri": "https://localhost:8080/"
        },
        "outputId": "59bd62a6-41aa-4576-8a28-d36eeabeb1e4"
      },
      "execution_count": null,
      "outputs": [
        {
          "output_type": "execute_result",
          "data": {
            "text/plain": [
              "a     2\n",
              "b     3\n",
              "c     4\n",
              "d     5\n",
              "e     3\n",
              "f     2\n",
              "g    10\n",
              "dtype: int64"
            ]
          },
          "metadata": {},
          "execution_count": 31
        }
      ]
    },
    {
      "cell_type": "code",
      "source": [],
      "metadata": {
        "id": "03a7vd_Rp1Hz"
      },
      "execution_count": null,
      "outputs": []
    },
    {
      "cell_type": "markdown",
      "source": [
        "# Task 5\n",
        "\n",
        "Проверьте, все ли значения серии заполнены?\n",
        "* Напишите функцию, которая получает на вход серию и возвращает одно значение:\n",
        "  1. True - если в серии пропусков нет\n",
        "  2. False - если есть хотя бы один пропуск.\n",
        "* Почистите серию от пропусков."
      ],
      "metadata": {
        "id": "6uInutCxp1h-"
      }
    },
    {
      "cell_type": "code",
      "source": [
        "ser_n = pd.Series([3, 4, 7, 3, 4, np.nan, 4, 3, 2])"
      ],
      "metadata": {
        "id": "vH8WI5U8p1FC"
      },
      "execution_count": null,
      "outputs": []
    },
    {
      "cell_type": "code",
      "source": [],
      "metadata": {
        "id": "6TqC9KM-p1Cw"
      },
      "execution_count": null,
      "outputs": []
    },
    {
      "cell_type": "code",
      "source": [],
      "metadata": {
        "id": "rIp6EKzEp1AM"
      },
      "execution_count": null,
      "outputs": []
    },
    {
      "cell_type": "markdown",
      "source": [
        "# Task 6\n",
        "\n",
        "Мы имеем несколько серий, где хранятся по дням недели количества посещений определенным пользователем сайта за день.\n",
        "\n",
        "* Составте новую серию, которая содержит по дням суммарное число посещений за 3 недели.\n",
        "* Составте новую серию, которая содержит по дням усредненное число посещений за 3 недели.\n",
        "* Постройте барплот со средним количеством посещением пользователя по дням недели.\n",
        "* Составте новую серию, которая содержит по дням максимальное количество посещений за 3 недели."
      ],
      "metadata": {
        "id": "7WxlfQ2wqo8c"
      }
    },
    {
      "cell_type": "code",
      "source": [
        "index = ['Пн', 'Вт', 'Ср', 'Чт', 'Пт', 'Сб', 'Вс']\n",
        "week_1 = pd.Series([1, 12, 41, 1, 3, 6, 3], index=index)\n",
        "week_2 = pd.Series([4, 7, 3, 5, 7, 21, 5], index=index)\n",
        "week_3 = pd.Series([9, 2, 5, 15, 6, 10, 2], index=index)"
      ],
      "metadata": {
        "id": "OZTFnct4q-X-"
      },
      "execution_count": null,
      "outputs": []
    },
    {
      "cell_type": "code",
      "source": [],
      "metadata": {
        "id": "h-zjsWKJq-VU"
      },
      "execution_count": null,
      "outputs": []
    },
    {
      "cell_type": "code",
      "source": [],
      "metadata": {
        "id": "iIfjse7Hq-Sw"
      },
      "execution_count": null,
      "outputs": []
    },
    {
      "cell_type": "markdown",
      "source": [
        "# Task_7\n",
        "\n",
        "Мы сгенерили две серии со стоимостями земельных участков и с площадями участков в сотках. Индексы содержат идентификаторы никальных участков. Таким образом, если мы знаем стоимость конкретного участка, то мы можем не знать его площадь.\n",
        "* Получите серию со стоимостями одной сотки для каждого участка\n",
        "* Получите список всех участков, по которым удалось вычислить стоимость земли за одну сотку.\n",
        "* Почистите полученную серию от пропусков. Почему появились пропуски?\n",
        "* Постройте Барплот по стоимостям за сотку для участков."
      ],
      "metadata": {
        "id": "Sh7B-cqj7vdS"
      }
    },
    {
      "cell_type": "code",
      "source": [
        "ind_price = ['Object_' + str(i) for i in [1, 2, 4, 5, 7, 9, 10, 11, 12, 13]]\n",
        "ind_squere = ['Object_' + str(i) for i in [1, 3, 4, 6, 7, 8, 9, 11, 12, 13, 14]]\n",
        "price = np.random.randint(20000, 100000, len(ind_price))\n",
        "squere = np.random.randint(5, 12, len(ind_squere))\n",
        "\n",
        "price = pd.Series(price, index = ind_price)\n",
        "squere = pd.Series(squere, index = ind_squere)"
      ],
      "metadata": {
        "id": "RHxyUKSiq-Qh"
      },
      "execution_count": null,
      "outputs": []
    },
    {
      "cell_type": "code",
      "source": [],
      "metadata": {
        "id": "C3zqKhV_p064"
      },
      "execution_count": null,
      "outputs": []
    },
    {
      "cell_type": "code",
      "source": [],
      "metadata": {
        "id": "VjnH1_259E-l"
      },
      "execution_count": null,
      "outputs": []
    },
    {
      "cell_type": "code",
      "source": [],
      "metadata": {
        "id": "B0-MdsIb9Ynh"
      },
      "execution_count": null,
      "outputs": []
    }
  ]
}