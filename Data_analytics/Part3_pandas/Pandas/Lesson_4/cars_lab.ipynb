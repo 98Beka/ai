{
  "nbformat": 4,
  "nbformat_minor": 0,
  "metadata": {
    "colab": {
      "provenance": []
    },
    "kernelspec": {
      "name": "python3",
      "display_name": "Python 3"
    },
    "language_info": {
      "name": "python"
    }
  },
  "cells": [
    {
      "cell_type": "code",
      "execution_count": null,
      "metadata": {
        "id": "XF0lh4Lv35Hm"
      },
      "outputs": [],
      "source": [
        "import numpy as np\n",
        "import pandas as pd"
      ]
    },
    {
      "cell_type": "markdown",
      "source": [
        "# Part 0\n",
        "\n",
        "Create DataFrame"
      ],
      "metadata": {
        "id": "51CCf97RLsqO"
      }
    },
    {
      "cell_type": "code",
      "source": [
        "brend  = ['Kia', 'Hyundai']\n",
        "model = ['Rio', 'Solaris']\n",
        "mod_dict = {'Kia': 'Rio', 'Hyundai': 'Solaris'}\n",
        "production_year = np.random.randint(2017, 2023, 400)\n",
        "bin = np.random.randint(0, 2, 400)\n",
        "br_col = [brend[i] for i in bin]\n",
        "engine_type = [[1.4, 1.6][i] for i in bin]\n",
        "engine_type = [[1.4, 1.6][i] for i in bin]\n",
        "transmission = [['Auto', 'Manual'][i] for i in bin]"
      ],
      "metadata": {
        "id": "oFGPGikf4C_Y"
      },
      "execution_count": null,
      "outputs": []
    },
    {
      "cell_type": "code",
      "source": [
        "df = pd.DataFrame()\n",
        "df['brend'] = br_col\n",
        "df['model'] = df.brend.map(mod_dict)\n",
        "df['production_year'] = production_year\n",
        "df['mileage'] = df.production_year.map(lambda i: np.random.randint((2023-i)*10000, (2023-i)*50000, 1)[0].astype(str) + ' km')\n",
        "df['engine_type'] = engine_type\n",
        "df['transmission'] = transmission\n",
        "df['USD_price'] = df.production_year.map(lambda i: np.random.randint(16000*(1 - (2023-i)*0.15), 15000*(1 - (2023-i)*0.05), 1)[0])\n",
        "df.loc[df['engine_type']==1.4, 'USD_price'] *= 0.93\n",
        "df.loc[df['transmission']=='Manual', 'USD_price'] *= 0.95\n",
        "df.loc[df['transmission']=='Manual', 'USD_price'] *= 0.95\n",
        "df['mileage_int'] = df.mileage.map(lambda i: int(i.replace(' km', '')))\n",
        "df.loc[df['mileage_int'] > 100000, 'USD_price'] *= 0.88\n",
        "df.loc[df['mileage_int'] > 150000, 'USD_price'] *= 0.92\n",
        "df.loc[np.random.randint(0, 401, 5).tolist(), 'production_year'] = np.nan\n",
        "df.loc[np.random.randint(0, 401, 5).tolist(), 'mileage'] = np.nan\n",
        "df.drop('mileage_int', axis=1, inplace=True)"
      ],
      "metadata": {
        "id": "8TrvwYm067eX"
      },
      "execution_count": null,
      "outputs": []
    },
    {
      "cell_type": "code",
      "source": [
        "df"
      ],
      "metadata": {
        "colab": {
          "base_uri": "https://localhost:8080/"
        },
        "id": "sKPdVVWh7Hnt",
        "outputId": "0eefc2d3-5d06-4f3d-d932-0d69241bcbf2"
      },
      "execution_count": null,
      "outputs": [
        {
          "output_type": "execute_result",
          "data": {
            "text/plain": [
              "       brend    model  production_year    mileage  engine_type transmission  \\\n",
              "0        Kia      Rio           2021.0   69330 km          1.4         Auto   \n",
              "1        Kia      Rio           2021.0   70074 km          1.4         Auto   \n",
              "2        Kia      Rio           2020.0  131573 km          1.4         Auto   \n",
              "3        Kia      Rio           2021.0   22221 km          1.4         Auto   \n",
              "4        Kia      Rio           2018.0  102427 km          1.4         Auto   \n",
              "..       ...      ...              ...        ...          ...          ...   \n",
              "395  Hyundai  Solaris           2022.0   32800 km          1.6       Manual   \n",
              "396      Kia      Rio           2022.0   38758 km          1.4         Auto   \n",
              "397      Kia      Rio           2017.0  104945 km          1.4         Auto   \n",
              "398      Kia      Rio           2020.0   45177 km          1.4         Auto   \n",
              "399      Kia      Rio              NaN   59437 km          1.4         Auto   \n",
              "\n",
              "      USD_price  \n",
              "0    10584.3300  \n",
              "1    11589.6600  \n",
              "2     7314.8592  \n",
              "3    10816.8300  \n",
              "4     6849.1896  \n",
              "..          ...  \n",
              "395  12638.6100  \n",
              "396  13099.0500  \n",
              "397   3127.9248  \n",
              "398   9945.4200  \n",
              "399  10547.1300  \n",
              "\n",
              "[400 rows x 7 columns]"
            ],
            "text/html": [
              "\n",
              "  <div id=\"df-33205de4-4a93-47b2-a28f-9a894e460e11\">\n",
              "    <div class=\"colab-df-container\">\n",
              "      <div>\n",
              "<style scoped>\n",
              "    .dataframe tbody tr th:only-of-type {\n",
              "        vertical-align: middle;\n",
              "    }\n",
              "\n",
              "    .dataframe tbody tr th {\n",
              "        vertical-align: top;\n",
              "    }\n",
              "\n",
              "    .dataframe thead th {\n",
              "        text-align: right;\n",
              "    }\n",
              "</style>\n",
              "<table border=\"1\" class=\"dataframe\">\n",
              "  <thead>\n",
              "    <tr style=\"text-align: right;\">\n",
              "      <th></th>\n",
              "      <th>brend</th>\n",
              "      <th>model</th>\n",
              "      <th>production_year</th>\n",
              "      <th>mileage</th>\n",
              "      <th>engine_type</th>\n",
              "      <th>transmission</th>\n",
              "      <th>USD_price</th>\n",
              "    </tr>\n",
              "  </thead>\n",
              "  <tbody>\n",
              "    <tr>\n",
              "      <th>0</th>\n",
              "      <td>Kia</td>\n",
              "      <td>Rio</td>\n",
              "      <td>2021.0</td>\n",
              "      <td>69330 km</td>\n",
              "      <td>1.4</td>\n",
              "      <td>Auto</td>\n",
              "      <td>10584.3300</td>\n",
              "    </tr>\n",
              "    <tr>\n",
              "      <th>1</th>\n",
              "      <td>Kia</td>\n",
              "      <td>Rio</td>\n",
              "      <td>2021.0</td>\n",
              "      <td>70074 km</td>\n",
              "      <td>1.4</td>\n",
              "      <td>Auto</td>\n",
              "      <td>11589.6600</td>\n",
              "    </tr>\n",
              "    <tr>\n",
              "      <th>2</th>\n",
              "      <td>Kia</td>\n",
              "      <td>Rio</td>\n",
              "      <td>2020.0</td>\n",
              "      <td>131573 km</td>\n",
              "      <td>1.4</td>\n",
              "      <td>Auto</td>\n",
              "      <td>7314.8592</td>\n",
              "    </tr>\n",
              "    <tr>\n",
              "      <th>3</th>\n",
              "      <td>Kia</td>\n",
              "      <td>Rio</td>\n",
              "      <td>2021.0</td>\n",
              "      <td>22221 km</td>\n",
              "      <td>1.4</td>\n",
              "      <td>Auto</td>\n",
              "      <td>10816.8300</td>\n",
              "    </tr>\n",
              "    <tr>\n",
              "      <th>4</th>\n",
              "      <td>Kia</td>\n",
              "      <td>Rio</td>\n",
              "      <td>2018.0</td>\n",
              "      <td>102427 km</td>\n",
              "      <td>1.4</td>\n",
              "      <td>Auto</td>\n",
              "      <td>6849.1896</td>\n",
              "    </tr>\n",
              "    <tr>\n",
              "      <th>...</th>\n",
              "      <td>...</td>\n",
              "      <td>...</td>\n",
              "      <td>...</td>\n",
              "      <td>...</td>\n",
              "      <td>...</td>\n",
              "      <td>...</td>\n",
              "      <td>...</td>\n",
              "    </tr>\n",
              "    <tr>\n",
              "      <th>395</th>\n",
              "      <td>Hyundai</td>\n",
              "      <td>Solaris</td>\n",
              "      <td>2022.0</td>\n",
              "      <td>32800 km</td>\n",
              "      <td>1.6</td>\n",
              "      <td>Manual</td>\n",
              "      <td>12638.6100</td>\n",
              "    </tr>\n",
              "    <tr>\n",
              "      <th>396</th>\n",
              "      <td>Kia</td>\n",
              "      <td>Rio</td>\n",
              "      <td>2022.0</td>\n",
              "      <td>38758 km</td>\n",
              "      <td>1.4</td>\n",
              "      <td>Auto</td>\n",
              "      <td>13099.0500</td>\n",
              "    </tr>\n",
              "    <tr>\n",
              "      <th>397</th>\n",
              "      <td>Kia</td>\n",
              "      <td>Rio</td>\n",
              "      <td>2017.0</td>\n",
              "      <td>104945 km</td>\n",
              "      <td>1.4</td>\n",
              "      <td>Auto</td>\n",
              "      <td>3127.9248</td>\n",
              "    </tr>\n",
              "    <tr>\n",
              "      <th>398</th>\n",
              "      <td>Kia</td>\n",
              "      <td>Rio</td>\n",
              "      <td>2020.0</td>\n",
              "      <td>45177 km</td>\n",
              "      <td>1.4</td>\n",
              "      <td>Auto</td>\n",
              "      <td>9945.4200</td>\n",
              "    </tr>\n",
              "    <tr>\n",
              "      <th>399</th>\n",
              "      <td>Kia</td>\n",
              "      <td>Rio</td>\n",
              "      <td>NaN</td>\n",
              "      <td>59437 km</td>\n",
              "      <td>1.4</td>\n",
              "      <td>Auto</td>\n",
              "      <td>10547.1300</td>\n",
              "    </tr>\n",
              "  </tbody>\n",
              "</table>\n",
              "<p>400 rows × 7 columns</p>\n",
              "</div>\n",
              "      <button class=\"colab-df-convert\" onclick=\"convertToInteractive('df-33205de4-4a93-47b2-a28f-9a894e460e11')\"\n",
              "              title=\"Convert this dataframe to an interactive table.\"\n",
              "              style=\"display:none;\">\n",
              "        \n",
              "  <svg xmlns=\"http://www.w3.org/2000/svg\" height=\"24px\"viewBox=\"0 0 24 24\"\n",
              "       width=\"24px\">\n",
              "    <path d=\"M0 0h24v24H0V0z\" fill=\"none\"/>\n",
              "    <path d=\"M18.56 5.44l.94 2.06.94-2.06 2.06-.94-2.06-.94-.94-2.06-.94 2.06-2.06.94zm-11 1L8.5 8.5l.94-2.06 2.06-.94-2.06-.94L8.5 2.5l-.94 2.06-2.06.94zm10 10l.94 2.06.94-2.06 2.06-.94-2.06-.94-.94-2.06-.94 2.06-2.06.94z\"/><path d=\"M17.41 7.96l-1.37-1.37c-.4-.4-.92-.59-1.43-.59-.52 0-1.04.2-1.43.59L10.3 9.45l-7.72 7.72c-.78.78-.78 2.05 0 2.83L4 21.41c.39.39.9.59 1.41.59.51 0 1.02-.2 1.41-.59l7.78-7.78 2.81-2.81c.8-.78.8-2.07 0-2.86zM5.41 20L4 18.59l7.72-7.72 1.47 1.35L5.41 20z\"/>\n",
              "  </svg>\n",
              "      </button>\n",
              "      \n",
              "  <style>\n",
              "    .colab-df-container {\n",
              "      display:flex;\n",
              "      flex-wrap:wrap;\n",
              "      gap: 12px;\n",
              "    }\n",
              "\n",
              "    .colab-df-convert {\n",
              "      background-color: #E8F0FE;\n",
              "      border: none;\n",
              "      border-radius: 50%;\n",
              "      cursor: pointer;\n",
              "      display: none;\n",
              "      fill: #1967D2;\n",
              "      height: 32px;\n",
              "      padding: 0 0 0 0;\n",
              "      width: 32px;\n",
              "    }\n",
              "\n",
              "    .colab-df-convert:hover {\n",
              "      background-color: #E2EBFA;\n",
              "      box-shadow: 0px 1px 2px rgba(60, 64, 67, 0.3), 0px 1px 3px 1px rgba(60, 64, 67, 0.15);\n",
              "      fill: #174EA6;\n",
              "    }\n",
              "\n",
              "    [theme=dark] .colab-df-convert {\n",
              "      background-color: #3B4455;\n",
              "      fill: #D2E3FC;\n",
              "    }\n",
              "\n",
              "    [theme=dark] .colab-df-convert:hover {\n",
              "      background-color: #434B5C;\n",
              "      box-shadow: 0px 1px 3px 1px rgba(0, 0, 0, 0.15);\n",
              "      filter: drop-shadow(0px 1px 2px rgba(0, 0, 0, 0.3));\n",
              "      fill: #FFFFFF;\n",
              "    }\n",
              "  </style>\n",
              "\n",
              "      <script>\n",
              "        const buttonEl =\n",
              "          document.querySelector('#df-33205de4-4a93-47b2-a28f-9a894e460e11 button.colab-df-convert');\n",
              "        buttonEl.style.display =\n",
              "          google.colab.kernel.accessAllowed ? 'block' : 'none';\n",
              "\n",
              "        async function convertToInteractive(key) {\n",
              "          const element = document.querySelector('#df-33205de4-4a93-47b2-a28f-9a894e460e11');\n",
              "          const dataTable =\n",
              "            await google.colab.kernel.invokeFunction('convertToInteractive',\n",
              "                                                     [key], {});\n",
              "          if (!dataTable) return;\n",
              "\n",
              "          const docLinkHtml = 'Like what you see? Visit the ' +\n",
              "            '<a target=\"_blank\" href=https://colab.research.google.com/notebooks/data_table.ipynb>data table notebook</a>'\n",
              "            + ' to learn more about interactive tables.';\n",
              "          element.innerHTML = '';\n",
              "          dataTable['output_type'] = 'display_data';\n",
              "          await google.colab.output.renderOutput(dataTable, element);\n",
              "          const docLink = document.createElement('div');\n",
              "          docLink.innerHTML = docLinkHtml;\n",
              "          element.appendChild(docLink);\n",
              "        }\n",
              "      </script>\n",
              "    </div>\n",
              "  </div>\n",
              "  "
            ]
          },
          "metadata": {},
          "execution_count": 4
        }
      ]
    },
    {
      "cell_type": "code",
      "source": [
        "import seaborn as sns"
      ],
      "metadata": {
        "id": "87i6ErPOqbPU"
      },
      "execution_count": null,
      "outputs": []
    },
    {
      "cell_type": "code",
      "source": [],
      "metadata": {
        "id": "-hX1LvzWqbKm"
      },
      "execution_count": null,
      "outputs": []
    },
    {
      "cell_type": "markdown",
      "source": [
        "# Part 1\n",
        "\n",
        "Мы сгенерили датасет, посвященный продажам известных марок авто.\n",
        "\n",
        "Давайте его изучим, посмотрим пропуски, типы данных в колонках и те колонки, которые можно сделать числовыми сделаем таковыми."
      ],
      "metadata": {
        "id": "Rz2j4tB6Mu3I"
      }
    },
    {
      "cell_type": "code",
      "source": [
        "df"
      ],
      "metadata": {
        "id": "SqLquzzTD5Wu",
        "colab": {
          "base_uri": "https://localhost:8080/",
          "height": 423
        },
        "outputId": "56389f65-4d25-4111-c166-b72a73aa8bbb"
      },
      "execution_count": null,
      "outputs": [
        {
          "output_type": "execute_result",
          "data": {
            "text/plain": [
              "       brend    model  production_year    mileage  engine_type transmission  \\\n",
              "0        Kia      Rio           2021.0   69330 km          1.4         Auto   \n",
              "1        Kia      Rio           2021.0   70074 km          1.4         Auto   \n",
              "2        Kia      Rio           2020.0  131573 km          1.4         Auto   \n",
              "3        Kia      Rio           2021.0   22221 km          1.4         Auto   \n",
              "4        Kia      Rio           2018.0  102427 km          1.4         Auto   \n",
              "..       ...      ...              ...        ...          ...          ...   \n",
              "395  Hyundai  Solaris           2022.0   32800 km          1.6       Manual   \n",
              "396      Kia      Rio           2022.0   38758 km          1.4         Auto   \n",
              "397      Kia      Rio           2017.0  104945 km          1.4         Auto   \n",
              "398      Kia      Rio           2020.0   45177 km          1.4         Auto   \n",
              "399      Kia      Rio              NaN   59437 km          1.4         Auto   \n",
              "\n",
              "      USD_price  \n",
              "0    10584.3300  \n",
              "1    11589.6600  \n",
              "2     7314.8592  \n",
              "3    10816.8300  \n",
              "4     6849.1896  \n",
              "..          ...  \n",
              "395  12638.6100  \n",
              "396  13099.0500  \n",
              "397   3127.9248  \n",
              "398   9945.4200  \n",
              "399  10547.1300  \n",
              "\n",
              "[400 rows x 7 columns]"
            ],
            "text/html": [
              "\n",
              "  <div id=\"df-f883d4ae-0980-41ce-9480-3137ed9cf8f1\">\n",
              "    <div class=\"colab-df-container\">\n",
              "      <div>\n",
              "<style scoped>\n",
              "    .dataframe tbody tr th:only-of-type {\n",
              "        vertical-align: middle;\n",
              "    }\n",
              "\n",
              "    .dataframe tbody tr th {\n",
              "        vertical-align: top;\n",
              "    }\n",
              "\n",
              "    .dataframe thead th {\n",
              "        text-align: right;\n",
              "    }\n",
              "</style>\n",
              "<table border=\"1\" class=\"dataframe\">\n",
              "  <thead>\n",
              "    <tr style=\"text-align: right;\">\n",
              "      <th></th>\n",
              "      <th>brend</th>\n",
              "      <th>model</th>\n",
              "      <th>production_year</th>\n",
              "      <th>mileage</th>\n",
              "      <th>engine_type</th>\n",
              "      <th>transmission</th>\n",
              "      <th>USD_price</th>\n",
              "    </tr>\n",
              "  </thead>\n",
              "  <tbody>\n",
              "    <tr>\n",
              "      <th>0</th>\n",
              "      <td>Kia</td>\n",
              "      <td>Rio</td>\n",
              "      <td>2021.0</td>\n",
              "      <td>69330 km</td>\n",
              "      <td>1.4</td>\n",
              "      <td>Auto</td>\n",
              "      <td>10584.3300</td>\n",
              "    </tr>\n",
              "    <tr>\n",
              "      <th>1</th>\n",
              "      <td>Kia</td>\n",
              "      <td>Rio</td>\n",
              "      <td>2021.0</td>\n",
              "      <td>70074 km</td>\n",
              "      <td>1.4</td>\n",
              "      <td>Auto</td>\n",
              "      <td>11589.6600</td>\n",
              "    </tr>\n",
              "    <tr>\n",
              "      <th>2</th>\n",
              "      <td>Kia</td>\n",
              "      <td>Rio</td>\n",
              "      <td>2020.0</td>\n",
              "      <td>131573 km</td>\n",
              "      <td>1.4</td>\n",
              "      <td>Auto</td>\n",
              "      <td>7314.8592</td>\n",
              "    </tr>\n",
              "    <tr>\n",
              "      <th>3</th>\n",
              "      <td>Kia</td>\n",
              "      <td>Rio</td>\n",
              "      <td>2021.0</td>\n",
              "      <td>22221 km</td>\n",
              "      <td>1.4</td>\n",
              "      <td>Auto</td>\n",
              "      <td>10816.8300</td>\n",
              "    </tr>\n",
              "    <tr>\n",
              "      <th>4</th>\n",
              "      <td>Kia</td>\n",
              "      <td>Rio</td>\n",
              "      <td>2018.0</td>\n",
              "      <td>102427 km</td>\n",
              "      <td>1.4</td>\n",
              "      <td>Auto</td>\n",
              "      <td>6849.1896</td>\n",
              "    </tr>\n",
              "    <tr>\n",
              "      <th>...</th>\n",
              "      <td>...</td>\n",
              "      <td>...</td>\n",
              "      <td>...</td>\n",
              "      <td>...</td>\n",
              "      <td>...</td>\n",
              "      <td>...</td>\n",
              "      <td>...</td>\n",
              "    </tr>\n",
              "    <tr>\n",
              "      <th>395</th>\n",
              "      <td>Hyundai</td>\n",
              "      <td>Solaris</td>\n",
              "      <td>2022.0</td>\n",
              "      <td>32800 km</td>\n",
              "      <td>1.6</td>\n",
              "      <td>Manual</td>\n",
              "      <td>12638.6100</td>\n",
              "    </tr>\n",
              "    <tr>\n",
              "      <th>396</th>\n",
              "      <td>Kia</td>\n",
              "      <td>Rio</td>\n",
              "      <td>2022.0</td>\n",
              "      <td>38758 km</td>\n",
              "      <td>1.4</td>\n",
              "      <td>Auto</td>\n",
              "      <td>13099.0500</td>\n",
              "    </tr>\n",
              "    <tr>\n",
              "      <th>397</th>\n",
              "      <td>Kia</td>\n",
              "      <td>Rio</td>\n",
              "      <td>2017.0</td>\n",
              "      <td>104945 km</td>\n",
              "      <td>1.4</td>\n",
              "      <td>Auto</td>\n",
              "      <td>3127.9248</td>\n",
              "    </tr>\n",
              "    <tr>\n",
              "      <th>398</th>\n",
              "      <td>Kia</td>\n",
              "      <td>Rio</td>\n",
              "      <td>2020.0</td>\n",
              "      <td>45177 km</td>\n",
              "      <td>1.4</td>\n",
              "      <td>Auto</td>\n",
              "      <td>9945.4200</td>\n",
              "    </tr>\n",
              "    <tr>\n",
              "      <th>399</th>\n",
              "      <td>Kia</td>\n",
              "      <td>Rio</td>\n",
              "      <td>NaN</td>\n",
              "      <td>59437 km</td>\n",
              "      <td>1.4</td>\n",
              "      <td>Auto</td>\n",
              "      <td>10547.1300</td>\n",
              "    </tr>\n",
              "  </tbody>\n",
              "</table>\n",
              "<p>400 rows × 7 columns</p>\n",
              "</div>\n",
              "      <button class=\"colab-df-convert\" onclick=\"convertToInteractive('df-f883d4ae-0980-41ce-9480-3137ed9cf8f1')\"\n",
              "              title=\"Convert this dataframe to an interactive table.\"\n",
              "              style=\"display:none;\">\n",
              "        \n",
              "  <svg xmlns=\"http://www.w3.org/2000/svg\" height=\"24px\"viewBox=\"0 0 24 24\"\n",
              "       width=\"24px\">\n",
              "    <path d=\"M0 0h24v24H0V0z\" fill=\"none\"/>\n",
              "    <path d=\"M18.56 5.44l.94 2.06.94-2.06 2.06-.94-2.06-.94-.94-2.06-.94 2.06-2.06.94zm-11 1L8.5 8.5l.94-2.06 2.06-.94-2.06-.94L8.5 2.5l-.94 2.06-2.06.94zm10 10l.94 2.06.94-2.06 2.06-.94-2.06-.94-.94-2.06-.94 2.06-2.06.94z\"/><path d=\"M17.41 7.96l-1.37-1.37c-.4-.4-.92-.59-1.43-.59-.52 0-1.04.2-1.43.59L10.3 9.45l-7.72 7.72c-.78.78-.78 2.05 0 2.83L4 21.41c.39.39.9.59 1.41.59.51 0 1.02-.2 1.41-.59l7.78-7.78 2.81-2.81c.8-.78.8-2.07 0-2.86zM5.41 20L4 18.59l7.72-7.72 1.47 1.35L5.41 20z\"/>\n",
              "  </svg>\n",
              "      </button>\n",
              "      \n",
              "  <style>\n",
              "    .colab-df-container {\n",
              "      display:flex;\n",
              "      flex-wrap:wrap;\n",
              "      gap: 12px;\n",
              "    }\n",
              "\n",
              "    .colab-df-convert {\n",
              "      background-color: #E8F0FE;\n",
              "      border: none;\n",
              "      border-radius: 50%;\n",
              "      cursor: pointer;\n",
              "      display: none;\n",
              "      fill: #1967D2;\n",
              "      height: 32px;\n",
              "      padding: 0 0 0 0;\n",
              "      width: 32px;\n",
              "    }\n",
              "\n",
              "    .colab-df-convert:hover {\n",
              "      background-color: #E2EBFA;\n",
              "      box-shadow: 0px 1px 2px rgba(60, 64, 67, 0.3), 0px 1px 3px 1px rgba(60, 64, 67, 0.15);\n",
              "      fill: #174EA6;\n",
              "    }\n",
              "\n",
              "    [theme=dark] .colab-df-convert {\n",
              "      background-color: #3B4455;\n",
              "      fill: #D2E3FC;\n",
              "    }\n",
              "\n",
              "    [theme=dark] .colab-df-convert:hover {\n",
              "      background-color: #434B5C;\n",
              "      box-shadow: 0px 1px 3px 1px rgba(0, 0, 0, 0.15);\n",
              "      filter: drop-shadow(0px 1px 2px rgba(0, 0, 0, 0.3));\n",
              "      fill: #FFFFFF;\n",
              "    }\n",
              "  </style>\n",
              "\n",
              "      <script>\n",
              "        const buttonEl =\n",
              "          document.querySelector('#df-f883d4ae-0980-41ce-9480-3137ed9cf8f1 button.colab-df-convert');\n",
              "        buttonEl.style.display =\n",
              "          google.colab.kernel.accessAllowed ? 'block' : 'none';\n",
              "\n",
              "        async function convertToInteractive(key) {\n",
              "          const element = document.querySelector('#df-f883d4ae-0980-41ce-9480-3137ed9cf8f1');\n",
              "          const dataTable =\n",
              "            await google.colab.kernel.invokeFunction('convertToInteractive',\n",
              "                                                     [key], {});\n",
              "          if (!dataTable) return;\n",
              "\n",
              "          const docLinkHtml = 'Like what you see? Visit the ' +\n",
              "            '<a target=\"_blank\" href=https://colab.research.google.com/notebooks/data_table.ipynb>data table notebook</a>'\n",
              "            + ' to learn more about interactive tables.';\n",
              "          element.innerHTML = '';\n",
              "          dataTable['output_type'] = 'display_data';\n",
              "          await google.colab.output.renderOutput(dataTable, element);\n",
              "          const docLink = document.createElement('div');\n",
              "          docLink.innerHTML = docLinkHtml;\n",
              "          element.appendChild(docLink);\n",
              "        }\n",
              "      </script>\n",
              "    </div>\n",
              "  </div>\n",
              "  "
            ]
          },
          "metadata": {},
          "execution_count": 6
        }
      ]
    },
    {
      "cell_type": "code",
      "source": [],
      "metadata": {
        "id": "f0qyma74IRRX"
      },
      "execution_count": null,
      "outputs": []
    },
    {
      "cell_type": "code",
      "source": [],
      "metadata": {
        "id": "V9B7A6QfMuly"
      },
      "execution_count": null,
      "outputs": []
    },
    {
      "cell_type": "code",
      "source": [],
      "metadata": {
        "id": "Hshm3Da4MujS"
      },
      "execution_count": null,
      "outputs": []
    },
    {
      "cell_type": "markdown",
      "source": [
        "# Part 2\n",
        "\n",
        "Давайте проверим, есть ли тут строки, где встречается 2 раза NaN. Если такие строки есть, дропнeм их."
      ],
      "metadata": {
        "id": "d8hywXPkNbxe"
      }
    },
    {
      "cell_type": "code",
      "source": [],
      "metadata": {
        "id": "JgQUNUtmMug9"
      },
      "execution_count": null,
      "outputs": []
    },
    {
      "cell_type": "code",
      "source": [],
      "metadata": {
        "id": "KXNLXm2ZMuei"
      },
      "execution_count": null,
      "outputs": []
    },
    {
      "cell_type": "markdown",
      "source": [
        "# Part 3\n",
        "\n",
        "Давайте создадим колонку со средней стоимостью авто по годам выпуска.\n",
        "\n",
        "И колонку со средним пробегом по годам выпуска.\n",
        "\n",
        "Покажите на графике средние пробеги и средние стоимости по годам выпуска."
      ],
      "metadata": {
        "id": "20mY5Ky5NpHi"
      }
    },
    {
      "cell_type": "code",
      "source": [],
      "metadata": {
        "id": "vow_eSzaN1Lt"
      },
      "execution_count": null,
      "outputs": []
    },
    {
      "cell_type": "code",
      "source": [],
      "metadata": {
        "id": "0COuzkwvcFct"
      },
      "execution_count": null,
      "outputs": []
    },
    {
      "cell_type": "code",
      "source": [],
      "metadata": {
        "id": "Xw79oTwRN1I_"
      },
      "execution_count": null,
      "outputs": []
    },
    {
      "cell_type": "markdown",
      "source": [
        "# Part 4\n",
        "\n",
        "Равномерно ли распределен признак Тип трансмиссии и тип двигателя? ТО есть, сильно ли отличаются количества авто с одним и другим типом ДВС и трансмиссии?"
      ],
      "metadata": {
        "id": "cheoHteXPrbP"
      }
    },
    {
      "cell_type": "code",
      "source": [],
      "metadata": {
        "id": "IReqtkDSMuXL"
      },
      "execution_count": null,
      "outputs": []
    },
    {
      "cell_type": "code",
      "source": [],
      "metadata": {
        "id": "kI0CREdcMuTc"
      },
      "execution_count": null,
      "outputs": []
    },
    {
      "cell_type": "markdown",
      "source": [
        "# Part 5\n",
        "\n",
        "Наша задача по-умному заполнить пропуски в колонке \"Пробег\".. Если мы просто заполним средними то это может сломать зависимость между ценой и пробегом, а она по логике вещей существенна.\n",
        "\n",
        "У нас есть средние пробега и и стоимости по годам. Нужно заполнить пропуски значением около среднего с учетом года выпуска но так, чтобы пробег был больше среднего, если цена ниже среднего и нгаоборот. Давайте подумаем, как это сделать..."
      ],
      "metadata": {
        "id": "m5WGio7UP25G"
      }
    },
    {
      "cell_type": "code",
      "source": [
        "df.columns"
      ],
      "metadata": {
        "id": "IljDcvnwD5T9",
        "colab": {
          "base_uri": "https://localhost:8080/"
        },
        "outputId": "af0656c6-9f1c-417d-8e2a-351cdd97d33d"
      },
      "execution_count": null,
      "outputs": [
        {
          "output_type": "execute_result",
          "data": {
            "text/plain": [
              "Index(['brend', 'model', 'production_year', 'mileage', 'engine_type',\n",
              "       'transmission', 'USD_price', 'mean_price', 'mean_mileage'],\n",
              "      dtype='object')"
            ]
          },
          "metadata": {},
          "execution_count": 20
        }
      ]
    },
    {
      "cell_type": "code",
      "source": [],
      "metadata": {
        "id": "X22uupOxd20k"
      },
      "execution_count": null,
      "outputs": []
    },
    {
      "cell_type": "code",
      "source": [],
      "metadata": {
        "id": "MXLgeSTMd2xd"
      },
      "execution_count": null,
      "outputs": []
    },
    {
      "cell_type": "markdown",
      "source": [
        "# Part 6\n",
        "\n",
        "У нас таже присутствуют пропуски в колонке Год выпуска.\n",
        "\n",
        "Давайте также как-то по-умному их заполним!) Должно получиться)"
      ],
      "metadata": {
        "id": "puHA1Q-AQtIW"
      }
    },
    {
      "cell_type": "code",
      "source": [
        "df.production_year.unique()"
      ],
      "metadata": {
        "id": "EcZSxItDQsaS",
        "colab": {
          "base_uri": "https://localhost:8080/"
        },
        "outputId": "7f2fb7c4-94ce-47fd-8da9-0c7f90086783"
      },
      "execution_count": null,
      "outputs": [
        {
          "output_type": "execute_result",
          "data": {
            "text/plain": [
              "array([2022.,    0., 2017., 2021., 2018., 2019., 2020.])"
            ]
          },
          "metadata": {},
          "execution_count": 25
        }
      ]
    },
    {
      "cell_type": "code",
      "source": [
        "sns.boxplot(x = df.production_year, y = df.USD_price)"
      ],
      "metadata": {
        "id": "KsM_Bgf_QsXy",
        "colab": {
          "base_uri": "https://localhost:8080/",
          "height": 467
        },
        "outputId": "1f7d690f-deb8-4595-db10-93c4ab2a00f2"
      },
      "execution_count": null,
      "outputs": [
        {
          "output_type": "execute_result",
          "data": {
            "text/plain": [
              "<Axes: xlabel='production_year', ylabel='USD_price'>"
            ]
          },
          "metadata": {},
          "execution_count": 26
        },
        {
          "output_type": "display_data",
          "data": {
            "text/plain": [
              "<Figure size 640x480 with 1 Axes>"
            ],
            "image/png": "[encoded data removed]"
          },
          "metadata": {}
        }
      ]
    },
    {
      "cell_type": "code",
      "source": [
        "sns.boxplot(x = df.production_year, y = df.mileage)"
      ],
      "metadata": {
        "colab": {
          "base_uri": "https://localhost:8080/",
          "height": 467
        },
        "id": "_xCWVC0bioG8",
        "outputId": "3ab0403c-6d0b-43fa-8ca5-ac40ac79b35d"
      },
      "execution_count": null,
      "outputs": [
        {
          "output_type": "execute_result",
          "data": {
            "text/plain": [
              "<Axes: xlabel='production_year', ylabel='mileage'>"
            ]
          },
          "metadata": {},
          "execution_count": 27
        },
        {
          "output_type": "display_data",
          "data": {
            "text/plain": [
              "<Figure size 640x480 with 1 Axes>"
            ],
            "image/png": "[encoded data removed]"
          },
          "metadata": {}
        }
      ]
    },
    {
      "cell_type": "code",
      "source": [],
      "metadata": {
        "id": "Zyq_QYIYin_t"
      },
      "execution_count": null,
      "outputs": []
    },
    {
      "cell_type": "markdown",
      "source": [
        "# Part 7\n",
        "\n",
        "Давайте оценим, как в среднем много автомобиль проезжает за год независимо от типа двигателя и трансмиссии."
      ],
      "metadata": {
        "id": "p3HdRqMpRL2Y"
      }
    },
    {
      "cell_type": "code",
      "source": [],
      "metadata": {
        "id": "rgRte5EqQ9gC"
      },
      "execution_count": null,
      "outputs": []
    },
    {
      "cell_type": "code",
      "source": [],
      "metadata": {
        "id": "MA5FM2qoQ9c7"
      },
      "execution_count": null,
      "outputs": []
    },
    {
      "cell_type": "markdown",
      "source": [
        "# Part 8\n",
        "\n",
        "Попробуем выяснить, сколько в среднем автомобиль теряет в стоимости за год?\n",
        "\n",
        "Это будет очень грубая оценка, но тем не менее.\n",
        "\n",
        "Есть ли различие в потере за первый год, второй год, третий итд..\n"
      ],
      "metadata": {
        "id": "COFW9wEKRgMW"
      }
    },
    {
      "cell_type": "code",
      "source": [
        "import matplotlib as plt\n",
        "import seaborn as sns"
      ],
      "metadata": {
        "id": "tBOd3atu14er"
      },
      "execution_count": null,
      "outputs": []
    },
    {
      "cell_type": "code",
      "source": [
        "sns.scatterplot(x='mileage', y = 'USD_price', data = df, hue='production_year')\n"
      ],
      "metadata": {
        "id": "xCFLD6XkQ9Zv",
        "colab": {
          "base_uri": "https://localhost:8080/",
          "height": 466
        },
        "outputId": "1a2320b2-3568-4230-c578-cb050d311f4f"
      },
      "execution_count": null,
      "outputs": [
        {
          "output_type": "execute_result",
          "data": {
            "text/plain": [
              "<Axes: xlabel='mileage', ylabel='USD_price'>"
            ]
          },
          "metadata": {},
          "execution_count": 37
        },
        {
          "output_type": "display_data",
          "data": {
            "text/plain": [
              "<Figure size 640x480 with 1 Axes>"
            ],
            "image/png": "[encoded data removed]"
          },
          "metadata": {}
        }
      ]
    },
    {
      "cell_type": "code",
      "source": [
        "sns.boxplot(y = df.USD_price, x=df.production_year, hue = df.engine_type)"
      ],
      "metadata": {
        "id": "odEl36V4Q9V4",
        "colab": {
          "base_uri": "https://localhost:8080/",
          "height": 467
        },
        "outputId": "e724dc0d-1fc0-4ae2-f1d9-aca7a979286d"
      },
      "execution_count": null,
      "outputs": [
        {
          "output_type": "execute_result",
          "data": {
            "text/plain": [
              "<Axes: xlabel='production_year', ylabel='USD_price'>"
            ]
          },
          "metadata": {},
          "execution_count": 38
        },
        {
          "output_type": "display_data",
          "data": {
            "text/plain": [
              "<Figure size 640x480 with 1 Axes>"
            ],
            "image/png": "[encoded data removed]"
          },
          "metadata": {}
        }
      ]
    },
    {
      "cell_type": "code",
      "source": [],
      "metadata": {
        "id": "9fwTujU96yt1"
      },
      "execution_count": null,
      "outputs": []
    },
    {
      "cell_type": "code",
      "source": [],
      "metadata": {
        "id": "C6M9O0Hz-TFV"
      },
      "execution_count": null,
      "outputs": []
    },
    {
      "cell_type": "code",
      "source": [],
      "metadata": {
        "id": "A_v_CT-O-TCy"
      },
      "execution_count": null,
      "outputs": []
    }
  ]
}