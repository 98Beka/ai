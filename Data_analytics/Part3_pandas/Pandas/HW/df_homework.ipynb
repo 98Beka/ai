{
  "nbformat": 4,
  "nbformat_minor": 0,
  "metadata": {
    "colab": {
      "provenance": []
    },
    "kernelspec": {
      "name": "python3",
      "display_name": "Python 3"
    },
    "language_info": {
      "name": "python"
    }
  },
  "cells": [
    {
      "cell_type": "code",
      "execution_count": null,
      "metadata": {
        "id": "Jt7QomulK0tT"
      },
      "outputs": [],
      "source": [
        "import pandas as pd\n",
        "import numpy as np"
      ]
    },
    {
      "cell_type": "markdown",
      "source": [
        "## Задача 1\n",
        "\n",
        "Создайте датафрейм из текущих списков со свободной индексацией и именами колонок:\n",
        "\n",
        "col_1, col_2, col_3"
      ],
      "metadata": {
        "id": "xCfK4EUdLNlc"
      }
    },
    {
      "cell_type": "code",
      "source": [
        "c_1 = [1, 2, 3, 4, 5]\n",
        "c_2 = [2, 3, 4, 5, 6]\n",
        "c_3 = [3, 4, 5, 6, 7]"
      ],
      "metadata": {
        "id": "6FFnpvumK3Xf"
      },
      "execution_count": null,
      "outputs": []
    },
    {
      "cell_type": "code",
      "source": [],
      "metadata": {
        "id": "9xdqyCITK3VL"
      },
      "execution_count": null,
      "outputs": []
    },
    {
      "cell_type": "code",
      "source": [],
      "metadata": {
        "id": "8nERdb9YK3Sl"
      },
      "execution_count": null,
      "outputs": []
    },
    {
      "cell_type": "markdown",
      "source": [
        "# Задача 2\n",
        "\n",
        "Создайте датафрейм из данного словаря.\n",
        "\n",
        "Сделайте так, чтобы лэйблы 'a', 'b', 'c' были именами колонок!"
      ],
      "metadata": {
        "id": "DhDe3-LULvzK"
      }
    },
    {
      "cell_type": "code",
      "source": [
        "dict = {1: {'a':1, 'b':2, 'c':3}, 2: {'a':4, 'b':5, 'c':6}, 3: {'a':7, 'b':8, 'c':9}}"
      ],
      "metadata": {
        "id": "dPEzWn7nK3QB"
      },
      "execution_count": null,
      "outputs": []
    },
    {
      "cell_type": "code",
      "source": [],
      "metadata": {
        "id": "9ccbreKpK3Nw"
      },
      "execution_count": null,
      "outputs": []
    },
    {
      "cell_type": "code",
      "source": [],
      "metadata": {
        "id": "azm_fLsrK3LO"
      },
      "execution_count": null,
      "outputs": []
    },
    {
      "cell_type": "markdown",
      "source": [
        "В полученный датафрейм добавте колонку 'd' с рандомными числовыми значениями."
      ],
      "metadata": {
        "id": "YPH-IkEMMVA6"
      }
    },
    {
      "cell_type": "code",
      "source": [],
      "metadata": {
        "id": "XLys-UMKK3Ip"
      },
      "execution_count": null,
      "outputs": []
    },
    {
      "cell_type": "code",
      "source": [],
      "metadata": {
        "id": "3gj4tY7sK3GT"
      },
      "execution_count": null,
      "outputs": []
    },
    {
      "cell_type": "markdown",
      "source": [
        "# Задача 3\n",
        "\n",
        "Выведте из датасета предыдущей задачи значения строки \"2\" и колонок 'b', 'c' с помощью функции loc[]."
      ],
      "metadata": {
        "id": "Nh3hr5j1MoJi"
      }
    },
    {
      "cell_type": "code",
      "source": [],
      "metadata": {
        "id": "2wppi0ARK3EK"
      },
      "execution_count": null,
      "outputs": []
    },
    {
      "cell_type": "code",
      "source": [],
      "metadata": {
        "id": "effi38qZK3Bg"
      },
      "execution_count": null,
      "outputs": []
    },
    {
      "cell_type": "markdown",
      "source": [
        "# Задача 4\n",
        "\n",
        "Выделите из датафрейма только те строки, для которых в столбце 'a' находятся четные элементы."
      ],
      "metadata": {
        "id": "yDUjeZFFNT-Z"
      }
    },
    {
      "cell_type": "code",
      "source": [],
      "metadata": {
        "id": "WmrFSr2PNLFX"
      },
      "execution_count": null,
      "outputs": []
    },
    {
      "cell_type": "markdown",
      "source": [
        "# Задача 5\n",
        "создайте новую колонку 'a_add_b' где будет сумма колокок 'a' и 'b'."
      ],
      "metadata": {
        "id": "wZv5vKrWNpPW"
      }
    },
    {
      "cell_type": "code",
      "source": [],
      "metadata": {
        "id": "Cshk03egNLCv"
      },
      "execution_count": null,
      "outputs": []
    },
    {
      "cell_type": "code",
      "source": [],
      "metadata": {
        "id": "LKzYWfT8NLAl"
      },
      "execution_count": null,
      "outputs": []
    },
    {
      "cell_type": "markdown",
      "source": [
        "Проверьте четность новой колонки и ко всем нечетным прибавте 1. (фильтрация с пом loc[])"
      ],
      "metadata": {
        "id": "GkgUb1PtN8Gy"
      }
    },
    {
      "cell_type": "code",
      "source": [],
      "metadata": {
        "id": "oM0O1toGNK9k"
      },
      "execution_count": null,
      "outputs": []
    },
    {
      "cell_type": "code",
      "source": [],
      "metadata": {
        "id": "q2MALGbHN7hK"
      },
      "execution_count": null,
      "outputs": []
    },
    {
      "cell_type": "code",
      "source": [],
      "metadata": {
        "id": "Ryjkf0hbN7fO"
      },
      "execution_count": null,
      "outputs": []
    },
    {
      "cell_type": "markdown",
      "source": [
        "# Задача 6\n",
        "\n",
        "Отсортируйте датафрейм по колонке 'a' в порядке убывания.\n",
        "\n",
        "Затем обновите индексы (0,1,2...) с помощью функции reset_index\n",
        "\n",
        "Удалите получившуюся колонку index"
      ],
      "metadata": {
        "id": "CP-jlamnOhXz"
      }
    },
    {
      "cell_type": "code",
      "source": [],
      "metadata": {
        "id": "-H-axS0BN7dk"
      },
      "execution_count": null,
      "outputs": []
    }
  ]
}