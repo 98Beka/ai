{
  "nbformat": 4,
  "nbformat_minor": 0,
  "metadata": {
    "colab": {
      "provenance": []
    },
    "kernelspec": {
      "name": "python3",
      "display_name": "Python 3"
    },
    "language_info": {
      "name": "python"
    }
  },
  "cells": [
    {
      "cell_type": "code",
      "execution_count": null,
      "metadata": {
        "id": "qu9M7CNH1q5o"
      },
      "outputs": [],
      "source": [
        "import numpy as np\n",
        "import pandas as pd"
      ]
    },
    {
      "cell_type": "markdown",
      "source": [
        "# Task 1\n",
        "\n",
        "Создайте датафрейм из рандомно сгенеренного нампай массива целых чисел 10х10 и имен колонок:\n",
        "\n",
        "\n",
        "\n",
        "```\n",
        "col = ['col_1', 'col_2', 'col_3', ....]\n",
        "```\n",
        "\n",
        "\n"
      ],
      "metadata": {
        "id": "72Y3-EEB3_kl"
      }
    },
    {
      "cell_type": "code",
      "source": [],
      "metadata": {
        "id": "ZRVyLoDm1sXc"
      },
      "execution_count": null,
      "outputs": []
    },
    {
      "cell_type": "code",
      "source": [],
      "metadata": {
        "id": "nBc2tKhs1sUv"
      },
      "execution_count": null,
      "outputs": []
    },
    {
      "cell_type": "code",
      "source": [],
      "metadata": {
        "id": "qkawa7pl1sSH"
      },
      "execution_count": null,
      "outputs": []
    },
    {
      "cell_type": "markdown",
      "source": [
        "# Task 2\n",
        "\n",
        "В колонках col_1, col_4, col_6 в трех рандомных строках значения сделайте пустыми (NaN). Постарайтесь этот процесс автоматизировать)"
      ],
      "metadata": {
        "id": "wvrJO2DD6kNH"
      }
    },
    {
      "cell_type": "code",
      "source": [
        "col = ['col_1', 'col_4', 'col_6']"
      ],
      "metadata": {
        "id": "pVCSnk_q1sPZ"
      },
      "execution_count": null,
      "outputs": []
    },
    {
      "cell_type": "code",
      "source": [],
      "metadata": {
        "id": "kB5s1fcW6ZCe"
      },
      "execution_count": null,
      "outputs": []
    },
    {
      "cell_type": "code",
      "source": [],
      "metadata": {
        "id": "qabrc5qm6Y_2"
      },
      "execution_count": null,
      "outputs": []
    },
    {
      "cell_type": "code",
      "source": [],
      "metadata": {
        "id": "qGSzTklU6Y9T"
      },
      "execution_count": null,
      "outputs": []
    },
    {
      "cell_type": "markdown",
      "source": [
        "# Task 3\n",
        "\n",
        "Отберите из датасета 4 рандомных строки и добавте в конец фрейма. (Синтезируем дупликаты.) Обновите индексы. Чтобы в сгенеренном массиве с индексами строк не было повторов, используйте следущую нампай функцию:\n",
        "\n",
        "\n",
        "\n",
        "```\n",
        "np.random.choice(10, 4, replace=False)\n",
        "```\n",
        "\n",
        "Пристыковать полученные строки в конец датафрейма можно с помощью функции concat:\n",
        "\n",
        "\n",
        "\n",
        "```\n",
        "pd.concat([df_1, df_2], axis=0)\n",
        "```\n",
        "\n",
        "\n",
        "\n"
      ],
      "metadata": {
        "id": "qBch5D4K8Wbu"
      }
    },
    {
      "cell_type": "code",
      "source": [],
      "metadata": {
        "id": "Vwcd-PAU8WA2"
      },
      "execution_count": null,
      "outputs": []
    },
    {
      "cell_type": "code",
      "source": [],
      "metadata": {
        "id": "oSe24wX58V-W"
      },
      "execution_count": null,
      "outputs": []
    },
    {
      "cell_type": "code",
      "source": [],
      "metadata": {
        "id": "aYavnVlx8V8C"
      },
      "execution_count": null,
      "outputs": []
    },
    {
      "cell_type": "code",
      "source": [],
      "metadata": {
        "id": "TiFsncMK8V5g"
      },
      "execution_count": null,
      "outputs": []
    },
    {
      "cell_type": "markdown",
      "source": [
        "# Task 4\n",
        "\n",
        "Получите нампай массив в котором будут степени заполненности по всем строкам."
      ],
      "metadata": {
        "id": "5FTZaqYs-yOH"
      }
    },
    {
      "cell_type": "code",
      "source": [],
      "metadata": {
        "id": "Z29aFM1O8V3L"
      },
      "execution_count": null,
      "outputs": []
    },
    {
      "cell_type": "code",
      "source": [],
      "metadata": {
        "id": "JCBSddLx8V0s"
      },
      "execution_count": null,
      "outputs": []
    },
    {
      "cell_type": "markdown",
      "source": [
        "# Task 5\n",
        "\n",
        "Удалите те строки, где количество пропусков от двух. Если один пропуск, то удаление не требуется."
      ],
      "metadata": {
        "id": "0ZmmRW06_oUj"
      }
    },
    {
      "cell_type": "code",
      "source": [],
      "metadata": {
        "id": "sabppgSL_nkt"
      },
      "execution_count": null,
      "outputs": []
    },
    {
      "cell_type": "code",
      "source": [],
      "metadata": {
        "id": "-aMID_B1_niB"
      },
      "execution_count": null,
      "outputs": []
    },
    {
      "cell_type": "markdown",
      "source": [
        "# Task 6\n",
        "\n",
        "Заполните все пропуски средними по соответствующим колонкам."
      ],
      "metadata": {
        "id": "OhfQs5HXAEy3"
      }
    },
    {
      "cell_type": "code",
      "source": [],
      "metadata": {
        "id": "9tOjxiQsAAVm"
      },
      "execution_count": null,
      "outputs": []
    },
    {
      "cell_type": "code",
      "source": [],
      "metadata": {
        "id": "ju9yDOcMAAS5"
      },
      "execution_count": null,
      "outputs": []
    },
    {
      "cell_type": "code",
      "source": [],
      "metadata": {
        "id": "aNVCHK-DAa4N"
      },
      "execution_count": null,
      "outputs": []
    },
    {
      "cell_type": "markdown",
      "source": [
        "# Task 7\n",
        "\n",
        "Переименуйте первую колонку в 'user_id' и все элементы приведите к виду 'ID_15'.. Дробных значений чисел быть не должно."
      ],
      "metadata": {
        "id": "_dxmU8h_Ab9n"
      }
    },
    {
      "cell_type": "code",
      "source": [],
      "metadata": {
        "id": "ZK9UndNBAa2C"
      },
      "execution_count": null,
      "outputs": []
    },
    {
      "cell_type": "code",
      "source": [],
      "metadata": {
        "id": "XELVwIWhAay2"
      },
      "execution_count": null,
      "outputs": []
    },
    {
      "cell_type": "code",
      "source": [],
      "metadata": {
        "id": "ZmqguwveAawN"
      },
      "execution_count": null,
      "outputs": []
    },
    {
      "cell_type": "markdown",
      "source": [
        "# Task 8\n",
        "\n",
        "Удалите повторы по строкам. Приведите индексы в порядок при необходимости."
      ],
      "metadata": {
        "id": "9pw-wsFpBFwl"
      }
    },
    {
      "cell_type": "code",
      "source": [],
      "metadata": {
        "id": "4ekzEm9kBPea"
      },
      "execution_count": null,
      "outputs": []
    }
  ]
}