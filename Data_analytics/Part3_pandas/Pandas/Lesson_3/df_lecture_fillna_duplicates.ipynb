{
  "nbformat": 4,
  "nbformat_minor": 0,
  "metadata": {
    "colab": {
      "provenance": []
    },
    "kernelspec": {
      "name": "python3",
      "display_name": "Python 3"
    },
    "language_info": {
      "name": "python"
    }
  },
  "cells": [
    {
      "cell_type": "markdown",
      "source": [
        "# Theoretical part\n",
        "\n",
        "Сгенерим датафрейм для изучения функций:\n",
        "\n",
        "\n",
        "*   as_type()\n",
        "\n",
        "*   fillna()\n",
        "\n",
        "*   dropna()\n",
        "*   duplicated()\n",
        "\n",
        "\n",
        "*   drop_duplicates()\n",
        "\n",
        "\n",
        "\n",
        "\n"
      ],
      "metadata": {
        "id": "DNsYB7AFpy-B"
      }
    },
    {
      "cell_type": "markdown",
      "source": [
        "## Создадим датасет\n",
        "\n",
        "Датасет будет состоять из 1500 строк:"
      ],
      "metadata": {
        "id": "_sP2yYeMHarm"
      }
    },
    {
      "cell_type": "code",
      "source": [
        "N_ROWS = 1500"
      ],
      "metadata": {
        "id": "XlQMtpuCJZBl"
      },
      "execution_count": null,
      "outputs": []
    },
    {
      "cell_type": "code",
      "source": [
        "import pandas as pd\n",
        "import numpy as np\n",
        "import seaborn as sns\n",
        "import matplotlib.pyplot as plt"
      ],
      "metadata": {
        "id": "ettmCW_LHewz"
      },
      "execution_count": null,
      "outputs": []
    },
    {
      "cell_type": "markdown",
      "source": [
        "Создадим три количественные фичи датафрейма. Также в некоторые колонки искусственно добавим пропуски с указанным процентом. Нам понадобятся следующие функции:\n",
        "\n",
        "* `np.random.randint(from, to, num)` - функция, которая создает последовательность случайных числел в указанном первыми двумя аргументами диапазоне в указанном третьим аргументом количестве. Распределение равномерное!\n",
        "* `np.random.randn(shape)` - создает массив данных указанной формы (многомерный массив или вектор) со стандартизированным Гаусовым распределением.\n",
        "* `np.random.choice(array, size, p=list)` - позволяет выбрать из массива `array` или списка значения случайным образом в указанном количестве аргументом `size`. Также для каждого элемента можно указать вероятность появления значения аргументом `p`. В нашем примере мы так будем создавать бинарный массив."
      ],
      "metadata": {
        "id": "SbbDtQkmIGW5"
      }
    },
    {
      "cell_type": "code",
      "source": [
        "col_1 = np.random.randint(1, 20, N_ROWS).astype(str)\n",
        "col_2 = np.random.randint(10, 100, N_ROWS)\n",
        "col_3 = np.random.randn(N_ROWS)*5\n",
        "null_mask_1 = np.random.choice([0, 1], size=N_ROWS, p=[0.8, 0.2]).astype(bool) # маски для замены значения пропуском\n",
        "null_mask_2 = np.random.choice([0, 1], size=N_ROWS, p=[0.2, 0.8]).astype(bool)\n",
        "null_mask_3 = np.random.choice([0, 1], size=N_ROWS, p=[0.6, 0.4]).astype(bool)"
      ],
      "metadata": {
        "id": "zq2Py_u_HtYP"
      },
      "execution_count": null,
      "outputs": []
    },
    {
      "cell_type": "code",
      "source": [
        "df = pd.DataFrame({'A':col_1,\n",
        "                   'B':col_2,\n",
        "                   'C':col_3})\n",
        "df.loc[null_mask_1, 'A'] = np.nan\n",
        "df.loc[null_mask_2, 'B'] = np.nan\n",
        "df.loc[null_mask_3, 'C'] = np.nan\n",
        "\n",
        "df.info()"
      ],
      "metadata": {
        "colab": {
          "base_uri": "https://localhost:8080/"
        },
        "id": "wWs9yXw2HtVb",
        "outputId": "629fefec-df65-46d6-f116-c72025d808ad"
      },
      "execution_count": null,
      "outputs": [
        {
          "output_type": "stream",
          "name": "stdout",
          "text": [
            "<class 'pandas.core.frame.DataFrame'>\n",
            "RangeIndex: 1500 entries, 0 to 1499\n",
            "Data columns (total 3 columns):\n",
            " #   Column  Non-Null Count  Dtype  \n",
            "---  ------  --------------  -----  \n",
            " 0   A       1188 non-null   object \n",
            " 1   B       302 non-null    float64\n",
            " 2   C       892 non-null    float64\n",
            "dtypes: float64(2), object(1)\n",
            "memory usage: 35.3+ KB\n"
          ]
        }
      ]
    },
    {
      "cell_type": "markdown",
      "source": [
        "Coздадим одну категориальную (номинативную) фичу с уникальными значениями `foo`, `bar`, `baz`. Так мы создадим в данных три группы."
      ],
      "metadata": {
        "id": "3khdUpfsQnmH"
      }
    },
    {
      "cell_type": "code",
      "source": [
        "cat = ['foo', 'bar', 'baz']\n",
        "cat_feature = np.random.choice(cat, size=N_ROWS, p=[0.3, 0.3, 0.4])\n",
        "df['D'] = cat_feature"
      ],
      "metadata": {
        "id": "ZBslysvwHtSu",
        "outputId": "ca822aef-add1-49c9-883b-e01ff8799710",
        "colab": {
          "base_uri": "https://localhost:8080/",
          "height": 176
        }
      },
      "execution_count": null,
      "outputs": [
        {
          "output_type": "error",
          "ename": "NameError",
          "evalue": "name 'df' is not defined",
          "traceback": [
            "\u001b[0;31m---------------------------------------------------------------------------\u001b[0m",
            "\u001b[0;31mNameError\u001b[0m                                 Traceback (most recent call last)",
            "\u001b[0;32m<ipython-input-3-c65a64438914>\u001b[0m in \u001b[0;36m<cell line: 3>\u001b[0;34m()\u001b[0m\n\u001b[1;32m      1\u001b[0m \u001b[0mcat\u001b[0m \u001b[0;34m=\u001b[0m \u001b[0;34m[\u001b[0m\u001b[0;34m'foo'\u001b[0m\u001b[0;34m,\u001b[0m \u001b[0;34m'bar'\u001b[0m\u001b[0;34m,\u001b[0m \u001b[0;34m'baz'\u001b[0m\u001b[0;34m]\u001b[0m\u001b[0;34m\u001b[0m\u001b[0;34m\u001b[0m\u001b[0m\n\u001b[1;32m      2\u001b[0m \u001b[0mcat_feature\u001b[0m \u001b[0;34m=\u001b[0m \u001b[0mnp\u001b[0m\u001b[0;34m.\u001b[0m\u001b[0mrandom\u001b[0m\u001b[0;34m.\u001b[0m\u001b[0mchoice\u001b[0m\u001b[0;34m(\u001b[0m\u001b[0mcat\u001b[0m\u001b[0;34m,\u001b[0m \u001b[0msize\u001b[0m\u001b[0;34m=\u001b[0m\u001b[0mN_ROWS\u001b[0m\u001b[0;34m,\u001b[0m \u001b[0mp\u001b[0m\u001b[0;34m=\u001b[0m\u001b[0;34m[\u001b[0m\u001b[0;36m0.3\u001b[0m\u001b[0;34m,\u001b[0m \u001b[0;36m0.3\u001b[0m\u001b[0;34m,\u001b[0m \u001b[0;36m0.4\u001b[0m\u001b[0;34m]\u001b[0m\u001b[0;34m)\u001b[0m\u001b[0;34m\u001b[0m\u001b[0;34m\u001b[0m\u001b[0m\n\u001b[0;32m----> 3\u001b[0;31m \u001b[0mdf\u001b[0m\u001b[0;34m[\u001b[0m\u001b[0;34m'D'\u001b[0m\u001b[0;34m]\u001b[0m \u001b[0;34m=\u001b[0m \u001b[0mcat_feature\u001b[0m\u001b[0;34m\u001b[0m\u001b[0;34m\u001b[0m\u001b[0m\n\u001b[0m",
            "\u001b[0;31mNameError\u001b[0m: name 'df' is not defined"
          ]
        }
      ]
    },
    {
      "cell_type": "code",
      "source": [
        "plt.subplots(figsize=(2, 2))\n",
        "sns.barplot(x=df.value_counts('D'), y=df.value_counts('D').index, color='green')"
      ],
      "metadata": {
        "colab": {
          "base_uri": "https://localhost:8080/",
          "height": 251
        },
        "id": "yZdevQvqb0yp",
        "outputId": "481ad1ad-facb-4646-96ea-4a566456b6ea"
      },
      "execution_count": null,
      "outputs": [
        {
          "output_type": "execute_result",
          "data": {
            "text/plain": [
              "<Axes: xlabel='count', ylabel='D'>"
            ]
          },
          "metadata": {},
          "execution_count": 141
        },
        {
          "output_type": "display_data",
          "data": {
            "text/plain": [
              "<Figure size 200x200 with 1 Axes>"
            ],
            "image/png": "[encoded data removed]"
          },
          "metadata": {}
        }
      ]
    },
    {
      "cell_type": "markdown",
      "source": [
        "Подчеркнем различия по группам для колонки `C`:\n",
        "* значения для `bar` увеличим на 10\n",
        "* значения для `baz` уменьшим на 15"
      ],
      "metadata": {
        "id": "vMbvtVmiSKB3"
      }
    },
    {
      "cell_type": "code",
      "source": [
        "df.loc[df.D == 'bar', 'C'] += 10\n",
        "df.loc[df.D == 'baz', 'C'] += -15"
      ],
      "metadata": {
        "id": "UZ7CwRYLSlQW"
      },
      "execution_count": null,
      "outputs": []
    },
    {
      "cell_type": "code",
      "source": [
        "df.info()"
      ],
      "metadata": {
        "id": "h6sFeap6kmsM",
        "colab": {
          "base_uri": "https://localhost:8080/"
        },
        "outputId": "9855bcf8-ec54-414e-93d3-92e78137c138"
      },
      "execution_count": null,
      "outputs": [
        {
          "output_type": "stream",
          "name": "stdout",
          "text": [
            "<class 'pandas.core.frame.DataFrame'>\n",
            "RangeIndex: 1500 entries, 0 to 1499\n",
            "Data columns (total 4 columns):\n",
            " #   Column  Non-Null Count  Dtype  \n",
            "---  ------  --------------  -----  \n",
            " 0   A       1188 non-null   object \n",
            " 1   B       302 non-null    float64\n",
            " 2   C       892 non-null    float64\n",
            " 3   D       1500 non-null   object \n",
            "dtypes: float64(2), object(2)\n",
            "memory usage: 47.0+ KB\n"
          ]
        }
      ]
    },
    {
      "cell_type": "code",
      "source": [
        "df.dtypes"
      ],
      "metadata": {
        "id": "y_O6S2GUkmqI",
        "colab": {
          "base_uri": "https://localhost:8080/",
          "height": 209
        },
        "outputId": "a5ddfe0b-3269-43cd-f2bc-d63d9e19c3bc"
      },
      "execution_count": null,
      "outputs": [
        {
          "output_type": "execute_result",
          "data": {
            "text/plain": [
              "A     object\n",
              "B    float64\n",
              "C    float64\n",
              "D     object\n",
              "dtype: object"
            ],
            "text/html": [
              "<table border=\"1\" class=\"dataframe\">\n",
              "  <thead>\n",
              "    <tr style=\"text-align: right;\">\n",
              "      <th></th>\n",
              "      <th>0</th>\n",
              "    </tr>\n",
              "  </thead>\n",
              "  <tbody>\n",
              "    <tr>\n",
              "      <th>A</th>\n",
              "      <td>object</td>\n",
              "    </tr>\n",
              "    <tr>\n",
              "      <th>B</th>\n",
              "      <td>float64</td>\n",
              "    </tr>\n",
              "    <tr>\n",
              "      <th>C</th>\n",
              "      <td>float64</td>\n",
              "    </tr>\n",
              "    <tr>\n",
              "      <th>D</th>\n",
              "      <td>object</td>\n",
              "    </tr>\n",
              "  </tbody>\n",
              "</table><br><label><b>dtype:</b> object</label>"
            ]
          },
          "metadata": {},
          "execution_count": 117
        }
      ]
    },
    {
      "cell_type": "code",
      "source": [
        "df.head()"
      ],
      "metadata": {
        "id": "njDioX0okmno",
        "colab": {
          "base_uri": "https://localhost:8080/",
          "height": 206
        },
        "outputId": "ed952d44-7336-4506-be04-ab9d97354cc7"
      },
      "execution_count": null,
      "outputs": [
        {
          "output_type": "execute_result",
          "data": {
            "text/plain": [
              "     A     B          C    D\n",
              "0    1   NaN -15.850581  baz\n",
              "1    8   NaN        NaN  baz\n",
              "2   19  40.0        NaN  baz\n",
              "3  NaN   NaN        NaN  foo\n",
              "4  NaN   NaN -16.313302  baz"
            ],
            "text/html": [
              "\n",
              "  <div id=\"df-887cf4ee-b411-43f1-a3be-b39620cc91d8\" class=\"colab-df-container\">\n",
              "    <div>\n",
              "<style scoped>\n",
              "    .dataframe tbody tr th:only-of-type {\n",
              "        vertical-align: middle;\n",
              "    }\n",
              "\n",
              "    .dataframe tbody tr th {\n",
              "        vertical-align: top;\n",
              "    }\n",
              "\n",
              "    .dataframe thead th {\n",
              "        text-align: right;\n",
              "    }\n",
              "</style>\n",
              "<table border=\"1\" class=\"dataframe\">\n",
              "  <thead>\n",
              "    <tr style=\"text-align: right;\">\n",
              "      <th></th>\n",
              "      <th>A</th>\n",
              "      <th>B</th>\n",
              "      <th>C</th>\n",
              "      <th>D</th>\n",
              "    </tr>\n",
              "  </thead>\n",
              "  <tbody>\n",
              "    <tr>\n",
              "      <th>0</th>\n",
              "      <td>1</td>\n",
              "      <td>NaN</td>\n",
              "      <td>-15.850581</td>\n",
              "      <td>baz</td>\n",
              "    </tr>\n",
              "    <tr>\n",
              "      <th>1</th>\n",
              "      <td>8</td>\n",
              "      <td>NaN</td>\n",
              "      <td>NaN</td>\n",
              "      <td>baz</td>\n",
              "    </tr>\n",
              "    <tr>\n",
              "      <th>2</th>\n",
              "      <td>19</td>\n",
              "      <td>40.0</td>\n",
              "      <td>NaN</td>\n",
              "      <td>baz</td>\n",
              "    </tr>\n",
              "    <tr>\n",
              "      <th>3</th>\n",
              "      <td>NaN</td>\n",
              "      <td>NaN</td>\n",
              "      <td>NaN</td>\n",
              "      <td>foo</td>\n",
              "    </tr>\n",
              "    <tr>\n",
              "      <th>4</th>\n",
              "      <td>NaN</td>\n",
              "      <td>NaN</td>\n",
              "      <td>-16.313302</td>\n",
              "      <td>baz</td>\n",
              "    </tr>\n",
              "  </tbody>\n",
              "</table>\n",
              "</div>\n",
              "    <div class=\"colab-df-buttons\">\n",
              "\n",
              "  <div class=\"colab-df-container\">\n",
              "    <button class=\"colab-df-convert\" onclick=\"convertToInteractive('df-887cf4ee-b411-43f1-a3be-b39620cc91d8')\"\n",
              "            title=\"Convert this dataframe to an interactive table.\"\n",
              "            style=\"display:none;\">\n",
              "\n",
              "  <svg xmlns=\"http://www.w3.org/2000/svg\" height=\"24px\" viewBox=\"0 -960 960 960\">\n",
              "    <path d=\"M120-120v-720h720v720H120Zm60-500h600v-160H180v160Zm220 220h160v-160H400v160Zm0 220h160v-160H400v160ZM180-400h160v-160H180v160Zm440 0h160v-160H620v160ZM180-180h160v-160H180v160Zm440 0h160v-160H620v160Z\"/>\n",
              "  </svg>\n",
              "    </button>\n",
              "\n",
              "  <style>\n",
              "    .colab-df-container {\n",
              "      display:flex;\n",
              "      gap: 12px;\n",
              "    }\n",
              "\n",
              "    .colab-df-convert {\n",
              "      background-color: #E8F0FE;\n",
              "      border: none;\n",
              "      border-radius: 50%;\n",
              "      cursor: pointer;\n",
              "      display: none;\n",
              "      fill: #1967D2;\n",
              "      height: 32px;\n",
              "      padding: 0 0 0 0;\n",
              "      width: 32px;\n",
              "    }\n",
              "\n",
              "    .colab-df-convert:hover {\n",
              "      background-color: #E2EBFA;\n",
              "      box-shadow: 0px 1px 2px rgba(60, 64, 67, 0.3), 0px 1px 3px 1px rgba(60, 64, 67, 0.15);\n",
              "      fill: #174EA6;\n",
              "    }\n",
              "\n",
              "    .colab-df-buttons div {\n",
              "      margin-bottom: 4px;\n",
              "    }\n",
              "\n",
              "    [theme=dark] .colab-df-convert {\n",
              "      background-color: #3B4455;\n",
              "      fill: #D2E3FC;\n",
              "    }\n",
              "\n",
              "    [theme=dark] .colab-df-convert:hover {\n",
              "      background-color: #434B5C;\n",
              "      box-shadow: 0px 1px 3px 1px rgba(0, 0, 0, 0.15);\n",
              "      filter: drop-shadow(0px 1px 2px rgba(0, 0, 0, 0.3));\n",
              "      fill: #FFFFFF;\n",
              "    }\n",
              "  </style>\n",
              "\n",
              "    <script>\n",
              "      const buttonEl =\n",
              "        document.querySelector('#df-887cf4ee-b411-43f1-a3be-b39620cc91d8 button.colab-df-convert');\n",
              "      buttonEl.style.display =\n",
              "        google.colab.kernel.accessAllowed ? 'block' : 'none';\n",
              "\n",
              "      async function convertToInteractive(key) {\n",
              "        const element = document.querySelector('#df-887cf4ee-b411-43f1-a3be-b39620cc91d8');\n",
              "        const dataTable =\n",
              "          await google.colab.kernel.invokeFunction('convertToInteractive',\n",
              "                                                    [key], {});\n",
              "        if (!dataTable) return;\n",
              "\n",
              "        const docLinkHtml = 'Like what you see? Visit the ' +\n",
              "          '<a target=\"_blank\" href=https://colab.research.google.com/notebooks/data_table.ipynb>data table notebook</a>'\n",
              "          + ' to learn more about interactive tables.';\n",
              "        element.innerHTML = '';\n",
              "        dataTable['output_type'] = 'display_data';\n",
              "        await google.colab.output.renderOutput(dataTable, element);\n",
              "        const docLink = document.createElement('div');\n",
              "        docLink.innerHTML = docLinkHtml;\n",
              "        element.appendChild(docLink);\n",
              "      }\n",
              "    </script>\n",
              "  </div>\n",
              "\n",
              "\n",
              "<div id=\"df-439e7d17-37d5-4786-8a5b-f3e062050ac6\">\n",
              "  <button class=\"colab-df-quickchart\" onclick=\"quickchart('df-439e7d17-37d5-4786-8a5b-f3e062050ac6')\"\n",
              "            title=\"Suggest charts\"\n",
              "            style=\"display:none;\">\n",
              "\n",
              "<svg xmlns=\"http://www.w3.org/2000/svg\" height=\"24px\"viewBox=\"0 0 24 24\"\n",
              "     width=\"24px\">\n",
              "    <g>\n",
              "        <path d=\"M19 3H5c-1.1 0-2 .9-2 2v14c0 1.1.9 2 2 2h14c1.1 0 2-.9 2-2V5c0-1.1-.9-2-2-2zM9 17H7v-7h2v7zm4 0h-2V7h2v10zm4 0h-2v-4h2v4z\"/>\n",
              "    </g>\n",
              "</svg>\n",
              "  </button>\n",
              "\n",
              "<style>\n",
              "  .colab-df-quickchart {\n",
              "      --bg-color: #E8F0FE;\n",
              "      --fill-color: #1967D2;\n",
              "      --hover-bg-color: #E2EBFA;\n",
              "      --hover-fill-color: #174EA6;\n",
              "      --disabled-fill-color: #AAA;\n",
              "      --disabled-bg-color: #DDD;\n",
              "  }\n",
              "\n",
              "  [theme=dark] .colab-df-quickchart {\n",
              "      --bg-color: #3B4455;\n",
              "      --fill-color: #D2E3FC;\n",
              "      --hover-bg-color: #434B5C;\n",
              "      --hover-fill-color: #FFFFFF;\n",
              "      --disabled-bg-color: #3B4455;\n",
              "      --disabled-fill-color: #666;\n",
              "  }\n",
              "\n",
              "  .colab-df-quickchart {\n",
              "    background-color: var(--bg-color);\n",
              "    border: none;\n",
              "    border-radius: 50%;\n",
              "    cursor: pointer;\n",
              "    display: none;\n",
              "    fill: var(--fill-color);\n",
              "    height: 32px;\n",
              "    padding: 0;\n",
              "    width: 32px;\n",
              "  }\n",
              "\n",
              "  .colab-df-quickchart:hover {\n",
              "    background-color: var(--hover-bg-color);\n",
              "    box-shadow: 0 1px 2px rgba(60, 64, 67, 0.3), 0 1px 3px 1px rgba(60, 64, 67, 0.15);\n",
              "    fill: var(--button-hover-fill-color);\n",
              "  }\n",
              "\n",
              "  .colab-df-quickchart-complete:disabled,\n",
              "  .colab-df-quickchart-complete:disabled:hover {\n",
              "    background-color: var(--disabled-bg-color);\n",
              "    fill: var(--disabled-fill-color);\n",
              "    box-shadow: none;\n",
              "  }\n",
              "\n",
              "  .colab-df-spinner {\n",
              "    border: 2px solid var(--fill-color);\n",
              "    border-color: transparent;\n",
              "    border-bottom-color: var(--fill-color);\n",
              "    animation:\n",
              "      spin 1s steps(1) infinite;\n",
              "  }\n",
              "\n",
              "  @keyframes spin {\n",
              "    0% {\n",
              "      border-color: transparent;\n",
              "      border-bottom-color: var(--fill-color);\n",
              "      border-left-color: var(--fill-color);\n",
              "    }\n",
              "    20% {\n",
              "      border-color: transparent;\n",
              "      border-left-color: var(--fill-color);\n",
              "      border-top-color: var(--fill-color);\n",
              "    }\n",
              "    30% {\n",
              "      border-color: transparent;\n",
              "      border-left-color: var(--fill-color);\n",
              "      border-top-color: var(--fill-color);\n",
              "      border-right-color: var(--fill-color);\n",
              "    }\n",
              "    40% {\n",
              "      border-color: transparent;\n",
              "      border-right-color: var(--fill-color);\n",
              "      border-top-color: var(--fill-color);\n",
              "    }\n",
              "    60% {\n",
              "      border-color: transparent;\n",
              "      border-right-color: var(--fill-color);\n",
              "    }\n",
              "    80% {\n",
              "      border-color: transparent;\n",
              "      border-right-color: var(--fill-color);\n",
              "      border-bottom-color: var(--fill-color);\n",
              "    }\n",
              "    90% {\n",
              "      border-color: transparent;\n",
              "      border-bottom-color: var(--fill-color);\n",
              "    }\n",
              "  }\n",
              "</style>\n",
              "\n",
              "  <script>\n",
              "    async function quickchart(key) {\n",
              "      const quickchartButtonEl =\n",
              "        document.querySelector('#' + key + ' button');\n",
              "      quickchartButtonEl.disabled = true;  // To prevent multiple clicks.\n",
              "      quickchartButtonEl.classList.add('colab-df-spinner');\n",
              "      try {\n",
              "        const charts = await google.colab.kernel.invokeFunction(\n",
              "            'suggestCharts', [key], {});\n",
              "      } catch (error) {\n",
              "        console.error('Error during call to suggestCharts:', error);\n",
              "      }\n",
              "      quickchartButtonEl.classList.remove('colab-df-spinner');\n",
              "      quickchartButtonEl.classList.add('colab-df-quickchart-complete');\n",
              "    }\n",
              "    (() => {\n",
              "      let quickchartButtonEl =\n",
              "        document.querySelector('#df-439e7d17-37d5-4786-8a5b-f3e062050ac6 button');\n",
              "      quickchartButtonEl.style.display =\n",
              "        google.colab.kernel.accessAllowed ? 'block' : 'none';\n",
              "    })();\n",
              "  </script>\n",
              "</div>\n",
              "\n",
              "    </div>\n",
              "  </div>\n"
            ],
            "application/vnd.google.colaboratory.intrinsic+json": {
              "type": "dataframe",
              "variable_name": "df",
              "summary": "{\n  \"name\": \"df\",\n  \"rows\": 1500,\n  \"fields\": [\n    {\n      \"column\": \"A\",\n      \"properties\": {\n        \"dtype\": \"category\",\n        \"num_unique_values\": 19,\n        \"samples\": [\n          \"1\",\n          \"6\",\n          \"4\"\n        ],\n        \"semantic_type\": \"\",\n        \"description\": \"\"\n      }\n    },\n    {\n      \"column\": \"B\",\n      \"properties\": {\n        \"dtype\": \"number\",\n        \"std\": 24.633708773333716,\n        \"min\": 10.0,\n        \"max\": 99.0,\n        \"num_unique_values\": 88,\n        \"samples\": [\n          82.0,\n          40.0,\n          46.0\n        ],\n        \"semantic_type\": \"\",\n        \"description\": \"\"\n      }\n    },\n    {\n      \"column\": \"C\",\n      \"properties\": {\n        \"dtype\": \"number\",\n        \"std\": 11.258943798986271,\n        \"min\": -34.90576955965533,\n        \"max\": 26.965018846211358,\n        \"num_unique_values\": 892,\n        \"samples\": [\n          -7.285204326365125,\n          9.467412180451156,\n          -13.395027266797367\n        ],\n        \"semantic_type\": \"\",\n        \"description\": \"\"\n      }\n    },\n    {\n      \"column\": \"D\",\n      \"properties\": {\n        \"dtype\": \"category\",\n        \"num_unique_values\": 3,\n        \"samples\": [\n          \"baz\",\n          \"foo\",\n          \"bar\"\n        ],\n        \"semantic_type\": \"\",\n        \"description\": \"\"\n      }\n    }\n  ]\n}"
            }
          },
          "metadata": {},
          "execution_count": 118
        }
      ]
    },
    {
      "cell_type": "markdown",
      "source": [
        "Оформим весь этот код как функцию:"
      ],
      "metadata": {
        "id": "UTl5uwLqg4Xw"
      }
    },
    {
      "cell_type": "code",
      "source": [
        "def get_data(N_ROWS:int)->pd.DataFrame:\n",
        "  col_1 = np.random.randint(1, 20, N_ROWS).astype(str)\n",
        "  col_2 = np.random.randint(10, 100, N_ROWS)\n",
        "  col_3 = np.random.randn(N_ROWS)*5\n",
        "  null_mask_1 = np.random.choice([0, 1], size=N_ROWS, p=[0.8, 0.2]).astype(bool) # маски для замены значения пропуском\n",
        "  null_mask_2 = np.random.choice([0, 1], size=N_ROWS, p=[0.2, 0.8]).astype(bool)\n",
        "  null_mask_3 = np.random.choice([0, 1], size=N_ROWS, p=[0.6, 0.4]).astype(bool)\n",
        "  df = pd.DataFrame({'A':col_1,\n",
        "                    'B':col_2,\n",
        "                    'C':col_3})\n",
        "  df.loc[null_mask_1, 'A'] = np.nan\n",
        "  df.loc[null_mask_2, 'B'] = np.nan\n",
        "  df.loc[null_mask_3, 'C'] = np.nan\n",
        "  cat = ['foo', 'bar', 'baz']\n",
        "  cat_feature = np.random.choice(cat, size=N_ROWS, p=[0.3, 0.3, 0.4])\n",
        "  df['D'] = cat_feature\n",
        "  df.loc[df.D == 'bar', 'C'] += 10\n",
        "  df.loc[df.D == 'baz', 'C'] += -15\n",
        "  return df"
      ],
      "metadata": {
        "id": "xXSsAuzqg9V1"
      },
      "execution_count": null,
      "outputs": []
    },
    {
      "cell_type": "markdown",
      "source": [
        "## Заполнение пропусков\n",
        "`fillna()` - заполняет пропуски указанным значением."
      ],
      "metadata": {
        "id": "2jwE-OZqUdIp"
      }
    },
    {
      "cell_type": "code",
      "source": [
        "df.A.fillna(0)"
      ],
      "metadata": {
        "id": "8D8Y287_kmiQ"
      },
      "execution_count": null,
      "outputs": []
    },
    {
      "cell_type": "markdown",
      "source": [
        "Заполнит пропуски нулем, однако тип данных не изменится.\n",
        "Более адекватно будет заполнить пропуски каким либо значением, например средним или медианным. Однако, в этом случае необходимо изменить тип данных на числовой."
      ],
      "metadata": {
        "id": "CV_jG9OUUzWK"
      }
    },
    {
      "cell_type": "code",
      "source": [
        "df.A.astype(int)"
      ],
      "metadata": {
        "id": "PGH_aSj5rZ_9",
        "colab": {
          "base_uri": "https://localhost:8080/",
          "height": 287
        },
        "outputId": "f32d9990-3ccb-4184-b595-3cd42d1bcd53"
      },
      "execution_count": null,
      "outputs": [
        {
          "output_type": "error",
          "ename": "ValueError",
          "evalue": "cannot convert float NaN to integer",
          "traceback": [
            "\u001b[0;31m---------------------------------------------------------------------------\u001b[0m",
            "\u001b[0;31mValueError\u001b[0m                                Traceback (most recent call last)",
            "\u001b[0;32m<ipython-input-120-599385cb5118>\u001b[0m in \u001b[0;36m<cell line: 1>\u001b[0;34m()\u001b[0m\n\u001b[0;32m----> 1\u001b[0;31m \u001b[0mdf\u001b[0m\u001b[0;34m.\u001b[0m\u001b[0mA\u001b[0m\u001b[0;34m.\u001b[0m\u001b[0mastype\u001b[0m\u001b[0;34m(\u001b[0m\u001b[0mint\u001b[0m\u001b[0;34m)\u001b[0m\u001b[0;34m\u001b[0m\u001b[0;34m\u001b[0m\u001b[0m\n\u001b[0m",
            "\u001b[0;32m/usr/local/lib/python3.10/dist-packages/pandas/core/generic.py\u001b[0m in \u001b[0;36mastype\u001b[0;34m(self, dtype, copy, errors)\u001b[0m\n\u001b[1;32m   6532\u001b[0m         \u001b[0;32melse\u001b[0m\u001b[0;34m:\u001b[0m\u001b[0;34m\u001b[0m\u001b[0;34m\u001b[0m\u001b[0m\n\u001b[1;32m   6533\u001b[0m             \u001b[0;31m# else, only a single dtype is given\u001b[0m\u001b[0;34m\u001b[0m\u001b[0;34m\u001b[0m\u001b[0m\n\u001b[0;32m-> 6534\u001b[0;31m             \u001b[0mnew_data\u001b[0m \u001b[0;34m=\u001b[0m \u001b[0mself\u001b[0m\u001b[0;34m.\u001b[0m\u001b[0m_mgr\u001b[0m\u001b[0;34m.\u001b[0m\u001b[0mastype\u001b[0m\u001b[0;34m(\u001b[0m\u001b[0mdtype\u001b[0m\u001b[0;34m=\u001b[0m\u001b[0mdtype\u001b[0m\u001b[0;34m,\u001b[0m \u001b[0mcopy\u001b[0m\u001b[0;34m=\u001b[0m\u001b[0mcopy\u001b[0m\u001b[0;34m,\u001b[0m \u001b[0merrors\u001b[0m\u001b[0;34m=\u001b[0m\u001b[0merrors\u001b[0m\u001b[0;34m)\u001b[0m\u001b[0;34m\u001b[0m\u001b[0;34m\u001b[0m\u001b[0m\n\u001b[0m\u001b[1;32m   6535\u001b[0m             \u001b[0mres\u001b[0m \u001b[0;34m=\u001b[0m \u001b[0mself\u001b[0m\u001b[0;34m.\u001b[0m\u001b[0m_constructor_from_mgr\u001b[0m\u001b[0;34m(\u001b[0m\u001b[0mnew_data\u001b[0m\u001b[0;34m,\u001b[0m \u001b[0maxes\u001b[0m\u001b[0;34m=\u001b[0m\u001b[0mnew_data\u001b[0m\u001b[0;34m.\u001b[0m\u001b[0maxes\u001b[0m\u001b[0;34m)\u001b[0m\u001b[0;34m\u001b[0m\u001b[0;34m\u001b[0m\u001b[0m\n\u001b[1;32m   6536\u001b[0m             \u001b[0;32mreturn\u001b[0m \u001b[0mres\u001b[0m\u001b[0;34m.\u001b[0m\u001b[0m__finalize__\u001b[0m\u001b[0;34m(\u001b[0m\u001b[0mself\u001b[0m\u001b[0;34m,\u001b[0m \u001b[0mmethod\u001b[0m\u001b[0;34m=\u001b[0m\u001b[0;34m\"astype\"\u001b[0m\u001b[0;34m)\u001b[0m\u001b[0;34m\u001b[0m\u001b[0;34m\u001b[0m\u001b[0m\n",
            "\u001b[0;32m/usr/local/lib/python3.10/dist-packages/pandas/core/internals/managers.py\u001b[0m in \u001b[0;36mastype\u001b[0;34m(self, dtype, copy, errors)\u001b[0m\n\u001b[1;32m    412\u001b[0m             \u001b[0mcopy\u001b[0m \u001b[0;34m=\u001b[0m \u001b[0;32mFalse\u001b[0m\u001b[0;34m\u001b[0m\u001b[0;34m\u001b[0m\u001b[0m\n\u001b[1;32m    413\u001b[0m \u001b[0;34m\u001b[0m\u001b[0m\n\u001b[0;32m--> 414\u001b[0;31m         return self.apply(\n\u001b[0m\u001b[1;32m    415\u001b[0m             \u001b[0;34m\"astype\"\u001b[0m\u001b[0;34m,\u001b[0m\u001b[0;34m\u001b[0m\u001b[0;34m\u001b[0m\u001b[0m\n\u001b[1;32m    416\u001b[0m             \u001b[0mdtype\u001b[0m\u001b[0;34m=\u001b[0m\u001b[0mdtype\u001b[0m\u001b[0;34m,\u001b[0m\u001b[0;34m\u001b[0m\u001b[0;34m\u001b[0m\u001b[0m\n",
            "\u001b[0;32m/usr/local/lib/python3.10/dist-packages/pandas/core/internals/managers.py\u001b[0m in \u001b[0;36mapply\u001b[0;34m(self, f, align_keys, **kwargs)\u001b[0m\n\u001b[1;32m    352\u001b[0m                 \u001b[0mapplied\u001b[0m \u001b[0;34m=\u001b[0m \u001b[0mb\u001b[0m\u001b[0;34m.\u001b[0m\u001b[0mapply\u001b[0m\u001b[0;34m(\u001b[0m\u001b[0mf\u001b[0m\u001b[0;34m,\u001b[0m \u001b[0;34m**\u001b[0m\u001b[0mkwargs\u001b[0m\u001b[0;34m)\u001b[0m\u001b[0;34m\u001b[0m\u001b[0;34m\u001b[0m\u001b[0m\n\u001b[1;32m    353\u001b[0m             \u001b[0;32melse\u001b[0m\u001b[0;34m:\u001b[0m\u001b[0;34m\u001b[0m\u001b[0;34m\u001b[0m\u001b[0m\n\u001b[0;32m--> 354\u001b[0;31m                 \u001b[0mapplied\u001b[0m \u001b[0;34m=\u001b[0m \u001b[0mgetattr\u001b[0m\u001b[0;34m(\u001b[0m\u001b[0mb\u001b[0m\u001b[0;34m,\u001b[0m \u001b[0mf\u001b[0m\u001b[0;34m)\u001b[0m\u001b[0;34m(\u001b[0m\u001b[0;34m**\u001b[0m\u001b[0mkwargs\u001b[0m\u001b[0;34m)\u001b[0m\u001b[0;34m\u001b[0m\u001b[0;34m\u001b[0m\u001b[0m\n\u001b[0m\u001b[1;32m    355\u001b[0m             \u001b[0mresult_blocks\u001b[0m \u001b[0;34m=\u001b[0m \u001b[0mextend_blocks\u001b[0m\u001b[0;34m(\u001b[0m\u001b[0mapplied\u001b[0m\u001b[0;34m,\u001b[0m \u001b[0mresult_blocks\u001b[0m\u001b[0;34m)\u001b[0m\u001b[0;34m\u001b[0m\u001b[0;34m\u001b[0m\u001b[0m\n\u001b[1;32m    356\u001b[0m \u001b[0;34m\u001b[0m\u001b[0m\n",
            "\u001b[0;32m/usr/local/lib/python3.10/dist-packages/pandas/core/internals/blocks.py\u001b[0m in \u001b[0;36mastype\u001b[0;34m(self, dtype, copy, errors, using_cow)\u001b[0m\n\u001b[1;32m    614\u001b[0m         \u001b[0mvalues\u001b[0m \u001b[0;34m=\u001b[0m \u001b[0mself\u001b[0m\u001b[0;34m.\u001b[0m\u001b[0mvalues\u001b[0m\u001b[0;34m\u001b[0m\u001b[0;34m\u001b[0m\u001b[0m\n\u001b[1;32m    615\u001b[0m \u001b[0;34m\u001b[0m\u001b[0m\n\u001b[0;32m--> 616\u001b[0;31m         \u001b[0mnew_values\u001b[0m \u001b[0;34m=\u001b[0m \u001b[0mastype_array_safe\u001b[0m\u001b[0;34m(\u001b[0m\u001b[0mvalues\u001b[0m\u001b[0;34m,\u001b[0m \u001b[0mdtype\u001b[0m\u001b[0;34m,\u001b[0m \u001b[0mcopy\u001b[0m\u001b[0;34m=\u001b[0m\u001b[0mcopy\u001b[0m\u001b[0;34m,\u001b[0m \u001b[0merrors\u001b[0m\u001b[0;34m=\u001b[0m\u001b[0merrors\u001b[0m\u001b[0;34m)\u001b[0m\u001b[0;34m\u001b[0m\u001b[0;34m\u001b[0m\u001b[0m\n\u001b[0m\u001b[1;32m    617\u001b[0m \u001b[0;34m\u001b[0m\u001b[0m\n\u001b[1;32m    618\u001b[0m         \u001b[0mnew_values\u001b[0m \u001b[0;34m=\u001b[0m \u001b[0mmaybe_coerce_values\u001b[0m\u001b[0;34m(\u001b[0m\u001b[0mnew_values\u001b[0m\u001b[0;34m)\u001b[0m\u001b[0;34m\u001b[0m\u001b[0;34m\u001b[0m\u001b[0m\n",
            "\u001b[0;32m/usr/local/lib/python3.10/dist-packages/pandas/core/dtypes/astype.py\u001b[0m in \u001b[0;36mastype_array_safe\u001b[0;34m(values, dtype, copy, errors)\u001b[0m\n\u001b[1;32m    236\u001b[0m \u001b[0;34m\u001b[0m\u001b[0m\n\u001b[1;32m    237\u001b[0m     \u001b[0;32mtry\u001b[0m\u001b[0;34m:\u001b[0m\u001b[0;34m\u001b[0m\u001b[0;34m\u001b[0m\u001b[0m\n\u001b[0;32m--> 238\u001b[0;31m         \u001b[0mnew_values\u001b[0m \u001b[0;34m=\u001b[0m \u001b[0mastype_array\u001b[0m\u001b[0;34m(\u001b[0m\u001b[0mvalues\u001b[0m\u001b[0;34m,\u001b[0m \u001b[0mdtype\u001b[0m\u001b[0;34m,\u001b[0m \u001b[0mcopy\u001b[0m\u001b[0;34m=\u001b[0m\u001b[0mcopy\u001b[0m\u001b[0;34m)\u001b[0m\u001b[0;34m\u001b[0m\u001b[0;34m\u001b[0m\u001b[0m\n\u001b[0m\u001b[1;32m    239\u001b[0m     \u001b[0;32mexcept\u001b[0m \u001b[0;34m(\u001b[0m\u001b[0mValueError\u001b[0m\u001b[0;34m,\u001b[0m \u001b[0mTypeError\u001b[0m\u001b[0;34m)\u001b[0m\u001b[0;34m:\u001b[0m\u001b[0;34m\u001b[0m\u001b[0;34m\u001b[0m\u001b[0m\n\u001b[1;32m    240\u001b[0m         \u001b[0;31m# e.g. _astype_nansafe can fail on object-dtype of strings\u001b[0m\u001b[0;34m\u001b[0m\u001b[0;34m\u001b[0m\u001b[0m\n",
            "\u001b[0;32m/usr/local/lib/python3.10/dist-packages/pandas/core/dtypes/astype.py\u001b[0m in \u001b[0;36mastype_array\u001b[0;34m(values, dtype, copy)\u001b[0m\n\u001b[1;32m    181\u001b[0m \u001b[0;34m\u001b[0m\u001b[0m\n\u001b[1;32m    182\u001b[0m     \u001b[0;32melse\u001b[0m\u001b[0;34m:\u001b[0m\u001b[0;34m\u001b[0m\u001b[0;34m\u001b[0m\u001b[0m\n\u001b[0;32m--> 183\u001b[0;31m         \u001b[0mvalues\u001b[0m \u001b[0;34m=\u001b[0m \u001b[0m_astype_nansafe\u001b[0m\u001b[0;34m(\u001b[0m\u001b[0mvalues\u001b[0m\u001b[0;34m,\u001b[0m \u001b[0mdtype\u001b[0m\u001b[0;34m,\u001b[0m \u001b[0mcopy\u001b[0m\u001b[0;34m=\u001b[0m\u001b[0mcopy\u001b[0m\u001b[0;34m)\u001b[0m\u001b[0;34m\u001b[0m\u001b[0;34m\u001b[0m\u001b[0m\n\u001b[0m\u001b[1;32m    184\u001b[0m \u001b[0;34m\u001b[0m\u001b[0m\n\u001b[1;32m    185\u001b[0m     \u001b[0;31m# in pandas we don't store numpy str dtypes, so convert to object\u001b[0m\u001b[0;34m\u001b[0m\u001b[0;34m\u001b[0m\u001b[0m\n",
            "\u001b[0;32m/usr/local/lib/python3.10/dist-packages/pandas/core/dtypes/astype.py\u001b[0m in \u001b[0;36m_astype_nansafe\u001b[0;34m(arr, dtype, copy, skipna)\u001b[0m\n\u001b[1;32m    132\u001b[0m     \u001b[0;32mif\u001b[0m \u001b[0mcopy\u001b[0m \u001b[0;32mor\u001b[0m \u001b[0marr\u001b[0m\u001b[0;34m.\u001b[0m\u001b[0mdtype\u001b[0m \u001b[0;34m==\u001b[0m \u001b[0mobject\u001b[0m \u001b[0;32mor\u001b[0m \u001b[0mdtype\u001b[0m \u001b[0;34m==\u001b[0m \u001b[0mobject\u001b[0m\u001b[0;34m:\u001b[0m\u001b[0;34m\u001b[0m\u001b[0;34m\u001b[0m\u001b[0m\n\u001b[1;32m    133\u001b[0m         \u001b[0;31m# Explicit copy, or required since NumPy can't view from / to object.\u001b[0m\u001b[0;34m\u001b[0m\u001b[0;34m\u001b[0m\u001b[0m\n\u001b[0;32m--> 134\u001b[0;31m         \u001b[0;32mreturn\u001b[0m \u001b[0marr\u001b[0m\u001b[0;34m.\u001b[0m\u001b[0mastype\u001b[0m\u001b[0;34m(\u001b[0m\u001b[0mdtype\u001b[0m\u001b[0;34m,\u001b[0m \u001b[0mcopy\u001b[0m\u001b[0;34m=\u001b[0m\u001b[0;32mTrue\u001b[0m\u001b[0;34m)\u001b[0m\u001b[0;34m\u001b[0m\u001b[0;34m\u001b[0m\u001b[0m\n\u001b[0m\u001b[1;32m    135\u001b[0m \u001b[0;34m\u001b[0m\u001b[0m\n\u001b[1;32m    136\u001b[0m     \u001b[0;32mreturn\u001b[0m \u001b[0marr\u001b[0m\u001b[0;34m.\u001b[0m\u001b[0mastype\u001b[0m\u001b[0;34m(\u001b[0m\u001b[0mdtype\u001b[0m\u001b[0;34m,\u001b[0m \u001b[0mcopy\u001b[0m\u001b[0;34m=\u001b[0m\u001b[0mcopy\u001b[0m\u001b[0;34m)\u001b[0m\u001b[0;34m\u001b[0m\u001b[0;34m\u001b[0m\u001b[0m\n",
            "\u001b[0;31mValueError\u001b[0m: cannot convert float NaN to integer"
          ]
        }
      ]
    },
    {
      "cell_type": "markdown",
      "source": [
        "Проблемка... Объект `NaN` - имеет тип `float`, поэтому мы не можем сделать тип всей колонки целочисленным. Заменим тип на `float`:"
      ],
      "metadata": {
        "id": "dS05zOhSVKVT"
      }
    },
    {
      "cell_type": "code",
      "source": [
        "df.A = df.A.astype(float)"
      ],
      "metadata": {
        "id": "KdbZc8VMqsh9"
      },
      "execution_count": null,
      "outputs": []
    },
    {
      "cell_type": "markdown",
      "source": [
        "Оценим распределение в колонке `A`:"
      ],
      "metadata": {
        "id": "AxxAlkwGWuNK"
      }
    },
    {
      "cell_type": "code",
      "source": [
        "fig, ax = plt.subplots(1, 2, figsize=(6, 3))\n",
        "sns.kdeplot(data=df, x='A', ax = ax[0])\n",
        "sns.kdeplot(data=df, x='A', hue='D', ax = ax[1])"
      ],
      "metadata": {
        "colab": {
          "base_uri": "https://localhost:8080/",
          "height": 328
        },
        "id": "HKf2g7rrW4kx",
        "outputId": "a1da96b8-6e3c-4dab-c6cf-1589eb057ca9"
      },
      "execution_count": null,
      "outputs": [
        {
          "output_type": "execute_result",
          "data": {
            "text/plain": [
              "<Axes: xlabel='A', ylabel='Density'>"
            ]
          },
          "metadata": {},
          "execution_count": 125
        },
        {
          "output_type": "display_data",
          "data": {
            "text/plain": [
              "<Figure size 600x300 with 2 Axes>"
            ],
            "image/png": "[encoded data removed]"
          },
          "metadata": {}
        }
      ]
    },
    {
      "cell_type": "markdown",
      "source": [
        "Картина характерная для равномерного распределения."
      ],
      "metadata": {
        "id": "qEMWREgmXnLS"
      }
    },
    {
      "cell_type": "markdown",
      "source": [
        "![image.png](data:image/png;base64,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)"
      ],
      "metadata": {
        "id": "qF-c_SVbu12U"
      }
    },
    {
      "cell_type": "markdown",
      "source": [
        "Заполним пропуски средним:"
      ],
      "metadata": {
        "id": "Wgcxd7UyVhkI"
      }
    },
    {
      "cell_type": "code",
      "source": [
        "print(f'Mean by \"A\" column is {df.A.mean().round(2)}.')\n",
        "df.A.fillna(df.A.mean().round(2), inplace=True)"
      ],
      "metadata": {
        "id": "mKTwMZNvsxTh",
        "colab": {
          "base_uri": "https://localhost:8080/"
        },
        "outputId": "99a25bd3-b390-4e66-fe05-026f8b17c02a"
      },
      "execution_count": null,
      "outputs": [
        {
          "output_type": "stream",
          "name": "stdout",
          "text": [
            "Mean by \"A\" column is 10.23.\n"
          ]
        }
      ]
    },
    {
      "cell_type": "code",
      "source": [
        "df.info()"
      ],
      "metadata": {
        "id": "FPI0l67irZ7b",
        "colab": {
          "base_uri": "https://localhost:8080/"
        },
        "outputId": "0e2a1b18-39d5-443f-efaf-22a09713b8be"
      },
      "execution_count": null,
      "outputs": [
        {
          "output_type": "stream",
          "name": "stdout",
          "text": [
            "<class 'pandas.core.frame.DataFrame'>\n",
            "RangeIndex: 1500 entries, 0 to 1499\n",
            "Data columns (total 4 columns):\n",
            " #   Column  Non-Null Count  Dtype  \n",
            "---  ------  --------------  -----  \n",
            " 0   A       1500 non-null   float64\n",
            " 1   B       302 non-null    float64\n",
            " 2   C       892 non-null    float64\n",
            " 3   D       1500 non-null   object \n",
            "dtypes: float64(3), object(1)\n",
            "memory usage: 47.0+ KB\n"
          ]
        }
      ]
    },
    {
      "cell_type": "markdown",
      "source": [
        "Посмотрим на итоговое распределение:"
      ],
      "metadata": {
        "id": "l_22G54xWXee"
      }
    },
    {
      "cell_type": "code",
      "source": [
        "fig, ax = plt.subplots(1, 2, figsize=(6, 3))\n",
        "sns.kdeplot(data=df, x='A', ax = ax[0])\n",
        "sns.kdeplot(data=df, x='A', hue='D', ax = ax[1])"
      ],
      "metadata": {
        "id": "13oJ1p8orZ21",
        "colab": {
          "base_uri": "https://localhost:8080/",
          "height": 330
        },
        "outputId": "65b7b1bb-1810-4854-a1a8-28cc46ef1dbd"
      },
      "execution_count": null,
      "outputs": [
        {
          "output_type": "execute_result",
          "data": {
            "text/plain": [
              "<Axes: xlabel='A', ylabel='Density'>"
            ]
          },
          "metadata": {},
          "execution_count": 128
        },
        {
          "output_type": "display_data",
          "data": {
            "text/plain": [
              "<Figure size 600x300 with 2 Axes>"
            ],
            "image/png": "[encoded data removed]"
          },
          "metadata": {}
        }
      ]
    },
    {
      "cell_type": "markdown",
      "source": [
        "Мы сломали распределение... Почему? Какой вывод можно сделать?"
      ],
      "metadata": {
        "id": "-Vvf7LNDYGCS"
      }
    },
    {
      "cell_type": "markdown",
      "source": [
        "## Сделаем заполнение колонки `C`\n",
        "\n",
        "Однако, сперва оценим распределение."
      ],
      "metadata": {
        "id": "Tyn1ODauYpcx"
      }
    },
    {
      "cell_type": "code",
      "source": [
        "fig, ax = plt.subplots(1, 2, figsize=(10, 3))\n",
        "sns.kdeplot(data=df, x='C', ax = ax[0])\n",
        "sns.kdeplot(data=df, x='C', hue='D', ax = ax[1])"
      ],
      "metadata": {
        "colab": {
          "base_uri": "https://localhost:8080/",
          "height": 329
        },
        "id": "Ys0lz_zxWOpO",
        "outputId": "05c4f2cd-d55e-4b0c-f4b3-6e942cd18a24"
      },
      "execution_count": null,
      "outputs": [
        {
          "output_type": "execute_result",
          "data": {
            "text/plain": [
              "<Axes: xlabel='C', ylabel='Density'>"
            ]
          },
          "metadata": {},
          "execution_count": 130
        },
        {
          "output_type": "display_data",
          "data": {
            "text/plain": [
              "<Figure size 1000x300 with 2 Axes>"
            ],
            "image/png": "[encoded data removed]"
          },
          "metadata": {}
        }
      ]
    },
    {
      "cell_type": "markdown",
      "source": [
        "Видим, что в этом признаке наблюдения явно зависят от значения группирующей переменной (фичи) `D`. Видится логичным заполнить средним не по всей колонке а средними по каждой группе. Получим эти средние:"
      ],
      "metadata": {
        "id": "7J-rqw0pY870"
      }
    },
    {
      "cell_type": "code",
      "source": [
        "mean_dict = {  label:df.loc[df.D == label, 'C'].mean().round(2) for label in df.D.unique() }\n",
        "mean_dict"
      ],
      "metadata": {
        "colab": {
          "base_uri": "https://localhost:8080/"
        },
        "id": "zfFknM0HWOmn",
        "outputId": "19891505-c75b-4d18-f263-f7147db46a09"
      },
      "execution_count": null,
      "outputs": [
        {
          "output_type": "execute_result",
          "data": {
            "text/plain": [
              "{'baz': -14.43, 'foo': 0.12, 'bar': 9.72}"
            ]
          },
          "metadata": {},
          "execution_count": 132
        }
      ]
    },
    {
      "cell_type": "markdown",
      "source": [
        "Однако как эти значения \"засунуть\" в fillnа()?\n",
        "Сформируем соразмерную датафрейму серию:"
      ],
      "metadata": {
        "id": "2g7JOxe8aP8B"
      }
    },
    {
      "cell_type": "code",
      "source": [
        "df.D.map(mean_dict).head()"
      ],
      "metadata": {
        "colab": {
          "base_uri": "https://localhost:8080/",
          "height": 241
        },
        "id": "dbYlAj7NWOj8",
        "outputId": "355432ac-a3c5-404c-c143-6a2349d8b558"
      },
      "execution_count": null,
      "outputs": [
        {
          "output_type": "execute_result",
          "data": {
            "text/plain": [
              "0   -14.43\n",
              "1   -14.43\n",
              "2   -14.43\n",
              "3     0.12\n",
              "4   -14.43\n",
              "Name: D, dtype: float64"
            ],
            "text/html": [
              "<table border=\"1\" class=\"dataframe\">\n",
              "  <thead>\n",
              "    <tr style=\"text-align: right;\">\n",
              "      <th></th>\n",
              "      <th>D</th>\n",
              "    </tr>\n",
              "  </thead>\n",
              "  <tbody>\n",
              "    <tr>\n",
              "      <th>0</th>\n",
              "      <td>-14.43</td>\n",
              "    </tr>\n",
              "    <tr>\n",
              "      <th>1</th>\n",
              "      <td>-14.43</td>\n",
              "    </tr>\n",
              "    <tr>\n",
              "      <th>2</th>\n",
              "      <td>-14.43</td>\n",
              "    </tr>\n",
              "    <tr>\n",
              "      <th>3</th>\n",
              "      <td>0.12</td>\n",
              "    </tr>\n",
              "    <tr>\n",
              "      <th>4</th>\n",
              "      <td>-14.43</td>\n",
              "    </tr>\n",
              "  </tbody>\n",
              "</table><br><label><b>dtype:</b> float64</label>"
            ]
          },
          "metadata": {},
          "execution_count": 134
        }
      ]
    },
    {
      "cell_type": "markdown",
      "source": [
        "Теперь мы для заполнения можем брать эту серию. Для каждого NaN будет подтянуто значение по соответствующему индексу из серии со средними значениями."
      ],
      "metadata": {
        "id": "ChQpXKKraoMu"
      }
    },
    {
      "cell_type": "code",
      "source": [
        "df.C.fillna(df.D.map(mean_dict), inplace=True)"
      ],
      "metadata": {
        "id": "S7tjaYIIWOhf"
      },
      "execution_count": null,
      "outputs": []
    },
    {
      "cell_type": "markdown",
      "source": [
        "Оценим результат:"
      ],
      "metadata": {
        "id": "nkU7OWyUbSfx"
      }
    },
    {
      "cell_type": "code",
      "source": [
        "df.info()"
      ],
      "metadata": {
        "id": "y3ac2XwhrZ09",
        "colab": {
          "base_uri": "https://localhost:8080/"
        },
        "outputId": "d8aa13e3-a158-48d3-b237-90d5fc73bba6"
      },
      "execution_count": null,
      "outputs": [
        {
          "output_type": "stream",
          "name": "stdout",
          "text": [
            "<class 'pandas.core.frame.DataFrame'>\n",
            "RangeIndex: 1500 entries, 0 to 1499\n",
            "Data columns (total 4 columns):\n",
            " #   Column  Non-Null Count  Dtype  \n",
            "---  ------  --------------  -----  \n",
            " 0   A       1500 non-null   float64\n",
            " 1   B       302 non-null    float64\n",
            " 2   C       1500 non-null   float64\n",
            " 3   D       1500 non-null   object \n",
            "dtypes: float64(3), object(1)\n",
            "memory usage: 47.0+ KB\n"
          ]
        }
      ]
    },
    {
      "cell_type": "code",
      "source": [
        "fig, ax = plt.subplots(1, 2, figsize=(10, 3))\n",
        "sns.kdeplot(data=df, x='C', ax = ax[0])\n",
        "sns.kdeplot(data=df, x='C', hue='D', ax = ax[1])"
      ],
      "metadata": {
        "colab": {
          "base_uri": "https://localhost:8080/",
          "height": 328
        },
        "id": "EYsRapnUbXOw",
        "outputId": "925efb24-2ba0-4bce-c0f3-4ec0440c3287"
      },
      "execution_count": null,
      "outputs": [
        {
          "output_type": "execute_result",
          "data": {
            "text/plain": [
              "<Axes: xlabel='C', ylabel='Density'>"
            ]
          },
          "metadata": {},
          "execution_count": 137
        },
        {
          "output_type": "display_data",
          "data": {
            "text/plain": [
              "<Figure size 1000x300 with 2 Axes>"
            ],
            "image/png": "[encoded data removed]"
          },
          "metadata": {}
        }
      ]
    },
    {
      "cell_type": "markdown",
      "source": [
        "Результат удовлетворительный. Однако колонку `B` мы так заполнять не будем. Почему?"
      ],
      "metadata": {
        "id": "oiqf1rgjbkYT"
      }
    },
    {
      "cell_type": "markdown",
      "source": [
        "## `dropna()`\n",
        "\n",
        "Функция удаления строк или столбцов где есть пропуски. По дефолту она удалит строки, где есть хотя бы один пропуск. Если указать `axis=1`, то будут удалены столбцы, где есть хоть один пропуск. Чтобы не быть столь радикальными, рассмотрим параметры:\n",
        "\n",
        "* `axis` = 0/1 - по строкам или столбцам\n",
        "* `how`='all' - удалит только те строки (столбцы) где все значения пропущены\n",
        "* `thresh` = 4 - порог. Указывает, сколько минимум должно быть непустых значений. Если непустых значений меньше, то строка (столбец) удаляется.\n",
        "* `subset` = [...] - список колонок, с которыми работает функция.\n",
        "* `inplace` - no comments)))"
      ],
      "metadata": {
        "id": "tcsPOeIXdCT9"
      }
    },
    {
      "cell_type": "code",
      "source": [
        "df.info()"
      ],
      "metadata": {
        "colab": {
          "base_uri": "https://localhost:8080/"
        },
        "id": "lmexmgacbXL3",
        "outputId": "cacebd6f-e15d-43ac-bb37-2fd457e47d25"
      },
      "execution_count": null,
      "outputs": [
        {
          "output_type": "stream",
          "name": "stdout",
          "text": [
            "<class 'pandas.core.frame.DataFrame'>\n",
            "RangeIndex: 1500 entries, 0 to 1499\n",
            "Data columns (total 4 columns):\n",
            " #   Column  Non-Null Count  Dtype  \n",
            "---  ------  --------------  -----  \n",
            " 0   A       1500 non-null   float64\n",
            " 1   B       302 non-null    float64\n",
            " 2   C       1500 non-null   float64\n",
            " 3   D       1500 non-null   object \n",
            "dtypes: float64(3), object(1)\n",
            "memory usage: 47.0+ KB\n"
          ]
        }
      ]
    },
    {
      "cell_type": "markdown",
      "source": [
        "У нас осталась одна колонка с пропусками. Давайте оценим степень ее заполненности."
      ],
      "metadata": {
        "id": "AaheM1A4e2OR"
      }
    },
    {
      "cell_type": "code",
      "source": [
        "part = (df.B.notnull().sum() / df.shape[0] * 100).round()\n",
        "print(f'Колонка заполнена на {part} %.')"
      ],
      "metadata": {
        "colab": {
          "base_uri": "https://localhost:8080/"
        },
        "id": "YOR_MS7Hbr-Z",
        "outputId": "932ae41d-4cd3-4beb-c03c-8972438ffbfd"
      },
      "execution_count": null,
      "outputs": [
        {
          "output_type": "stream",
          "name": "stdout",
          "text": [
            "Колонка заполнена на 20.0 %.\n"
          ]
        }
      ]
    },
    {
      "cell_type": "markdown",
      "source": [
        "Очень распространена практика, когда колонка, которая заполнена менее чем на 30% удаляется. Давайте удалим все колонки, которые заполнены менее чем на 30%: (с целью научиться писать код для общего случая)"
      ],
      "metadata": {
        "id": "Mk1-vLuufipF"
      }
    },
    {
      "cell_type": "code",
      "source": [
        "min_num_val = int(round(df.shape[0]*.3))\n",
        "min_num_val # столько должно быть минимум непустых значений в столбце для 30% порога"
      ],
      "metadata": {
        "colab": {
          "base_uri": "https://localhost:8080/"
        },
        "id": "kSaj4Hbnbr7q",
        "outputId": "5b8fc50f-4733-40a2-c3b5-bf6c11ff21e7"
      },
      "execution_count": null,
      "outputs": [
        {
          "output_type": "execute_result",
          "data": {
            "text/plain": [
              "450"
            ]
          },
          "metadata": {},
          "execution_count": 152
        }
      ]
    },
    {
      "cell_type": "code",
      "source": [
        "df.dropna(thresh=min_num_val, axis=1, inplace=True)"
      ],
      "metadata": {
        "id": "tpVFtWO_bXJO"
      },
      "execution_count": null,
      "outputs": []
    },
    {
      "cell_type": "code",
      "source": [
        "df.info()"
      ],
      "metadata": {
        "colab": {
          "base_uri": "https://localhost:8080/"
        },
        "id": "6_XE1jpQgcNY",
        "outputId": "9ed0abe9-5920-409d-9be4-c269c4dd53e5"
      },
      "execution_count": null,
      "outputs": [
        {
          "output_type": "stream",
          "name": "stdout",
          "text": [
            "<class 'pandas.core.frame.DataFrame'>\n",
            "RangeIndex: 1500 entries, 0 to 1499\n",
            "Data columns (total 3 columns):\n",
            " #   Column  Non-Null Count  Dtype  \n",
            "---  ------  --------------  -----  \n",
            " 0   A       1500 non-null   float64\n",
            " 1   C       1500 non-null   float64\n",
            " 2   D       1500 non-null   object \n",
            "dtypes: float64(2), object(1)\n",
            "memory usage: 35.3+ KB\n"
          ]
        }
      ]
    },
    {
      "cell_type": "markdown",
      "source": [
        "Поработаем со строками. Сгенерим заново датасет."
      ],
      "metadata": {
        "id": "lHVRB0ThgvkJ"
      }
    },
    {
      "cell_type": "code",
      "source": [
        "df = get_data(1500)"
      ],
      "metadata": {
        "id": "UNc53AxkgjfM"
      },
      "execution_count": null,
      "outputs": []
    },
    {
      "cell_type": "code",
      "source": [
        "df.info()"
      ],
      "metadata": {
        "colab": {
          "base_uri": "https://localhost:8080/"
        },
        "id": "3Ir7bnG4hsiN",
        "outputId": "3ceda19e-d211-456a-f6e7-730506c25dba"
      },
      "execution_count": null,
      "outputs": [
        {
          "output_type": "stream",
          "name": "stdout",
          "text": [
            "<class 'pandas.core.frame.DataFrame'>\n",
            "RangeIndex: 1500 entries, 0 to 1499\n",
            "Data columns (total 4 columns):\n",
            " #   Column  Non-Null Count  Dtype  \n",
            "---  ------  --------------  -----  \n",
            " 0   A       1198 non-null   object \n",
            " 1   B       272 non-null    float64\n",
            " 2   C       907 non-null    float64\n",
            " 3   D       1500 non-null   object \n",
            "dtypes: float64(2), object(2)\n",
            "memory usage: 47.0+ KB\n"
          ]
        }
      ]
    },
    {
      "cell_type": "markdown",
      "source": [
        "Посмотрим, сколько в каждой строке пропусков"
      ],
      "metadata": {
        "id": "I426W9Hsh0Ya"
      }
    },
    {
      "cell_type": "code",
      "source": [
        "df.isnull().sum(axis=1).describe()[['mean', 'min', 'max']]"
      ],
      "metadata": {
        "colab": {
          "base_uri": "https://localhost:8080/",
          "height": 178
        },
        "id": "uhV7hxsbhsfl",
        "outputId": "94412e91-6c34-44c7-c613-f53b00581b4e"
      },
      "execution_count": null,
      "outputs": [
        {
          "output_type": "execute_result",
          "data": {
            "text/plain": [
              "mean    1.415333\n",
              "min     0.000000\n",
              "max     3.000000\n",
              "dtype: float64"
            ],
            "text/html": [
              "<table border=\"1\" class=\"dataframe\">\n",
              "  <thead>\n",
              "    <tr style=\"text-align: right;\">\n",
              "      <th></th>\n",
              "      <th>0</th>\n",
              "    </tr>\n",
              "  </thead>\n",
              "  <tbody>\n",
              "    <tr>\n",
              "      <th>mean</th>\n",
              "      <td>1.415333</td>\n",
              "    </tr>\n",
              "    <tr>\n",
              "      <th>min</th>\n",
              "      <td>0.000000</td>\n",
              "    </tr>\n",
              "    <tr>\n",
              "      <th>max</th>\n",
              "      <td>3.000000</td>\n",
              "    </tr>\n",
              "  </tbody>\n",
              "</table><br><label><b>dtype:</b> float64</label>"
            ]
          },
          "metadata": {},
          "execution_count": 162
        }
      ]
    },
    {
      "cell_type": "markdown",
      "source": [
        "Видим, что есть строки, где все три количественных значений пропущены. (Скорее всего так будет). Удалим те строки, где есть больше чем один пропуск. Тогда в строке должно остаться минимум 3 непустых значений."
      ],
      "metadata": {
        "id": "qLRm7kwQiQ4n"
      }
    },
    {
      "cell_type": "code",
      "source": [
        "df.dropna(axis=0, thresh=3, inplace = True)"
      ],
      "metadata": {
        "id": "BhJcngrBhyYf"
      },
      "execution_count": null,
      "outputs": []
    },
    {
      "cell_type": "code",
      "source": [
        "df.info()"
      ],
      "metadata": {
        "colab": {
          "base_uri": "https://localhost:8080/"
        },
        "id": "YDG0JZBvhsdA",
        "outputId": "c2e8ccfd-eb99-4077-c86b-7309ac2b035f"
      },
      "execution_count": null,
      "outputs": [
        {
          "output_type": "stream",
          "name": "stdout",
          "text": [
            "<class 'pandas.core.frame.DataFrame'>\n",
            "Index: 857 entries, 0 to 1499\n",
            "Data columns (total 4 columns):\n",
            " #   Column  Non-Null Count  Dtype  \n",
            "---  ------  --------------  -----  \n",
            " 0   A       829 non-null    object \n",
            " 1   B       245 non-null    float64\n",
            " 2   C       768 non-null    float64\n",
            " 3   D       857 non-null    object \n",
            "dtypes: float64(2), object(2)\n",
            "memory usage: 33.5+ KB\n"
          ]
        }
      ]
    },
    {
      "cell_type": "code",
      "source": [
        "df.isnull().sum(axis=1).describe()[['mean', 'min', 'max']]"
      ],
      "metadata": {
        "colab": {
          "base_uri": "https://localhost:8080/",
          "height": 178
        },
        "id": "jw84v1UVi696",
        "outputId": "c926c26a-86de-425f-cc67-247173b2790c"
      },
      "execution_count": null,
      "outputs": [
        {
          "output_type": "execute_result",
          "data": {
            "text/plain": [
              "mean    0.850642\n",
              "min     0.000000\n",
              "max     1.000000\n",
              "dtype: float64"
            ],
            "text/html": [
              "<table border=\"1\" class=\"dataframe\">\n",
              "  <thead>\n",
              "    <tr style=\"text-align: right;\">\n",
              "      <th></th>\n",
              "      <th>0</th>\n",
              "    </tr>\n",
              "  </thead>\n",
              "  <tbody>\n",
              "    <tr>\n",
              "      <th>mean</th>\n",
              "      <td>0.850642</td>\n",
              "    </tr>\n",
              "    <tr>\n",
              "      <th>min</th>\n",
              "      <td>0.000000</td>\n",
              "    </tr>\n",
              "    <tr>\n",
              "      <th>max</th>\n",
              "      <td>1.000000</td>\n",
              "    </tr>\n",
              "  </tbody>\n",
              "</table><br><label><b>dtype:</b> float64</label>"
            ]
          },
          "metadata": {},
          "execution_count": 166
        }
      ]
    },
    {
      "cell_type": "markdown",
      "source": [
        "## Вывод\n",
        "\n",
        "Мы познакомились с некоторыми простейшими приемами работы с пропусками. Однако существуют более продвинутые подходы работы с ними. Мы всегда принимаем рашение, как заполнять или удалять пропуски, исходя из специфики данных. Мы обращаем внимание на распределение и на зависимость от других признаков. Нам нельзя нарушать существующие зависимости и также нежелательно просто удалять значения так как это приводит к потере ценных данных. Часто при заполнении пропусков прибегают, например, к предсказанию того, каково наиболее вероятно значение той ячейки, где имеется пропуск с точки зрения значений в других колонках. Для этого необходимо глубокое изучение данных, построение трендов, зависимостей итд..."
      ],
      "metadata": {
        "id": "GlHFcN3hjirX"
      }
    },
    {
      "cell_type": "code",
      "source": [],
      "metadata": {
        "id": "AvD56fLxjQy-"
      },
      "execution_count": null,
      "outputs": []
    },
    {
      "cell_type": "markdown",
      "source": [
        "## Duplicates\n",
        "\n",
        "Давайте сформируем датафрейм с дупликатами и поработаем с ним."
      ],
      "metadata": {
        "id": "18N6PRZquJBU"
      }
    },
    {
      "cell_type": "code",
      "source": [
        "df = get_data(1000)\n",
        "df = pd.concat([df, df.sample(100)], axis=0) # выборка из 100 случайных строк и добавление ее в конец\n",
        "df = df.sort_index().reset_index(drop=True) # приведение индексов в порядок\n",
        "df"
      ],
      "metadata": {
        "id": "Nr_QqHMfrZwA",
        "colab": {
          "base_uri": "https://localhost:8080/",
          "height": 423
        },
        "outputId": "565cbf71-efd3-4abd-d846-8eaffcb0af54"
      },
      "execution_count": null,
      "outputs": [
        {
          "output_type": "execute_result",
          "data": {
            "text/plain": [
              "        A   B          C    D\n",
              "0     NaN NaN        NaN  baz\n",
              "1     NaN NaN        NaN  baz\n",
              "2       3 NaN -12.735696  baz\n",
              "3      19 NaN        NaN  bar\n",
              "4       1 NaN -20.108552  baz\n",
              "...   ...  ..        ...  ...\n",
              "1095    1 NaN        NaN  baz\n",
              "1096    9 NaN -13.028905  baz\n",
              "1097   18 NaN        NaN  foo\n",
              "1098   16 NaN        NaN  bar\n",
              "1099   16 NaN        NaN  bar\n",
              "\n",
              "[1100 rows x 4 columns]"
            ],
            "text/html": [
              "\n",
              "  <div id=\"df-2ea7cb0e-74ae-492f-b94c-7924975110d3\" class=\"colab-df-container\">\n",
              "    <div>\n",
              "<style scoped>\n",
              "    .dataframe tbody tr th:only-of-type {\n",
              "        vertical-align: middle;\n",
              "    }\n",
              "\n",
              "    .dataframe tbody tr th {\n",
              "        vertical-align: top;\n",
              "    }\n",
              "\n",
              "    .dataframe thead th {\n",
              "        text-align: right;\n",
              "    }\n",
              "</style>\n",
              "<table border=\"1\" class=\"dataframe\">\n",
              "  <thead>\n",
              "    <tr style=\"text-align: right;\">\n",
              "      <th></th>\n",
              "      <th>A</th>\n",
              "      <th>B</th>\n",
              "      <th>C</th>\n",
              "      <th>D</th>\n",
              "    </tr>\n",
              "  </thead>\n",
              "  <tbody>\n",
              "    <tr>\n",
              "      <th>0</th>\n",
              "      <td>NaN</td>\n",
              "      <td>NaN</td>\n",
              "      <td>NaN</td>\n",
              "      <td>baz</td>\n",
              "    </tr>\n",
              "    <tr>\n",
              "      <th>1</th>\n",
              "      <td>NaN</td>\n",
              "      <td>NaN</td>\n",
              "      <td>NaN</td>\n",
              "      <td>baz</td>\n",
              "    </tr>\n",
              "    <tr>\n",
              "      <th>2</th>\n",
              "      <td>3</td>\n",
              "      <td>NaN</td>\n",
              "      <td>-12.735696</td>\n",
              "      <td>baz</td>\n",
              "    </tr>\n",
              "    <tr>\n",
              "      <th>3</th>\n",
              "      <td>19</td>\n",
              "      <td>NaN</td>\n",
              "      <td>NaN</td>\n",
              "      <td>bar</td>\n",
              "    </tr>\n",
              "    <tr>\n",
              "      <th>4</th>\n",
              "      <td>1</td>\n",
              "      <td>NaN</td>\n",
              "      <td>-20.108552</td>\n",
              "      <td>baz</td>\n",
              "    </tr>\n",
              "    <tr>\n",
              "      <th>...</th>\n",
              "      <td>...</td>\n",
              "      <td>...</td>\n",
              "      <td>...</td>\n",
              "      <td>...</td>\n",
              "    </tr>\n",
              "    <tr>\n",
              "      <th>1095</th>\n",
              "      <td>1</td>\n",
              "      <td>NaN</td>\n",
              "      <td>NaN</td>\n",
              "      <td>baz</td>\n",
              "    </tr>\n",
              "    <tr>\n",
              "      <th>1096</th>\n",
              "      <td>9</td>\n",
              "      <td>NaN</td>\n",
              "      <td>-13.028905</td>\n",
              "      <td>baz</td>\n",
              "    </tr>\n",
              "    <tr>\n",
              "      <th>1097</th>\n",
              "      <td>18</td>\n",
              "      <td>NaN</td>\n",
              "      <td>NaN</td>\n",
              "      <td>foo</td>\n",
              "    </tr>\n",
              "    <tr>\n",
              "      <th>1098</th>\n",
              "      <td>16</td>\n",
              "      <td>NaN</td>\n",
              "      <td>NaN</td>\n",
              "      <td>bar</td>\n",
              "    </tr>\n",
              "    <tr>\n",
              "      <th>1099</th>\n",
              "      <td>16</td>\n",
              "      <td>NaN</td>\n",
              "      <td>NaN</td>\n",
              "      <td>bar</td>\n",
              "    </tr>\n",
              "  </tbody>\n",
              "</table>\n",
              "<p>1100 rows × 4 columns</p>\n",
              "</div>\n",
              "    <div class=\"colab-df-buttons\">\n",
              "\n",
              "  <div class=\"colab-df-container\">\n",
              "    <button class=\"colab-df-convert\" onclick=\"convertToInteractive('df-2ea7cb0e-74ae-492f-b94c-7924975110d3')\"\n",
              "            title=\"Convert this dataframe to an interactive table.\"\n",
              "            style=\"display:none;\">\n",
              "\n",
              "  <svg xmlns=\"http://www.w3.org/2000/svg\" height=\"24px\" viewBox=\"0 -960 960 960\">\n",
              "    <path d=\"M120-120v-720h720v720H120Zm60-500h600v-160H180v160Zm220 220h160v-160H400v160Zm0 220h160v-160H400v160ZM180-400h160v-160H180v160Zm440 0h160v-160H620v160ZM180-180h160v-160H180v160Zm440 0h160v-160H620v160Z\"/>\n",
              "  </svg>\n",
              "    </button>\n",
              "\n",
              "  <style>\n",
              "    .colab-df-container {\n",
              "      display:flex;\n",
              "      gap: 12px;\n",
              "    }\n",
              "\n",
              "    .colab-df-convert {\n",
              "      background-color: #E8F0FE;\n",
              "      border: none;\n",
              "      border-radius: 50%;\n",
              "      cursor: pointer;\n",
              "      display: none;\n",
              "      fill: #1967D2;\n",
              "      height: 32px;\n",
              "      padding: 0 0 0 0;\n",
              "      width: 32px;\n",
              "    }\n",
              "\n",
              "    .colab-df-convert:hover {\n",
              "      background-color: #E2EBFA;\n",
              "      box-shadow: 0px 1px 2px rgba(60, 64, 67, 0.3), 0px 1px 3px 1px rgba(60, 64, 67, 0.15);\n",
              "      fill: #174EA6;\n",
              "    }\n",
              "\n",
              "    .colab-df-buttons div {\n",
              "      margin-bottom: 4px;\n",
              "    }\n",
              "\n",
              "    [theme=dark] .colab-df-convert {\n",
              "      background-color: #3B4455;\n",
              "      fill: #D2E3FC;\n",
              "    }\n",
              "\n",
              "    [theme=dark] .colab-df-convert:hover {\n",
              "      background-color: #434B5C;\n",
              "      box-shadow: 0px 1px 3px 1px rgba(0, 0, 0, 0.15);\n",
              "      filter: drop-shadow(0px 1px 2px rgba(0, 0, 0, 0.3));\n",
              "      fill: #FFFFFF;\n",
              "    }\n",
              "  </style>\n",
              "\n",
              "    <script>\n",
              "      const buttonEl =\n",
              "        document.querySelector('#df-2ea7cb0e-74ae-492f-b94c-7924975110d3 button.colab-df-convert');\n",
              "      buttonEl.style.display =\n",
              "        google.colab.kernel.accessAllowed ? 'block' : 'none';\n",
              "\n",
              "      async function convertToInteractive(key) {\n",
              "        const element = document.querySelector('#df-2ea7cb0e-74ae-492f-b94c-7924975110d3');\n",
              "        const dataTable =\n",
              "          await google.colab.kernel.invokeFunction('convertToInteractive',\n",
              "                                                    [key], {});\n",
              "        if (!dataTable) return;\n",
              "\n",
              "        const docLinkHtml = 'Like what you see? Visit the ' +\n",
              "          '<a target=\"_blank\" href=https://colab.research.google.com/notebooks/data_table.ipynb>data table notebook</a>'\n",
              "          + ' to learn more about interactive tables.';\n",
              "        element.innerHTML = '';\n",
              "        dataTable['output_type'] = 'display_data';\n",
              "        await google.colab.output.renderOutput(dataTable, element);\n",
              "        const docLink = document.createElement('div');\n",
              "        docLink.innerHTML = docLinkHtml;\n",
              "        element.appendChild(docLink);\n",
              "      }\n",
              "    </script>\n",
              "  </div>\n",
              "\n",
              "\n",
              "<div id=\"df-ff8b334e-9c63-4ed5-8cfa-f8fde15458df\">\n",
              "  <button class=\"colab-df-quickchart\" onclick=\"quickchart('df-ff8b334e-9c63-4ed5-8cfa-f8fde15458df')\"\n",
              "            title=\"Suggest charts\"\n",
              "            style=\"display:none;\">\n",
              "\n",
              "<svg xmlns=\"http://www.w3.org/2000/svg\" height=\"24px\"viewBox=\"0 0 24 24\"\n",
              "     width=\"24px\">\n",
              "    <g>\n",
              "        <path d=\"M19 3H5c-1.1 0-2 .9-2 2v14c0 1.1.9 2 2 2h14c1.1 0 2-.9 2-2V5c0-1.1-.9-2-2-2zM9 17H7v-7h2v7zm4 0h-2V7h2v10zm4 0h-2v-4h2v4z\"/>\n",
              "    </g>\n",
              "</svg>\n",
              "  </button>\n",
              "\n",
              "<style>\n",
              "  .colab-df-quickchart {\n",
              "      --bg-color: #E8F0FE;\n",
              "      --fill-color: #1967D2;\n",
              "      --hover-bg-color: #E2EBFA;\n",
              "      --hover-fill-color: #174EA6;\n",
              "      --disabled-fill-color: #AAA;\n",
              "      --disabled-bg-color: #DDD;\n",
              "  }\n",
              "\n",
              "  [theme=dark] .colab-df-quickchart {\n",
              "      --bg-color: #3B4455;\n",
              "      --fill-color: #D2E3FC;\n",
              "      --hover-bg-color: #434B5C;\n",
              "      --hover-fill-color: #FFFFFF;\n",
              "      --disabled-bg-color: #3B4455;\n",
              "      --disabled-fill-color: #666;\n",
              "  }\n",
              "\n",
              "  .colab-df-quickchart {\n",
              "    background-color: var(--bg-color);\n",
              "    border: none;\n",
              "    border-radius: 50%;\n",
              "    cursor: pointer;\n",
              "    display: none;\n",
              "    fill: var(--fill-color);\n",
              "    height: 32px;\n",
              "    padding: 0;\n",
              "    width: 32px;\n",
              "  }\n",
              "\n",
              "  .colab-df-quickchart:hover {\n",
              "    background-color: var(--hover-bg-color);\n",
              "    box-shadow: 0 1px 2px rgba(60, 64, 67, 0.3), 0 1px 3px 1px rgba(60, 64, 67, 0.15);\n",
              "    fill: var(--button-hover-fill-color);\n",
              "  }\n",
              "\n",
              "  .colab-df-quickchart-complete:disabled,\n",
              "  .colab-df-quickchart-complete:disabled:hover {\n",
              "    background-color: var(--disabled-bg-color);\n",
              "    fill: var(--disabled-fill-color);\n",
              "    box-shadow: none;\n",
              "  }\n",
              "\n",
              "  .colab-df-spinner {\n",
              "    border: 2px solid var(--fill-color);\n",
              "    border-color: transparent;\n",
              "    border-bottom-color: var(--fill-color);\n",
              "    animation:\n",
              "      spin 1s steps(1) infinite;\n",
              "  }\n",
              "\n",
              "  @keyframes spin {\n",
              "    0% {\n",
              "      border-color: transparent;\n",
              "      border-bottom-color: var(--fill-color);\n",
              "      border-left-color: var(--fill-color);\n",
              "    }\n",
              "    20% {\n",
              "      border-color: transparent;\n",
              "      border-left-color: var(--fill-color);\n",
              "      border-top-color: var(--fill-color);\n",
              "    }\n",
              "    30% {\n",
              "      border-color: transparent;\n",
              "      border-left-color: var(--fill-color);\n",
              "      border-top-color: var(--fill-color);\n",
              "      border-right-color: var(--fill-color);\n",
              "    }\n",
              "    40% {\n",
              "      border-color: transparent;\n",
              "      border-right-color: var(--fill-color);\n",
              "      border-top-color: var(--fill-color);\n",
              "    }\n",
              "    60% {\n",
              "      border-color: transparent;\n",
              "      border-right-color: var(--fill-color);\n",
              "    }\n",
              "    80% {\n",
              "      border-color: transparent;\n",
              "      border-right-color: var(--fill-color);\n",
              "      border-bottom-color: var(--fill-color);\n",
              "    }\n",
              "    90% {\n",
              "      border-color: transparent;\n",
              "      border-bottom-color: var(--fill-color);\n",
              "    }\n",
              "  }\n",
              "</style>\n",
              "\n",
              "  <script>\n",
              "    async function quickchart(key) {\n",
              "      const quickchartButtonEl =\n",
              "        document.querySelector('#' + key + ' button');\n",
              "      quickchartButtonEl.disabled = true;  // To prevent multiple clicks.\n",
              "      quickchartButtonEl.classList.add('colab-df-spinner');\n",
              "      try {\n",
              "        const charts = await google.colab.kernel.invokeFunction(\n",
              "            'suggestCharts', [key], {});\n",
              "      } catch (error) {\n",
              "        console.error('Error during call to suggestCharts:', error);\n",
              "      }\n",
              "      quickchartButtonEl.classList.remove('colab-df-spinner');\n",
              "      quickchartButtonEl.classList.add('colab-df-quickchart-complete');\n",
              "    }\n",
              "    (() => {\n",
              "      let quickchartButtonEl =\n",
              "        document.querySelector('#df-ff8b334e-9c63-4ed5-8cfa-f8fde15458df button');\n",
              "      quickchartButtonEl.style.display =\n",
              "        google.colab.kernel.accessAllowed ? 'block' : 'none';\n",
              "    })();\n",
              "  </script>\n",
              "</div>\n",
              "\n",
              "  <div id=\"id_1cc6ed4b-57b9-4361-b52d-42a6f9c25972\">\n",
              "    <style>\n",
              "      .colab-df-generate {\n",
              "        background-color: #E8F0FE;\n",
              "        border: none;\n",
              "        border-radius: 50%;\n",
              "        cursor: pointer;\n",
              "        display: none;\n",
              "        fill: #1967D2;\n",
              "        height: 32px;\n",
              "        padding: 0 0 0 0;\n",
              "        width: 32px;\n",
              "      }\n",
              "\n",
              "      .colab-df-generate:hover {\n",
              "        background-color: #E2EBFA;\n",
              "        box-shadow: 0px 1px 2px rgba(60, 64, 67, 0.3), 0px 1px 3px 1px rgba(60, 64, 67, 0.15);\n",
              "        fill: #174EA6;\n",
              "      }\n",
              "\n",
              "      [theme=dark] .colab-df-generate {\n",
              "        background-color: #3B4455;\n",
              "        fill: #D2E3FC;\n",
              "      }\n",
              "\n",
              "      [theme=dark] .colab-df-generate:hover {\n",
              "        background-color: #434B5C;\n",
              "        box-shadow: 0px 1px 3px 1px rgba(0, 0, 0, 0.15);\n",
              "        filter: drop-shadow(0px 1px 2px rgba(0, 0, 0, 0.3));\n",
              "        fill: #FFFFFF;\n",
              "      }\n",
              "    </style>\n",
              "    <button class=\"colab-df-generate\" onclick=\"generateWithVariable('df')\"\n",
              "            title=\"Generate code using this dataframe.\"\n",
              "            style=\"display:none;\">\n",
              "\n",
              "  <svg xmlns=\"http://www.w3.org/2000/svg\" height=\"24px\"viewBox=\"0 0 24 24\"\n",
              "       width=\"24px\">\n",
              "    <path d=\"M7,19H8.4L18.45,9,17,7.55,7,17.6ZM5,21V16.75L18.45,3.32a2,2,0,0,1,2.83,0l1.4,1.43a1.91,1.91,0,0,1,.58,1.4,1.91,1.91,0,0,1-.58,1.4L9.25,21ZM18.45,9,17,7.55Zm-12,3A5.31,5.31,0,0,0,4.9,8.1,5.31,5.31,0,0,0,1,6.5,5.31,5.31,0,0,0,4.9,4.9,5.31,5.31,0,0,0,6.5,1,5.31,5.31,0,0,0,8.1,4.9,5.31,5.31,0,0,0,12,6.5,5.46,5.46,0,0,0,6.5,12Z\"/>\n",
              "  </svg>\n",
              "    </button>\n",
              "    <script>\n",
              "      (() => {\n",
              "      const buttonEl =\n",
              "        document.querySelector('#id_1cc6ed4b-57b9-4361-b52d-42a6f9c25972 button.colab-df-generate');\n",
              "      buttonEl.style.display =\n",
              "        google.colab.kernel.accessAllowed ? 'block' : 'none';\n",
              "\n",
              "      buttonEl.onclick = () => {\n",
              "        google.colab.notebook.generateWithVariable('df');\n",
              "      }\n",
              "      })();\n",
              "    </script>\n",
              "  </div>\n",
              "\n",
              "    </div>\n",
              "  </div>\n"
            ],
            "application/vnd.google.colaboratory.intrinsic+json": {
              "type": "dataframe",
              "variable_name": "df",
              "summary": "{\n  \"name\": \"df\",\n  \"rows\": 1100,\n  \"fields\": [\n    {\n      \"column\": \"A\",\n      \"properties\": {\n        \"dtype\": \"category\",\n        \"num_unique_values\": 19,\n        \"samples\": [\n          \"3\",\n          \"16\",\n          \"10\"\n        ],\n        \"semantic_type\": \"\",\n        \"description\": \"\"\n      }\n    },\n    {\n      \"column\": \"B\",\n      \"properties\": {\n        \"dtype\": \"number\",\n        \"std\": 26.867429503011405,\n        \"min\": 10.0,\n        \"max\": 99.0,\n        \"num_unique_values\": 84,\n        \"samples\": [\n          43.0,\n          37.0,\n          57.0\n        ],\n        \"semantic_type\": \"\",\n        \"description\": \"\"\n      }\n    },\n    {\n      \"column\": \"C\",\n      \"properties\": {\n        \"dtype\": \"number\",\n        \"std\": 11.796717440899707,\n        \"min\": -29.55042523345633,\n        \"max\": 24.399413164621418,\n        \"num_unique_values\": 606,\n        \"samples\": [\n          -22.64349542371091,\n          3.074536663744005,\n          2.1886790214445258\n        ],\n        \"semantic_type\": \"\",\n        \"description\": \"\"\n      }\n    },\n    {\n      \"column\": \"D\",\n      \"properties\": {\n        \"dtype\": \"category\",\n        \"num_unique_values\": 3,\n        \"samples\": [\n          \"baz\",\n          \"bar\",\n          \"foo\"\n        ],\n        \"semantic_type\": \"\",\n        \"description\": \"\"\n      }\n    }\n  ]\n}"
            }
          },
          "metadata": {},
          "execution_count": 176
        }
      ]
    },
    {
      "cell_type": "markdown",
      "source": [
        "## `df.duplicated(col:str|list, keep='last'|'first'|False)`\n",
        "\n",
        "Возвращает булевый массив, где `True` соответствует повтору.\n",
        "\n",
        "* `keep` = 'first' - Будут указаны сами элементы, которые ниже имеют дупликаты.\n",
        "* `keep` = 'last' - Будет показан последний дупликат для каждого элемента.\n",
        "* `keep` = False - для каждого элемента True пометит и сам элемент, который имеет повтор и все повторы."
      ],
      "metadata": {
        "id": "lNaFM6hVoMq2"
      }
    },
    {
      "cell_type": "code",
      "source": [
        "df.duplicated().sum() # столько строк, которые имеют повторы"
      ],
      "metadata": {
        "id": "qc9pMgecrZtr",
        "colab": {
          "base_uri": "https://localhost:8080/"
        },
        "outputId": "828a35c0-5afd-4e05-eae4-2db51bafade7"
      },
      "execution_count": null,
      "outputs": [
        {
          "output_type": "execute_result",
          "data": {
            "text/plain": [
              "346"
            ]
          },
          "metadata": {},
          "execution_count": 183
        }
      ]
    },
    {
      "cell_type": "code",
      "source": [
        "df.duplicated('D').sum()"
      ],
      "metadata": {
        "id": "CX5BnUgxrZrv",
        "colab": {
          "base_uri": "https://localhost:8080/"
        },
        "outputId": "aa72584e-154a-4e19-a154-a9aac92e70f2"
      },
      "execution_count": null,
      "outputs": [
        {
          "output_type": "execute_result",
          "data": {
            "text/plain": [
              "1097"
            ]
          },
          "metadata": {},
          "execution_count": 184
        }
      ]
    },
    {
      "cell_type": "markdown",
      "source": [
        "## `df.drop_duplicates(col:str|list, keep='last'|'first'|False, ...)`"
      ],
      "metadata": {
        "id": "WFgi23ErpstN"
      }
    },
    {
      "cell_type": "code",
      "source": [
        "df.shape"
      ],
      "metadata": {
        "colab": {
          "base_uri": "https://localhost:8080/"
        },
        "id": "1H_B1yA4p_fY",
        "outputId": "632ebf82-1c9a-43f4-dbd9-881b0bc20150"
      },
      "execution_count": null,
      "outputs": [
        {
          "output_type": "execute_result",
          "data": {
            "text/plain": [
              "(1100, 4)"
            ]
          },
          "metadata": {},
          "execution_count": 186
        }
      ]
    },
    {
      "cell_type": "code",
      "source": [
        "df.drop_duplicates(inplace=True)"
      ],
      "metadata": {
        "id": "bA018aLIrZpm"
      },
      "execution_count": null,
      "outputs": []
    },
    {
      "cell_type": "code",
      "source": [
        "df.shape"
      ],
      "metadata": {
        "id": "oOX4e5SlrZnZ",
        "colab": {
          "base_uri": "https://localhost:8080/"
        },
        "outputId": "31d1a917-dcd7-4943-b8d9-b1a0d6973e45"
      },
      "execution_count": null,
      "outputs": [
        {
          "output_type": "execute_result",
          "data": {
            "text/plain": [
              "(754, 4)"
            ]
          },
          "metadata": {},
          "execution_count": 188
        }
      ]
    },
    {
      "cell_type": "markdown",
      "source": [
        "# Practical part"
      ],
      "metadata": {
        "id": "Y2AuaSc-rrcj"
      }
    },
    {
      "cell_type": "markdown",
      "source": [
        "## Create DataFrame"
      ],
      "metadata": {
        "id": "51CCf97RLsqO"
      }
    },
    {
      "cell_type": "code",
      "source": [
        "brend  = ['Kia', 'Hyundai']\n",
        "model = ['Rio', 'Solaris']\n",
        "mod_dict = {'Kia': 'Rio', 'Hyundai': 'Solaris'}\n",
        "production_year = np.random.randint(2017, 2023, 400)\n",
        "bin = np.random.randint(0, 2, 400)\n",
        "br_col = [brend[i] for i in bin]\n",
        "engine_type = [[1.4, 1.6][i] for i in bin]\n",
        "engine_type = [[1.4, 1.6][i] for i in bin]\n",
        "transmission = [['Auto', 'Manual'][i] for i in bin]"
      ],
      "metadata": {
        "id": "oFGPGikf4C_Y"
      },
      "execution_count": null,
      "outputs": []
    },
    {
      "cell_type": "code",
      "source": [
        "df = pd.DataFrame()\n",
        "df['brend'] = br_col\n",
        "df['model'] = df.brend.map(mod_dict)\n",
        "df['production_year'] = production_year\n",
        "df['mileage'] = df.production_year.map(lambda i: np.random.randint((2023-i)*10000, (2023-i)*50000, 1)[0].astype(str) + ' km')\n",
        "df['engine_type'] = engine_type\n",
        "df['transmission'] = transmission\n",
        "df['USD_price'] = df.production_year.map(lambda i: np.random.randint(16000*(1 - (2023-i)*0.15), 15000*(1 - (2023-i)*0.05), 1)[0])\n",
        "df.loc[df['engine_type']==1.4, 'USD_price'] *= 0.93\n",
        "df.loc[df['transmission']=='Manual', 'USD_price'] *= 0.95\n",
        "df.loc[df['transmission']=='Manual', 'USD_price'] *= 0.95\n",
        "df['mileage_int'] = df.mileage.map(lambda i: int(i.replace(' km', '')))\n",
        "df.loc[df['mileage_int'] > 100000, 'USD_price'] *= 0.88\n",
        "df.loc[df['mileage_int'] > 150000, 'USD_price'] *= 0.92\n",
        "df.loc[np.random.randint(0, 401, 5).tolist(), 'production_year'] = np.nan\n",
        "df.loc[np.random.randint(0, 401, 5).tolist(), 'mileage'] = np.nan\n",
        "df.drop('mileage_int', axis=1, inplace=True)\n",
        "df = pd.concat([df, df.sample(100)], axis=0)\n",
        "df = df.sort_index().reset_index(drop=True)"
      ],
      "metadata": {
        "id": "8TrvwYm067eX",
        "outputId": "b122d2e0-7e34-4af3-a631-3c1cd727a87b",
        "colab": {
          "base_uri": "https://localhost:8080/"
        }
      },
      "execution_count": null,
      "outputs": [
        {
          "output_type": "stream",
          "name": "stderr",
          "text": [
            "<ipython-input-5-01017072e53d>:9: FutureWarning: Setting an item of incompatible dtype is deprecated and will raise in a future error of pandas. Value '[10736.85  6702.51 11039.1   4495.62  9466.47  2470.08  6570.45 10436.46\n",
            "  2207.82  9018.21  9438.57  3510.75  9853.35 10570.38 11047.47  8784.78\n",
            " 10444.83  8556.93  9759.42 12044.43  6667.17  6270.99 10510.86  7074.51\n",
            " 10694.07  4869.48  6036.63  7610.19 11623.14 13095.33  5264.73 11027.94\n",
            "  4935.51 11590.59 13134.39  9011.7   9953.79 12742.86  7385.13  9417.18\n",
            "  7187.97  7457.67  9552.03  6613.23 12987.45 10701.51  8609.94  6855.96\n",
            " 13206.93 12827.49 10965.63  6144.51  6085.92 12765.18  7161.93 13203.21\n",
            " 10636.41 10687.56 12791.22 10860.54 12939.09 10006.8  11615.7   8403.48\n",
            " 12917.7   7866.87 13201.35  7196.34 13180.89 12697.29  7931.04 10597.35\n",
            " 12144.87  8138.43 12068.61 11679.87 10521.09  9654.33 11288.34  8263.05\n",
            "  9101.91  7586.94  9372.54  6845.73 10495.98 10761.96  9453.45  7716.21\n",
            " 11744.97 12738.21  8019.39  9538.08 12933.51  9599.46  9658.05 11740.32\n",
            " 12925.14 12370.86 11797.05 11439.93  9787.32  8811.75 12378.3   9220.02\n",
            "  8635.05  6220.77 10356.48  7897.56  7321.89  5327.97  7779.45 13152.99\n",
            " 10226.28  5536.29  9686.88 10190.01  9233.04 13033.02  9759.42 10625.25\n",
            " 12675.9  11784.96 10552.71 11256.72  6703.44  7293.99  9227.46 11539.44\n",
            "  8530.89 10548.06 12896.31  8880.57 11562.69 10664.31  8622.96 10495.05\n",
            " 10204.89 11848.2   3388.92  8697.36 11158.14  9291.63  2884.86  5465.61\n",
            " 12372.72  8595.99 13126.95 12662.88  9184.68  4446.33  2354.76 10314.63\n",
            " 11331.12  9000.54  6050.58 12818.19 12129.99 11705.91 12760.53  7902.21\n",
            "  8887.08 13069.29  8402.55  8384.88  2139.93  1620.99 10092.36  9077.73\n",
            "  9210.72 12257.4   5069.43 10940.52  6037.56  9632.01 12952.11 13192.05\n",
            "  5174.52 10441.11  7438.14  5152.2   9166.08 12462.    6998.25  2883.\n",
            "  7365.6  10940.52 10190.94  6069.18  9059.13  6123.12 11283.69 11330.19\n",
            " 13179.03  7669.71 11707.77 11868.66 13013.49  4410.99 10823.34  9140.97\n",
            " 12865.62  7630.65  2818.83 11345.07 11722.65  7243.77 11558.04 12465.72\n",
            "  6494.19  9500.88 13045.11]' has dtype incompatible with int64, please explicitly cast to a compatible dtype first.\n",
            "  df.loc[df['engine_type']==1.4, 'USD_price'] *= 0.93\n"
          ]
        }
      ]
    },
    {
      "cell_type": "code",
      "source": [
        "df"
      ],
      "metadata": {
        "colab": {
          "base_uri": "https://localhost:8080/",
          "height": 423
        },
        "id": "sKPdVVWh7Hnt",
        "outputId": "437fdf37-f175-4567-b16e-e37991fd0927"
      },
      "execution_count": null,
      "outputs": [
        {
          "output_type": "execute_result",
          "data": {
            "text/plain": [
              "       brend    model  production_year    mileage  engine_type transmission  \\\n",
              "0    Hyundai  Solaris           2019.0   90478 km          1.6       Manual   \n",
              "1    Hyundai  Solaris           2021.0   70766 km          1.6       Manual   \n",
              "2    Hyundai  Solaris           2017.0   98000 km          1.6       Manual   \n",
              "3    Hyundai  Solaris           2017.0   98000 km          1.6       Manual   \n",
              "4    Hyundai  Solaris           2019.0   88887 km          1.6       Manual   \n",
              "..       ...      ...              ...        ...          ...          ...   \n",
              "495      Kia      Rio           2020.0   99922 km          1.4         Auto   \n",
              "496  Hyundai  Solaris           2018.0  193704 km          1.6       Manual   \n",
              "497  Hyundai  Solaris           2020.0  122717 km          1.6       Manual   \n",
              "498      Kia      Rio           2017.0  176633 km          1.4         Auto   \n",
              "499  Hyundai  Solaris           2019.0  138926 km          1.6       Manual   \n",
              "\n",
              "        USD_price  \n",
              "0    10728.017500  \n",
              "1    10642.280000  \n",
              "2     5303.992500  \n",
              "3     5303.992500  \n",
              "4     6876.147500  \n",
              "..            ...  \n",
              "495  11221.380000  \n",
              "496   5765.669624  \n",
              "497   9228.604000  \n",
              "498   3553.067232  \n",
              "499   8629.777200  \n",
              "\n",
              "[500 rows x 7 columns]"
            ],
            "text/html": [
              "\n",
              "  <div id=\"df-a00ed9cf-6f2d-4d40-9f70-1966a2c0bc3a\" class=\"colab-df-container\">\n",
              "    <div>\n",
              "<style scoped>\n",
              "    .dataframe tbody tr th:only-of-type {\n",
              "        vertical-align: middle;\n",
              "    }\n",
              "\n",
              "    .dataframe tbody tr th {\n",
              "        vertical-align: top;\n",
              "    }\n",
              "\n",
              "    .dataframe thead th {\n",
              "        text-align: right;\n",
              "    }\n",
              "</style>\n",
              "<table border=\"1\" class=\"dataframe\">\n",
              "  <thead>\n",
              "    <tr style=\"text-align: right;\">\n",
              "      <th></th>\n",
              "      <th>brend</th>\n",
              "      <th>model</th>\n",
              "      <th>production_year</th>\n",
              "      <th>mileage</th>\n",
              "      <th>engine_type</th>\n",
              "      <th>transmission</th>\n",
              "      <th>USD_price</th>\n",
              "    </tr>\n",
              "  </thead>\n",
              "  <tbody>\n",
              "    <tr>\n",
              "      <th>0</th>\n",
              "      <td>Hyundai</td>\n",
              "      <td>Solaris</td>\n",
              "      <td>2019.0</td>\n",
              "      <td>90478 km</td>\n",
              "      <td>1.6</td>\n",
              "      <td>Manual</td>\n",
              "      <td>10728.017500</td>\n",
              "    </tr>\n",
              "    <tr>\n",
              "      <th>1</th>\n",
              "      <td>Hyundai</td>\n",
              "      <td>Solaris</td>\n",
              "      <td>2021.0</td>\n",
              "      <td>70766 km</td>\n",
              "      <td>1.6</td>\n",
              "      <td>Manual</td>\n",
              "      <td>10642.280000</td>\n",
              "    </tr>\n",
              "    <tr>\n",
              "      <th>2</th>\n",
              "      <td>Hyundai</td>\n",
              "      <td>Solaris</td>\n",
              "      <td>2017.0</td>\n",
              "      <td>98000 km</td>\n",
              "      <td>1.6</td>\n",
              "      <td>Manual</td>\n",
              "      <td>5303.992500</td>\n",
              "    </tr>\n",
              "    <tr>\n",
              "      <th>3</th>\n",
              "      <td>Hyundai</td>\n",
              "      <td>Solaris</td>\n",
              "      <td>2017.0</td>\n",
              "      <td>98000 km</td>\n",
              "      <td>1.6</td>\n",
              "      <td>Manual</td>\n",
              "      <td>5303.992500</td>\n",
              "    </tr>\n",
              "    <tr>\n",
              "      <th>4</th>\n",
              "      <td>Hyundai</td>\n",
              "      <td>Solaris</td>\n",
              "      <td>2019.0</td>\n",
              "      <td>88887 km</td>\n",
              "      <td>1.6</td>\n",
              "      <td>Manual</td>\n",
              "      <td>6876.147500</td>\n",
              "    </tr>\n",
              "    <tr>\n",
              "      <th>...</th>\n",
              "      <td>...</td>\n",
              "      <td>...</td>\n",
              "      <td>...</td>\n",
              "      <td>...</td>\n",
              "      <td>...</td>\n",
              "      <td>...</td>\n",
              "      <td>...</td>\n",
              "    </tr>\n",
              "    <tr>\n",
              "      <th>495</th>\n",
              "      <td>Kia</td>\n",
              "      <td>Rio</td>\n",
              "      <td>2020.0</td>\n",
              "      <td>99922 km</td>\n",
              "      <td>1.4</td>\n",
              "      <td>Auto</td>\n",
              "      <td>11221.380000</td>\n",
              "    </tr>\n",
              "    <tr>\n",
              "      <th>496</th>\n",
              "      <td>Hyundai</td>\n",
              "      <td>Solaris</td>\n",
              "      <td>2018.0</td>\n",
              "      <td>193704 km</td>\n",
              "      <td>1.6</td>\n",
              "      <td>Manual</td>\n",
              "      <td>5765.669624</td>\n",
              "    </tr>\n",
              "    <tr>\n",
              "      <th>497</th>\n",
              "      <td>Hyundai</td>\n",
              "      <td>Solaris</td>\n",
              "      <td>2020.0</td>\n",
              "      <td>122717 km</td>\n",
              "      <td>1.6</td>\n",
              "      <td>Manual</td>\n",
              "      <td>9228.604000</td>\n",
              "    </tr>\n",
              "    <tr>\n",
              "      <th>498</th>\n",
              "      <td>Kia</td>\n",
              "      <td>Rio</td>\n",
              "      <td>2017.0</td>\n",
              "      <td>176633 km</td>\n",
              "      <td>1.4</td>\n",
              "      <td>Auto</td>\n",
              "      <td>3553.067232</td>\n",
              "    </tr>\n",
              "    <tr>\n",
              "      <th>499</th>\n",
              "      <td>Hyundai</td>\n",
              "      <td>Solaris</td>\n",
              "      <td>2019.0</td>\n",
              "      <td>138926 km</td>\n",
              "      <td>1.6</td>\n",
              "      <td>Manual</td>\n",
              "      <td>8629.777200</td>\n",
              "    </tr>\n",
              "  </tbody>\n",
              "</table>\n",
              "<p>500 rows × 7 columns</p>\n",
              "</div>\n",
              "    <div class=\"colab-df-buttons\">\n",
              "\n",
              "  <div class=\"colab-df-container\">\n",
              "    <button class=\"colab-df-convert\" onclick=\"convertToInteractive('df-a00ed9cf-6f2d-4d40-9f70-1966a2c0bc3a')\"\n",
              "            title=\"Convert this dataframe to an interactive table.\"\n",
              "            style=\"display:none;\">\n",
              "\n",
              "  <svg xmlns=\"http://www.w3.org/2000/svg\" height=\"24px\" viewBox=\"0 -960 960 960\">\n",
              "    <path d=\"M120-120v-720h720v720H120Zm60-500h600v-160H180v160Zm220 220h160v-160H400v160Zm0 220h160v-160H400v160ZM180-400h160v-160H180v160Zm440 0h160v-160H620v160ZM180-180h160v-160H180v160Zm440 0h160v-160H620v160Z\"/>\n",
              "  </svg>\n",
              "    </button>\n",
              "\n",
              "  <style>\n",
              "    .colab-df-container {\n",
              "      display:flex;\n",
              "      gap: 12px;\n",
              "    }\n",
              "\n",
              "    .colab-df-convert {\n",
              "      background-color: #E8F0FE;\n",
              "      border: none;\n",
              "      border-radius: 50%;\n",
              "      cursor: pointer;\n",
              "      display: none;\n",
              "      fill: #1967D2;\n",
              "      height: 32px;\n",
              "      padding: 0 0 0 0;\n",
              "      width: 32px;\n",
              "    }\n",
              "\n",
              "    .colab-df-convert:hover {\n",
              "      background-color: #E2EBFA;\n",
              "      box-shadow: 0px 1px 2px rgba(60, 64, 67, 0.3), 0px 1px 3px 1px rgba(60, 64, 67, 0.15);\n",
              "      fill: #174EA6;\n",
              "    }\n",
              "\n",
              "    .colab-df-buttons div {\n",
              "      margin-bottom: 4px;\n",
              "    }\n",
              "\n",
              "    [theme=dark] .colab-df-convert {\n",
              "      background-color: #3B4455;\n",
              "      fill: #D2E3FC;\n",
              "    }\n",
              "\n",
              "    [theme=dark] .colab-df-convert:hover {\n",
              "      background-color: #434B5C;\n",
              "      box-shadow: 0px 1px 3px 1px rgba(0, 0, 0, 0.15);\n",
              "      filter: drop-shadow(0px 1px 2px rgba(0, 0, 0, 0.3));\n",
              "      fill: #FFFFFF;\n",
              "    }\n",
              "  </style>\n",
              "\n",
              "    <script>\n",
              "      const buttonEl =\n",
              "        document.querySelector('#df-a00ed9cf-6f2d-4d40-9f70-1966a2c0bc3a button.colab-df-convert');\n",
              "      buttonEl.style.display =\n",
              "        google.colab.kernel.accessAllowed ? 'block' : 'none';\n",
              "\n",
              "      async function convertToInteractive(key) {\n",
              "        const element = document.querySelector('#df-a00ed9cf-6f2d-4d40-9f70-1966a2c0bc3a');\n",
              "        const dataTable =\n",
              "          await google.colab.kernel.invokeFunction('convertToInteractive',\n",
              "                                                    [key], {});\n",
              "        if (!dataTable) return;\n",
              "\n",
              "        const docLinkHtml = 'Like what you see? Visit the ' +\n",
              "          '<a target=\"_blank\" href=https://colab.research.google.com/notebooks/data_table.ipynb>data table notebook</a>'\n",
              "          + ' to learn more about interactive tables.';\n",
              "        element.innerHTML = '';\n",
              "        dataTable['output_type'] = 'display_data';\n",
              "        await google.colab.output.renderOutput(dataTable, element);\n",
              "        const docLink = document.createElement('div');\n",
              "        docLink.innerHTML = docLinkHtml;\n",
              "        element.appendChild(docLink);\n",
              "      }\n",
              "    </script>\n",
              "  </div>\n",
              "\n",
              "\n",
              "<div id=\"df-779f4ecc-a7b9-4d56-a5eb-b5d48ab97eec\">\n",
              "  <button class=\"colab-df-quickchart\" onclick=\"quickchart('df-779f4ecc-a7b9-4d56-a5eb-b5d48ab97eec')\"\n",
              "            title=\"Suggest charts\"\n",
              "            style=\"display:none;\">\n",
              "\n",
              "<svg xmlns=\"http://www.w3.org/2000/svg\" height=\"24px\"viewBox=\"0 0 24 24\"\n",
              "     width=\"24px\">\n",
              "    <g>\n",
              "        <path d=\"M19 3H5c-1.1 0-2 .9-2 2v14c0 1.1.9 2 2 2h14c1.1 0 2-.9 2-2V5c0-1.1-.9-2-2-2zM9 17H7v-7h2v7zm4 0h-2V7h2v10zm4 0h-2v-4h2v4z\"/>\n",
              "    </g>\n",
              "</svg>\n",
              "  </button>\n",
              "\n",
              "<style>\n",
              "  .colab-df-quickchart {\n",
              "      --bg-color: #E8F0FE;\n",
              "      --fill-color: #1967D2;\n",
              "      --hover-bg-color: #E2EBFA;\n",
              "      --hover-fill-color: #174EA6;\n",
              "      --disabled-fill-color: #AAA;\n",
              "      --disabled-bg-color: #DDD;\n",
              "  }\n",
              "\n",
              "  [theme=dark] .colab-df-quickchart {\n",
              "      --bg-color: #3B4455;\n",
              "      --fill-color: #D2E3FC;\n",
              "      --hover-bg-color: #434B5C;\n",
              "      --hover-fill-color: #FFFFFF;\n",
              "      --disabled-bg-color: #3B4455;\n",
              "      --disabled-fill-color: #666;\n",
              "  }\n",
              "\n",
              "  .colab-df-quickchart {\n",
              "    background-color: var(--bg-color);\n",
              "    border: none;\n",
              "    border-radius: 50%;\n",
              "    cursor: pointer;\n",
              "    display: none;\n",
              "    fill: var(--fill-color);\n",
              "    height: 32px;\n",
              "    padding: 0;\n",
              "    width: 32px;\n",
              "  }\n",
              "\n",
              "  .colab-df-quickchart:hover {\n",
              "    background-color: var(--hover-bg-color);\n",
              "    box-shadow: 0 1px 2px rgba(60, 64, 67, 0.3), 0 1px 3px 1px rgba(60, 64, 67, 0.15);\n",
              "    fill: var(--button-hover-fill-color);\n",
              "  }\n",
              "\n",
              "  .colab-df-quickchart-complete:disabled,\n",
              "  .colab-df-quickchart-complete:disabled:hover {\n",
              "    background-color: var(--disabled-bg-color);\n",
              "    fill: var(--disabled-fill-color);\n",
              "    box-shadow: none;\n",
              "  }\n",
              "\n",
              "  .colab-df-spinner {\n",
              "    border: 2px solid var(--fill-color);\n",
              "    border-color: transparent;\n",
              "    border-bottom-color: var(--fill-color);\n",
              "    animation:\n",
              "      spin 1s steps(1) infinite;\n",
              "  }\n",
              "\n",
              "  @keyframes spin {\n",
              "    0% {\n",
              "      border-color: transparent;\n",
              "      border-bottom-color: var(--fill-color);\n",
              "      border-left-color: var(--fill-color);\n",
              "    }\n",
              "    20% {\n",
              "      border-color: transparent;\n",
              "      border-left-color: var(--fill-color);\n",
              "      border-top-color: var(--fill-color);\n",
              "    }\n",
              "    30% {\n",
              "      border-color: transparent;\n",
              "      border-left-color: var(--fill-color);\n",
              "      border-top-color: var(--fill-color);\n",
              "      border-right-color: var(--fill-color);\n",
              "    }\n",
              "    40% {\n",
              "      border-color: transparent;\n",
              "      border-right-color: var(--fill-color);\n",
              "      border-top-color: var(--fill-color);\n",
              "    }\n",
              "    60% {\n",
              "      border-color: transparent;\n",
              "      border-right-color: var(--fill-color);\n",
              "    }\n",
              "    80% {\n",
              "      border-color: transparent;\n",
              "      border-right-color: var(--fill-color);\n",
              "      border-bottom-color: var(--fill-color);\n",
              "    }\n",
              "    90% {\n",
              "      border-color: transparent;\n",
              "      border-bottom-color: var(--fill-color);\n",
              "    }\n",
              "  }\n",
              "</style>\n",
              "\n",
              "  <script>\n",
              "    async function quickchart(key) {\n",
              "      const quickchartButtonEl =\n",
              "        document.querySelector('#' + key + ' button');\n",
              "      quickchartButtonEl.disabled = true;  // To prevent multiple clicks.\n",
              "      quickchartButtonEl.classList.add('colab-df-spinner');\n",
              "      try {\n",
              "        const charts = await google.colab.kernel.invokeFunction(\n",
              "            'suggestCharts', [key], {});\n",
              "      } catch (error) {\n",
              "        console.error('Error during call to suggestCharts:', error);\n",
              "      }\n",
              "      quickchartButtonEl.classList.remove('colab-df-spinner');\n",
              "      quickchartButtonEl.classList.add('colab-df-quickchart-complete');\n",
              "    }\n",
              "    (() => {\n",
              "      let quickchartButtonEl =\n",
              "        document.querySelector('#df-779f4ecc-a7b9-4d56-a5eb-b5d48ab97eec button');\n",
              "      quickchartButtonEl.style.display =\n",
              "        google.colab.kernel.accessAllowed ? 'block' : 'none';\n",
              "    })();\n",
              "  </script>\n",
              "</div>\n",
              "\n",
              "  <div id=\"id_e327fe58-7d86-445a-a97c-b475d893f2e9\">\n",
              "    <style>\n",
              "      .colab-df-generate {\n",
              "        background-color: #E8F0FE;\n",
              "        border: none;\n",
              "        border-radius: 50%;\n",
              "        cursor: pointer;\n",
              "        display: none;\n",
              "        fill: #1967D2;\n",
              "        height: 32px;\n",
              "        padding: 0 0 0 0;\n",
              "        width: 32px;\n",
              "      }\n",
              "\n",
              "      .colab-df-generate:hover {\n",
              "        background-color: #E2EBFA;\n",
              "        box-shadow: 0px 1px 2px rgba(60, 64, 67, 0.3), 0px 1px 3px 1px rgba(60, 64, 67, 0.15);\n",
              "        fill: #174EA6;\n",
              "      }\n",
              "\n",
              "      [theme=dark] .colab-df-generate {\n",
              "        background-color: #3B4455;\n",
              "        fill: #D2E3FC;\n",
              "      }\n",
              "\n",
              "      [theme=dark] .colab-df-generate:hover {\n",
              "        background-color: #434B5C;\n",
              "        box-shadow: 0px 1px 3px 1px rgba(0, 0, 0, 0.15);\n",
              "        filter: drop-shadow(0px 1px 2px rgba(0, 0, 0, 0.3));\n",
              "        fill: #FFFFFF;\n",
              "      }\n",
              "    </style>\n",
              "    <button class=\"colab-df-generate\" onclick=\"generateWithVariable('df')\"\n",
              "            title=\"Generate code using this dataframe.\"\n",
              "            style=\"display:none;\">\n",
              "\n",
              "  <svg xmlns=\"http://www.w3.org/2000/svg\" height=\"24px\"viewBox=\"0 0 24 24\"\n",
              "       width=\"24px\">\n",
              "    <path d=\"M7,19H8.4L18.45,9,17,7.55,7,17.6ZM5,21V16.75L18.45,3.32a2,2,0,0,1,2.83,0l1.4,1.43a1.91,1.91,0,0,1,.58,1.4,1.91,1.91,0,0,1-.58,1.4L9.25,21ZM18.45,9,17,7.55Zm-12,3A5.31,5.31,0,0,0,4.9,8.1,5.31,5.31,0,0,0,1,6.5,5.31,5.31,0,0,0,4.9,4.9,5.31,5.31,0,0,0,6.5,1,5.31,5.31,0,0,0,8.1,4.9,5.31,5.31,0,0,0,12,6.5,5.46,5.46,0,0,0,6.5,12Z\"/>\n",
              "  </svg>\n",
              "    </button>\n",
              "    <script>\n",
              "      (() => {\n",
              "      const buttonEl =\n",
              "        document.querySelector('#id_e327fe58-7d86-445a-a97c-b475d893f2e9 button.colab-df-generate');\n",
              "      buttonEl.style.display =\n",
              "        google.colab.kernel.accessAllowed ? 'block' : 'none';\n",
              "\n",
              "      buttonEl.onclick = () => {\n",
              "        google.colab.notebook.generateWithVariable('df');\n",
              "      }\n",
              "      })();\n",
              "    </script>\n",
              "  </div>\n",
              "\n",
              "    </div>\n",
              "  </div>\n"
            ],
            "application/vnd.google.colaboratory.intrinsic+json": {
              "type": "dataframe",
              "variable_name": "df",
              "summary": "{\n  \"name\": \"df\",\n  \"rows\": 500,\n  \"fields\": [\n    {\n      \"column\": \"brend\",\n      \"properties\": {\n        \"dtype\": \"category\",\n        \"num_unique_values\": 2,\n        \"samples\": [\n          \"Kia\",\n          \"Hyundai\"\n        ],\n        \"semantic_type\": \"\",\n        \"description\": \"\"\n      }\n    },\n    {\n      \"column\": \"model\",\n      \"properties\": {\n        \"dtype\": \"category\",\n        \"num_unique_values\": 2,\n        \"samples\": [\n          \"Rio\",\n          \"Solaris\"\n        ],\n        \"semantic_type\": \"\",\n        \"description\": \"\"\n      }\n    },\n    {\n      \"column\": \"production_year\",\n      \"properties\": {\n        \"dtype\": \"number\",\n        \"std\": 1.743693856785012,\n        \"min\": 2017.0,\n        \"max\": 2022.0,\n        \"num_unique_values\": 6,\n        \"samples\": [\n          2019.0,\n          2021.0\n        ],\n        \"semantic_type\": \"\",\n        \"description\": \"\"\n      }\n    },\n    {\n      \"column\": \"mileage\",\n      \"properties\": {\n        \"dtype\": \"string\",\n        \"num_unique_values\": 395,\n        \"samples\": [\n          \"119768 km\",\n          \"129727 km\"\n        ],\n        \"semantic_type\": \"\",\n        \"description\": \"\"\n      }\n    },\n    {\n      \"column\": \"engine_type\",\n      \"properties\": {\n        \"dtype\": \"number\",\n        \"std\": 0.09998476837906686,\n        \"min\": 1.4,\n        \"max\": 1.6,\n        \"num_unique_values\": 2,\n        \"samples\": [\n          1.4,\n          1.6\n        ],\n        \"semantic_type\": \"\",\n        \"description\": \"\"\n      }\n    },\n    {\n      \"column\": \"transmission\",\n      \"properties\": {\n        \"dtype\": \"category\",\n        \"num_unique_values\": 2,\n        \"samples\": [\n          \"Auto\",\n          \"Manual\"\n        ],\n        \"semantic_type\": \"\",\n        \"description\": \"\"\n      }\n    },\n    {\n      \"column\": \"USD_price\",\n      \"properties\": {\n        \"dtype\": \"number\",\n        \"std\": 3197.783971016541,\n        \"min\": 1502.8442880000002,\n        \"max\": 13234.83,\n        \"num_unique_values\": 397,\n        \"samples\": [\n          12802.864999999998,\n          13066.5\n        ],\n        \"semantic_type\": \"\",\n        \"description\": \"\"\n      }\n    }\n  ]\n}"
            }
          },
          "metadata": {},
          "execution_count": 7
        }
      ]
    },
    {
      "cell_type": "markdown",
      "source": [
        "## Task_1\n",
        "\n",
        "Мы сгенерили датасет, посвященный продажам известных марок авто.\n",
        "\n",
        "Давайте его изучим, посмотрим пропуски, типы данных в колонках и те колонки, которые можно сделать числовыми сделаем таковыми. Удалим дупликаты!!!"
      ],
      "metadata": {
        "id": "Rz2j4tB6Mu3I"
      }
    },
    {
      "cell_type": "code",
      "source": [
        "df.drop_duplicates(inplace=True)"
      ],
      "metadata": {
        "id": "SqLquzzTD5Wu"
      },
      "execution_count": null,
      "outputs": []
    },
    {
      "cell_type": "code",
      "source": [
        "df.head(3)"
      ],
      "metadata": {
        "id": "GRg8t_lsXTxw",
        "outputId": "d5d9bd8b-ce9f-4712-aee0-5fcb77f5a8a1",
        "colab": {
          "base_uri": "https://localhost:8080/",
          "height": 143
        }
      },
      "execution_count": null,
      "outputs": [
        {
          "output_type": "execute_result",
          "data": {
            "text/plain": [
              "     brend    model  production_year   mileage  engine_type transmission  \\\n",
              "0  Hyundai  Solaris           2019.0  90478 km          1.6       Manual   \n",
              "1  Hyundai  Solaris           2021.0  70766 km          1.6       Manual   \n",
              "2  Hyundai  Solaris           2017.0  98000 km          1.6       Manual   \n",
              "\n",
              "    USD_price  \n",
              "0  10728.0175  \n",
              "1  10642.2800  \n",
              "2   5303.9925  "
            ],
            "text/html": [
              "\n",
              "  <div id=\"df-1872b7c9-87b9-40eb-8b53-6fc3145fc818\" class=\"colab-df-container\">\n",
              "    <div>\n",
              "<style scoped>\n",
              "    .dataframe tbody tr th:only-of-type {\n",
              "        vertical-align: middle;\n",
              "    }\n",
              "\n",
              "    .dataframe tbody tr th {\n",
              "        vertical-align: top;\n",
              "    }\n",
              "\n",
              "    .dataframe thead th {\n",
              "        text-align: right;\n",
              "    }\n",
              "</style>\n",
              "<table border=\"1\" class=\"dataframe\">\n",
              "  <thead>\n",
              "    <tr style=\"text-align: right;\">\n",
              "      <th></th>\n",
              "      <th>brend</th>\n",
              "      <th>model</th>\n",
              "      <th>production_year</th>\n",
              "      <th>mileage</th>\n",
              "      <th>engine_type</th>\n",
              "      <th>transmission</th>\n",
              "      <th>USD_price</th>\n",
              "    </tr>\n",
              "  </thead>\n",
              "  <tbody>\n",
              "    <tr>\n",
              "      <th>0</th>\n",
              "      <td>Hyundai</td>\n",
              "      <td>Solaris</td>\n",
              "      <td>2019.0</td>\n",
              "      <td>90478 km</td>\n",
              "      <td>1.6</td>\n",
              "      <td>Manual</td>\n",
              "      <td>10728.0175</td>\n",
              "    </tr>\n",
              "    <tr>\n",
              "      <th>1</th>\n",
              "      <td>Hyundai</td>\n",
              "      <td>Solaris</td>\n",
              "      <td>2021.0</td>\n",
              "      <td>70766 km</td>\n",
              "      <td>1.6</td>\n",
              "      <td>Manual</td>\n",
              "      <td>10642.2800</td>\n",
              "    </tr>\n",
              "    <tr>\n",
              "      <th>2</th>\n",
              "      <td>Hyundai</td>\n",
              "      <td>Solaris</td>\n",
              "      <td>2017.0</td>\n",
              "      <td>98000 km</td>\n",
              "      <td>1.6</td>\n",
              "      <td>Manual</td>\n",
              "      <td>5303.9925</td>\n",
              "    </tr>\n",
              "  </tbody>\n",
              "</table>\n",
              "</div>\n",
              "    <div class=\"colab-df-buttons\">\n",
              "\n",
              "  <div class=\"colab-df-container\">\n",
              "    <button class=\"colab-df-convert\" onclick=\"convertToInteractive('df-1872b7c9-87b9-40eb-8b53-6fc3145fc818')\"\n",
              "            title=\"Convert this dataframe to an interactive table.\"\n",
              "            style=\"display:none;\">\n",
              "\n",
              "  <svg xmlns=\"http://www.w3.org/2000/svg\" height=\"24px\" viewBox=\"0 -960 960 960\">\n",
              "    <path d=\"M120-120v-720h720v720H120Zm60-500h600v-160H180v160Zm220 220h160v-160H400v160Zm0 220h160v-160H400v160ZM180-400h160v-160H180v160Zm440 0h160v-160H620v160ZM180-180h160v-160H180v160Zm440 0h160v-160H620v160Z\"/>\n",
              "  </svg>\n",
              "    </button>\n",
              "\n",
              "  <style>\n",
              "    .colab-df-container {\n",
              "      display:flex;\n",
              "      gap: 12px;\n",
              "    }\n",
              "\n",
              "    .colab-df-convert {\n",
              "      background-color: #E8F0FE;\n",
              "      border: none;\n",
              "      border-radius: 50%;\n",
              "      cursor: pointer;\n",
              "      display: none;\n",
              "      fill: #1967D2;\n",
              "      height: 32px;\n",
              "      padding: 0 0 0 0;\n",
              "      width: 32px;\n",
              "    }\n",
              "\n",
              "    .colab-df-convert:hover {\n",
              "      background-color: #E2EBFA;\n",
              "      box-shadow: 0px 1px 2px rgba(60, 64, 67, 0.3), 0px 1px 3px 1px rgba(60, 64, 67, 0.15);\n",
              "      fill: #174EA6;\n",
              "    }\n",
              "\n",
              "    .colab-df-buttons div {\n",
              "      margin-bottom: 4px;\n",
              "    }\n",
              "\n",
              "    [theme=dark] .colab-df-convert {\n",
              "      background-color: #3B4455;\n",
              "      fill: #D2E3FC;\n",
              "    }\n",
              "\n",
              "    [theme=dark] .colab-df-convert:hover {\n",
              "      background-color: #434B5C;\n",
              "      box-shadow: 0px 1px 3px 1px rgba(0, 0, 0, 0.15);\n",
              "      filter: drop-shadow(0px 1px 2px rgba(0, 0, 0, 0.3));\n",
              "      fill: #FFFFFF;\n",
              "    }\n",
              "  </style>\n",
              "\n",
              "    <script>\n",
              "      const buttonEl =\n",
              "        document.querySelector('#df-1872b7c9-87b9-40eb-8b53-6fc3145fc818 button.colab-df-convert');\n",
              "      buttonEl.style.display =\n",
              "        google.colab.kernel.accessAllowed ? 'block' : 'none';\n",
              "\n",
              "      async function convertToInteractive(key) {\n",
              "        const element = document.querySelector('#df-1872b7c9-87b9-40eb-8b53-6fc3145fc818');\n",
              "        const dataTable =\n",
              "          await google.colab.kernel.invokeFunction('convertToInteractive',\n",
              "                                                    [key], {});\n",
              "        if (!dataTable) return;\n",
              "\n",
              "        const docLinkHtml = 'Like what you see? Visit the ' +\n",
              "          '<a target=\"_blank\" href=https://colab.research.google.com/notebooks/data_table.ipynb>data table notebook</a>'\n",
              "          + ' to learn more about interactive tables.';\n",
              "        element.innerHTML = '';\n",
              "        dataTable['output_type'] = 'display_data';\n",
              "        await google.colab.output.renderOutput(dataTable, element);\n",
              "        const docLink = document.createElement('div');\n",
              "        docLink.innerHTML = docLinkHtml;\n",
              "        element.appendChild(docLink);\n",
              "      }\n",
              "    </script>\n",
              "  </div>\n",
              "\n",
              "\n",
              "<div id=\"df-c0980cac-8d5f-47aa-a4ff-0e2758d79046\">\n",
              "  <button class=\"colab-df-quickchart\" onclick=\"quickchart('df-c0980cac-8d5f-47aa-a4ff-0e2758d79046')\"\n",
              "            title=\"Suggest charts\"\n",
              "            style=\"display:none;\">\n",
              "\n",
              "<svg xmlns=\"http://www.w3.org/2000/svg\" height=\"24px\"viewBox=\"0 0 24 24\"\n",
              "     width=\"24px\">\n",
              "    <g>\n",
              "        <path d=\"M19 3H5c-1.1 0-2 .9-2 2v14c0 1.1.9 2 2 2h14c1.1 0 2-.9 2-2V5c0-1.1-.9-2-2-2zM9 17H7v-7h2v7zm4 0h-2V7h2v10zm4 0h-2v-4h2v4z\"/>\n",
              "    </g>\n",
              "</svg>\n",
              "  </button>\n",
              "\n",
              "<style>\n",
              "  .colab-df-quickchart {\n",
              "      --bg-color: #E8F0FE;\n",
              "      --fill-color: #1967D2;\n",
              "      --hover-bg-color: #E2EBFA;\n",
              "      --hover-fill-color: #174EA6;\n",
              "      --disabled-fill-color: #AAA;\n",
              "      --disabled-bg-color: #DDD;\n",
              "  }\n",
              "\n",
              "  [theme=dark] .colab-df-quickchart {\n",
              "      --bg-color: #3B4455;\n",
              "      --fill-color: #D2E3FC;\n",
              "      --hover-bg-color: #434B5C;\n",
              "      --hover-fill-color: #FFFFFF;\n",
              "      --disabled-bg-color: #3B4455;\n",
              "      --disabled-fill-color: #666;\n",
              "  }\n",
              "\n",
              "  .colab-df-quickchart {\n",
              "    background-color: var(--bg-color);\n",
              "    border: none;\n",
              "    border-radius: 50%;\n",
              "    cursor: pointer;\n",
              "    display: none;\n",
              "    fill: var(--fill-color);\n",
              "    height: 32px;\n",
              "    padding: 0;\n",
              "    width: 32px;\n",
              "  }\n",
              "\n",
              "  .colab-df-quickchart:hover {\n",
              "    background-color: var(--hover-bg-color);\n",
              "    box-shadow: 0 1px 2px rgba(60, 64, 67, 0.3), 0 1px 3px 1px rgba(60, 64, 67, 0.15);\n",
              "    fill: var(--button-hover-fill-color);\n",
              "  }\n",
              "\n",
              "  .colab-df-quickchart-complete:disabled,\n",
              "  .colab-df-quickchart-complete:disabled:hover {\n",
              "    background-color: var(--disabled-bg-color);\n",
              "    fill: var(--disabled-fill-color);\n",
              "    box-shadow: none;\n",
              "  }\n",
              "\n",
              "  .colab-df-spinner {\n",
              "    border: 2px solid var(--fill-color);\n",
              "    border-color: transparent;\n",
              "    border-bottom-color: var(--fill-color);\n",
              "    animation:\n",
              "      spin 1s steps(1) infinite;\n",
              "  }\n",
              "\n",
              "  @keyframes spin {\n",
              "    0% {\n",
              "      border-color: transparent;\n",
              "      border-bottom-color: var(--fill-color);\n",
              "      border-left-color: var(--fill-color);\n",
              "    }\n",
              "    20% {\n",
              "      border-color: transparent;\n",
              "      border-left-color: var(--fill-color);\n",
              "      border-top-color: var(--fill-color);\n",
              "    }\n",
              "    30% {\n",
              "      border-color: transparent;\n",
              "      border-left-color: var(--fill-color);\n",
              "      border-top-color: var(--fill-color);\n",
              "      border-right-color: var(--fill-color);\n",
              "    }\n",
              "    40% {\n",
              "      border-color: transparent;\n",
              "      border-right-color: var(--fill-color);\n",
              "      border-top-color: var(--fill-color);\n",
              "    }\n",
              "    60% {\n",
              "      border-color: transparent;\n",
              "      border-right-color: var(--fill-color);\n",
              "    }\n",
              "    80% {\n",
              "      border-color: transparent;\n",
              "      border-right-color: var(--fill-color);\n",
              "      border-bottom-color: var(--fill-color);\n",
              "    }\n",
              "    90% {\n",
              "      border-color: transparent;\n",
              "      border-bottom-color: var(--fill-color);\n",
              "    }\n",
              "  }\n",
              "</style>\n",
              "\n",
              "  <script>\n",
              "    async function quickchart(key) {\n",
              "      const quickchartButtonEl =\n",
              "        document.querySelector('#' + key + ' button');\n",
              "      quickchartButtonEl.disabled = true;  // To prevent multiple clicks.\n",
              "      quickchartButtonEl.classList.add('colab-df-spinner');\n",
              "      try {\n",
              "        const charts = await google.colab.kernel.invokeFunction(\n",
              "            'suggestCharts', [key], {});\n",
              "      } catch (error) {\n",
              "        console.error('Error during call to suggestCharts:', error);\n",
              "      }\n",
              "      quickchartButtonEl.classList.remove('colab-df-spinner');\n",
              "      quickchartButtonEl.classList.add('colab-df-quickchart-complete');\n",
              "    }\n",
              "    (() => {\n",
              "      let quickchartButtonEl =\n",
              "        document.querySelector('#df-c0980cac-8d5f-47aa-a4ff-0e2758d79046 button');\n",
              "      quickchartButtonEl.style.display =\n",
              "        google.colab.kernel.accessAllowed ? 'block' : 'none';\n",
              "    })();\n",
              "  </script>\n",
              "</div>\n",
              "\n",
              "    </div>\n",
              "  </div>\n"
            ],
            "application/vnd.google.colaboratory.intrinsic+json": {
              "type": "dataframe",
              "variable_name": "df",
              "summary": "{\n  \"name\": \"df\",\n  \"rows\": 400,\n  \"fields\": [\n    {\n      \"column\": \"brend\",\n      \"properties\": {\n        \"dtype\": \"category\",\n        \"num_unique_values\": 2,\n        \"samples\": [\n          \"Kia\",\n          \"Hyundai\"\n        ],\n        \"semantic_type\": \"\",\n        \"description\": \"\"\n      }\n    },\n    {\n      \"column\": \"model\",\n      \"properties\": {\n        \"dtype\": \"category\",\n        \"num_unique_values\": 2,\n        \"samples\": [\n          \"Rio\",\n          \"Solaris\"\n        ],\n        \"semantic_type\": \"\",\n        \"description\": \"\"\n      }\n    },\n    {\n      \"column\": \"production_year\",\n      \"properties\": {\n        \"dtype\": \"number\",\n        \"std\": 1.7292922576576761,\n        \"min\": 2017.0,\n        \"max\": 2022.0,\n        \"num_unique_values\": 6,\n        \"samples\": [\n          2019.0,\n          2021.0\n        ],\n        \"semantic_type\": \"\",\n        \"description\": \"\"\n      }\n    },\n    {\n      \"column\": \"mileage\",\n      \"properties\": {\n        \"dtype\": \"string\",\n        \"num_unique_values\": 395,\n        \"samples\": [\n          \"119768 km\",\n          \"129727 km\"\n        ],\n        \"semantic_type\": \"\",\n        \"description\": \"\"\n      }\n    },\n    {\n      \"column\": \"engine_type\",\n      \"properties\": {\n        \"dtype\": \"number\",\n        \"std\": 0.10009394083800088,\n        \"min\": 1.4,\n        \"max\": 1.6,\n        \"num_unique_values\": 2,\n        \"samples\": [\n          1.4,\n          1.6\n        ],\n        \"semantic_type\": \"\",\n        \"description\": \"\"\n      }\n    },\n    {\n      \"column\": \"transmission\",\n      \"properties\": {\n        \"dtype\": \"category\",\n        \"num_unique_values\": 2,\n        \"samples\": [\n          \"Auto\",\n          \"Manual\"\n        ],\n        \"semantic_type\": \"\",\n        \"description\": \"\"\n      }\n    },\n    {\n      \"column\": \"USD_price\",\n      \"properties\": {\n        \"dtype\": \"number\",\n        \"std\": 3167.790235546768,\n        \"min\": 1502.8442880000002,\n        \"max\": 13234.83,\n        \"num_unique_values\": 397,\n        \"samples\": [\n          12802.864999999998,\n          13066.5\n        ],\n        \"semantic_type\": \"\",\n        \"description\": \"\"\n      }\n    }\n  ]\n}"
            }
          },
          "metadata": {},
          "execution_count": 11
        }
      ]
    },
    {
      "cell_type": "code",
      "source": [
        "df.info()"
      ],
      "metadata": {
        "id": "f0qyma74IRRX",
        "outputId": "78caa6b0-dd29-4903-c8f7-e6d32a23c268",
        "colab": {
          "base_uri": "https://localhost:8080/"
        }
      },
      "execution_count": null,
      "outputs": [
        {
          "output_type": "stream",
          "name": "stdout",
          "text": [
            "<class 'pandas.core.frame.DataFrame'>\n",
            "Index: 400 entries, 0 to 499\n",
            "Data columns (total 7 columns):\n",
            " #   Column           Non-Null Count  Dtype  \n",
            "---  ------           --------------  -----  \n",
            " 0   brend            400 non-null    object \n",
            " 1   model            400 non-null    object \n",
            " 2   production_year  395 non-null    float64\n",
            " 3   mileage          395 non-null    object \n",
            " 4   engine_type      400 non-null    float64\n",
            " 5   transmission     400 non-null    object \n",
            " 6   USD_price        400 non-null    float64\n",
            "dtypes: float64(3), object(4)\n",
            "memory usage: 25.0+ KB\n"
          ]
        }
      ]
    },
    {
      "cell_type": "code",
      "source": [
        "df.mileage = df.mileage.str.replace(' km', '').astype(float)"
      ],
      "metadata": {
        "id": "V9B7A6QfMuly"
      },
      "execution_count": null,
      "outputs": []
    },
    {
      "cell_type": "code",
      "source": [
        "df.head(3)"
      ],
      "metadata": {
        "id": "Hshm3Da4MujS",
        "outputId": "12868890-04a3-407e-dc87-4d41e5b27eec",
        "colab": {
          "base_uri": "https://localhost:8080/",
          "height": 143
        }
      },
      "execution_count": null,
      "outputs": [
        {
          "output_type": "execute_result",
          "data": {
            "text/plain": [
              "     brend    model  production_year  mileage  engine_type transmission  \\\n",
              "0  Hyundai  Solaris           2019.0  90478.0          1.6       Manual   \n",
              "1  Hyundai  Solaris           2021.0  70766.0          1.6       Manual   \n",
              "2  Hyundai  Solaris           2017.0  98000.0          1.6       Manual   \n",
              "\n",
              "    USD_price  \n",
              "0  10728.0175  \n",
              "1  10642.2800  \n",
              "2   5303.9925  "
            ],
            "text/html": [
              "\n",
              "  <div id=\"df-181a4a3f-5366-4b82-a935-9c4fe85766da\" class=\"colab-df-container\">\n",
              "    <div>\n",
              "<style scoped>\n",
              "    .dataframe tbody tr th:only-of-type {\n",
              "        vertical-align: middle;\n",
              "    }\n",
              "\n",
              "    .dataframe tbody tr th {\n",
              "        vertical-align: top;\n",
              "    }\n",
              "\n",
              "    .dataframe thead th {\n",
              "        text-align: right;\n",
              "    }\n",
              "</style>\n",
              "<table border=\"1\" class=\"dataframe\">\n",
              "  <thead>\n",
              "    <tr style=\"text-align: right;\">\n",
              "      <th></th>\n",
              "      <th>brend</th>\n",
              "      <th>model</th>\n",
              "      <th>production_year</th>\n",
              "      <th>mileage</th>\n",
              "      <th>engine_type</th>\n",
              "      <th>transmission</th>\n",
              "      <th>USD_price</th>\n",
              "    </tr>\n",
              "  </thead>\n",
              "  <tbody>\n",
              "    <tr>\n",
              "      <th>0</th>\n",
              "      <td>Hyundai</td>\n",
              "      <td>Solaris</td>\n",
              "      <td>2019.0</td>\n",
              "      <td>90478.0</td>\n",
              "      <td>1.6</td>\n",
              "      <td>Manual</td>\n",
              "      <td>10728.0175</td>\n",
              "    </tr>\n",
              "    <tr>\n",
              "      <th>1</th>\n",
              "      <td>Hyundai</td>\n",
              "      <td>Solaris</td>\n",
              "      <td>2021.0</td>\n",
              "      <td>70766.0</td>\n",
              "      <td>1.6</td>\n",
              "      <td>Manual</td>\n",
              "      <td>10642.2800</td>\n",
              "    </tr>\n",
              "    <tr>\n",
              "      <th>2</th>\n",
              "      <td>Hyundai</td>\n",
              "      <td>Solaris</td>\n",
              "      <td>2017.0</td>\n",
              "      <td>98000.0</td>\n",
              "      <td>1.6</td>\n",
              "      <td>Manual</td>\n",
              "      <td>5303.9925</td>\n",
              "    </tr>\n",
              "  </tbody>\n",
              "</table>\n",
              "</div>\n",
              "    <div class=\"colab-df-buttons\">\n",
              "\n",
              "  <div class=\"colab-df-container\">\n",
              "    <button class=\"colab-df-convert\" onclick=\"convertToInteractive('df-181a4a3f-5366-4b82-a935-9c4fe85766da')\"\n",
              "            title=\"Convert this dataframe to an interactive table.\"\n",
              "            style=\"display:none;\">\n",
              "\n",
              "  <svg xmlns=\"http://www.w3.org/2000/svg\" height=\"24px\" viewBox=\"0 -960 960 960\">\n",
              "    <path d=\"M120-120v-720h720v720H120Zm60-500h600v-160H180v160Zm220 220h160v-160H400v160Zm0 220h160v-160H400v160ZM180-400h160v-160H180v160Zm440 0h160v-160H620v160ZM180-180h160v-160H180v160Zm440 0h160v-160H620v160Z\"/>\n",
              "  </svg>\n",
              "    </button>\n",
              "\n",
              "  <style>\n",
              "    .colab-df-container {\n",
              "      display:flex;\n",
              "      gap: 12px;\n",
              "    }\n",
              "\n",
              "    .colab-df-convert {\n",
              "      background-color: #E8F0FE;\n",
              "      border: none;\n",
              "      border-radius: 50%;\n",
              "      cursor: pointer;\n",
              "      display: none;\n",
              "      fill: #1967D2;\n",
              "      height: 32px;\n",
              "      padding: 0 0 0 0;\n",
              "      width: 32px;\n",
              "    }\n",
              "\n",
              "    .colab-df-convert:hover {\n",
              "      background-color: #E2EBFA;\n",
              "      box-shadow: 0px 1px 2px rgba(60, 64, 67, 0.3), 0px 1px 3px 1px rgba(60, 64, 67, 0.15);\n",
              "      fill: #174EA6;\n",
              "    }\n",
              "\n",
              "    .colab-df-buttons div {\n",
              "      margin-bottom: 4px;\n",
              "    }\n",
              "\n",
              "    [theme=dark] .colab-df-convert {\n",
              "      background-color: #3B4455;\n",
              "      fill: #D2E3FC;\n",
              "    }\n",
              "\n",
              "    [theme=dark] .colab-df-convert:hover {\n",
              "      background-color: #434B5C;\n",
              "      box-shadow: 0px 1px 3px 1px rgba(0, 0, 0, 0.15);\n",
              "      filter: drop-shadow(0px 1px 2px rgba(0, 0, 0, 0.3));\n",
              "      fill: #FFFFFF;\n",
              "    }\n",
              "  </style>\n",
              "\n",
              "    <script>\n",
              "      const buttonEl =\n",
              "        document.querySelector('#df-181a4a3f-5366-4b82-a935-9c4fe85766da button.colab-df-convert');\n",
              "      buttonEl.style.display =\n",
              "        google.colab.kernel.accessAllowed ? 'block' : 'none';\n",
              "\n",
              "      async function convertToInteractive(key) {\n",
              "        const element = document.querySelector('#df-181a4a3f-5366-4b82-a935-9c4fe85766da');\n",
              "        const dataTable =\n",
              "          await google.colab.kernel.invokeFunction('convertToInteractive',\n",
              "                                                    [key], {});\n",
              "        if (!dataTable) return;\n",
              "\n",
              "        const docLinkHtml = 'Like what you see? Visit the ' +\n",
              "          '<a target=\"_blank\" href=https://colab.research.google.com/notebooks/data_table.ipynb>data table notebook</a>'\n",
              "          + ' to learn more about interactive tables.';\n",
              "        element.innerHTML = '';\n",
              "        dataTable['output_type'] = 'display_data';\n",
              "        await google.colab.output.renderOutput(dataTable, element);\n",
              "        const docLink = document.createElement('div');\n",
              "        docLink.innerHTML = docLinkHtml;\n",
              "        element.appendChild(docLink);\n",
              "      }\n",
              "    </script>\n",
              "  </div>\n",
              "\n",
              "\n",
              "<div id=\"df-7a43968f-39e4-48e6-b301-359ac6155a7f\">\n",
              "  <button class=\"colab-df-quickchart\" onclick=\"quickchart('df-7a43968f-39e4-48e6-b301-359ac6155a7f')\"\n",
              "            title=\"Suggest charts\"\n",
              "            style=\"display:none;\">\n",
              "\n",
              "<svg xmlns=\"http://www.w3.org/2000/svg\" height=\"24px\"viewBox=\"0 0 24 24\"\n",
              "     width=\"24px\">\n",
              "    <g>\n",
              "        <path d=\"M19 3H5c-1.1 0-2 .9-2 2v14c0 1.1.9 2 2 2h14c1.1 0 2-.9 2-2V5c0-1.1-.9-2-2-2zM9 17H7v-7h2v7zm4 0h-2V7h2v10zm4 0h-2v-4h2v4z\"/>\n",
              "    </g>\n",
              "</svg>\n",
              "  </button>\n",
              "\n",
              "<style>\n",
              "  .colab-df-quickchart {\n",
              "      --bg-color: #E8F0FE;\n",
              "      --fill-color: #1967D2;\n",
              "      --hover-bg-color: #E2EBFA;\n",
              "      --hover-fill-color: #174EA6;\n",
              "      --disabled-fill-color: #AAA;\n",
              "      --disabled-bg-color: #DDD;\n",
              "  }\n",
              "\n",
              "  [theme=dark] .colab-df-quickchart {\n",
              "      --bg-color: #3B4455;\n",
              "      --fill-color: #D2E3FC;\n",
              "      --hover-bg-color: #434B5C;\n",
              "      --hover-fill-color: #FFFFFF;\n",
              "      --disabled-bg-color: #3B4455;\n",
              "      --disabled-fill-color: #666;\n",
              "  }\n",
              "\n",
              "  .colab-df-quickchart {\n",
              "    background-color: var(--bg-color);\n",
              "    border: none;\n",
              "    border-radius: 50%;\n",
              "    cursor: pointer;\n",
              "    display: none;\n",
              "    fill: var(--fill-color);\n",
              "    height: 32px;\n",
              "    padding: 0;\n",
              "    width: 32px;\n",
              "  }\n",
              "\n",
              "  .colab-df-quickchart:hover {\n",
              "    background-color: var(--hover-bg-color);\n",
              "    box-shadow: 0 1px 2px rgba(60, 64, 67, 0.3), 0 1px 3px 1px rgba(60, 64, 67, 0.15);\n",
              "    fill: var(--button-hover-fill-color);\n",
              "  }\n",
              "\n",
              "  .colab-df-quickchart-complete:disabled,\n",
              "  .colab-df-quickchart-complete:disabled:hover {\n",
              "    background-color: var(--disabled-bg-color);\n",
              "    fill: var(--disabled-fill-color);\n",
              "    box-shadow: none;\n",
              "  }\n",
              "\n",
              "  .colab-df-spinner {\n",
              "    border: 2px solid var(--fill-color);\n",
              "    border-color: transparent;\n",
              "    border-bottom-color: var(--fill-color);\n",
              "    animation:\n",
              "      spin 1s steps(1) infinite;\n",
              "  }\n",
              "\n",
              "  @keyframes spin {\n",
              "    0% {\n",
              "      border-color: transparent;\n",
              "      border-bottom-color: var(--fill-color);\n",
              "      border-left-color: var(--fill-color);\n",
              "    }\n",
              "    20% {\n",
              "      border-color: transparent;\n",
              "      border-left-color: var(--fill-color);\n",
              "      border-top-color: var(--fill-color);\n",
              "    }\n",
              "    30% {\n",
              "      border-color: transparent;\n",
              "      border-left-color: var(--fill-color);\n",
              "      border-top-color: var(--fill-color);\n",
              "      border-right-color: var(--fill-color);\n",
              "    }\n",
              "    40% {\n",
              "      border-color: transparent;\n",
              "      border-right-color: var(--fill-color);\n",
              "      border-top-color: var(--fill-color);\n",
              "    }\n",
              "    60% {\n",
              "      border-color: transparent;\n",
              "      border-right-color: var(--fill-color);\n",
              "    }\n",
              "    80% {\n",
              "      border-color: transparent;\n",
              "      border-right-color: var(--fill-color);\n",
              "      border-bottom-color: var(--fill-color);\n",
              "    }\n",
              "    90% {\n",
              "      border-color: transparent;\n",
              "      border-bottom-color: var(--fill-color);\n",
              "    }\n",
              "  }\n",
              "</style>\n",
              "\n",
              "  <script>\n",
              "    async function quickchart(key) {\n",
              "      const quickchartButtonEl =\n",
              "        document.querySelector('#' + key + ' button');\n",
              "      quickchartButtonEl.disabled = true;  // To prevent multiple clicks.\n",
              "      quickchartButtonEl.classList.add('colab-df-spinner');\n",
              "      try {\n",
              "        const charts = await google.colab.kernel.invokeFunction(\n",
              "            'suggestCharts', [key], {});\n",
              "      } catch (error) {\n",
              "        console.error('Error during call to suggestCharts:', error);\n",
              "      }\n",
              "      quickchartButtonEl.classList.remove('colab-df-spinner');\n",
              "      quickchartButtonEl.classList.add('colab-df-quickchart-complete');\n",
              "    }\n",
              "    (() => {\n",
              "      let quickchartButtonEl =\n",
              "        document.querySelector('#df-7a43968f-39e4-48e6-b301-359ac6155a7f button');\n",
              "      quickchartButtonEl.style.display =\n",
              "        google.colab.kernel.accessAllowed ? 'block' : 'none';\n",
              "    })();\n",
              "  </script>\n",
              "</div>\n",
              "\n",
              "    </div>\n",
              "  </div>\n"
            ],
            "application/vnd.google.colaboratory.intrinsic+json": {
              "type": "dataframe",
              "variable_name": "df",
              "summary": "{\n  \"name\": \"df\",\n  \"rows\": 400,\n  \"fields\": [\n    {\n      \"column\": \"brend\",\n      \"properties\": {\n        \"dtype\": \"category\",\n        \"num_unique_values\": 2,\n        \"samples\": [\n          \"Kia\",\n          \"Hyundai\"\n        ],\n        \"semantic_type\": \"\",\n        \"description\": \"\"\n      }\n    },\n    {\n      \"column\": \"model\",\n      \"properties\": {\n        \"dtype\": \"category\",\n        \"num_unique_values\": 2,\n        \"samples\": [\n          \"Rio\",\n          \"Solaris\"\n        ],\n        \"semantic_type\": \"\",\n        \"description\": \"\"\n      }\n    },\n    {\n      \"column\": \"production_year\",\n      \"properties\": {\n        \"dtype\": \"number\",\n        \"std\": 1.7292922576576761,\n        \"min\": 2017.0,\n        \"max\": 2022.0,\n        \"num_unique_values\": 6,\n        \"samples\": [\n          2019.0,\n          2021.0\n        ],\n        \"semantic_type\": \"\",\n        \"description\": \"\"\n      }\n    },\n    {\n      \"column\": \"mileage\",\n      \"properties\": {\n        \"dtype\": \"number\",\n        \"std\": 65962.83726640018,\n        \"min\": 11146.0,\n        \"max\": 297290.0,\n        \"num_unique_values\": 395,\n        \"samples\": [\n          119768.0,\n          129727.0\n        ],\n        \"semantic_type\": \"\",\n        \"description\": \"\"\n      }\n    },\n    {\n      \"column\": \"engine_type\",\n      \"properties\": {\n        \"dtype\": \"number\",\n        \"std\": 0.10009394083800088,\n        \"min\": 1.4,\n        \"max\": 1.6,\n        \"num_unique_values\": 2,\n        \"samples\": [\n          1.4,\n          1.6\n        ],\n        \"semantic_type\": \"\",\n        \"description\": \"\"\n      }\n    },\n    {\n      \"column\": \"transmission\",\n      \"properties\": {\n        \"dtype\": \"category\",\n        \"num_unique_values\": 2,\n        \"samples\": [\n          \"Auto\",\n          \"Manual\"\n        ],\n        \"semantic_type\": \"\",\n        \"description\": \"\"\n      }\n    },\n    {\n      \"column\": \"USD_price\",\n      \"properties\": {\n        \"dtype\": \"number\",\n        \"std\": 3167.790235546768,\n        \"min\": 1502.8442880000002,\n        \"max\": 13234.83,\n        \"num_unique_values\": 397,\n        \"samples\": [\n          12802.864999999998,\n          13066.5\n        ],\n        \"semantic_type\": \"\",\n        \"description\": \"\"\n      }\n    }\n  ]\n}"
            }
          },
          "metadata": {},
          "execution_count": 14
        }
      ]
    },
    {
      "cell_type": "markdown",
      "source": [
        "## Task_2\n",
        "\n",
        "Давайте проверим, есть ли тут строки, где встречается 2 раза NaN. Если такие строки есть, дропнeм их."
      ],
      "metadata": {
        "id": "d8hywXPkNbxe"
      }
    },
    {
      "cell_type": "code",
      "source": [
        "df.dropna(subset=['production_year',\t'mileage'], thresh = 1, inplace=True)"
      ],
      "metadata": {
        "id": "JgQUNUtmMug9"
      },
      "execution_count": null,
      "outputs": []
    },
    {
      "cell_type": "code",
      "source": [
        "df.info()"
      ],
      "metadata": {
        "id": "KXNLXm2ZMuei",
        "outputId": "e71cffbe-9754-4936-8b81-78588c58ed28",
        "colab": {
          "base_uri": "https://localhost:8080/"
        }
      },
      "execution_count": null,
      "outputs": [
        {
          "output_type": "stream",
          "name": "stdout",
          "text": [
            "<class 'pandas.core.frame.DataFrame'>\n",
            "Index: 400 entries, 0 to 499\n",
            "Data columns (total 7 columns):\n",
            " #   Column           Non-Null Count  Dtype  \n",
            "---  ------           --------------  -----  \n",
            " 0   brend            400 non-null    object \n",
            " 1   model            400 non-null    object \n",
            " 2   production_year  395 non-null    float64\n",
            " 3   mileage          395 non-null    float64\n",
            " 4   engine_type      400 non-null    float64\n",
            " 5   transmission     400 non-null    object \n",
            " 6   USD_price        400 non-null    float64\n",
            "dtypes: float64(4), object(3)\n",
            "memory usage: 25.0+ KB\n"
          ]
        }
      ]
    },
    {
      "cell_type": "markdown",
      "source": [
        "## Task_3\n",
        "\n",
        "Давайте создадим колонку со средней стоимостью авто по годам выпуска.\n",
        "\n",
        "И колонку со средним пробегом по годам выпуска.\n",
        "\n",
        "Покажите на графике средние пробеги и средние стоимости по годам выпуска."
      ],
      "metadata": {
        "id": "20mY5Ky5NpHi"
      }
    },
    {
      "cell_type": "code",
      "source": [],
      "metadata": {
        "id": "0COuzkwvcFct"
      },
      "execution_count": null,
      "outputs": []
    },
    {
      "cell_type": "code",
      "source": [],
      "metadata": {
        "id": "Xw79oTwRN1I_"
      },
      "execution_count": null,
      "outputs": []
    },
    {
      "cell_type": "markdown",
      "source": [
        "## Task_4\n",
        "\n",
        "Наша задача по-умному заполнить пропуски в колонке \"Пробег\".. Если мы просто заполним средними то это может сломать зависимость между ценой и пробегом, а она по логике вещей существенна.\n",
        "\n",
        "У нас есть средние пробега и и стоимости по годам. Нужно заполнить пропуски значением около среднего с учетом года выпуска но так, чтобы пробег был больше среднего, если цена ниже среднего и нгаоборот. Давайте подумаем, как это сделать..."
      ],
      "metadata": {
        "id": "m5WGio7UP25G"
      }
    },
    {
      "cell_type": "code",
      "source": [
        "df.columns"
      ],
      "metadata": {
        "id": "IljDcvnwD5T9",
        "colab": {
          "base_uri": "https://localhost:8080/"
        },
        "outputId": "af0656c6-9f1c-417d-8e2a-351cdd97d33d"
      },
      "execution_count": null,
      "outputs": [
        {
          "output_type": "execute_result",
          "data": {
            "text/plain": [
              "Index(['brend', 'model', 'production_year', 'mileage', 'engine_type',\n",
              "       'transmission', 'USD_price', 'mean_price', 'mean_mileage'],\n",
              "      dtype='object')"
            ]
          },
          "metadata": {},
          "execution_count": 20
        }
      ]
    },
    {
      "cell_type": "code",
      "source": [],
      "metadata": {
        "id": "X22uupOxd20k"
      },
      "execution_count": null,
      "outputs": []
    },
    {
      "cell_type": "code",
      "source": [],
      "metadata": {
        "id": "MXLgeSTMd2xd"
      },
      "execution_count": null,
      "outputs": []
    },
    {
      "cell_type": "markdown",
      "source": [
        "## Task_5\n",
        "\n",
        "У нас таже присутствуют пропуски в колонке Год выпуска.\n",
        "\n",
        "Давайте также как-то по-умному их заполним!) Должно получиться)"
      ],
      "metadata": {
        "id": "puHA1Q-AQtIW"
      }
    },
    {
      "cell_type": "code",
      "source": [
        "df.production_year.unique()"
      ],
      "metadata": {
        "id": "EcZSxItDQsaS",
        "colab": {
          "base_uri": "https://localhost:8080/"
        },
        "outputId": "bcac693f-23e6-4295-a5b4-9ef2398695c3"
      },
      "execution_count": null,
      "outputs": [
        {
          "output_type": "execute_result",
          "data": {
            "text/plain": [
              "array([2022., 2021., 2017., 2019., 2020., 2018.,   nan])"
            ]
          },
          "metadata": {},
          "execution_count": 193
        }
      ]
    },
    {
      "cell_type": "code",
      "source": [
        "sns.boxplot(x = df.production_year, y = df.USD_price)"
      ],
      "metadata": {
        "id": "KsM_Bgf_QsXy",
        "colab": {
          "base_uri": "https://localhost:8080/",
          "height": 467
        },
        "outputId": "f5e7a629-8502-4803-c650-88c1a34c21d8"
      },
      "execution_count": null,
      "outputs": [
        {
          "output_type": "execute_result",
          "data": {
            "text/plain": [
              "<Axes: xlabel='production_year', ylabel='USD_price'>"
            ]
          },
          "metadata": {},
          "execution_count": 192
        },
        {
          "output_type": "display_data",
          "data": {
            "text/plain": [
              "<Figure size 640x480 with 1 Axes>"
            ],
            "image/png": "[encoded data removed]"
          },
          "metadata": {}
        }
      ]
    },
    {
      "cell_type": "code",
      "source": [
        "sns.boxplot(x = df.production_year, y = df.mileage)"
      ],
      "metadata": {
        "colab": {
          "base_uri": "https://localhost:8080/",
          "height": 467
        },
        "id": "_xCWVC0bioG8",
        "outputId": "3ab0403c-6d0b-43fa-8ca5-ac40ac79b35d"
      },
      "execution_count": null,
      "outputs": [
        {
          "output_type": "execute_result",
          "data": {
            "text/plain": [
              "<Axes: xlabel='production_year', ylabel='mileage'>"
            ]
          },
          "metadata": {},
          "execution_count": 27
        },
        {
          "output_type": "display_data",
          "data": {
            "text/plain": [
              "<Figure size 640x480 with 1 Axes>"
            ],
            "image/png": "[encoded data removed]"
          },
          "metadata": {}
        }
      ]
    },
    {
      "cell_type": "code",
      "source": [],
      "metadata": {
        "id": "Zyq_QYIYin_t"
      },
      "execution_count": null,
      "outputs": []
    },
    {
      "cell_type": "markdown",
      "source": [
        "## Task_6\n",
        "\n",
        "Давайте оценим, как в среднем много автомобиль проезжает за год независимо от типа двигателя и трансмиссии."
      ],
      "metadata": {
        "id": "p3HdRqMpRL2Y"
      }
    },
    {
      "cell_type": "code",
      "source": [],
      "metadata": {
        "id": "rgRte5EqQ9gC"
      },
      "execution_count": null,
      "outputs": []
    },
    {
      "cell_type": "code",
      "source": [],
      "metadata": {
        "id": "jGGvS5XXtgLR"
      },
      "execution_count": null,
      "outputs": []
    },
    {
      "cell_type": "code",
      "source": [
        "sns.scatterplot(x='mileage', y = 'USD_price', data = df, hue='production_year')"
      ],
      "metadata": {
        "id": "xCFLD6XkQ9Zv",
        "colab": {
          "base_uri": "https://localhost:8080/",
          "height": 466
        },
        "outputId": "1a2320b2-3568-4230-c578-cb050d311f4f"
      },
      "execution_count": null,
      "outputs": [
        {
          "output_type": "execute_result",
          "data": {
            "text/plain": [
              "<Axes: xlabel='mileage', ylabel='USD_price'>"
            ]
          },
          "metadata": {},
          "execution_count": 37
        },
        {
          "output_type": "display_data",
          "data": {
            "text/plain": [
              "<Figure size 640x480 with 1 Axes>"
            ],
            "image/png": "[encoded data removed]"
          },
          "metadata": {}
        }
      ]
    },
    {
      "cell_type": "code",
      "source": [
        "sns.boxplot(y = df.USD_price, x=df.production_year, hue = df.engine_type)"
      ],
      "metadata": {
        "id": "odEl36V4Q9V4",
        "colab": {
          "base_uri": "https://localhost:8080/",
          "height": 467
        },
        "outputId": "e724dc0d-1fc0-4ae2-f1d9-aca7a979286d"
      },
      "execution_count": null,
      "outputs": [
        {
          "output_type": "execute_result",
          "data": {
            "text/plain": [
              "<Axes: xlabel='production_year', ylabel='USD_price'>"
            ]
          },
          "metadata": {},
          "execution_count": 38
        },
        {
          "output_type": "display_data",
          "data": {
            "text/plain": [
              "<Figure size 640x480 with 1 Axes>"
            ],
            "image/png": "[encoded data removed]"
          },
          "metadata": {}
        }
      ]
    },
    {
      "cell_type": "code",
      "source": [],
      "metadata": {
        "id": "9fwTujU96yt1"
      },
      "execution_count": null,
      "outputs": []
    },
    {
      "cell_type": "code",
      "source": [],
      "metadata": {
        "id": "_pKmDCuxqJ3Y"
      },
      "execution_count": null,
      "outputs": []
    }
  ]
}