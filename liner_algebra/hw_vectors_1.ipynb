{
  "nbformat": 4,
  "nbformat_minor": 0,
  "metadata": {
    "colab": {
      "provenance": []
    },
    "kernelspec": {
      "name": "python3",
      "display_name": "Python 3"
    },
    "language_info": {
      "name": "python"
    }
  },
  "cells": [
    {
      "cell_type": "code",
      "execution_count": null,
      "metadata": {
        "id": "QQxtRcajS7Uq"
      },
      "outputs": [],
      "source": [
        "import numpy as np"
      ]
    },
    {
      "cell_type": "markdown",
      "source": [
        "# Plot_vectors\n",
        "\n",
        "Для визуализации векторов для вас написана специальная функция `plot_vectors()`,  которая получает Двумерный np.ndarray каждая строка которого является вектором в плоском или трехмерном пространстве. Даже если вы хотите построить один вектор, вы должны его представить в виде двумерного массива."
      ],
      "metadata": {
        "id": "aF3WZqOBipRD"
      }
    },
    {
      "cell_type": "code",
      "source": [
        "import plotly.graph_objects as go\n",
        "\n",
        "def plot_vectors(vectors: np.ndarray, color='red'):\n",
        "    fig = go.Figure()\n",
        "    origin = [0, 0, 0]\n",
        "    if vectors.shape[1] == 2:\n",
        "      vectors = np.concatenate([vectors, np.zeros((vectors.shape[0], 1))], axis=1)\n",
        "    vectors = vectors.tolist()\n",
        "    for vector in vectors:\n",
        "        fig.add_trace(go.Scatter3d(x=[origin[0], vector[0]],\n",
        "                                    y=[origin[1], vector[1]],\n",
        "                                    z=[origin[2], vector[2]],\n",
        "                                    mode='lines',\n",
        "                                    line=dict(color=color, width=5)))\n",
        "        fig.add_trace(go.Cone(x=[vector[0]], y=[vector[1]], z=[vector[2]],\n",
        "                              u=[vector[0]], v=[vector[1]], w=[vector[2]],\n",
        "                              showscale=False,\n",
        "                              colorscale=[[0, color], [1, color]],\n",
        "                              sizemode=\"absolute\",\n",
        "                              sizeref=0.5))\n",
        "    title = '3D Векторы'\n",
        "    fig.update_layout(title=title, scene=dict(xaxis_title='X Axis',\n",
        "                                              yaxis_title='Y Axis',\n",
        "                                              zaxis_title='Z Axis'))\n",
        "    fig.show()"
      ],
      "metadata": {
        "id": "iQxhD9jsiK0z"
      },
      "execution_count": null,
      "outputs": []
    },
    {
      "cell_type": "code",
      "source": [],
      "metadata": {
        "id": "2jkHCVI8iNh4"
      },
      "execution_count": null,
      "outputs": []
    },
    {
      "cell_type": "code",
      "source": [],
      "metadata": {
        "id": "Apy_SFObiNfa"
      },
      "execution_count": null,
      "outputs": []
    },
    {
      "cell_type": "markdown",
      "source": [
        "# Task_1\n",
        "\n",
        "Даны вектора $a$ и $b$. Изучите пример визуализации этих векторов. Получите вектор $c$ согласно данной формуле. Повизуализируйте все три вектора.\n",
        "\n",
        "$$\\overrightarrow{c} = \\overrightarrow{a} + \\overrightarrow{b}$$"
      ],
      "metadata": {
        "id": "rQ-VNQOBUkF8"
      }
    },
    {
      "cell_type": "code",
      "source": [
        "a = np.array([3, -2, 6])\n",
        "b = np.array([2, 1, -3])"
      ],
      "metadata": {
        "id": "SjWv2yWHTHSn"
      },
      "execution_count": null,
      "outputs": []
    },
    {
      "cell_type": "code",
      "source": [
        "np.array([a])"
      ],
      "metadata": {
        "colab": {
          "base_uri": "https://localhost:8080/"
        },
        "id": "eYXTTAnQTHKs",
        "outputId": "b05edcd4-b7f9-40f2-bd4a-6b9fc3f8f57e"
      },
      "execution_count": null,
      "outputs": [
        {
          "output_type": "execute_result",
          "data": {
            "text/plain": [
              "array([[ 3, -2,  6]])"
            ]
          },
          "metadata": {},
          "execution_count": 40
        }
      ]
    },
    {
      "cell_type": "code",
      "source": [
        "plot_vectors(np.array([a]))"
      ],
      "metadata": {
        "id": "RZ2A4GI8THCx"
      },
      "execution_count": null,
      "outputs": []
    },
    {
      "cell_type": "code",
      "source": [
        "np.array([a, b])"
      ],
      "metadata": {
        "colab": {
          "base_uri": "https://localhost:8080/"
        },
        "id": "IuAhD8M3UjdF",
        "outputId": "c52dc940-59b8-4404-a4d4-c33786ad9be3"
      },
      "execution_count": null,
      "outputs": [
        {
          "output_type": "execute_result",
          "data": {
            "text/plain": [
              "array([[ 3, -2,  6],\n",
              "       [ 2,  1, -3]])"
            ]
          },
          "metadata": {},
          "execution_count": 42
        }
      ]
    },
    {
      "cell_type": "code",
      "source": [
        "plot_vectors(np.array([a, b]))"
      ],
      "metadata": {
        "colab": {
          "base_uri": "https://localhost:8080/",
          "height": 542
        },
        "id": "ueUwRLUhUjaR",
        "outputId": "c07564cd-4081-4392-d0e7-386fcf420e79"
      },
      "execution_count": null,
      "outputs": [
        {
          "output_type": "display_data",
          "data": {
            "text/html": [
              "<html>\n",
              "<head><meta charset=\"utf-8\" /></head>\n",
              "<body>\n",
              "    <div>            <script src=\"https://cdnjs.cloudflare.com/ajax/libs/mathjax/2.7.5/MathJax.js?config=TeX-AMS-MML_SVG\"></script><script type=\"text/javascript\">if (window.MathJax && window.MathJax.Hub && window.MathJax.Hub.Config) {window.MathJax.Hub.Config({SVG: {font: \"STIX-Web\"}});}</script>                <script type=\"text/javascript\">window.PlotlyConfig = {MathJaxConfig: 'local'};</script>\n",
              "        <script charset=\"utf-8\" src=\"https://cdn.plot.ly/plotly-2.24.1.min.js\"></script>                <div id=\"6c7fd3fd-a186-447e-88e6-66b97088036e\" class=\"plotly-graph-div\" style=\"height:525px; width:100%;\"></div>            <script type=\"text/javascript\">                                    window.PLOTLYENV=window.PLOTLYENV || {};                                    if (document.getElementById(\"6c7fd3fd-a186-447e-88e6-66b97088036e\")) {                    Plotly.newPlot(                        \"6c7fd3fd-a186-447e-88e6-66b97088036e\",                        [{\"line\":{\"color\":\"red\",\"width\":5},\"mode\":\"lines\",\"x\":[0,3],\"y\":[0,-2],\"z\":[0,6],\"type\":\"scatter3d\"},{\"colorscale\":[[0,\"red\"],[1,\"red\"]],\"showscale\":false,\"sizemode\":\"absolute\",\"sizeref\":0.5,\"u\":[3],\"v\":[-2],\"w\":[6],\"x\":[3],\"y\":[-2],\"z\":[6],\"type\":\"cone\"},{\"line\":{\"color\":\"red\",\"width\":5},\"mode\":\"lines\",\"x\":[0,2],\"y\":[0,1],\"z\":[0,-3],\"type\":\"scatter3d\"},{\"colorscale\":[[0,\"red\"],[1,\"red\"]],\"showscale\":false,\"sizemode\":\"absolute\",\"sizeref\":0.5,\"u\":[2],\"v\":[1],\"w\":[-3],\"x\":[2],\"y\":[1],\"z\":[-3],\"type\":\"cone\"}],                        {\"template\":{\"data\":{\"histogram2dcontour\":[{\"type\":\"histogram2dcontour\",\"colorbar\":{\"outlinewidth\":0,\"ticks\":\"\"},\"colorscale\":[[0.0,\"#0d0887\"],[0.1111111111111111,\"#46039f\"],[0.2222222222222222,\"#7201a8\"],[0.3333333333333333,\"#9c179e\"],[0.4444444444444444,\"#bd3786\"],[0.5555555555555556,\"#d8576b\"],[0.6666666666666666,\"#ed7953\"],[0.7777777777777778,\"#fb9f3a\"],[0.8888888888888888,\"#fdca26\"],[1.0,\"#f0f921\"]]}],\"choropleth\":[{\"type\":\"choropleth\",\"colorbar\":{\"outlinewidth\":0,\"ticks\":\"\"}}],\"histogram2d\":[{\"type\":\"histogram2d\",\"colorbar\":{\"outlinewidth\":0,\"ticks\":\"\"},\"colorscale\":[[0.0,\"#0d0887\"],[0.1111111111111111,\"#46039f\"],[0.2222222222222222,\"#7201a8\"],[0.3333333333333333,\"#9c179e\"],[0.4444444444444444,\"#bd3786\"],[0.5555555555555556,\"#d8576b\"],[0.6666666666666666,\"#ed7953\"],[0.7777777777777778,\"#fb9f3a\"],[0.8888888888888888,\"#fdca26\"],[1.0,\"#f0f921\"]]}],\"heatmap\":[{\"type\":\"heatmap\",\"colorbar\":{\"outlinewidth\":0,\"ticks\":\"\"},\"colorscale\":[[0.0,\"#0d0887\"],[0.1111111111111111,\"#46039f\"],[0.2222222222222222,\"#7201a8\"],[0.3333333333333333,\"#9c179e\"],[0.4444444444444444,\"#bd3786\"],[0.5555555555555556,\"#d8576b\"],[0.6666666666666666,\"#ed7953\"],[0.7777777777777778,\"#fb9f3a\"],[0.8888888888888888,\"#fdca26\"],[1.0,\"#f0f921\"]]}],\"heatmapgl\":[{\"type\":\"heatmapgl\",\"colorbar\":{\"outlinewidth\":0,\"ticks\":\"\"},\"colorscale\":[[0.0,\"#0d0887\"],[0.1111111111111111,\"#46039f\"],[0.2222222222222222,\"#7201a8\"],[0.3333333333333333,\"#9c179e\"],[0.4444444444444444,\"#bd3786\"],[0.5555555555555556,\"#d8576b\"],[0.6666666666666666,\"#ed7953\"],[0.7777777777777778,\"#fb9f3a\"],[0.8888888888888888,\"#fdca26\"],[1.0,\"#f0f921\"]]}],\"contourcarpet\":[{\"type\":\"contourcarpet\",\"colorbar\":{\"outlinewidth\":0,\"ticks\":\"\"}}],\"contour\":[{\"type\":\"contour\",\"colorbar\":{\"outlinewidth\":0,\"ticks\":\"\"},\"colorscale\":[[0.0,\"#0d0887\"],[0.1111111111111111,\"#46039f\"],[0.2222222222222222,\"#7201a8\"],[0.3333333333333333,\"#9c179e\"],[0.4444444444444444,\"#bd3786\"],[0.5555555555555556,\"#d8576b\"],[0.6666666666666666,\"#ed7953\"],[0.7777777777777778,\"#fb9f3a\"],[0.8888888888888888,\"#fdca26\"],[1.0,\"#f0f921\"]]}],\"surface\":[{\"type\":\"surface\",\"colorbar\":{\"outlinewidth\":0,\"ticks\":\"\"},\"colorscale\":[[0.0,\"#0d0887\"],[0.1111111111111111,\"#46039f\"],[0.2222222222222222,\"#7201a8\"],[0.3333333333333333,\"#9c179e\"],[0.4444444444444444,\"#bd3786\"],[0.5555555555555556,\"#d8576b\"],[0.6666666666666666,\"#ed7953\"],[0.7777777777777778,\"#fb9f3a\"],[0.8888888888888888,\"#fdca26\"],[1.0,\"#f0f921\"]]}],\"mesh3d\":[{\"type\":\"mesh3d\",\"colorbar\":{\"outlinewidth\":0,\"ticks\":\"\"}}],\"scatter\":[{\"fillpattern\":{\"fillmode\":\"overlay\",\"size\":10,\"solidity\":0.2},\"type\":\"scatter\"}],\"parcoords\":[{\"type\":\"parcoords\",\"line\":{\"colorbar\":{\"outlinewidth\":0,\"ticks\":\"\"}}}],\"scatterpolargl\":[{\"type\":\"scatterpolargl\",\"marker\":{\"colorbar\":{\"outlinewidth\":0,\"ticks\":\"\"}}}],\"bar\":[{\"error_x\":{\"color\":\"#2a3f5f\"},\"error_y\":{\"color\":\"#2a3f5f\"},\"marker\":{\"line\":{\"color\":\"#E5ECF6\",\"width\":0.5},\"pattern\":{\"fillmode\":\"overlay\",\"size\":10,\"solidity\":0.2}},\"type\":\"bar\"}],\"scattergeo\":[{\"type\":\"scattergeo\",\"marker\":{\"colorbar\":{\"outlinewidth\":0,\"ticks\":\"\"}}}],\"scatterpolar\":[{\"type\":\"scatterpolar\",\"marker\":{\"colorbar\":{\"outlinewidth\":0,\"ticks\":\"\"}}}],\"histogram\":[{\"marker\":{\"pattern\":{\"fillmode\":\"overlay\",\"size\":10,\"solidity\":0.2}},\"type\":\"histogram\"}],\"scattergl\":[{\"type\":\"scattergl\",\"marker\":{\"colorbar\":{\"outlinewidth\":0,\"ticks\":\"\"}}}],\"scatter3d\":[{\"type\":\"scatter3d\",\"line\":{\"colorbar\":{\"outlinewidth\":0,\"ticks\":\"\"}},\"marker\":{\"colorbar\":{\"outlinewidth\":0,\"ticks\":\"\"}}}],\"scattermapbox\":[{\"type\":\"scattermapbox\",\"marker\":{\"colorbar\":{\"outlinewidth\":0,\"ticks\":\"\"}}}],\"scatterternary\":[{\"type\":\"scatterternary\",\"marker\":{\"colorbar\":{\"outlinewidth\":0,\"ticks\":\"\"}}}],\"scattercarpet\":[{\"type\":\"scattercarpet\",\"marker\":{\"colorbar\":{\"outlinewidth\":0,\"ticks\":\"\"}}}],\"carpet\":[{\"aaxis\":{\"endlinecolor\":\"#2a3f5f\",\"gridcolor\":\"white\",\"linecolor\":\"white\",\"minorgridcolor\":\"white\",\"startlinecolor\":\"#2a3f5f\"},\"baxis\":{\"endlinecolor\":\"#2a3f5f\",\"gridcolor\":\"white\",\"linecolor\":\"white\",\"minorgridcolor\":\"white\",\"startlinecolor\":\"#2a3f5f\"},\"type\":\"carpet\"}],\"table\":[{\"cells\":{\"fill\":{\"color\":\"#EBF0F8\"},\"line\":{\"color\":\"white\"}},\"header\":{\"fill\":{\"color\":\"#C8D4E3\"},\"line\":{\"color\":\"white\"}},\"type\":\"table\"}],\"barpolar\":[{\"marker\":{\"line\":{\"color\":\"#E5ECF6\",\"width\":0.5},\"pattern\":{\"fillmode\":\"overlay\",\"size\":10,\"solidity\":0.2}},\"type\":\"barpolar\"}],\"pie\":[{\"automargin\":true,\"type\":\"pie\"}]},\"layout\":{\"autotypenumbers\":\"strict\",\"colorway\":[\"#636efa\",\"#EF553B\",\"#00cc96\",\"#ab63fa\",\"#FFA15A\",\"#19d3f3\",\"#FF6692\",\"#B6E880\",\"#FF97FF\",\"#FECB52\"],\"font\":{\"color\":\"#2a3f5f\"},\"hovermode\":\"closest\",\"hoverlabel\":{\"align\":\"left\"},\"paper_bgcolor\":\"white\",\"plot_bgcolor\":\"#E5ECF6\",\"polar\":{\"bgcolor\":\"#E5ECF6\",\"angularaxis\":{\"gridcolor\":\"white\",\"linecolor\":\"white\",\"ticks\":\"\"},\"radialaxis\":{\"gridcolor\":\"white\",\"linecolor\":\"white\",\"ticks\":\"\"}},\"ternary\":{\"bgcolor\":\"#E5ECF6\",\"aaxis\":{\"gridcolor\":\"white\",\"linecolor\":\"white\",\"ticks\":\"\"},\"baxis\":{\"gridcolor\":\"white\",\"linecolor\":\"white\",\"ticks\":\"\"},\"caxis\":{\"gridcolor\":\"white\",\"linecolor\":\"white\",\"ticks\":\"\"}},\"coloraxis\":{\"colorbar\":{\"outlinewidth\":0,\"ticks\":\"\"}},\"colorscale\":{\"sequential\":[[0.0,\"#0d0887\"],[0.1111111111111111,\"#46039f\"],[0.2222222222222222,\"#7201a8\"],[0.3333333333333333,\"#9c179e\"],[0.4444444444444444,\"#bd3786\"],[0.5555555555555556,\"#d8576b\"],[0.6666666666666666,\"#ed7953\"],[0.7777777777777778,\"#fb9f3a\"],[0.8888888888888888,\"#fdca26\"],[1.0,\"#f0f921\"]],\"sequentialminus\":[[0.0,\"#0d0887\"],[0.1111111111111111,\"#46039f\"],[0.2222222222222222,\"#7201a8\"],[0.3333333333333333,\"#9c179e\"],[0.4444444444444444,\"#bd3786\"],[0.5555555555555556,\"#d8576b\"],[0.6666666666666666,\"#ed7953\"],[0.7777777777777778,\"#fb9f3a\"],[0.8888888888888888,\"#fdca26\"],[1.0,\"#f0f921\"]],\"diverging\":[[0,\"#8e0152\"],[0.1,\"#c51b7d\"],[0.2,\"#de77ae\"],[0.3,\"#f1b6da\"],[0.4,\"#fde0ef\"],[0.5,\"#f7f7f7\"],[0.6,\"#e6f5d0\"],[0.7,\"#b8e186\"],[0.8,\"#7fbc41\"],[0.9,\"#4d9221\"],[1,\"#276419\"]]},\"xaxis\":{\"gridcolor\":\"white\",\"linecolor\":\"white\",\"ticks\":\"\",\"title\":{\"standoff\":15},\"zerolinecolor\":\"white\",\"automargin\":true,\"zerolinewidth\":2},\"yaxis\":{\"gridcolor\":\"white\",\"linecolor\":\"white\",\"ticks\":\"\",\"title\":{\"standoff\":15},\"zerolinecolor\":\"white\",\"automargin\":true,\"zerolinewidth\":2},\"scene\":{\"xaxis\":{\"backgroundcolor\":\"#E5ECF6\",\"gridcolor\":\"white\",\"linecolor\":\"white\",\"showbackground\":true,\"ticks\":\"\",\"zerolinecolor\":\"white\",\"gridwidth\":2},\"yaxis\":{\"backgroundcolor\":\"#E5ECF6\",\"gridcolor\":\"white\",\"linecolor\":\"white\",\"showbackground\":true,\"ticks\":\"\",\"zerolinecolor\":\"white\",\"gridwidth\":2},\"zaxis\":{\"backgroundcolor\":\"#E5ECF6\",\"gridcolor\":\"white\",\"linecolor\":\"white\",\"showbackground\":true,\"ticks\":\"\",\"zerolinecolor\":\"white\",\"gridwidth\":2}},\"shapedefaults\":{\"line\":{\"color\":\"#2a3f5f\"}},\"annotationdefaults\":{\"arrowcolor\":\"#2a3f5f\",\"arrowhead\":0,\"arrowwidth\":1},\"geo\":{\"bgcolor\":\"white\",\"landcolor\":\"#E5ECF6\",\"subunitcolor\":\"white\",\"showland\":true,\"showlakes\":true,\"lakecolor\":\"white\"},\"title\":{\"x\":0.05},\"mapbox\":{\"style\":\"light\"}}},\"title\":{\"text\":\"3D \\u0412\\u0435\\u043a\\u0442\\u043e\\u0440\\u044b\"},\"scene\":{\"xaxis\":{\"title\":{\"text\":\"X Axis\"}},\"yaxis\":{\"title\":{\"text\":\"Y Axis\"}},\"zaxis\":{\"title\":{\"text\":\"Z Axis\"}}}},                        {\"responsive\": true}                    ).then(function(){\n",
              "                            \n",
              "var gd = document.getElementById('6c7fd3fd-a186-447e-88e6-66b97088036e');\n",
              "var x = new MutationObserver(function (mutations, observer) {{\n",
              "        var display = window.getComputedStyle(gd).display;\n",
              "        if (!display || display === 'none') {{\n",
              "            console.log([gd, 'removed!']);\n",
              "            Plotly.purge(gd);\n",
              "            observer.disconnect();\n",
              "        }}\n",
              "}});\n",
              "\n",
              "// Listen for the removal of the full notebook cells\n",
              "var notebookContainer = gd.closest('#notebook-container');\n",
              "if (notebookContainer) {{\n",
              "    x.observe(notebookContainer, {childList: true});\n",
              "}}\n",
              "\n",
              "// Listen for the clearing of the current output cell\n",
              "var outputEl = gd.closest('.output');\n",
              "if (outputEl) {{\n",
              "    x.observe(outputEl, {childList: true});\n",
              "}}\n",
              "\n",
              "                        })                };                            </script>        </div>\n",
              "</body>\n",
              "</html>"
            ]
          },
          "metadata": {}
        }
      ]
    },
    {
      "cell_type": "code",
      "source": [],
      "metadata": {
        "id": "p2UEGAeFjqjw"
      },
      "execution_count": null,
      "outputs": []
    },
    {
      "cell_type": "code",
      "source": [],
      "metadata": {
        "id": "BjVUr5HVld_n"
      },
      "execution_count": null,
      "outputs": []
    },
    {
      "cell_type": "code",
      "source": [],
      "metadata": {
        "id": "42YrqIw2ld89"
      },
      "execution_count": null,
      "outputs": []
    },
    {
      "cell_type": "markdown",
      "source": [
        "# Theory for the following tasks\n",
        "\n",
        "Разберем нахождение координат вектора на плоскости, если известен модуль вектора $a$ и угол $\\alpha$ по отношению к оси ОХ.\n",
        "\n",
        "\\begin{cases}\n",
        "  x_a = |\\overrightarrow{a}|\\cos{\\alpha}      \\\\\n",
        "  y_a = |\\overrightarrow{a}|\\sin{\\alpha}\n",
        "\\end{cases}\n",
        "\n",
        "Данная теория сводится к решению прямоугольного треугольника.\n",
        "\n",
        "![image.png](data:image/png;base64,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)"
      ],
      "metadata": {
        "id": "KvHxh1LZkXVF"
      }
    },
    {
      "cell_type": "markdown",
      "source": [
        "## Example_1\n",
        "\n",
        "Найдем координаты вектора на плоскости, при данных его модуле и угле по отношению к оси OX:"
      ],
      "metadata": {
        "id": "pu61keVcluEo"
      }
    },
    {
      "cell_type": "code",
      "source": [
        "mod = 12\n",
        "angle = 30 # degrees"
      ],
      "metadata": {
        "id": "lwcSiwlzkTig"
      },
      "execution_count": null,
      "outputs": []
    },
    {
      "cell_type": "code",
      "source": [
        "x = mod * np.cos(np.radians(angle))\n",
        "y = mod * np.sin(np.radians(angle))\n",
        "x, y"
      ],
      "metadata": {
        "colab": {
          "base_uri": "https://localhost:8080/"
        },
        "id": "VVzcWC4MkTUn",
        "outputId": "13b4570f-5291-40ae-ab42-a0be208c75a2"
      },
      "execution_count": null,
      "outputs": [
        {
          "output_type": "execute_result",
          "data": {
            "text/plain": [
              "(10.392304845413264, 5.999999999999999)"
            ]
          },
          "metadata": {},
          "execution_count": 49
        }
      ]
    },
    {
      "cell_type": "code",
      "source": [
        "vec = np.array([x, y])\n",
        "vec"
      ],
      "metadata": {
        "colab": {
          "base_uri": "https://localhost:8080/"
        },
        "id": "StJokjUnkTRh",
        "outputId": "bf062318-b4b2-44da-9618-c59411d74cb7"
      },
      "execution_count": null,
      "outputs": [
        {
          "output_type": "execute_result",
          "data": {
            "text/plain": [
              "array([10.39230485,  6.        ])"
            ]
          },
          "metadata": {},
          "execution_count": 50
        }
      ]
    },
    {
      "cell_type": "code",
      "source": [
        "plot_vectors(np.array([vec]))"
      ],
      "metadata": {
        "id": "25IF5mxnmiog"
      },
      "execution_count": null,
      "outputs": []
    },
    {
      "cell_type": "markdown",
      "source": [
        "Поскольку вектор представлен двумя координатами, на 3D графике он будет лежать в плоскости XOY."
      ],
      "metadata": {
        "id": "K4hVHHqRmyWw"
      }
    },
    {
      "cell_type": "markdown",
      "source": [
        "## Как восстановить координаты трехмерного вектора?\n",
        "Для этого нам надо знать\n",
        "\n",
        "\n",
        "*   Модуль\n",
        "*   Направляющие углы $\\alpha$, $\\beta$, $\\gamma$\n",
        "    * По отношению к оси OX\n",
        "    * По отношению к оси OY\n",
        "    * По отношению к оси OZ\n",
        "\n",
        "В этом случае расчет координат будет осуществляться:\n",
        "\n",
        "\\begin{cases}\n",
        "  x_a = |\\overrightarrow{a}|\\cos{\\alpha}      \\\\\n",
        "  y_a = |\\overrightarrow{a}|\\cos{\\beta} \\\\\n",
        "  z_a = |\\overrightarrow{a}|\\cos{\\gamma}\n",
        "\\end{cases}\n",
        "\n",
        "Где данные \"косинусы\" также являются направляющими.\n",
        "\n",
        "На самом деле, нам на практике необходимо знать только два направляющих угла для трехмерного пространства, а третий мы сможем восстановить по формуле:\n",
        "\n",
        "$$ \\cos^2{\\alpha} + \\cos^2{\\beta} + \\cos^2{\\gamma} = 1$$\n",
        "\n",
        "![image.png](data:image/png;base64,iVBORw0KGgoAAAANSUhEUgAAANQAAADXCAYAAABiSn+2AAAAAXNSR0IArs4c6QAAAARnQU1BAACxjwv8YQUAAAAJcEhZcwAAEnQAABJ0Ad5mH3gAAC+JSURBVHhe7Z0HfJRltocPvZcAofcWOgGUojQp0jsigiCCor/VXXRdy65l77prQ/e64uLddRVYUESqhS6I9N5CS4BA6BACodcEbp6T+TCESTKZBDKTnEfnFzL5ZjKZ+f7fOe9pb7ZSpUrdFMMw0oXsrq+GYaQD2WJiY8xCGUY6YRbKMNIRE5RhpCMmKMNIR0xQhpGOZPmgRGxsrJw/d162bt0qe/fulTNnz+j9OXPmlICiAVKtWjWpU7eOBAQE6P2GkRxZXlBXr16Vw4cOy4QJE2TFihVy5coVvf/ixYtSongJ6de/n/To2UMqVqyo9xtGcmR5l+/mjZsqnlOnTqkVGjJkiN4Q0KVLl6Rq1aqSP39+19GGkTzm8sW5fBcuXJD9+/ertSpevLjs3LFTpkyZIufPn5fP//O53pc7d27XIwwjabK8hcqRI4cUKVJEgoODpXHjxlIgfwFdT2XPnl0aNWokJUuWNDEZHmNRvgScO3dOrdOc2XMkb9680q59OxWWYXiKnS0JiIiIkJmzZkrFShWlffv20rRpU8mWLZvrp4aRMiYoF1evXJUjh4/Itm3bpGXLlhLcKNiCEUaqMUG52L1nt4rp8uXLup4qW7asnD17Vvbs2aNRQMPwBBNUHDdv3pSfFv4kP//8s0b0CJ9fv35ddoftlpkzZsqJ4ydcRxpG8ljYPDZWLl64KK+9+ppMnzFdcufKLb1691KRHTt2TM6cOSMffPCBNG3W1PUIw0iaLG+hCDrkyp1L6tWvJ+3btZcHHnxAQ+kFChSQWrVqSYcOHaR4ieKuow0jeazB0EVoaKgcOnRIrly+ouso3L5SpUpJsWLFpERgCQ2jO3DcjdgbUq5cOcmRM4dFAo1bmKBc3LhxQ28JIQeFWBILZvTo0eomjho1SgoXKayFtIYBFpRwgXgQRsKbIyiHmJgYiTwRKXv37NXK9JMnT+p9huFggkoFBDAIUpyJPqMtH7iGia2akbUxQaUCxIOIsErXY65rfsoEZSTEBOUlUSejZP369bqWMgwHE1QqoHeKBkRcv+joaK2suHT5kuunhmGCShU3+e9m/I2yJELtrKUQmGGACSoVEPXLkyeP5p5oSozYHyHRp6Pl2tVrriOMrI4JKhVcu3ZNIg5EqFUyDHeYoFIBgjoQcUBb4wHX7+q1q5aLMm5hgkoFuHbh4eFy9txZ/Z6104EDB+R09Gn93jBMUKngytUrsnPnTl03AUNdZs+eLTu279DvDcMElQrokaI3ivFigKsXFhYmJyIzV78Uf+eF8xduS1rj3nLh2L17t+be+N64ExOUhyCiqKgoje4hJFo8aPugnu9k5Em/S/AiFirrE1d6bN60WebNmyfLVyzXvxWOHz8uM2bMkK+++kpWrlip5Vfk5Iw7MUF5CPV7BCScAASCIoTOLAoE5U9WiulOiISLAYGWhCxYuED+9X//kmlTp6lwSGRv375dPhz9oUz870TZuHGjXL5yWXNyxp2YoDyEmef0QTlJXNwiJ6lLZ+++8H1+4wbR6v/lF1/q/EHHCjmcPRM/R2PtmrVqlXft3KVW6cSJExJYMlBq1qwplSpV0guKcScmKA85FXVKI3y4eYxpLlO2jN4fUCxAjh47Kpu3bNbvfRnEf/TIUVm/br1s37ZdAgMDteUfsLzUJ+bLl09Klyqtwz3//a9/y9y5c1VY9erVUyEVDSgquXLl0scYd2KC8pCTUSd1XDPTkIJqBamoaJNn5BiDXTgZfR3ctyVLlsimTZvk4qWLKpC8+eI7kami37Fjh45OY4Qat5UrV8qRI0e0e5m/lZ1IEJuRNCYoD2E9QVDivvvukzp16kjp0qW1NX748OHSuXNnKVW6lOtI3wTrxOv/4osvVDglSpSQ0mXiLRGQrF62bJl+36ZNG+ndu7f+jfytCGnXrl06Y6N6jep6vOEeE5SHVKpYSbp06SKDBg3SkxGLRGg5T+488vDDD8vAgQN9erZE6K5QGfflODl44KBa2dp1art+Eo9joQoXLqwiql+/vrzwwgsqLuZp8LfVqFFDH2skjQnKQ3DzevfpLXXr1pVr169JZGSkXvUpmEVgvnyiHT58WFatWiVz5syR06dPq6Vpev+vY9GwXGGhYRr5K1SokJQrX06tE5sn3Lh5Q11dyF8g/23Daow7MUF5SPny5aVZs2ZSpGgRjeYR5QMqz7Pn8O23MWRriCxdulQTs6yjKleurFbIgQ3nNm/erIGJAgUL6G4kiIcAxPFjxzUYwwQo24UkZUxQXlChQgXdUAA3qGChgpqP8mXYmZEAgwNuqhOMAAIPlFQRfEhsgaJORenFo2PHjjpSzUgeE5QXcAUvWqSoWioqJKjp80XoKp4+bbps3LBR6w/VPQ0soYM72QfLgQlP7IPFGhFLDPxtTs8XAQsTlGeYoLyAkxGXSLLFvYFx7l72bL73NpJ0JhAxffp0CdsdpqInf0RgAfctZ65fZwlWqlxJt+9p07aNCssBAVavXl1dXR5nu5GkjAnKC0jusp7IFvdf/nz59Xtfgvq8gwcP6rqJqgiqHxADN4IqJUv9KhogSNG9R3f9GVE+wJ3l+Ic7PSwDHh2gayurjkgZE1QmBDd0zZo1Mm3aNA2HE6Fkix6qO4jeJXT3UgL3lsS14RkmKC9gUc8NS3D06FEd2OJLrFy1UpYvWx5f5VA0QIKCgjSJS94MQTE+2lNw+8wyeY4Jylvi1k/Owt1XghKXL13WEPfCBQtlw8YNjGmSJvc10TUTr5WwOKVDhQt5LigjdZigvIDErtP2QMicKJkvQDsGG26zbqIiguLXbt266XqIRDSWiYpxCy7cPUxQXoCI8ubJq1f9U6dO+cyWoQQixo4dq81/D7Z8UFq3bq2tJVRCUNVRsGBBDTrkzmMJ2ruFCcoLODljYmNUUCQ9+T6jobeJQETJwJLSuk1rLeIl6YzIWOfxOgkuICbWRcbdwd5ZL8iRPcethTpffeEEpSkQa9T/kf7au8TrojbPETx9TiRtrXzo7mKC8gKSn6VKltK1CSeq06SXkWB9mjVvJs89/5wOjvnmm29k9erV0qBBA80vkWuifs+KW+8uJihvoEvD1alBctcXQDi0p//w/Q86aIWN4fLlzSf333+/rvlwTymKNQt1dzFBeQG1bc70WCJ+vrCGwkLhejKdaN+++PkW3EdXbuUqlfVrmTJlrH39LmOC8gKKTukr8qWgBBURBCAImTPJllkXlatWlkKFC0njRo3VUuGq+kqIP7NigkoDzhrKF2r52Fpnzeo1cu7sOYmNiZWaNWpKu3bt1N1rGNxQ11e06Zug7i4mKC9wSo+YTUeC15nVl5EwO2/VylVaDsXch1ZtWkmrlq1UUNwQPmLiImDcPUxQ3sJ5eTO+/CgjZz7ibhIepxsXKwXNmzWXBx98UNsyrA7v3mKC8gLWTdevXderPWHohL1F9xosJA2EDKRkMhMCatu2rTRs0NB1hHEvMUF5ATVxzmwJhkAiroyCwtzFixfLnr171LUrW66s3lJTUW6kHyYoL0BI1MvxlegaofOMADET2QsJCdG8E2HxwYMH6xBOCz5kDCYoL1CXL+6GoMhHZVT7BuF71k6MCSMwUrVaVRn42EDteTIyBhNUGiCilpHV5rRrbNiwQS5dvKStGjVq1tBqCZ13YWQIJigvoHUjT948v+ahUll9gDUhX7Rg/gJZ+stSFUbifZpSgu11QraEaP8THcOIicGUFhbPWExQXsDAEnqLcPnYHyo1eShcRUZzjR8/Xjcw+/7772Xd2nWpdhvZSZCh/+zxS6SP0qLatW4fr2zce0xQXsBOFAULxAuKDazZCTA5EBGbnBHWZjsZ+pY++eQT+eWXX2Tt2rV6S7zxWVLwO8k9bdq8SbZs3aIhe5oGmb3O8E0jYzFB3QNoP1+2dJnOepg8ebIsXLhQ5zwwC6958+a3Cls9AdeQmXs7d+xU61SieAlp1bqVNAhuoM9jZCwmqDTgSWKXWeJbt2yVMWPG6Fab8+fP1yqLN958Q5559hkZ/PhgnX3naZ8SoXK6cyMiIjT/xWB/dv8IqhlkVRE+gAkqDThBiWQbDG/Gvclx1oe+KertcA/r1a0nXbt2lRYtWmggoXbt2h4FNnD1Tp86ra4i+Sd6m1g7NWnSRMeEGRmPCcoLEIjjonFSJ2cZGMpP68TvX/q9unnMesCieBONQ4zs87tgwQI5cviIVkPUDKqplRGs64yMxwTlBQyPpN8o9kasbgVDsCE52DWd0DjRQAansMuFN0SejNS1E2K6dPmSVkR069pNihQu4jrCyGhMUF7AmonSHsqPiPIhmKQgHM5mZtOmTtOmxJw5cnrdNbt3z16t26M6I7BE/I7sDPEnJ2b4BiYoL2Atw82p5UuuOJbgwYrlKzSyR+ic3Tq8CR5gBbfv2C6r16xWkbLuatiwoRbpWjDCdzBBeQEjj4m2ISi+JlccO2/ePN2K04E1lzeTh7Zv2y7bQrbJycj4qgoGWdLzZPgWJigvINCQL38+DUwUL3b75mUOCI0KCETAWqt5i+ba8Md+vFRapJZFixfJpo2btEWjStUq6u5RXW74FiYoL2D9xFqISB1DUNytYdhEgK04cc848Um6VqtWTXcQTE1rBXksQuTbtm7TqnLE+MADD0iVKlVU1IZvYYLyAlwubgiKKbLuqhyoQGdfWyJ6BA4QlrN7YGqgCJY1GFURiAthdurU6dbWnYZvYYLyAtZQ3BDVqdPu2zfIGZHIJT9UtmxZredjGGW5suVcR3jG0WNHZdKkSfoV68SMvQcefOCOXQgN38AE5QUM3OemLl+hQm6DDITWsUZMcV20aJFG6dRClfbcQjGwkklGrMPYLK1qlarSulVrLYa1yJ5vYoLyAsqInEqHpCoeEFqHDh3UqnAMW3JSDU7bh6fs3LlTli9frk2MiLZ+g/q6sTSBCcM3MUF5wZWrV3Q9c+PmDW1Dx/1LTLFixWTYsGHyyCOPyGOPPSbPP//8bTusJwfheFxEXEZaO6BChQpas0cZk80n911MUF7Azu8p7QJINQQFqwQQunXvJtWqV/PYsiAmQuSUGVEMC3Xq1tFh/4ZvY4LyAqodcN2ItBG+Llq0qOsnv4KbhyUpVryY5p6oSncXDXQHgtq8ZbNu60nggxkRJHHZjsbwbUxQXoK1IYRNFC89R3YhIJLC27Ztk2PHj8XP2itbVho0bCAVKlZwHWX4KiYoL6FynOEozHU4cuSI6960Q10gRbShu0K1zIjgBuF2vhq+T7aY2JgMnMztvzBcZdTvRulOF5zwTB0iUAG4bNxw82ixYMQXay4qJsqULaPh9KTa1Xft2iUzps+QiRMnqlAbBTeS995/T+rVr+d124dx78jx1p/f+h/Xv41UwH62DJlEUCRbEQ4V6Kyd+Iqg+Ir7RtibjaPDw8N1WlH43nB9PJXq+pi4/whi8FimwE6aOEkORBxQq0QN4PDhwzX87ukazMg4TFBewlw9mgbZ0qZbt24y4NEBUiuolkbjCB7QXkFkj4ggQmFthMVhc2msEF+dnRCp+8OFJFxOEnfKlCl6H5tPd+zYUSsjTEz+gbl8XsKOF1988YValBEjRsgTw55Q0SAKvd24qXkqLJDeH/d93Hstp6JOqZWizk9nkkdGquBwA7t3764C43mPHzsuQ4cOlaefeVpdSsM/MEF5yc+Lf5a//e1vmth9/rfPq6g8gSJZnc8X5wISdODxWDqqImhAjIqKUkuGCzhy5EgZNHiQlhoZ/oH5EV7izIkg8JCahkHC4FijRo0a6fiwPn37SM+ePXX6EesqRoQR6WvWrJnUrVvXxORnmKDSAAWq7HSRlpOe5G/RgKK3tqBhbUawgjrAoFpBrqMMf8EElQacFvi0brhGPmvu3LnaSEhkjxA8t2IBxVxHGP6CCcpLsE5YF9Y9jPTyFhoISeKuXbNWXUj6nBiAyYjljNxq1PAOE5SXOIKiuZBAg7cQnNiwfoP2Pl28cFHLjB566CGrjPBTTFAZTMSBCFm1etWt3Tfo6G3Xvp3OqjD8DxNUGmANpXP5rnu3hqKCgt3b6epFUO07tJf2Hdu7fmr4IyaoNEIFA4lZb6B0iRu5KNxHphkRLjf8FxOUl2CdqIBIcfcNN/BYSo3YeI2ELuFyghGUGjFqzPBfTFBegiBw90jU5srt3R67lB4xqpkGQlrbA0sGuo4w/BUTlJfQjkFSl9o8SojczZVICly8ZcuWqZiIErJ7Bq3yFcpbA6G/Y4LyEtZOTstFaiEYweYBFMAizKrVquq+UbTKG/6NCcpLiMqR1C1eorg2CzLv3BOICB4/flx3IaQzly09CUSwaZqnz2H4LiYoL6EgFiGRmKWolaSsJ4SFhcnK5St1N3gSwmzpSWWEpxORDN/GBOUlBBZoAmTthDDoe/KEHTt26B5PRPZoja9Vq5bUr19f3UfD/zFBeQkhc9w3mggpQ0qp7g7BYc3Y5yk0NFRy5Myhk2QZz8ycCRutnDkwQXkJLl/JwJKSK2cu/XdKm0ZjxRb9tEjHg2HZCJvTsoGYjMyDCcpLmHDEJtLXY67rvwl/JwfWjOZBunGJ7NGeUa5cOXUZqZZgQmxa20CMjMcE5SWIgsrwQgULyY3YG8nmoYgIEiqnTQO3j0ryzp07S8uWLXXeOfmoqVOnyrp167QF3vBfTFBewvhlSoUCigVItuzZNEiRFLh4+8L3yaFDh7T/icfS9t6qVSudjMT6ijA6O7wz/OXI4SO3qs8N/8IE5SVE6Vg3keAl5J3cXAkaB9evX69uIduHksClZo8tPbFQbdu2ldf++JpasTFjxsinn36q1ReG/2GC8hIERWHs1StXde2TXMUEpUZsTUPtH23tbDKAZSNUTnSvYKGCUr16denXv5/W9G3cuFE+//xzbTxMC7iiWMclPy+Rj//3Y3n5Dy/Lf//7X9mze4/rCCO9MUF5CdE9LBSz9s5fiB9YCVRPUFLEnrjcmBbL2onAA4IqX6G81KpdS62aM7ySr+zm0bRpU+nUuZMENwrWAMZPP/2ks9MRLWH61HLu/DkV0/Tp02Xy15Nl8uS4W9zXVatW6TxAI3XwGRCtTe6zsMmxXnLp4iWtkPhlyS869YjSocJFCutEWFoyuO3ft18bCFeuWKnFsLRt0N7etVtX3UAtMVg97kdYmzdvli1btuh6qmbNmhoESU3yl3VZxP4Ieffdd3VdhjvJOg+BExSpWKGi5sEM9zjdBAzh4XPBA8FlZ4shco7c5y53aILykugz0ToBdvmy5SoedhpENAQW2MZz9erVsmHDBp0Qy8Zp165f08qI3n16a4SPhsKkQDhs/3nixAl9PMJixHNqdpCnXpB127x582TAgAHy2KDHdN1G6VPVqlV1LqAJKmn27t0r8+bOk2nTp0n1atXVLWeQzvPPPa8Wio0b+DwTYy5fKiDfhHgmTJggYz4ZI7Nnz9YpsFinJvc10U3REAwjlIc9OUz69u2rayLaPPLlzSc9evSQ+5rcl2ISmCsflopBmC2at5AVy1fImtVrdMyYpxCeJ4nMhx8UFKRWjisrMwARVpWqVVxHGu6g+XPOnDmybu06fQ+x8FyMuIhinZIqZM5ygiLBShI1NWFp/ObDhw9rnmjhgoVqlSgfotoB14pavEcGxO+lO3TIUBk+YriK6sGWD+oOh+y3S2SvS5cuWrvnKUyT7dyls0YCsTYENjyF4lvWYZwMR44eka0hW/ViwGtt1LiRJpWNpHFKxLJny64RXBLy+/fv14shW7Mm1WqT5QRF8ID1CcMlPYUmwvnz5ss7f3tHrRMn5Z///Gd5+ZWXdR/dMqXL6G4bWCrC4kBwApdh5oyZsit0163hlUT3PIUPsm69uvLKq6/omDH23WUd5gmcAM7f+fm/P5e//M9fZNnSZTJo0CC1ekby4Hkgnvvuv0+tEXlEgkyUivE5JzXmLUsJChdowvgJ8tZbb8m777wrixctdv3EPSxICTG/9957WslAZcToD0dL33591SUrkL+A5MieQ3Lnya0unQNhcqJ6ROkuXrqoQQZ2hPemgRBfvVXrVmqtwveFy2djP9NQeHJoF/HJk1rF8dJLL+nrHzhwoFpl1mO4g4Z7cOv37tmrUVBcdTqpERbWnT27mjdvLoULJT16O9MJCsvAH84t8YnHSb5o0SI5dvSYunHJQYSHiN3EiRM1DM46pGevnlouRFEr1iP2RqyKKU/uPLdFfA4dPKRrnrNnzurPcPtaPNBCQ+OpheAFwYj27dtL/rz59fVHnohM1mWlIuPC+Qsaomc02UPtHpKGDRvq+ok1wInIE64jjcRwEWX/LvrbEBTBIXBKwhBUcjMTM4WgWCcgEBbtrDUWLFigN3I4RLuA5CsCoW6ODczatGmjydSkQBQEA5g5zps69Imh0qdPHw1fA2snfif5pISlR9y3e89uHV6J+4d7QBMh1i0tPU+sx2iVR9wsjpNzWYlQnTl75pZFpOoCV7dIkSIqxJjrSZdJZXWc84ioLCVigSUC5cTxE3qBZYhOkyZNkr0wZgpBcZJgdT768CN5cdSL8tabb+nt1ZdfVQuD4HCBuMrQcvHmm29qgIAreFIgpJkzZ2rNHRUMXOGTAkuImwfkjcg9saDlpMfdw6qlFdwOLgCICiuF4N3BGgv3BFFx8SAa+Zvf/EZGjx6tYsSFYb1nuAdPg/eacwoR4bIz/4MoH55J9RrVtUImKfxeUFxR2EbztVdf0wgcVxf84FKlS2kFA4nXjz/+WGbPma3uILkXSn/IK7hLzPHYaVOnqaVj/YKYsDCJ80ZOTR5XK9w/x/qwRmGtFn06+lbPEwWwaYXEIluNtm7dWn9Hcm7byaiT+rdhFYlOMrsC94WwPVfYEoE2DCYpEBPr1aCaQXpR4sL89VdfaxlXzaCat5K8SeH3gsKVwZXDohCFIerWrXs3DWGzxSZuzqyZs+TH739US8UJRdTGKftJCOLkKk5+iXIf8kqcxO5MvE49yplLw/DqRrlcPurwSORiKTihueE6pAeEuqlwx/IhlMStHtxPgpmEMEKmIqN1m9bSvUd3Te727d9XLyjJFfJmdXhvSHx36dpFPQIujlh8LkL16tZzHZU0fi8orE7UySg9gbEiuFdE8V76w0vq2vXq3UujWkuXLZWCBQrqAt2dmIAgAm8gcx94M3H3kroasQ7BApLTwh04e+6sClKjQQcPaDkSVeSsodILBmKSkyKvRVnR7rDdrp/8WmpEiJzXRK6JbUr/+Mc/yttvvy2jXhgl7dq1s109koELI58h3gd5xcGPD9ZgFBdU8odczFLC7wXFH6s9SbhEdeuoBapUuZKaZtojuFKzjuE4Tm5mOCQlkv0R+3XdxJvXtFlTXWMlKShXrRf+NNOPsFYM/WeNxhWOBSzPwffpiTNlljwJltmBNSKu4Pz586VRcCNp0riJ6yeGp7D2nTtnrn5lXcyFifwfLjsX2GLFU94Az+8FxVoB8QC5IebcYbYRAotyLA7u0bWr1yRka4j8+MOPeuJh2RJCmJnCR8LKrFPYeT250V5YRG6EorEYuJNUJvA7CZVTK4e4mduXnuTNk/fWRSHh30AVBYlbGhhJILPuM1IH7yfJ8H98/A/55B+faB0kF87+/ftrpNc5z5LD7wXFoH7cK3I1/PG4PawjuHG10ZMs7mpOHduWrVvkm8nfaDicoEFCCK8jPFwnxFChYvJjkQmVOwtUIox8EPxOrAZ5CrpxicixyE1PcEe4WvJ7iSxiJREzX3FlWVCzePbkamrcDt0CrLlJe1DDx5qUvBMRYcqNPMHvq82xIoiAZCZvwqqVq7SwkYjfnNlzdJAKAnFC5yRFsWqNmzTWyJcDdXpYM35GUMNdJXFCEO/Z6LPy9ddf6+9bt36dJgQRLzmuocOGajNhUus1b+H5uIBQhcHaDdcO0bK2Ytd43Nvg4GBbKyXA8SYS4s6V53yoXae2RoFx8zp27ChPDn9SlxTuIsLuyBTtGyRbqXnjpGJOHuKilo03ot1D7bRQlbUObhAn+4inRug6J6FLRyACMXA/V3l3kb2EsIClxOfHH3/UyCAZ9iuXr+jug917dld3j1C6uw8uLfB8PC8tIvxOopCE7xEVlpH3ADF5egJkdggSEeXFheOiSY8a3gkWnSBW4ognXgfrX6pbWHOnNiKaKQTFG4NFQUBcZQhEEJHB7WrTto22TPAz1h4kaCluTbw+Yv1DhIc547h7ifNOicEq4nMTBCBMjcCwgoMHD9YmQl5HeosJeE7EglVk0hKtGITmuajwmrlwmJh+hSoRAgsIa3fobgkNC9VaPQIPrHfJW2rENG7tHHUqSvNNvJekQ/BC+Ex5Xz39LLPFxMZ4Vr6cyRk3bpzWbw0aPEj96JQWoAiIqoiRI0dqRyxvPKIe8+kYaftQ22Sz6enBBx98oEEU/HuKZ3nNicHNQfiJwW10XFGdfhv32jlhuI+TiMdwnwP/5n7ncc5jgft5jtuIO6OYV3jzxs1ba02ek2P5GfWPPIc+7/W433cjVouMnRIuAkg83nkNHOuc0NzH3+W8Xud7d/CcXOwQC4KiwgQL5TwvFz2qxwkqAeskqkjYVojSLZ4f689xzmRgfi8eAEl/d261CcrFB+9/oEniF3//okeC4kOkAoF2iPVr16t7QN6Hej/C9p5e0bzl9T+9rlfXRx99NElBxcbEW9HEJxxXYKdBjjZ+XFWsGvefjj6t+TjcSQeqR1h/4lYStifS6ICbTDAnIXErFrUMWHzHeyCAwrEIhhMXDwG3i+elvIfKfS5CfE+Cnq/8HHC7OJ6/gzZ0xMnr5fVwzB2CdsHPqVbhcyXaSpCB73kOQDA8D0KGnDniW9u533nP+L5I0SK3rD7fk1/kc+Z9T0yWFxRXK06e9959Tz+c19943SNBcZLhKjz55JMaqmYxS34I94v8lwNX2ytXr2hxLieFnhx5477GnZSUD3Ey8xo4huoMZp7TdsH358+d13wI/wZyXY4rSvSSoETlKpV1bchzKnGfJn8HJx0WgiJP7ksIoX5ONv4Gci1Xr13VCwB/M6+X7xGjA8/FsfycW0KXEkvtnKAJ4XiOwxpxcvK3OW6xln3FWQ/neRGZ87z6fWyMrhNV+HHvF/dxLO8fx/J83Pg3j0EADlgbHsdjeF18thwbUDRAjp84rtUlnuyUwhatvEeIjCoJ1qZUvPDcLAvYz8tdSZkJKu4DZi3CMBM+hD+9/qcUBcUVETeCKOL48eOlaJGimvtx1jDOSc+VkWM5wfk3JwQuBFE6Ti6u2s4JwtWb388JgivBCcRjucpzA04yXhePcU5Q3CV+p7N24mf8Pu3Tcr0OTlDg5ACu1pwYnHCJj3VwBMb7w+tzfq/jaiU8mfXYOJeI9UfCY7Fm/B4sA38LP3dAKPxOrBkXG34Pz8X2qlhPgkL0HfGeIQoejzgdOJ73gPt4HQ5EVrmg8TOqVxAPngR1edywfFw0eC95DbzXXGC4WPFa+b28l3gZhNF5bnaY5HNDULw28p1UoRcoeGdKxFw+F++88466OjTkkcPhDU8Kms+IHP31r39VcSAmKiL4sHBvuI+TjEUvz8PJwIcKWBM+KPq1+AC5CmbPkV3LpxAR8Fju52qb2E/nGE4wfHieG0EAHzYnAu4TcDI6bqBzDD8H51jHreN3JHYZObl5fbx2fifiYNITJxi/FzHyHPzbeb2OBXLEyslJ5BFL64jCgfeY9wn4OT9DiBzP86UXWGAKnf/+97/rxCf+BkSKiBAJASwqY/j76LwmZM5nyLqJ+1KLCcoFVcWE2gkyEIJPLmz+7ZRvNUFMIpf29JatWuoHwFWZk4IrvsSdE5xgnByOewJclTkp+RknLTfAxeJq7cD9PJfz81vEHeJsocNzcwID33Os8z3/5j7gvmz851orJHesg3M8rx2c47mf//k39zknP/++dWy2+GO5UDiP4+b8HPh9zu/UCwk/inuqxK8jrZDSIFyOJ4HbRlKcgTUk3RE+FwQsFa+T95vPh69u33sPMEG5ePWVVzW8+tRTT0nzFs3dLvJZ4FNlMeWbKWp9GFj57LPPSlCtIL1CA24bJ1RC98TIOLCUiIqkO5aZ9RCWCQuf3uIFE5QLombUw1FhTqs7Zj8hBABCQkJk3Jfj1F2j0ezxxx/XIR6IiTUQZUdYIq7EXOkoh+J5HLEZmZ/U27RMClEdrli4B1zVEoJAKKj9z+f/0elH5CpoiacqgnUAa5Qtm7fIKy+/ohl5piPx7+9mfadupJF1MEG5oA6ORSkVCImHu4TvDddxygx5wXr16dvntpZ4ZlcwKZYKdXJRVGgQuGCLGpswlLUwQbkg0sNClcw6pSlEhwgcUIX+3XffaScuOSYmw9K8hw+O5WLNRBae9VeHDh20DrBMmTK62MXV46uRdTBBuSBcSq0fC1daMcJ2h2lpEbtXfP/d9xqQ6NKti2bJnRnjRK6oCKAECGHRbk6olRAwoWgmFRH9M7IOJqgEUBTLIH8ExXAX5lS89PuXdFuYrl27agQwYTidAARFtYiJfAaRQUZOMbKXZCyP8bSPxsgcmKASQMl+/0f6a4J32rRp2utElQEdmwiNvEXCpCOiYZ3EV9ooyFuQm6J9hIEquHx3IzRr+C4mqATgptEOwdoId4+SJMSEpaELNiFOxQLWiPUUm6QhNgIUBDVYSyUu5zEyPyYoF9SZYZkYCk/GHvev48MddWJQg4Z3zpeg/ozjCVw45SvU6zGJiDnn9ESRgTeyFiYoF2ygxn5Az4x8RsPjjRs11hJ9ghSUoSSGdRMRQeZJsHUMkb4Z02dodTeV53TsmoXKepigXJDQ/WnhT3L4yGEdV8ygQ0qLqKJOuG5y4H4CFJQYLflliY6BnjRxktaKMT6MSmR3jzMyN1leUFQ5EKlbMH+BWhlG8A54dIBuKMDaKClwAQmf0wPFmotZ5nxl0CYJXiNrkqVr+RAA3aFUmlMJgXvHxNAnhj2hydmUIGzO/lHUABKIQEjksmjPMLImWVpQ1N8xKZZ2DHJI7Gn79MinNRmbOAjhDgRJpI/aP6J+jHqmuc3dmsvIGmRZl49hHeSQWDfR9cpgFTYX0HZyD8QErJHINdFng0WjOc7ElLXJcoKiLIi5AkuWLNEtQRnsT0SuR88e2gdlGGkhywmKviYCEHRwEtmjOoK2dwbsG0ZayVKCokSISnK2fCGYQFh8yJAhWmWecFKRYXhLlhJUWGiYLPppkbZiMHK5W7duWg1BQMJq7oz0IEsIimgcZUFMDp01a5bOhXt04KNaCEvtnvUsGelFlhAUZUJTv52qO8OTO8LNY+Y5PVCGkZ5kekFRb/fz4p91lwxq7pihR/KWYITV2hnpTaYWFBNLKSvCOm1Yv0GHK7LnD2Fyd2PCDCOtZFpBsW4iCDFv7jyZOnWqiouZD48PedwCEMZdI1MKijXT9m3b5atJX+meunTavvjiixrVsxl5xt0k0wkKMTGIcuLEiVoNgTVizdS9R3ddP1lpkHE3yVSCokCV1nVq9L755hsNlTMjz5lXnnjwvmGkN5lKUOyswGbOH374oban9+rdS0Y+M1Jb2HH7DONu4xeCYm4DW544254kBS3s1OkxXIXqceY6MMgfN8+6Z417gV8IimGShL8Zz4UVSgyD+pcuXSqzZ8+W8H3h2ober38/nfBq4XHjXuLzgmI66779+2Tx4sU6eJ+gQ0IoeGU3wbH/HCurV63WvVo7dekkvXv11t4mw7iX+Lyg6Ig9fOiwRByI0Nl4bGeZENrPf/j+B1m+bLlu19i5a2ed8Eqzn2Hca3xeUFu3bNWkbHDDYN3L1gl7E9FjBh7byyxcsFAnvNJx26VLF+2gteStkRH4rKBw5Q4dPKSTiBAHW9hjgUC7bk9GabGrjv46fFiaNm2qE15t4pCRkfikoCgbYjuZhQsXars6c8IZbcysB35GSDxka4h8+eWXuiExA/lHjRqluSab1mpkJD4pKBKyRPTYc4mNzRJubkb1OLmm999/X6vH2UKGSUVN7rOCVyPj8UlBsU4KLBmowybr1aun/2bNhGVizcSm0QQj6jeor+sm8k3FihWzRkEjw/GLuXysmaKjo2XTxk0y5pMxsmrVKp2d99zzz0mnzp10m3zD8AV8PsoHJG7XrF4jf3jpD7JixQqdgde5S2e90cJuGL6CzwuKMiIsEz1NrJ8Yl4wrOHzEcA1WWHjc8CV8XlBsz0kQgp0BWVshJnbGIDxuBa+Gr+GzgiIIwQB+ZkEQiGANRaXEI488ottzGoYv4rOCOn36tFaOs3aKjIzUgtfRH47WOXpmmQxfxScFdfDgQZ2hR+J2z549Otl1wIABEhQUJIULF9bNoQ3DF/GpM9MZSMmEolkzZ8mypct0KGXbNm2la7euZpkMn8dnBIWYGELJNjNMKpr942xtCmSwSu++vXVTaJujZ/g6PpPYxTIxyP+zzz5Ty0RQom+/vrpxNDV6uHqG4ev4jIU6eOCgTJkyRRO3WCpq8/r16yd16tQxMRl+g08I6sTxE7Jm7RqZPn26RvfYZoaSIi14LWoFr4b/4BOC+u6772TC+Ak6O4Iavd59esvgwYNvNRMahr9wTwXF9CKsUUREhDYIkrilCoI5egQjmD3+29/+Vh5++GGP97k1DF/ingYljh09Jj/88IPW31WrXk1b1cd+OlaWL1+uEb0OHTvI70b9ThsGDcMfSZWFIvLGzYG2CoaoXL58+bb73aHTifbslrFjx+q4r3Vr12nRK7P0Ll68qI2CL7z4glaSG4a/kipB0eBH0MCBGeIrV6xUYTBIJTloCGSYCqOSAwIC5Ny5c9rijiB79uwpTzzxhIrJck2GP5Oiy3cm+ozs2btHFi9arMNQ8uTOI9VrVFeLEx4eruFuOmVpp2jeorl2zrqDkDibRa9ds1a7cFkjYdn4N9XjLR5oIRUqVHAdbRj+SYoW6ujRo7rRM1E4yoGo/ubf48eN1wQsP2eQyrmz51RkiWFQJULcsX2HhIWFaUUEAmXCK25i+Qrltfh1185dGrTg54bhr6QoqAMHDsiSn5fETx8qX07nO2zbtk2tU+UqlXUY/5tvvSnNmjeTwoXuTMCyzmLqK2um6NPRWtgacz1GShQvoYEJRih/9NFHKtAL5y+kuBYzDF8mRUGRF0IsJFvZ7HnI0CFSNKCoNG7SWIdKsu8SW2yWKVvm1tw8B8R06tQpdRdDw0J1szMmGD05/EkJbhSswmRYZYsWLXRHdioirAPX8GeSFRQWhcY+hICQGCaZP19+dePq168vdevW1UACAmMeXmIxHDt2TJsDacEAqh6YD7EvfJ/OKWcd1bt3b20abNasmeTMZbtkGP6NW0E5ld8hISE6SBIR9O3bV/LkzSOhoaFy7eo1DSYkF0Qg4MCx3377rUSeiJTcuXKr4Pbv36/PiXvXtm3bW5OLWEsZhr/jVlCxMbEaZJg0aZJMnjxZG/5w39asWSNLf1mqwggODpaKlSq6HnEnPGb9uvWyauUqOX78uAYvGPqPWHEXEdL7H7wvderWsT4nI9PgVlAno05qoerOHTv1+4BiAbItZJusX7tegxHAtjIIhF0v/vnpP3XKa0JYN9HThKXDReRGZcSwJ4fJs88+Kw+1e0jy5cun4jQ3z8gsuBWU466djj6tCdj94ftVYAcOHlBrkj1Hdpk7Z65MmDBBZs6cKTt27NB+JkBozB1fvXq1PodDjRo1pFv3bjJw4EBp2aqllC9vLp6R+XArKKq8ixcvrtvHIJR169ZplQObPrMLBhuZzZo1S0PduHXU3hUsUFCt0cmT8dZt+7btKi6sD5URFLw+88wz+vikkr+G4e+4rZRgvUQpEYJh3URuCEEQiWPDMyrF2WYGsWBp6tWvp4P62TFj5cqV8vZf3taKchK1RP/IVRHNY+1kVeRGZibZ0iNEQ+ibQELVKlWlVKlSmmuiIoL8EoLCMhEO59902477cpyunbBsTCvq0b2H9OzdU2rXrq2WyjAyM+nWvkFrxrRp03SvWyJ6FStWVKs24qkRKiyL5BlZAbdrqNSCBcPVo1GQfZ2I3PXq1UtGPD1C3UETk5FVSLOgCESQs2J7TirJAwMD5Y0335ABjw6QKlWquI4yjKxBmgVF1QRlROyHW7JUSa33YyglezZRsmQYWYk0C4qE7eUrl9UasZsgfVHknPIXMDfPyHqkOSjB+glRnYo6JTly5tBIns0eN7Iq6Rblo8dJssUnhQ0jq5JugjIMI53C5oZhgMj/A26h/Xm2RUzWAAAAAElFTkSuQmCC)\n",
        "\n"
      ],
      "metadata": {
        "id": "sj8WG7LZnDQL"
      }
    },
    {
      "cell_type": "markdown",
      "source": [
        "## Example_2\n",
        "\n",
        "Восстановим координаты  вектора в трехмерном пространстве с заданным модулем и двумя направляющими углами\n"
      ],
      "metadata": {
        "id": "Yu1kVkXfo_cd"
      }
    },
    {
      "cell_type": "code",
      "source": [
        "mod = 12\n",
        "alpha = 80\n",
        "beta = 70"
      ],
      "metadata": {
        "id": "NZIOVnmvmimB"
      },
      "execution_count": null,
      "outputs": []
    },
    {
      "cell_type": "code",
      "source": [
        "cos_alpha = np.cos(np.radians(alpha))\n",
        "cos_beta = np.cos(np.radians(beta))\n",
        "cos_gamma = (1 - cos_alpha**2 - cos_beta**2)**.5\n",
        "cos_alpha, cos_beta, cos_gamma"
      ],
      "metadata": {
        "colab": {
          "base_uri": "https://localhost:8080/"
        },
        "id": "hl2dLuqWmijd",
        "outputId": "bc44a854-f1d0-444b-9b54-942a4b621408"
      },
      "execution_count": null,
      "outputs": [
        {
          "output_type": "execute_result",
          "data": {
            "text/plain": [
              "(0.17364817766693041, 0.3420201433256688, 0.9235088153084643)"
            ]
          },
          "metadata": {},
          "execution_count": 72
        }
      ]
    },
    {
      "cell_type": "code",
      "source": [
        "x = mod*cos_alpha\n",
        "y = mod*cos_beta\n",
        "z = mod*cos_gamma\n",
        "vec = np.array([x, y, z])\n",
        "vec"
      ],
      "metadata": {
        "colab": {
          "base_uri": "https://localhost:8080/"
        },
        "id": "GLqZyd0Ymig0",
        "outputId": "d1e417be-56b5-4c70-a257-acd9fa1bef2a"
      },
      "execution_count": null,
      "outputs": [
        {
          "output_type": "execute_result",
          "data": {
            "text/plain": [
              "array([ 2.08377813,  4.10424172, 11.08210578])"
            ]
          },
          "metadata": {},
          "execution_count": 74
        }
      ]
    },
    {
      "cell_type": "code",
      "source": [
        "plot_vectors(np.array([vec]))"
      ],
      "metadata": {
        "id": "Dp8s2_S2miPK"
      },
      "execution_count": null,
      "outputs": []
    },
    {
      "cell_type": "code",
      "source": [],
      "metadata": {
        "id": "wM7G5fPxryn_"
      },
      "execution_count": null,
      "outputs": []
    },
    {
      "cell_type": "markdown",
      "source": [
        "# Task_2\n",
        "\n",
        "Даны два вектора $a$ и $b$ в виде модуля и угла в градусах по отношению оси OX в плоской системе координат XOY. Восстановите координаты данных векторов и найдите:\n",
        "* $\\overrightarrow{c} = \\overrightarrow{a} + \\overrightarrow{b}$ в координатах (В виде массива из двух значений)\n",
        "* $|\\overrightarrow{c}|$\n",
        "* Угол по отношению оси OX для полученного вектора  $\\overrightarrow{c}$"
      ],
      "metadata": {
        "id": "0_HWEWfxxNPf"
      }
    },
    {
      "cell_type": "code",
      "source": [
        "mod_a, mod_b = 12, 4\n",
        "angle_a, angle_b = 30, 60"
      ],
      "metadata": {
        "id": "04ZlES3Irylj"
      },
      "execution_count": null,
      "outputs": []
    },
    {
      "cell_type": "code",
      "source": [],
      "metadata": {
        "id": "du1Dy3uBryjG"
      },
      "execution_count": null,
      "outputs": []
    },
    {
      "cell_type": "markdown",
      "source": [
        "# Task_3\n",
        "\n",
        "Для вектора `vec` восстановите координаты в трехмерной системе отсчета если даны модуль и два направляющих угла в градусах. Провизуализируйте результат."
      ],
      "metadata": {
        "id": "dpPk6recyYc1"
      }
    },
    {
      "cell_type": "code",
      "source": [
        "mod = 20\n",
        "alpha = 20\n",
        "beta = 85"
      ],
      "metadata": {
        "id": "EQYmymxOrygs"
      },
      "execution_count": null,
      "outputs": []
    },
    {
      "cell_type": "code",
      "source": [],
      "metadata": {
        "id": "PaMBBndDyyH5"
      },
      "execution_count": null,
      "outputs": []
    },
    {
      "cell_type": "markdown",
      "source": [
        "# Task_4\n",
        "\n",
        "Дана матрица векторов. За вектор будем считать строку матрицы. Найдите вектор-сумму всех векторов. Провизуализируйте результат.\n"
      ],
      "metadata": {
        "id": "IZxTIvVGzSdY"
      }
    },
    {
      "cell_type": "code",
      "source": [
        "vectors = np.random.randn(6, 3)*10\n",
        "vectors"
      ],
      "metadata": {
        "colab": {
          "base_uri": "https://localhost:8080/"
        },
        "id": "BafY0nzCyyFe",
        "outputId": "781c0a86-e08f-4ae4-ed5f-05ec0b95892a"
      },
      "execution_count": null,
      "outputs": [
        {
          "output_type": "execute_result",
          "data": {
            "text/plain": [
              "array([[ -1.43136519,  -0.26960176, -20.49617598],\n",
              "       [  1.92574617,  -0.42508631, -19.53871588],\n",
              "       [ 12.89848188,  14.61139456,  -7.19312575],\n",
              "       [  7.81978177,  -7.49921574,  -0.04179398],\n",
              "       [  8.60575045,   9.07296977,  19.41427876],\n",
              "       [  6.91804437,   7.42662059,  -5.88064594]])"
            ]
          },
          "metadata": {},
          "execution_count": 5
        }
      ]
    },
    {
      "cell_type": "code",
      "source": [
        "res_vec = ..."
      ],
      "metadata": {
        "id": "yerpgce5ryeO"
      },
      "execution_count": null,
      "outputs": []
    },
    {
      "cell_type": "code",
      "source": [
        "plot_vectors(vectors)"
      ],
      "metadata": {
        "id": "fw34VFPb0Gmk"
      },
      "execution_count": null,
      "outputs": []
    },
    {
      "cell_type": "code",
      "source": [],
      "metadata": {
        "id": "97vsHk340Gjx"
      },
      "execution_count": null,
      "outputs": []
    },
    {
      "cell_type": "markdown",
      "source": [
        "# Task_5\n",
        "\n",
        "Дано векторное выражение:\n",
        "\n",
        "$$\\overrightarrow{c} = 2\\overrightarrow{a} + 3\\overrightarrow{b}$$\n",
        "\n",
        "Все вектора даны в координатах. Найдите координаты вектора $\\overrightarrow{a}$, если известны остальные."
      ],
      "metadata": {
        "id": "LRFuuXRj1xbQ"
      }
    },
    {
      "cell_type": "code",
      "source": [
        "b = [1, -4, 2]\n",
        "c = [3, 2, -1]"
      ],
      "metadata": {
        "id": "knaDPZfh1qkX"
      },
      "execution_count": null,
      "outputs": []
    },
    {
      "cell_type": "code",
      "source": [],
      "metadata": {
        "id": "_vAzrA8M1qh9"
      },
      "execution_count": null,
      "outputs": []
    },
    {
      "cell_type": "code",
      "source": [],
      "metadata": {
        "id": "GbxzgnhL29EG"
      },
      "execution_count": null,
      "outputs": []
    },
    {
      "cell_type": "markdown",
      "source": [
        "# Task_6\n",
        "\n",
        "Найдите скалярное произведение векторов $<\\overrightarrow{a}, \\overrightarrow{b}>$"
      ],
      "metadata": {
        "id": "UXKrC7md2-lP"
      }
    },
    {
      "cell_type": "code",
      "source": [
        "b = [1, -4, 2]\n",
        "c = [3, 2, -1]"
      ],
      "metadata": {
        "id": "0agvofUD29yW"
      },
      "execution_count": null,
      "outputs": []
    },
    {
      "cell_type": "code",
      "source": [],
      "metadata": {
        "id": "mUZV8Spb29wJ"
      },
      "execution_count": null,
      "outputs": []
    },
    {
      "cell_type": "code",
      "source": [],
      "metadata": {
        "id": "0cwzNz4w29t6"
      },
      "execution_count": null,
      "outputs": []
    },
    {
      "cell_type": "markdown",
      "source": [
        "# Task_7\n",
        "\n",
        "Для данных векторов вычислите угол между ними."
      ],
      "metadata": {
        "id": "vuCUS_Hr3Qc3"
      }
    },
    {
      "cell_type": "code",
      "source": [
        "a = [1, -4, 2]\n",
        "b = [3, 2, -1]"
      ],
      "metadata": {
        "id": "Bt4Tdi_V29rf"
      },
      "execution_count": null,
      "outputs": []
    },
    {
      "cell_type": "code",
      "source": [],
      "metadata": {
        "id": "uAwuVSIM29pG"
      },
      "execution_count": null,
      "outputs": []
    },
    {
      "cell_type": "markdown",
      "source": [
        "# Task_8\n",
        "\n",
        "Даны координаты вершины треугольника ABC. Расчитайте угол при вершине В.\n",
        "\n",
        "A(2, 1, 7)\n",
        "\n",
        "B(-1, 1, 3)\n",
        "\n",
        "C(-8, 1, 2)"
      ],
      "metadata": {
        "id": "C6yxp6IA3xW4"
      }
    },
    {
      "cell_type": "code",
      "source": [],
      "metadata": {
        "id": "wUQCgkiZ3Zt4"
      },
      "execution_count": null,
      "outputs": []
    },
    {
      "cell_type": "code",
      "source": [],
      "metadata": {
        "id": "5z-QBocH3Zrq"
      },
      "execution_count": null,
      "outputs": []
    },
    {
      "cell_type": "markdown",
      "source": [
        "# Task_9**\n",
        "\n",
        "Решите задачу итеративно (методом перебора).\n",
        "\n",
        "Найдите целые значения чисел, при которых вектора перпендикулярны (косинус угла между ними равен нулю)\n",
        "\n",
        "a = [1, m, 3]\n",
        "\n",
        "b = [3, 6, n]"
      ],
      "metadata": {
        "id": "ry2A25Cj3_bH"
      }
    },
    {
      "cell_type": "code",
      "source": [],
      "metadata": {
        "id": "zuiAT23j3ZpJ"
      },
      "execution_count": null,
      "outputs": []
    },
    {
      "cell_type": "code",
      "source": [],
      "metadata": {
        "id": "VdtxaoJt3ZnN"
      },
      "execution_count": null,
      "outputs": []
    },
    {
      "cell_type": "markdown",
      "source": [
        "# Task_10\n",
        "\n",
        "Охотник бродит по лесу в поисках зверя. Сначала он прошел 5 км на север, затем повернул на запад и прошел еще 4 км. Вдруг он слышит лай собак и устремляется к ним. Он побежал на северо-восток и пробежал 3 км. Найдите координаты охотника в момент, когда он нашел собак.\n",
        "\n",
        "Мы должны создать координатную сетку в км, где ось OY будет направлена на север а ось OX на восток и начало координат будет соответствовать точке начала движения охотника. Каждый этап перемещения охотника можно представить как отдельный вектор. (Вектор перемещения). Если мы просуммируем данные вектора, то получим вектор, соединяющий начало координат с конечной точкой."
      ],
      "metadata": {
        "id": "tULlE80a4k8P"
      }
    },
    {
      "cell_type": "code",
      "source": [],
      "metadata": {
        "id": "KooDLAn74Sqp"
      },
      "execution_count": null,
      "outputs": []
    },
    {
      "cell_type": "code",
      "source": [],
      "metadata": {
        "id": "zrmr4XX_4SoH"
      },
      "execution_count": null,
      "outputs": []
    },
    {
      "cell_type": "markdown",
      "source": [
        "# Task_11\n",
        "\n",
        "Снаряд летит со скоростью около 800 метров в секунду. Затем снаряд разрывается на две части. Малая часть имеет массу 20% начальной и она устремляется строго вверх со скоростью 1000 метров в секунду.\n",
        "* Рассчитайте вектор скорости для второй половины.\n",
        "* Вычислите модуль скорости второй половины\n",
        "* На сколько градусов отклонился вектор скорости второй половины от вектора начальной скорости.\n",
        "\n",
        "Начальная скорость дана в векторном представлении.\n",
        "\n",
        "Для решения задачи нам понадобится закон сохранения импульса в векторной форме. Для данной задачи он примет вид:\n",
        "\n",
        "$$m\\overrightarrow{\\upsilon_0} = 0.2m\\overrightarrow{\\upsilon_1} + 0.8m\\overrightarrow{\\upsilon_2}$$\n",
        "\n",
        "Для упрощения, массу можно сократить в уравнении."
      ],
      "metadata": {
        "id": "MA4TXmdy6DIp"
      }
    },
    {
      "cell_type": "code",
      "source": [
        "v_0 = [600, 500, 200]"
      ],
      "metadata": {
        "id": "letM8yjs6C_K"
      },
      "execution_count": null,
      "outputs": []
    },
    {
      "cell_type": "code",
      "source": [],
      "metadata": {
        "id": "lLUL7J294Slm"
      },
      "execution_count": null,
      "outputs": []
    },
    {
      "cell_type": "code",
      "source": [],
      "metadata": {
        "id": "EZYbeSLf3ZiE"
      },
      "execution_count": null,
      "outputs": []
    },
    {
      "cell_type": "code",
      "source": [],
      "metadata": {
        "id": "RG2-sgfX9AdZ"
      },
      "execution_count": null,
      "outputs": []
    }
  ]
}