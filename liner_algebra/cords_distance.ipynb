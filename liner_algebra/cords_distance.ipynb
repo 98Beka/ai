{
  "nbformat": 4,
  "nbformat_minor": 0,
  "metadata": {
    "colab": {
      "provenance": []
    },
    "kernelspec": {
      "name": "python3",
      "display_name": "Python 3"
    },
    "language_info": {
      "name": "python"
    }
  },
  "cells": [
    {
      "cell_type": "code",
      "execution_count": null,
      "metadata": {
        "id": "zKRADa4ZLdtN"
      },
      "outputs": [],
      "source": [
        "import numpy as np"
      ]
    },
    {
      "cell_type": "markdown",
      "source": [
        "Нам даны координаты некоторых объектов недвижимости в Кыргызстане. lat - широта, lon - долгота. не смотря на то, что поверхность Земли не плоская (Надеюсь, вы не \"Плоскоземельщик\"), тем не менее эти координаты можно использовать как Декартовы, где х - это долгота(lon), а y - широта(lat), хотя, если вы сделаете наоборот, катастрофы не будет. Только стоит помнить, что эти координаты в градусах, а для нахождения расстояния в киломметрах, необходимо их преобразовать в киломметры. С помощью яндекс карт я выяснил, что один градус северной широты (lat) составляет 111 км, а один градус восточной долготы (lon) - 81.8 км. Если вы умножите эти числа на соответствующие массивы с координатами, то получите декартовы координаты в киломметрах (разумеется приблизительно). (Геодезисты, закройте глаза)"
      ],
      "metadata": {
        "id": "h9bbkLP2NUfo"
      }
    },
    {
      "cell_type": "code",
      "source": [
        "lat = np.array([42.875233, 42.48900678, 40.94091853, 41.42704253, 40.52195253,\n",
        "       42.52644536, 40.06041693, 42.86550045, 42.86820651,\n",
        "       42.87259125, 42.87251225, 42.87291384, 42.8710112 , 42.86463791,\n",
        "       42.86667243, 42.86750202, 42.86731767, 42.86482886, 42.87440168,\n",
        "       42.8725715 , 42.86951011, 42.86793657, 42.86765346, 42.86740326,\n",
        "       42.87419102, 42.87457943, 42.87090586, 42.87475718,\n",
        "       42.87779198, 42.87164323, 42.87934552, 42.8776669 , 42.881215  ,\n",
        "       42.88098461, 42.87916121, 42.8792007 , 42.87892423, 42.88264339,\n",
        "       42.88257099, 42.85808617, 42.86351198, 42.86413092, 42.86025918,\n",
        "       42.86015383, 42.86353174, 42.86122714, 42.85883027, 42.8587315 ,\n",
        "       42.85426015, 42.85983776, 42.85772399, 42.85524796, 42.86362392])"
      ],
      "metadata": {
        "id": "PwztqRGdLjlU"
      },
      "execution_count": null,
      "outputs": []
    },
    {
      "cell_type": "code",
      "source": [
        "lon = np.array([74.589599, 78.40812381, 72.99159044, 75.98337747, 72.80529835,\n",
        "       72.23905532, 70.81920149, 74.50388015, 74.5042754 ,\n",
        "       74.50460778, 74.50681764, 74.50141876, 74.50749137, 74.51992406,\n",
        "       74.51060853, 74.51373466, 74.51223448, 74.51501926, 74.53428812,\n",
        "       74.53731544, 74.53048824, 74.53051519, 74.53228488, 74.53813291,\n",
        "       74.54657707, 74.55091593, 74.55102373, 74.55466191,\n",
        "       74.57091243, 74.57179278, 74.57309534, 74.56961886, 74.58286901,\n",
        "       74.58290494, 74.57959016, 74.58033576, 74.5806322 , 74.58031779,\n",
        "       74.58002135, 74.57985965, 74.53038943, 74.52579904, 74.53394676,\n",
        "       74.53370421, 74.53374913, 74.53391981, 74.53513253, 74.54400789,\n",
        "       74.53966903, 74.54739454, 74.55141001, 74.54775386, 74.55045779])"
      ],
      "metadata": {
        "id": "q1WiY8vWLjjL"
      },
      "execution_count": null,
      "outputs": []
    },
    {
      "cell_type": "markdown",
      "source": [
        "В качестве точки отсчета возмем ТЦ Бишкек-Парк. Его координаты представлены ниже."
      ],
      "metadata": {
        "id": "1pPAsUESOX8s"
      }
    },
    {
      "cell_type": "code",
      "source": [
        "bish = [42.87509367564135, 74.59040492208517]"
      ],
      "metadata": {
        "id": "PdO-egpYLjgr"
      },
      "execution_count": null,
      "outputs": []
    },
    {
      "cell_type": "markdown",
      "source": [
        "Расчитайте расстояния от каждого объекта до ТЦ БишПарк и сохраните в отдельном массиве. Не используйте циклы!!!\n",
        "\n",
        "Не забывайте, что у вас есть формула расчета длины вектора по двум координатам)\n"
      ],
      "metadata": {
        "id": "kY_GXvZiParF"
      }
    },
    {
      "cell_type": "code",
      "source": [
        "lat_km =..."
      ],
      "metadata": {
        "id": "s8nCMuFsLjeJ"
      },
      "execution_count": null,
      "outputs": []
    },
    {
      "cell_type": "code",
      "source": [],
      "metadata": {
        "id": "1G67BQkSLjZe"
      },
      "execution_count": null,
      "outputs": []
    },
    {
      "cell_type": "code",
      "source": [],
      "metadata": {
        "id": "ZqyPZNVVZZiF"
      },
      "execution_count": null,
      "outputs": []
    },
    {
      "cell_type": "code",
      "source": [
        "distans = ...\n",
        "distans"
      ],
      "metadata": {
        "id": "VwxhnymiZZd-",
        "colab": {
          "base_uri": "https://localhost:8080/"
        },
        "outputId": "ffa3cd5a-8711-4dbb-f1d8-d875b298fc60"
      },
      "execution_count": null,
      "outputs": [
        {
          "output_type": "execute_result",
          "data": {
            "text/plain": [
              "array([6.77140780e-02, 3.15216241e+02, 2.51391076e+02, 1.97024905e+02,\n",
              "       2.99244191e+02, 1.96195096e+02, 4.39061049e+02, 7.15738163e+00,\n",
              "       7.08674904e+00, 7.02370090e+00, 6.84344105e+00, 7.28308844e+00,\n",
              "       6.79745026e+00, 5.88099067e+00, 6.59393692e+00, 6.32798624e+00,\n",
              "       6.45233419e+00, 6.27092687e+00, 4.59099702e+00, 4.35173440e+00,\n",
              "       4.94021583e+00, 4.96297680e+00, 4.82541747e+00, 4.36022854e+00,\n",
              "       3.58651812e+00, 3.23070386e+00, 3.25474762e+00, 2.92401696e+00,\n",
              "       1.62237247e+00, 1.56990869e+00, 1.49250846e+00, 1.72412383e+00,\n",
              "       9.17426147e-01, 8.96636739e-01, 9.93201988e-01, 9.41402100e-01,\n",
              "       9.05451300e-01, 1.17605693e+00, 1.18756468e+00, 2.07557180e+00,\n",
              "       5.07479956e+00, 5.42304924e+00, 4.90304759e+00, 4.92566499e+00,\n",
              "       4.80885852e+00, 4.87010753e+00, 4.86835417e+00, 4.20745970e+00,\n",
              "       4.75098743e+00, 3.90457473e+00, 3.72720272e+00, 4.12610932e+00,\n",
              "       3.50693532e+00])"
            ]
          },
          "metadata": {},
          "execution_count": 22
        }
      ]
    },
    {
      "cell_type": "code",
      "source": [
        "import seaborn as sns"
      ],
      "metadata": {
        "id": "FE1xdmDQZZbo"
      },
      "execution_count": null,
      "outputs": []
    },
    {
      "cell_type": "code",
      "source": [
        "\n",
        "sns.scatterplot(x = lon-bish[1], y = lat-bish[0])"
      ],
      "metadata": {
        "colab": {
          "base_uri": "https://localhost:8080/",
          "height": 447
        },
        "id": "udei5FZb0DKf",
        "outputId": "ba2ee90a-d1c7-43a3-ee0c-0bf316a6d286"
      },
      "execution_count": null,
      "outputs": [
        {
          "output_type": "execute_result",
          "data": {
            "text/plain": [
              "<Axes: >"
            ]
          },
          "metadata": {},
          "execution_count": 9
        },
        {
          "output_type": "display_data",
          "data": {
            "text/plain": [
              "<Figure size 640x480 with 1 Axes>"
            ],
            "image/png": "[encoded data removed]"
          },
          "metadata": {}
        }
      ]
    },
    {
      "cell_type": "markdown",
      "source": [
        "Почистим аутлаеры"
      ],
      "metadata": {
        "id": "DUuotzROmbdh"
      }
    },
    {
      "cell_type": "code",
      "source": [
        "sns.distplot(distans[distans<10], kde=True, bins=10)"
      ],
      "metadata": {
        "colab": {
          "base_uri": "https://localhost:8080/",
          "height": 480
        },
        "id": "Q-7We87M7Kou",
        "outputId": "82ab73bc-1fd6-460d-cf3d-57defb715ec1"
      },
      "execution_count": null,
      "outputs": [
        {
          "output_type": "stream",
          "name": "stderr",
          "text": [
            "<ipython-input-35-b765e7d41ee1>:1: UserWarning: \n",
            "\n",
            "`distplot` is a deprecated function and will be removed in seaborn v0.14.0.\n",
            "\n",
            "Please adapt your code to use either `displot` (a figure-level function with\n",
            "similar flexibility) or `histplot` (an axes-level function for histograms).\n",
            "\n",
            "For a guide to updating your code to use the new functions, please see\n",
            "https://gist.github.com/mwaskom/de44147ed2974457ad6372750bbe5751\n",
            "\n",
            "  sns.distplot(distans[distans<10], kde=True, bins=10)\n"
          ]
        },
        {
          "output_type": "execute_result",
          "data": {
            "text/plain": [
              "<Axes: ylabel='Density'>"
            ]
          },
          "metadata": {},
          "execution_count": 35
        },
        {
          "output_type": "display_data",
          "data": {
            "text/plain": [
              "<Figure size 432x288 with 1 Axes>"
            ],
            "image/png": "[encoded data removed]"
          },
          "metadata": {
            "needs_background": "light"
          }
        }
      ]
    },
    {
      "cell_type": "code",
      "source": [
        "sns.boxplot(distans[distans<10])"
      ],
      "metadata": {
        "colab": {
          "base_uri": "https://localhost:8080/",
          "height": 283
        },
        "id": "zKl-6GAI7KmA",
        "outputId": "d0e220bc-cba9-4888-8966-5167c5791dd4"
      },
      "execution_count": null,
      "outputs": [
        {
          "output_type": "execute_result",
          "data": {
            "text/plain": [
              "<Axes: >"
            ]
          },
          "metadata": {},
          "execution_count": 33
        },
        {
          "output_type": "display_data",
          "data": {
            "text/plain": [
              "<Figure size 432x288 with 1 Axes>"
            ],
            "image/png": "[encoded data removed]"
          },
          "metadata": {
            "needs_background": "light"
          }
        }
      ]
    },
    {
      "cell_type": "code",
      "source": [
        "import pandas as pd\n",
        "pd.Series(distans[distans<10]).describe()"
      ],
      "metadata": {
        "colab": {
          "base_uri": "https://localhost:8080/"
        },
        "id": "m6HPLy6-7Khy",
        "outputId": "c3bafb1f-6c74-4c09-d664-5767a5302274"
      },
      "execution_count": null,
      "outputs": [
        {
          "output_type": "execute_result",
          "data": {
            "text/plain": [
              "count    47.000000\n",
              "mean      4.030056\n",
              "std       2.089646\n",
              "min       0.067714\n",
              "25%       1.899848\n",
              "50%       4.360229\n",
              "75%       5.248924\n",
              "max       7.283088\n",
              "dtype: float64"
            ]
          },
          "metadata": {},
          "execution_count": 32
        }
      ]
    },
    {
      "cell_type": "code",
      "source": [],
      "metadata": {
        "id": "rfSvg-I6LjW-"
      },
      "execution_count": null,
      "outputs": []
    },
    {
      "cell_type": "markdown",
      "source": [
        "\n",
        "Найдем направления в градусах для каждого обекта от БП. $0$ градусов - направление на север!"
      ],
      "metadata": {
        "id": "Pd4LczV_mkC9"
      }
    },
    {
      "cell_type": "code",
      "source": [],
      "metadata": {
        "id": "yz7jkTXymigj"
      },
      "execution_count": null,
      "outputs": []
    },
    {
      "cell_type": "code",
      "source": [],
      "metadata": {
        "id": "VAt0R9RgmidU"
      },
      "execution_count": null,
      "outputs": []
    },
    {
      "cell_type": "code",
      "source": [],
      "metadata": {
        "id": "lAwz8Et7miYu"
      },
      "execution_count": null,
      "outputs": []
    },
    {
      "cell_type": "code",
      "source": [],
      "metadata": {
        "id": "gKHgWWz2miWV"
      },
      "execution_count": null,
      "outputs": []
    }
  ]
}