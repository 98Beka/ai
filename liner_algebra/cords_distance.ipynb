{
  "cells": [
    {
      "cell_type": "code",
      "execution_count": 2,
      "metadata": {
        "id": "zKRADa4ZLdtN"
      },
      "outputs": [],
      "source": [
        "import numpy as np"
      ]
    },
    {
      "cell_type": "markdown",
      "metadata": {
        "id": "h9bbkLP2NUfo"
      },
      "source": [
        "Нам даны координаты некоторых объектов недвижимости в Кыргызстане. lat - широта, lon - долгота. не смотря на то, что поверхность Земли не плоская (Надеюсь, вы не \"Плоскоземельщик\"), тем не менее эти координаты можно использовать как Декартовы, где х - это долгота(lon), а y - широта(lat), хотя, если вы сделаете наоборот, катастрофы не будет. Только стоит помнить, что эти координаты в градусах, а для нахождения расстояния в киломметрах, необходимо их преобразовать в киломметры. С помощью яндекс карт я выяснил, что один градус северной широты (lat) составляет 111 км, а один градус восточной долготы (lon) - 81.8 км. Если вы умножите эти числа на соответствующие массивы с координатами, то получите декартовы координаты в киломметрах (разумеется приблизительно). (Геодезисты, закройте глаза)"
      ]
    },
    {
      "cell_type": "code",
      "execution_count": 7,
      "metadata": {
        "id": "PwztqRGdLjlU"
      },
      "outputs": [],
      "source": [
        "lat = np.array([42.875233, 42.48900678, 40.94091853, 41.42704253, 40.52195253,\n",
        "       42.52644536, 40.06041693, 42.86550045, 42.86820651,\n",
        "       42.87259125, 42.87251225, 42.87291384, 42.8710112 , 42.86463791,\n",
        "       42.86667243, 42.86750202, 42.86731767, 42.86482886, 42.87440168,\n",
        "       42.8725715 , 42.86951011, 42.86793657, 42.86765346, 42.86740326,\n",
        "       42.87419102, 42.87457943, 42.87090586, 42.87475718,\n",
        "       42.87779198, 42.87164323, 42.87934552, 42.8776669 , 42.881215  ,\n",
        "       42.88098461, 42.87916121, 42.8792007 , 42.87892423, 42.88264339,\n",
        "       42.88257099, 42.85808617, 42.86351198, 42.86413092, 42.86025918,\n",
        "       42.86015383, 42.86353174, 42.86122714, 42.85883027, 42.8587315 ,\n",
        "       42.85426015, 42.85983776, 42.85772399, 42.85524796, 42.86362392])"
      ]
    },
    {
      "cell_type": "code",
      "execution_count": 8,
      "metadata": {
        "id": "q1WiY8vWLjjL"
      },
      "outputs": [],
      "source": [
        "lon = np.array([74.589599, 78.40812381, 72.99159044, 75.98337747, 72.80529835,\n",
        "       72.23905532, 70.81920149, 74.50388015, 74.5042754 ,\n",
        "       74.50460778, 74.50681764, 74.50141876, 74.50749137, 74.51992406,\n",
        "       74.51060853, 74.51373466, 74.51223448, 74.51501926, 74.53428812,\n",
        "       74.53731544, 74.53048824, 74.53051519, 74.53228488, 74.53813291,\n",
        "       74.54657707, 74.55091593, 74.55102373, 74.55466191,\n",
        "       74.57091243, 74.57179278, 74.57309534, 74.56961886, 74.58286901,\n",
        "       74.58290494, 74.57959016, 74.58033576, 74.5806322 , 74.58031779,\n",
        "       74.58002135, 74.57985965, 74.53038943, 74.52579904, 74.53394676,\n",
        "       74.53370421, 74.53374913, 74.53391981, 74.53513253, 74.54400789,\n",
        "       74.53966903, 74.54739454, 74.55141001, 74.54775386, 74.55045779])"
      ]
    },
    {
      "cell_type": "markdown",
      "metadata": {
        "id": "1pPAsUESOX8s"
      },
      "source": [
        "В качестве точки отсчета возмем ТЦ Бишкек-Парк. Его координаты представлены ниже."
      ]
    },
    {
      "cell_type": "code",
      "execution_count": 9,
      "metadata": {
        "id": "PdO-egpYLjgr"
      },
      "outputs": [],
      "source": [
        "bish = [42.87509367564135, 74.59040492208517]"
      ]
    },
    {
      "cell_type": "markdown",
      "metadata": {
        "id": "kY_GXvZiParF"
      },
      "source": [
        "Расчитайте расстояния от каждого объекта до ТЦ БишПарк и сохраните в отдельном массиве. Не используйте циклы!!!\n",
        "\n",
        "Не забывайте, что у вас есть формула расчета длины вектора по двум координатам)\n"
      ]
    },
    {
      "cell_type": "code",
      "execution_count": 22,
      "metadata": {
        "id": "s8nCMuFsLjeJ"
      },
      "outputs": [
        {
          "data": {
            "text/plain": [
              "array([6.77140780e-02, 3.15216241e+02, 2.51391076e+02, 1.97024905e+02,\n",
              "       2.99244191e+02, 1.96195096e+02, 4.39061049e+02, 7.15738163e+00,\n",
              "       7.08674904e+00, 7.02370090e+00, 6.84344105e+00, 7.28308844e+00,\n",
              "       6.79745026e+00, 5.88099067e+00, 6.59393692e+00, 6.32798624e+00,\n",
              "       6.45233419e+00, 6.27092687e+00, 4.59099702e+00, 4.35173440e+00,\n",
              "       4.94021583e+00, 4.96297680e+00, 4.82541747e+00, 4.36022854e+00,\n",
              "       3.58651812e+00, 3.23070386e+00, 3.25474762e+00, 2.92401696e+00,\n",
              "       1.62237247e+00, 1.56990869e+00, 1.49250846e+00, 1.72412383e+00,\n",
              "       9.17426147e-01, 8.96636739e-01, 9.93201988e-01, 9.41402100e-01,\n",
              "       9.05451300e-01, 1.17605693e+00, 1.18756468e+00, 2.07557180e+00,\n",
              "       5.07479956e+00, 5.42304924e+00, 4.90304759e+00, 4.92566499e+00,\n",
              "       4.80885852e+00, 4.87010753e+00, 4.86835417e+00, 4.20745970e+00,\n",
              "       4.75098743e+00, 3.90457473e+00, 3.72720272e+00, 4.12610932e+00,\n",
              "       3.50693532e+00])"
            ]
          },
          "execution_count": 22,
          "metadata": {},
          "output_type": "execute_result"
        }
      ],
      "source": [
        "d_lat_km = (lat - bish[0]) * 111\n",
        "d_lon_km = (lon - bish[1]) * 81.8\n",
        "distans = np.sqrt(d_lat_km**2 + d_lon_km**2)\n",
        "distans"
      ]
    },
    {
      "cell_type": "code",
      "execution_count": null,
      "metadata": {
        "id": "1G67BQkSLjZe"
      },
      "outputs": [],
      "source": []
    },
    {
      "cell_type": "code",
      "execution_count": null,
      "metadata": {
        "id": "ZqyPZNVVZZiF"
      },
      "outputs": [],
      "source": []
    },
    {
      "cell_type": "code",
      "execution_count": null,
      "metadata": {
        "colab": {
          "base_uri": "https://localhost:8080/"
        },
        "id": "VwxhnymiZZd-",
        "outputId": "ffa3cd5a-8711-4dbb-f1d8-d875b298fc60"
      },
      "outputs": [
        {
          "data": {
            "text/plain": [
              "array([6.77140780e-02, 3.15216241e+02, 2.51391076e+02, 1.97024905e+02,\n",
              "       2.99244191e+02, 1.96195096e+02, 4.39061049e+02, 7.15738163e+00,\n",
              "       7.08674904e+00, 7.02370090e+00, 6.84344105e+00, 7.28308844e+00,\n",
              "       6.79745026e+00, 5.88099067e+00, 6.59393692e+00, 6.32798624e+00,\n",
              "       6.45233419e+00, 6.27092687e+00, 4.59099702e+00, 4.35173440e+00,\n",
              "       4.94021583e+00, 4.96297680e+00, 4.82541747e+00, 4.36022854e+00,\n",
              "       3.58651812e+00, 3.23070386e+00, 3.25474762e+00, 2.92401696e+00,\n",
              "       1.62237247e+00, 1.56990869e+00, 1.49250846e+00, 1.72412383e+00,\n",
              "       9.17426147e-01, 8.96636739e-01, 9.93201988e-01, 9.41402100e-01,\n",
              "       9.05451300e-01, 1.17605693e+00, 1.18756468e+00, 2.07557180e+00,\n",
              "       5.07479956e+00, 5.42304924e+00, 4.90304759e+00, 4.92566499e+00,\n",
              "       4.80885852e+00, 4.87010753e+00, 4.86835417e+00, 4.20745970e+00,\n",
              "       4.75098743e+00, 3.90457473e+00, 3.72720272e+00, 4.12610932e+00,\n",
              "       3.50693532e+00])"
            ]
          },
          "execution_count": 22,
          "metadata": {},
          "output_type": "execute_result"
        }
      ],
      "source": [
        "distans = ...\n",
        "distans"
      ]
    },
    {
      "cell_type": "code",
      "execution_count": 17,
      "metadata": {
        "id": "FE1xdmDQZZbo"
      },
      "outputs": [],
      "source": [
        "import seaborn as sns"
      ]
    },
    {
      "cell_type": "code",
      "execution_count": 20,
      "metadata": {
        "colab": {
          "base_uri": "https://localhost:8080/",
          "height": 447
        },
        "id": "udei5FZb0DKf",
        "outputId": "ba2ee90a-d1c7-43a3-ee0c-0bf316a6d286"
      },
      "outputs": [
        {
          "data": {
            "text/plain": [
              "<Axes: >"
            ]
          },
          "execution_count": 20,
          "metadata": {},
          "output_type": "execute_result"
        },
        {
          "data": {
            "image/png": "[encoded data removed]",
            "text/plain": [
              "<Figure size 640x480 with 1 Axes>"
            ]
          },
          "metadata": {},
          "output_type": "display_data"
        }
      ],
      "source": [
        "\n",
        "sns.scatterplot(x = lon-bish[1], y = lat-bish[0])"
      ]
    },
    {
      "cell_type": "markdown",
      "metadata": {
        "id": "DUuotzROmbdh"
      },
      "source": [
        "Почистим аутлаеры"
      ]
    },
    {
      "cell_type": "code",
      "execution_count": 23,
      "metadata": {
        "colab": {
          "base_uri": "https://localhost:8080/",
          "height": 480
        },
        "id": "Q-7We87M7Kou",
        "outputId": "82ab73bc-1fd6-460d-cf3d-57defb715ec1"
      },
      "outputs": [
        {
          "name": "stderr",
          "output_type": "stream",
          "text": [
            "C:\\Users\\Айпери\\AppData\\Local\\Temp\\ipykernel_13320\\2401170077.py:1: UserWarning: \n",
            "\n",
            "`distplot` is a deprecated function and will be removed in seaborn v0.14.0.\n",
            "\n",
            "Please adapt your code to use either `displot` (a figure-level function with\n",
            "similar flexibility) or `histplot` (an axes-level function for histograms).\n",
            "\n",
            "For a guide to updating your code to use the new functions, please see\n",
            "https://gist.github.com/mwaskom/de44147ed2974457ad6372750bbe5751\n",
            "\n",
            "  sns.distplot(distans[distans<10], kde=True, bins=10)\n"
          ]
        },
        {
          "data": {
            "text/plain": [
              "<Axes: ylabel='Density'>"
            ]
          },
          "execution_count": 23,
          "metadata": {},
          "output_type": "execute_result"
        },
        {
          "data": {
            "image/png": "[encoded data removed]",
            "text/plain": [
              "<Figure size 640x480 with 1 Axes>"
            ]
          },
          "metadata": {},
          "output_type": "display_data"
        }
      ],
      "source": [
        "sns.distplot(distans[distans<10], kde=True, bins=10)"
      ]
    },
    {
      "cell_type": "code",
      "execution_count": 24,
      "metadata": {
        "colab": {
          "base_uri": "https://localhost:8080/",
          "height": 283
        },
        "id": "zKl-6GAI7KmA",
        "outputId": "d0e220bc-cba9-4888-8966-5167c5791dd4"
      },
      "outputs": [
        {
          "data": {
            "text/plain": [
              "<Axes: >"
            ]
          },
          "execution_count": 24,
          "metadata": {},
          "output_type": "execute_result"
        },
        {
          "data": {
            "image/png": "[encoded data removed]",
            "text/plain": [
              "<Figure size 640x480 with 1 Axes>"
            ]
          },
          "metadata": {},
          "output_type": "display_data"
        }
      ],
      "source": [
        "sns.boxplot(distans[distans<10])"
      ]
    },
    {
      "cell_type": "code",
      "execution_count": 25,
      "metadata": {
        "colab": {
          "base_uri": "https://localhost:8080/"
        },
        "id": "m6HPLy6-7Khy",
        "outputId": "c3bafb1f-6c74-4c09-d664-5767a5302274"
      },
      "outputs": [
        {
          "data": {
            "text/plain": [
              "count    47.000000\n",
              "mean      4.030056\n",
              "std       2.089646\n",
              "min       0.067714\n",
              "25%       1.899848\n",
              "50%       4.360229\n",
              "75%       5.248924\n",
              "max       7.283088\n",
              "dtype: float64"
            ]
          },
          "execution_count": 25,
          "metadata": {},
          "output_type": "execute_result"
        }
      ],
      "source": [
        "import pandas as pd\n",
        "pd.Series(distans[distans<10]).describe()"
      ]
    },
    {
      "cell_type": "code",
      "execution_count": null,
      "metadata": {
        "id": "rfSvg-I6LjW-"
      },
      "outputs": [],
      "source": []
    },
    {
      "cell_type": "markdown",
      "metadata": {
        "id": "Pd4LczV_mkC9"
      },
      "source": [
        "\n",
        "Найдем направления в градусах для каждого обекта от БП. $0$ градусов - направление на север!"
      ]
    },
    {
      "cell_type": "code",
      "execution_count": 31,
      "metadata": {
        "id": "yz7jkTXymigj"
      },
      "outputs": [
        {
          "data": {
            "text/plain": [
              "array([60.10905746, 61.54693689, 60.71197163, 61.4002556 , 60.90057482,\n",
              "       59.51508242, 60.50438797, 60.08620706, 60.08477498, 60.08235224,\n",
              "       60.08313252, 60.08110567, 60.08422367, 60.09203782, 60.08776645,\n",
              "       60.08832621, 60.0879341 , 60.09029751, 60.0911706 , 60.09323349,\n",
              "       60.09273354, 60.09365145, 60.09440296, 60.0964903 , 60.09537477,\n",
              "       60.09659162, 60.09874907, 60.09773311, 60.10137687, 60.10521974,\n",
              "       60.10120458, 60.1010196 , 60.10336984, 60.10351479, 60.1034672 ,\n",
              "       60.10369191, 60.10394995, 60.10169823, 60.10164162, 60.1157266 ,\n",
              "       60.09616562, 60.0942829 , 60.09922652, 60.09920681, 60.09727037,\n",
              "       60.09865839, 60.1004459 , 60.10345095, 60.10459292, 60.10393667,\n",
              "       60.10649117, 60.10670733, 60.10276701])"
            ]
          },
          "execution_count": 31,
          "metadata": {},
          "output_type": "execute_result"
        }
      ],
      "source": [
        "theta_degrees  = np.degrees(np.arctan(lon/lat))\n",
        "theta_degrees\n"
      ]
    },
    {
      "cell_type": "code",
      "execution_count": null,
      "metadata": {
        "id": "VAt0R9RgmidU"
      },
      "outputs": [],
      "source": []
    },
    {
      "cell_type": "code",
      "execution_count": null,
      "metadata": {
        "id": "lAwz8Et7miYu"
      },
      "outputs": [],
      "source": []
    },
    {
      "cell_type": "code",
      "execution_count": null,
      "metadata": {
        "id": "gKHgWWz2miWV"
      },
      "outputs": [],
      "source": []
    }
  ],
  "metadata": {
    "colab": {
      "provenance": []
    },
    "kernelspec": {
      "display_name": ".venv",
      "language": "python",
      "name": "python3"
    },
    "language_info": {
      "codemirror_mode": {
        "name": "ipython",
        "version": 3
      },
      "file_extension": ".py",
      "mimetype": "text/x-python",
      "name": "python",
      "nbconvert_exporter": "python",
      "pygments_lexer": "ipython3",
      "version": "3.13.0"
    }
  },
  "nbformat": 4,
  "nbformat_minor": 0
}
