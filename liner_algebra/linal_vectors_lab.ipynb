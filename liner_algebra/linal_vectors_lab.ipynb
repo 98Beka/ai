{
 "cells": [
  {
   "cell_type": "code",
   "execution_count": 2,
   "metadata": {
    "id": "0K7GLuL3MuwO"
   },
   "outputs": [],
   "source": [
    "import numpy as np\n",
    "import plotly.graph_objects as go"
   ]
  },
  {
   "cell_type": "markdown",
   "metadata": {
    "id": "Qb7vH9bR_In8"
   },
   "source": [
    "# Seminar VecAlg\n",
    "\n",
    "Прежде чем мы начнем выполнять задачи векторной алгебры, отметим, что их очень полезно визуализировать, для чего ниже написана соответствующая функция. Почитайте ее описание (Docstring). В процессе выполнения заданий, вы можете визуализировать вектора, которые представлены в двумерном или трехмерном пространстве."
   ]
  },
  {
   "cell_type": "code",
   "execution_count": 6,
   "metadata": {
    "cellView": "form",
    "id": "D-IyBcmb_kMG"
   },
   "outputs": [],
   "source": [
    "# @title Function `plot_vectors(vectors: np.ndarray, colors=None, labels=None)`\n",
    "def plot_vectors(vectors: np.ndarray, colors:list=None, labels:list=None)->None:\n",
    "    \"\"\"\n",
    "    Plots 3D vectors using Plotly.\n",
    "\n",
    "    This function visualizes 3D vectors in a 3D space by plotting them as lines with arrows\n",
    "    at their endpoints. Each vector can have a different color and an optional label for\n",
    "    identification.\n",
    "\n",
    "    Parameters:\n",
    "    -----------\n",
    "    vectors : np.ndarray\n",
    "        A 2D numpy array of shape (n, 2) or (n, 3) representing the vectors to be plotted.\n",
    "        Each row corresponds to a vector, where the first two columns represent the x and y\n",
    "        coordinates, and the third column (if present) represents the z coordinate.\n",
    "\n",
    "    colors : list of str, optional\n",
    "        A list of color specifications for each vector. The default is red for all vectors\n",
    "        if no colors are provided.\n",
    "\n",
    "    labels : list of str, optional\n",
    "        A list of labels for each vector. These labels will be displayed next to the corresponding\n",
    "        vector in the plot. If no labels are provided, no text will be shown.\n",
    "\n",
    "    Returns:\n",
    "    --------\n",
    "    None\n",
    "        Displays a 3D plot of the vectors using Plotly.\n",
    "    \"\"\"\n",
    "    fig = go.Figure()\n",
    "    origin = [0, 0, 0]\n",
    "\n",
    "    if vectors.shape[1] == 2:\n",
    "        vectors = np.concatenate([vectors, np.zeros((vectors.shape[0], 1))], axis=1)\n",
    "\n",
    "    vectors = vectors.tolist()\n",
    "\n",
    "    if colors is None:\n",
    "        colors = ['red'] * len(vectors)\n",
    "\n",
    "    for i, vector in enumerate(vectors):\n",
    "        color = colors[i]\n",
    "        fig.add_trace(go.Scatter3d(x=[origin[0], vector[0]],\n",
    "                                     y=[origin[1], vector[1]],\n",
    "                                     z=[origin[2], vector[2]],\n",
    "                                     mode='lines',\n",
    "                                     line=dict(color=color, width=5)))\n",
    "\n",
    "        fig.add_trace(go.Cone(x=[vector[0]], y=[vector[1]], z=[vector[2]],\n",
    "                              u=[vector[0]], v=[vector[1]], w=[vector[2]],\n",
    "                              showscale=False,\n",
    "                              colorscale=[[0, color], [1, color]],\n",
    "                              sizemode=\"absolute\",\n",
    "                              sizeref=0.5))\n",
    "\n",
    "\n",
    "        if labels is not None and i < len(labels):\n",
    "            fig.add_trace(go.Scatter3d(\n",
    "                x=[vector[0]], y=[vector[1]], z=[vector[2]],\n",
    "                mode='text',\n",
    "                text=[labels[i]],\n",
    "                textposition='top center',\n",
    "                showlegend=False\n",
    "            ))\n",
    "\n",
    "    title = '3D Векторы'\n",
    "    fig.update_layout(title=title, scene=dict(xaxis_title='X Axis',\n",
    "                                               yaxis_title='Y Axis',\n",
    "                                               zaxis_title='Z Axis'))\n",
    "    fig.show()"
   ]
  },
  {
   "cell_type": "code",
   "execution_count": 21,
   "metadata": {
    "id": "H4bAD7HD_lfk"
   },
   "outputs": [
    {
     "data": {
      "text/plain": [
       "<function __main__.plot_vectors(vectors: numpy.ndarray, colors: list = None, labels: list = None) -> None>"
      ]
     },
     "execution_count": 21,
     "metadata": {},
     "output_type": "execute_result"
    }
   ],
   "source": [
    "plot_vectors # обращение к функции \"без вызова\" выводит ее описание!"
   ]
  },
  {
   "cell_type": "code",
   "execution_count": null,
   "metadata": {},
   "outputs": [],
   "source": []
  },
  {
   "cell_type": "markdown",
   "metadata": {
    "id": "2-1UpQiT_poJ"
   },
   "source": [
    "Ниже пример использования данной функции, где каждому вектору из массива можно поставить в соответствие цвет и лэйбл."
   ]
  },
  {
   "cell_type": "code",
   "execution_count": 18,
   "metadata": {
    "id": "pC1Vc_4k_r_F"
   },
   "outputs": [
    {
     "data": {
      "application/vnd.plotly.v1+json": {
       "config": {
        "plotlyServerURL": "https://plot.ly"
       },
       "data": [
        {
         "line": {
          "color": "red",
          "width": 5
         },
         "mode": "lines",
         "type": "scatter3d",
         "x": [
          0,
          1
         ],
         "y": [
          0,
          2
         ],
         "z": [
          0,
          1
         ]
        },
        {
         "colorscale": [
          [
           0,
           "red"
          ],
          [
           1,
           "red"
          ]
         ],
         "showscale": false,
         "sizemode": "absolute",
         "sizeref": 0.5,
         "type": "cone",
         "u": [
          1
         ],
         "v": [
          2
         ],
         "w": [
          1
         ],
         "x": [
          1
         ],
         "y": [
          2
         ],
         "z": [
          1
         ]
        },
        {
         "mode": "text",
         "showlegend": false,
         "text": [
          "Vector 1"
         ],
         "textposition": "top center",
         "type": "scatter3d",
         "x": [
          1
         ],
         "y": [
          2
         ],
         "z": [
          1
         ]
        },
        {
         "line": {
          "color": "blue",
          "width": 5
         },
         "mode": "lines",
         "type": "scatter3d",
         "x": [
          0,
          3
         ],
         "y": [
          0,
          1
         ],
         "z": [
          0,
          4
         ]
        },
        {
         "colorscale": [
          [
           0,
           "blue"
          ],
          [
           1,
           "blue"
          ]
         ],
         "showscale": false,
         "sizemode": "absolute",
         "sizeref": 0.5,
         "type": "cone",
         "u": [
          3
         ],
         "v": [
          1
         ],
         "w": [
          4
         ],
         "x": [
          3
         ],
         "y": [
          1
         ],
         "z": [
          4
         ]
        },
        {
         "mode": "text",
         "showlegend": false,
         "text": [
          "Vector 2"
         ],
         "textposition": "top center",
         "type": "scatter3d",
         "x": [
          3
         ],
         "y": [
          1
         ],
         "z": [
          4
         ]
        },
        {
         "line": {
          "color": "green",
          "width": 5
         },
         "mode": "lines",
         "type": "scatter3d",
         "x": [
          0,
          2
         ],
         "y": [
          0,
          3
         ],
         "z": [
          0,
          -1
         ]
        },
        {
         "colorscale": [
          [
           0,
           "green"
          ],
          [
           1,
           "green"
          ]
         ],
         "showscale": false,
         "sizemode": "absolute",
         "sizeref": 0.5,
         "type": "cone",
         "u": [
          2
         ],
         "v": [
          3
         ],
         "w": [
          -1
         ],
         "x": [
          2
         ],
         "y": [
          3
         ],
         "z": [
          -1
         ]
        },
        {
         "mode": "text",
         "showlegend": false,
         "text": [
          "Vector 3"
         ],
         "textposition": "top center",
         "type": "scatter3d",
         "x": [
          2
         ],
         "y": [
          3
         ],
         "z": [
          -1
         ]
        }
       ],
       "layout": {
        "scene": {
         "xaxis": {
          "title": {
           "text": "X Axis"
          }
         },
         "yaxis": {
          "title": {
           "text": "Y Axis"
          }
         },
         "zaxis": {
          "title": {
           "text": "Z Axis"
          }
         }
        },
        "template": {
         "data": {
          "bar": [
           {
            "error_x": {
             "color": "#2a3f5f"
            },
            "error_y": {
             "color": "#2a3f5f"
            },
            "marker": {
             "line": {
              "color": "#E5ECF6",
              "width": 0.5
             },
             "pattern": {
              "fillmode": "overlay",
              "size": 10,
              "solidity": 0.2
             }
            },
            "type": "bar"
           }
          ],
          "barpolar": [
           {
            "marker": {
             "line": {
              "color": "#E5ECF6",
              "width": 0.5
             },
             "pattern": {
              "fillmode": "overlay",
              "size": 10,
              "solidity": 0.2
             }
            },
            "type": "barpolar"
           }
          ],
          "carpet": [
           {
            "aaxis": {
             "endlinecolor": "#2a3f5f",
             "gridcolor": "white",
             "linecolor": "white",
             "minorgridcolor": "white",
             "startlinecolor": "#2a3f5f"
            },
            "baxis": {
             "endlinecolor": "#2a3f5f",
             "gridcolor": "white",
             "linecolor": "white",
             "minorgridcolor": "white",
             "startlinecolor": "#2a3f5f"
            },
            "type": "carpet"
           }
          ],
          "choropleth": [
           {
            "colorbar": {
             "outlinewidth": 0,
             "ticks": ""
            },
            "type": "choropleth"
           }
          ],
          "contour": [
           {
            "colorbar": {
             "outlinewidth": 0,
             "ticks": ""
            },
            "colorscale": [
             [
              0,
              "#0d0887"
             ],
             [
              0.1111111111111111,
              "#46039f"
             ],
             [
              0.2222222222222222,
              "#7201a8"
             ],
             [
              0.3333333333333333,
              "#9c179e"
             ],
             [
              0.4444444444444444,
              "#bd3786"
             ],
             [
              0.5555555555555556,
              "#d8576b"
             ],
             [
              0.6666666666666666,
              "#ed7953"
             ],
             [
              0.7777777777777778,
              "#fb9f3a"
             ],
             [
              0.8888888888888888,
              "#fdca26"
             ],
             [
              1,
              "#f0f921"
             ]
            ],
            "type": "contour"
           }
          ],
          "contourcarpet": [
           {
            "colorbar": {
             "outlinewidth": 0,
             "ticks": ""
            },
            "type": "contourcarpet"
           }
          ],
          "heatmap": [
           {
            "colorbar": {
             "outlinewidth": 0,
             "ticks": ""
            },
            "colorscale": [
             [
              0,
              "#0d0887"
             ],
             [
              0.1111111111111111,
              "#46039f"
             ],
             [
              0.2222222222222222,
              "#7201a8"
             ],
             [
              0.3333333333333333,
              "#9c179e"
             ],
             [
              0.4444444444444444,
              "#bd3786"
             ],
             [
              0.5555555555555556,
              "#d8576b"
             ],
             [
              0.6666666666666666,
              "#ed7953"
             ],
             [
              0.7777777777777778,
              "#fb9f3a"
             ],
             [
              0.8888888888888888,
              "#fdca26"
             ],
             [
              1,
              "#f0f921"
             ]
            ],
            "type": "heatmap"
           }
          ],
          "heatmapgl": [
           {
            "colorbar": {
             "outlinewidth": 0,
             "ticks": ""
            },
            "colorscale": [
             [
              0,
              "#0d0887"
             ],
             [
              0.1111111111111111,
              "#46039f"
             ],
             [
              0.2222222222222222,
              "#7201a8"
             ],
             [
              0.3333333333333333,
              "#9c179e"
             ],
             [
              0.4444444444444444,
              "#bd3786"
             ],
             [
              0.5555555555555556,
              "#d8576b"
             ],
             [
              0.6666666666666666,
              "#ed7953"
             ],
             [
              0.7777777777777778,
              "#fb9f3a"
             ],
             [
              0.8888888888888888,
              "#fdca26"
             ],
             [
              1,
              "#f0f921"
             ]
            ],
            "type": "heatmapgl"
           }
          ],
          "histogram": [
           {
            "marker": {
             "pattern": {
              "fillmode": "overlay",
              "size": 10,
              "solidity": 0.2
             }
            },
            "type": "histogram"
           }
          ],
          "histogram2d": [
           {
            "colorbar": {
             "outlinewidth": 0,
             "ticks": ""
            },
            "colorscale": [
             [
              0,
              "#0d0887"
             ],
             [
              0.1111111111111111,
              "#46039f"
             ],
             [
              0.2222222222222222,
              "#7201a8"
             ],
             [
              0.3333333333333333,
              "#9c179e"
             ],
             [
              0.4444444444444444,
              "#bd3786"
             ],
             [
              0.5555555555555556,
              "#d8576b"
             ],
             [
              0.6666666666666666,
              "#ed7953"
             ],
             [
              0.7777777777777778,
              "#fb9f3a"
             ],
             [
              0.8888888888888888,
              "#fdca26"
             ],
             [
              1,
              "#f0f921"
             ]
            ],
            "type": "histogram2d"
           }
          ],
          "histogram2dcontour": [
           {
            "colorbar": {
             "outlinewidth": 0,
             "ticks": ""
            },
            "colorscale": [
             [
              0,
              "#0d0887"
             ],
             [
              0.1111111111111111,
              "#46039f"
             ],
             [
              0.2222222222222222,
              "#7201a8"
             ],
             [
              0.3333333333333333,
              "#9c179e"
             ],
             [
              0.4444444444444444,
              "#bd3786"
             ],
             [
              0.5555555555555556,
              "#d8576b"
             ],
             [
              0.6666666666666666,
              "#ed7953"
             ],
             [
              0.7777777777777778,
              "#fb9f3a"
             ],
             [
              0.8888888888888888,
              "#fdca26"
             ],
             [
              1,
              "#f0f921"
             ]
            ],
            "type": "histogram2dcontour"
           }
          ],
          "mesh3d": [
           {
            "colorbar": {
             "outlinewidth": 0,
             "ticks": ""
            },
            "type": "mesh3d"
           }
          ],
          "parcoords": [
           {
            "line": {
             "colorbar": {
              "outlinewidth": 0,
              "ticks": ""
             }
            },
            "type": "parcoords"
           }
          ],
          "pie": [
           {
            "automargin": true,
            "type": "pie"
           }
          ],
          "scatter": [
           {
            "fillpattern": {
             "fillmode": "overlay",
             "size": 10,
             "solidity": 0.2
            },
            "type": "scatter"
           }
          ],
          "scatter3d": [
           {
            "line": {
             "colorbar": {
              "outlinewidth": 0,
              "ticks": ""
             }
            },
            "marker": {
             "colorbar": {
              "outlinewidth": 0,
              "ticks": ""
             }
            },
            "type": "scatter3d"
           }
          ],
          "scattercarpet": [
           {
            "marker": {
             "colorbar": {
              "outlinewidth": 0,
              "ticks": ""
             }
            },
            "type": "scattercarpet"
           }
          ],
          "scattergeo": [
           {
            "marker": {
             "colorbar": {
              "outlinewidth": 0,
              "ticks": ""
             }
            },
            "type": "scattergeo"
           }
          ],
          "scattergl": [
           {
            "marker": {
             "colorbar": {
              "outlinewidth": 0,
              "ticks": ""
             }
            },
            "type": "scattergl"
           }
          ],
          "scattermapbox": [
           {
            "marker": {
             "colorbar": {
              "outlinewidth": 0,
              "ticks": ""
             }
            },
            "type": "scattermapbox"
           }
          ],
          "scatterpolar": [
           {
            "marker": {
             "colorbar": {
              "outlinewidth": 0,
              "ticks": ""
             }
            },
            "type": "scatterpolar"
           }
          ],
          "scatterpolargl": [
           {
            "marker": {
             "colorbar": {
              "outlinewidth": 0,
              "ticks": ""
             }
            },
            "type": "scatterpolargl"
           }
          ],
          "scatterternary": [
           {
            "marker": {
             "colorbar": {
              "outlinewidth": 0,
              "ticks": ""
             }
            },
            "type": "scatterternary"
           }
          ],
          "surface": [
           {
            "colorbar": {
             "outlinewidth": 0,
             "ticks": ""
            },
            "colorscale": [
             [
              0,
              "#0d0887"
             ],
             [
              0.1111111111111111,
              "#46039f"
             ],
             [
              0.2222222222222222,
              "#7201a8"
             ],
             [
              0.3333333333333333,
              "#9c179e"
             ],
             [
              0.4444444444444444,
              "#bd3786"
             ],
             [
              0.5555555555555556,
              "#d8576b"
             ],
             [
              0.6666666666666666,
              "#ed7953"
             ],
             [
              0.7777777777777778,
              "#fb9f3a"
             ],
             [
              0.8888888888888888,
              "#fdca26"
             ],
             [
              1,
              "#f0f921"
             ]
            ],
            "type": "surface"
           }
          ],
          "table": [
           {
            "cells": {
             "fill": {
              "color": "#EBF0F8"
             },
             "line": {
              "color": "white"
             }
            },
            "header": {
             "fill": {
              "color": "#C8D4E3"
             },
             "line": {
              "color": "white"
             }
            },
            "type": "table"
           }
          ]
         },
         "layout": {
          "annotationdefaults": {
           "arrowcolor": "#2a3f5f",
           "arrowhead": 0,
           "arrowwidth": 1
          },
          "autotypenumbers": "strict",
          "coloraxis": {
           "colorbar": {
            "outlinewidth": 0,
            "ticks": ""
           }
          },
          "colorscale": {
           "diverging": [
            [
             0,
             "#8e0152"
            ],
            [
             0.1,
             "#c51b7d"
            ],
            [
             0.2,
             "#de77ae"
            ],
            [
             0.3,
             "#f1b6da"
            ],
            [
             0.4,
             "#fde0ef"
            ],
            [
             0.5,
             "#f7f7f7"
            ],
            [
             0.6,
             "#e6f5d0"
            ],
            [
             0.7,
             "#b8e186"
            ],
            [
             0.8,
             "#7fbc41"
            ],
            [
             0.9,
             "#4d9221"
            ],
            [
             1,
             "#276419"
            ]
           ],
           "sequential": [
            [
             0,
             "#0d0887"
            ],
            [
             0.1111111111111111,
             "#46039f"
            ],
            [
             0.2222222222222222,
             "#7201a8"
            ],
            [
             0.3333333333333333,
             "#9c179e"
            ],
            [
             0.4444444444444444,
             "#bd3786"
            ],
            [
             0.5555555555555556,
             "#d8576b"
            ],
            [
             0.6666666666666666,
             "#ed7953"
            ],
            [
             0.7777777777777778,
             "#fb9f3a"
            ],
            [
             0.8888888888888888,
             "#fdca26"
            ],
            [
             1,
             "#f0f921"
            ]
           ],
           "sequentialminus": [
            [
             0,
             "#0d0887"
            ],
            [
             0.1111111111111111,
             "#46039f"
            ],
            [
             0.2222222222222222,
             "#7201a8"
            ],
            [
             0.3333333333333333,
             "#9c179e"
            ],
            [
             0.4444444444444444,
             "#bd3786"
            ],
            [
             0.5555555555555556,
             "#d8576b"
            ],
            [
             0.6666666666666666,
             "#ed7953"
            ],
            [
             0.7777777777777778,
             "#fb9f3a"
            ],
            [
             0.8888888888888888,
             "#fdca26"
            ],
            [
             1,
             "#f0f921"
            ]
           ]
          },
          "colorway": [
           "#636efa",
           "#EF553B",
           "#00cc96",
           "#ab63fa",
           "#FFA15A",
           "#19d3f3",
           "#FF6692",
           "#B6E880",
           "#FF97FF",
           "#FECB52"
          ],
          "font": {
           "color": "#2a3f5f"
          },
          "geo": {
           "bgcolor": "white",
           "lakecolor": "white",
           "landcolor": "#E5ECF6",
           "showlakes": true,
           "showland": true,
           "subunitcolor": "white"
          },
          "hoverlabel": {
           "align": "left"
          },
          "hovermode": "closest",
          "mapbox": {
           "style": "light"
          },
          "paper_bgcolor": "white",
          "plot_bgcolor": "#E5ECF6",
          "polar": {
           "angularaxis": {
            "gridcolor": "white",
            "linecolor": "white",
            "ticks": ""
           },
           "bgcolor": "#E5ECF6",
           "radialaxis": {
            "gridcolor": "white",
            "linecolor": "white",
            "ticks": ""
           }
          },
          "scene": {
           "xaxis": {
            "backgroundcolor": "#E5ECF6",
            "gridcolor": "white",
            "gridwidth": 2,
            "linecolor": "white",
            "showbackground": true,
            "ticks": "",
            "zerolinecolor": "white"
           },
           "yaxis": {
            "backgroundcolor": "#E5ECF6",
            "gridcolor": "white",
            "gridwidth": 2,
            "linecolor": "white",
            "showbackground": true,
            "ticks": "",
            "zerolinecolor": "white"
           },
           "zaxis": {
            "backgroundcolor": "#E5ECF6",
            "gridcolor": "white",
            "gridwidth": 2,
            "linecolor": "white",
            "showbackground": true,
            "ticks": "",
            "zerolinecolor": "white"
           }
          },
          "shapedefaults": {
           "line": {
            "color": "#2a3f5f"
           }
          },
          "ternary": {
           "aaxis": {
            "gridcolor": "white",
            "linecolor": "white",
            "ticks": ""
           },
           "baxis": {
            "gridcolor": "white",
            "linecolor": "white",
            "ticks": ""
           },
           "bgcolor": "#E5ECF6",
           "caxis": {
            "gridcolor": "white",
            "linecolor": "white",
            "ticks": ""
           }
          },
          "title": {
           "x": 0.05
          },
          "xaxis": {
           "automargin": true,
           "gridcolor": "white",
           "linecolor": "white",
           "ticks": "",
           "title": {
            "standoff": 15
           },
           "zerolinecolor": "white",
           "zerolinewidth": 2
          },
          "yaxis": {
           "automargin": true,
           "gridcolor": "white",
           "linecolor": "white",
           "ticks": "",
           "title": {
            "standoff": 15
           },
           "zerolinecolor": "white",
           "zerolinewidth": 2
          }
         }
        },
        "title": {
         "text": "3D Векторы"
        }
       }
      }
     },
     "metadata": {},
     "output_type": "display_data"
    }
   ],
   "source": [
    "vectors = np.array([[1, 2, 1],\n",
    "                    [3, 1, 4],\n",
    "                    [2, 3, -1]])\n",
    "colors = ['red', 'blue', 'green']\n",
    "labels = ['Vector 1', 'Vector 2', 'Vector 3']\n",
    "\n",
    "plot_vectors(vectors, colors=colors, labels=labels)"
   ]
  },
  {
   "cell_type": "markdown",
   "metadata": {
    "id": "d9Y_B4G_NUWq"
   },
   "source": [
    "# Task_1\n",
    "\n",
    "Расчитайте модуль каждого вектора и найдите их сумму."
   ]
  },
  {
   "cell_type": "code",
   "execution_count": 11,
   "metadata": {
    "id": "Aj5PVCl1M0hT"
   },
   "outputs": [],
   "source": [
    "a = np.array([ 2,  1, -5,  4,  3])\n",
    "b = np.array([ 1, -3,  1, -1, -1])"
   ]
  },
  {
   "cell_type": "code",
   "execution_count": 12,
   "metadata": {
    "id": "Db9BkURrM3qs"
   },
   "outputs": [
    {
     "name": "stdout",
     "output_type": "stream",
     "text": [
      "Модуль вектора a: 7.416198487095663\n",
      "Модуль вектора b: 3.605551275463989\n",
      "Сумма модулей: 11.021749762559653\n"
     ]
    }
   ],
   "source": [
    "mod_a = np.linalg.norm(a)\n",
    "mod_b = np.linalg.norm(b)\n",
    "\n",
    "sum_mod = mod_a + mod_b\n",
    "\n",
    "print(f\"Модуль вектора a: {mod_a}\")\n",
    "print(f\"Модуль вектора b: {mod_b}\")\n",
    "print(f\"Сумма модулей: {sum_mod}\")"
   ]
  },
  {
   "cell_type": "code",
   "execution_count": null,
   "metadata": {
    "id": "G-JE4IlWM3n-"
   },
   "outputs": [
    {
     "name": "stdout",
     "output_type": "stream",
     "text": [
      "[ 2 -6 -7]\n"
     ]
    },
    {
     "data": {
      "text/plain": [
       "np.float64(9.433981132056603)"
      ]
     },
     "execution_count": 8,
     "metadata": {},
     "output_type": "execute_result"
    }
   ],
   "source": []
  },
  {
   "cell_type": "markdown",
   "metadata": {
    "id": "GcAO6jA8qMCy"
   },
   "source": [
    "# Task_2\n",
    "\n",
    "Дан вектор $a$. Умножте этот вектор на число 3. Сравните, во сколько раз изменилась длина вектора."
   ]
  },
  {
   "cell_type": "code",
   "execution_count": 13,
   "metadata": {
    "id": "0mYRatbwqZWS"
   },
   "outputs": [
    {
     "name": "stdout",
     "output_type": "stream",
     "text": [
      "[1 3 5]\n",
      "5.916079783099616\n",
      "[ 3  9 15]\n",
      "17.74823934929885\n"
     ]
    }
   ],
   "source": [
    "a = np.array([1, 3, 5])\n",
    "print(a)\n",
    "print(np.linalg.norm(a))\n",
    "a *= 3\n",
    "print(a)\n",
    "print(np.linalg.norm(a))"
   ]
  },
  {
   "cell_type": "code",
   "execution_count": null,
   "metadata": {
    "id": "zFLz4Qr0qZQq"
   },
   "outputs": [
    {
     "data": {
      "text/plain": [
       "array([ 3,  9, 15])"
      ]
     },
     "execution_count": 11,
     "metadata": {},
     "output_type": "execute_result"
    }
   ],
   "source": []
  },
  {
   "cell_type": "markdown",
   "metadata": {
    "id": "WGRQXaKXNgh1"
   },
   "source": [
    "# Task_3\n",
    "\n",
    "Дана матрица, где каждую строку будем считать вектором. Найдите модуль каждого вектора. Верните одномерный массив"
   ]
  },
  {
   "cell_type": "code",
   "execution_count": 32,
   "metadata": {
    "id": "nS17baIAM0er"
   },
   "outputs": [
    {
     "data": {
      "text/plain": [
       "array([6.4807407 , 7.68114575, 5.29150262, 5.29150262])"
      ]
     },
     "execution_count": 32,
     "metadata": {},
     "output_type": "execute_result"
    }
   ],
   "source": [
    "arr = np.array([[-4,  0, -1, -5],\n",
    "                [ 0, -5,  3, -5],\n",
    "                [-2, -4,  2,  2],\n",
    "                [-2, -2,  2,  4]])\n",
    "\n",
    "np.linalg.norm(arr, axis=1)"
   ]
  },
  {
   "cell_type": "markdown",
   "metadata": {
    "id": "OOT16ho1qlvq"
   },
   "source": [
    "# Task_4\n",
    "\n",
    "Даны два массива.\n",
    "* в первом координаты начала вектора.\n",
    "* во втором координаты конца вектора.\n",
    "\n",
    "Вычислите длину вектора."
   ]
  },
  {
   "cell_type": "code",
   "execution_count": null,
   "metadata": {
    "id": "O6a6gtEfqpFP"
   },
   "outputs": [
    {
     "name": "stdout",
     "output_type": "stream",
     "text": [
      "9.899494936611665\n"
     ]
    },
    {
     "data": {
      "text/plain": [
       "np.float64(-2.7975729619688594)"
      ]
     },
     "execution_count": 40,
     "metadata": {},
     "output_type": "execute_result"
    }
   ],
   "source": [
    "start = np.array([2, -3])\n",
    "stop = np.array([-5, 4])\n",
    "res_v = stop - start\n",
    "print(np.linalg.norm(res_v))"
   ]
  },
  {
   "cell_type": "code",
   "execution_count": null,
   "metadata": {
    "id": "mM3ut7IhqpIA"
   },
   "outputs": [],
   "source": []
  },
  {
   "cell_type": "markdown",
   "metadata": {
    "id": "V9jziee-PHmz"
   },
   "source": [
    "# Task_5\n",
    "\n",
    "Расчитайте угол между векторами в градусах.\n",
    "\n",
    "$$<\\overrightarrow{a}, \\overrightarrow{b}> = |a| |b| cos(\\alpha)$$\n",
    "\n",
    "$$<\\overrightarrow{a}, \\overrightarrow{b}> = x_ax_b + y_ay_b + z_az_b$$"
   ]
  },
  {
   "cell_type": "code",
   "execution_count": 15,
   "metadata": {
    "id": "tHn6BFg_OO-Q"
   },
   "outputs": [],
   "source": [
    "a = np.array([ 1, -1, -3])\n",
    "b = np.array([ 1, -5, -4])"
   ]
  },
  {
   "cell_type": "code",
   "execution_count": 18,
   "metadata": {
    "id": "OCcENekJM0cD"
   },
   "outputs": [
    {
     "name": "stdout",
     "output_type": "stream",
     "text": [
      "33.129672301910105\n"
     ]
    }
   ],
   "source": [
    "cos_thet = np.dot(a, b)/(np.linalg.norm(a) * np.linalg.norm(b))\n",
    "res = np.arccos(cos_thet) * 180/np.pi\n",
    "print(res)\n",
    "#res = 33"
   ]
  },
  {
   "cell_type": "code",
   "execution_count": null,
   "metadata": {
    "id": "pF85pmUAM0Za"
   },
   "outputs": [
    {
     "name": "stdout",
     "output_type": "stream",
     "text": [
      "72.4515993862077\n",
      "72.4515993862077\n"
     ]
    }
   ],
   "source": []
  },
  {
   "cell_type": "markdown",
   "metadata": {
    "id": "rD3DZzRxQrlq"
   },
   "source": [
    "# Task_6\n",
    "\n",
    "Вычислите площадь треугольника, построенного на двух векторах $a$ и $b$. Вам может пригодиться формула:\n",
    "\n",
    "$$S_{\\Delta} = \\frac{1}{2}ab\\sin{\\alpha}$$\n",
    "\n",
    "![image.png](data:image/png;base64,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)"
   ]
  },
  {
   "cell_type": "code",
   "execution_count": 5,
   "metadata": {
    "id": "V1dQtYt-QdIM"
   },
   "outputs": [
    {
     "name": "stdout",
     "output_type": "stream",
     "text": [
      "sin_thet: 0.4395041139166369\n",
      "res:51.86520991955976\n"
     ]
    }
   ],
   "source": [
    "a = np.array([9,  3, 11])\n",
    "b = np.array([ 8, 10,  10])\n",
    "\n",
    "a_norm = np.linalg.norm(a)\n",
    "b_norm = np.linalg.norm(b)\n",
    "norm_product = a_norm * b_norm\n",
    "cross_product = np.cross(a, b)\n",
    "sin_thet = np.linalg.norm(cross_product)/norm_product\n",
    "print(f\"sin_thet: {sin_thet}\")\n",
    "S = 1/2 * a_norm * b_norm * sin_thet\n",
    "print(f\"res:{S}\")"
   ]
  },
  {
   "cell_type": "code",
   "execution_count": null,
   "metadata": {
    "id": "Z2iMyL2QQdBu"
   },
   "outputs": [],
   "source": []
  },
  {
   "cell_type": "markdown",
   "metadata": {
    "id": "0-CatyfisqqP"
   },
   "source": [
    "# Task_7\n",
    "\n",
    "Лодка переплывает реку и имеет собственную скорость 10 $\\frac{км}{ч}$.\n",
    "Река имеет течение 5 $\\frac{км}{ч}$. На сколько процентов у лодки наблюдается прирост скорости. Каков угол сноса? (Угол по отношению к нормали к скорости течения.)"
   ]
  },
  {
   "cell_type": "code",
   "execution_count": 26,
   "metadata": {
    "id": "61DqTpc1sqef"
   },
   "outputs": [
    {
     "name": "stdout",
     "output_type": "stream",
     "text": [
      "speed_up_rate: 11.80339887498949%\n",
      "degree:0.46364760900080615\n"
     ]
    }
   ],
   "source": [
    "v_river = 5\n",
    "v_boat = 10\n",
    "\n",
    "max_speed = np.sqrt(v_boat**2 + v_river**2)\n",
    "speed_up_rate = (max_speed - v_boat)/v_boat * 100\n",
    "print(f\"speed_up_rate: {speed_up_rate}%\")\n",
    "cos_theta = v_boat / max_speed\n",
    "print(f\"degree:{np.arccos(cos_theta)}\")"
   ]
  },
  {
   "cell_type": "code",
   "execution_count": null,
   "metadata": {
    "id": "RQDBdYvIsqby"
   },
   "outputs": [],
   "source": []
  },
  {
   "cell_type": "markdown",
   "metadata": {
    "id": "PZ6NUCEzTADW"
   },
   "source": [
    "# Task_8\n",
    "\n",
    "Пассажирский авиалайнер заходит на посадку с сильным боковым ветром. По приборам, самолет летит курсом 270 градусов со скоростью 140 узлов. Направление ветра 190 градусов и его скорость около 15 узлов. Каков курс захода на посадку?\n",
    "![image.png](data:image/png;base64,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)"
   ]
  },
  {
   "cell_type": "code",
   "execution_count": null,
   "metadata": {
    "id": "hEptjV6GQc_N"
   },
   "outputs": [
    {
     "name": "stdout",
     "output_type": "stream",
     "text": [
      "relative_wind_angle: -1.3962634015954636\n",
      "true_course: 263.9431545779333\n"
     ]
    }
   ],
   "source": [
    "air_plain__angle = 270\n",
    "air_plain_speed = 140\n",
    "wind__angle = 190\n",
    "wind_speed = 15\n",
    "\n",
    "relative_wind_angle = np.radians(wind__angle - air_plain__angle)\n",
    "croswind = wind_speed * np.sin(relative_wind_angle)\n",
    "drift_angle = np.degrees(np.arcsin(croswind / air_plain_speed))\n",
    "true_course = air_plain__angle + drift_angle\n",
    "true_course\n",
    "\n",
    "print(f\"relative_wind_angle: {relative_wind_angle}\")\n",
    "print(f\"true_course: {true_course}\")"
   ]
  },
  {
   "cell_type": "code",
   "execution_count": null,
   "metadata": {
    "id": "tTKsErMLQc8m"
   },
   "outputs": [],
   "source": []
  },
  {
   "cell_type": "markdown",
   "metadata": {
    "id": "GAMdojz8rfqr"
   },
   "source": [
    "# Task_9\n",
    "\n",
    "Углы между векторами помогают показать сходства и различия между разными объектами в данных. Посмотрим это на примере автомобилей."
   ]
  },
  {
   "cell_type": "code",
   "execution_count": 46,
   "metadata": {
    "colab": {
     "base_uri": "https://localhost:8080/"
    },
    "id": "5TMPWdTbM0UG",
    "outputId": "a90414fd-c802-45b6-ea64-ace67aad6fee"
   },
   "outputs": [
    {
     "data": {
      "text/plain": [
       "array([['Toyota', '2019', '30000', '20000'],\n",
       "       ['Lexus', '2020', '35000', '22000'],\n",
       "       ['Toyota', '2010', '120000', '8000'],\n",
       "       ['Lexus', '2007', '200000', '10000'],\n",
       "       ['Lexus', '2012', '130000', '7000'],\n",
       "       ['Toyota', '2015', '110000', '9000'],\n",
       "       ['Toyota', '2021', '45000', '16000'],\n",
       "       ['Toyota', '2022', '10000', '21000'],\n",
       "       ['Lexus', '2019', '42000', '23000'],\n",
       "       ['Toyota', '2001', '340000', '3000']], dtype='<U21')"
      ]
     },
     "execution_count": 46,
     "metadata": {},
     "output_type": "execute_result"
    }
   ],
   "source": [
    "features = ['brand', 'prod_year', 'miliage', 'USD_prise'] # названия колонок\n",
    "brand = ['Toyota', 'Lexus', 'Toyota', 'Lexus', 'Lexus', 'Toyota', 'Toyota', 'Toyota', 'Lexus', 'Toyota']\n",
    "prod_year = [2019, 2020, 2010, 2007, 2012, 2015, 2021, 2022, 2019, 2001]\n",
    "miliage = [30000, 35000, 120000, 200000, 130000, 110000, 45000, 10000, 42000, 340000]\n",
    "USD_prise = [20000, 22000, 8000, 10000, 7000, 9000, 16000, 21000, 23000, 3000]\n",
    "arr = np.array([brand, prod_year, miliage, USD_prise]).T\n",
    "arr"
   ]
  },
  {
   "cell_type": "markdown",
   "metadata": {
    "id": "JFOXDX0pt3d8"
   },
   "source": [
    "Features:\n",
    "* Брэнд - стоит заменить на 0 и 1\n",
    "* Год выпуска\n",
    "* Пробег в км\n",
    "* Стоимсть в USD\n",
    "\n",
    "Мы имеем дело с 4-х мерным признаковым пространством. Чем сильнее наблюдаются различия по признакам между двумя авто, тем больший угол будут иметь вектора, построенные на значениях признаков.\n",
    "\n",
    "Выберем два похожих авто и рассчитаем угол и также сделаем для двух сильно непохожих.\n",
    "\n",
    "Перед выполнением задачи полезно сделать масштабирование по формуле\n",
    "\n",
    "$$x_{norm} = \\frac{x}{x_{max}}$$\n",
    "\n",
    "Подумайте, для чего мы делаем масштабирование?"
   ]
  },
  {
   "cell_type": "code",
   "execution_count": null,
   "metadata": {
    "id": "8bPwFrssM0Re"
   },
   "outputs": [],
   "source": []
  },
  {
   "cell_type": "code",
   "execution_count": null,
   "metadata": {
    "id": "O6ds_KO9u91R"
   },
   "outputs": [],
   "source": []
  },
  {
   "cell_type": "markdown",
   "metadata": {
    "id": "BKOpppkTEuK2"
   },
   "source": [
    "# Task_11\n",
    "\n",
    "На некоторое тело массой 2 кг действует система сил. Под действием данных сил тело движется с ускорением $\\overrightarrow{a}$.\n",
    "\n",
    "$$\\displaystyle\\sum_{i=1}^{n} \\overrightarrow{F_i} = m\\overrightarrow{a}$$\n",
    "\n",
    "Дана начальная скорость и начальные координаты точки. При движении с ускорением каждая координата меняется по закону:\n",
    "\n",
    "$$x(t) = x_0 + \\upsilon_{0_x}t + \\frac{a_xt^2}{2}$$\n",
    "\n",
    "И аналогично и для других координат. Где:\n",
    "\n",
    "* $x_0$ - Начальная координата\n",
    "* $t$ - время в секундах\n",
    "* $\\upsilon_{0_x}$ - составляющая вектора скорости по оси OX\n",
    "* $a_x$ - составляющая вектора ускорения по оси OX\n",
    "\n",
    "\n",
    "\n",
    "```\n",
    "x = []\n",
    "y = []\n",
    "z = []\n",
    "```\n",
    "Заполните текущие массивы всеми значениями координат для каждой секунды за первые 10 секунд движения. Запустите код визуализации траектории ниже. В коде уже прописано обращение к спискам x, y, z.\n"
   ]
  },
  {
   "cell_type": "code",
   "execution_count": 63,
   "metadata": {
    "id": "IH4NzPU3EkI1"
   },
   "outputs": [],
   "source": [
    "f_1 = np.array([3,5,-2])\n",
    "f_2 = np.array([-1, 4, 3])\n",
    "f_3 = np.array([0,-2,6])\n",
    "f_4 = np.array([4, 0, -1])"
   ]
  },
  {
   "cell_type": "markdown",
   "metadata": {
    "id": "J_R4eN-VL6u-"
   },
   "source": [
    "Начальные скорость и координаты."
   ]
  },
  {
   "cell_type": "code",
   "execution_count": 64,
   "metadata": {
    "id": "Oc4nphpnEkD0"
   },
   "outputs": [],
   "source": [
    "v_0 = np.array([-15, 0, 0])\n",
    "x_0 = np.array([0, 0, 0])"
   ]
  },
  {
   "cell_type": "code",
   "execution_count": 69,
   "metadata": {
    "id": "9Sp683EwGw00"
   },
   "outputs": [],
   "source": [
    "x = [1, 2, 4]\n",
    "y = [4, 3, 2]\n",
    "z = [3, 2, 1]\n"
   ]
  },
  {
   "cell_type": "code",
   "execution_count": null,
   "metadata": {
    "id": "ziUWTPzyGwye"
   },
   "outputs": [],
   "source": []
  },
  {
   "cell_type": "code",
   "execution_count": 70,
   "metadata": {
    "id": "zgmsXcUjGstZ"
   },
   "outputs": [
    {
     "data": {
      "image/png": "[encoded data removed]",
      "text/plain": [
       "<Figure size 640x480 with 1 Axes>"
      ]
     },
     "metadata": {},
     "output_type": "display_data"
    }
   ],
   "source": [
    "import matplotlib.pyplot as plt\n",
    "from mpl_toolkits.mplot3d import Axes3D\n",
    "\n",
    "fig = plt.figure()\n",
    "ax = fig.add_subplot(111, projection='3d')\n",
    "ax.plot(x, y, z)\n",
    "ax.set_xlabel('Ось X')\n",
    "ax.set_ylabel('Ось Y')\n",
    "ax.set_zlabel('Ось Z')\n",
    "plt.show()\n"
   ]
  }
 ],
 "metadata": {
  "colab": {
   "provenance": []
  },
  "kernelspec": {
   "display_name": ".venv",
   "language": "python",
   "name": "python3"
  },
  "language_info": {
   "codemirror_mode": {
    "name": "ipython",
    "version": 3
   },
   "file_extension": ".py",
   "mimetype": "text/x-python",
   "name": "python",
   "nbconvert_exporter": "python",
   "pygments_lexer": "ipython3",
   "version": "3.12.7"
  }
 },
 "nbformat": 4,
 "nbformat_minor": 0
}
