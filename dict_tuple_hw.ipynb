{
  "nbformat": 4,
  "nbformat_minor": 0,
  "metadata": {
    "colab": {
      "provenance": []
    },
    "kernelspec": {
      "name": "python3",
      "display_name": "Python 3"
    },
    "language_info": {
      "name": "python"
    }
  },
  "cells": [
    {
      "cell_type": "markdown",
      "source": [
        "# Task 1\n",
        "Создайте словарь dict1 и удалите все его элементы специальным методом"
      ],
      "metadata": {
        "id": "nz5PCxQBQn08"
      }
    },
    {
      "cell_type": "code",
      "source": [
        "dict1 = ..."
      ],
      "metadata": {
        "id": "iOPLDHn4QrHY"
      },
      "execution_count": null,
      "outputs": []
    },
    {
      "cell_type": "markdown",
      "source": [
        "# Task 2\n",
        "Дан словарь dict_ = {'a': 1, 'b': 2, 'c': 1}, выведите все его ключи\n"
      ],
      "metadata": {
        "id": "VLrmzPAnQ4li"
      }
    },
    {
      "cell_type": "code",
      "source": [],
      "metadata": {
        "id": "EI6m7x-bQ8ow"
      },
      "execution_count": null,
      "outputs": []
    },
    {
      "cell_type": "markdown",
      "source": [
        "# Task 3\n",
        "Используя предыдущий словарь проитерируйте его по парам ключ-значение\n",
        "и распечатайте каждую пару\n"
      ],
      "metadata": {
        "id": "-Jurlc2DRAGw"
      }
    },
    {
      "cell_type": "code",
      "source": [],
      "metadata": {
        "id": "o4WrvEZkRAbw"
      },
      "execution_count": null,
      "outputs": []
    },
    {
      "cell_type": "markdown",
      "source": [
        "# Task 4\n",
        "Из словаря dict4 = {'a': 1, 'b': 4, 'c': 1, 'd': 5, 'e': 6}\n",
        "удалите пары у которых значение меньше 4"
      ],
      "metadata": {
        "id": "bX3CRQ0tRAqE"
      }
    },
    {
      "cell_type": "code",
      "source": [],
      "metadata": {
        "id": "kbcIy5mkRA6Y"
      },
      "execution_count": null,
      "outputs": []
    },
    {
      "cell_type": "markdown",
      "source": [
        "# Task 5\n",
        "Дан словарь\n",
        "```\n",
        "dict5 = {1: {'a': 1}, 2: {'b': 4}, 3: {'c': 1}, 4: {'d': 5}, 5: {'e': 6}}\n",
        "```\n",
        "Сделайте так, чтобы значениями внешних ключей были ключи внутренних словарей.\n",
        "\n",
        "Например {1: 'a', 2: 'b', ....}"
      ],
      "metadata": {
        "id": "vqu2Gw7cRBMK"
      }
    },
    {
      "cell_type": "code",
      "source": [],
      "metadata": {
        "id": "9efFdZS4RBap"
      },
      "execution_count": null,
      "outputs": []
    },
    {
      "cell_type": "markdown",
      "source": [
        "# Task 7\n",
        "В словарь dict7 = {'a': 1, 'b': 2, 'c': 1} добавьте новую пару ('d', 3)\n"
      ],
      "metadata": {
        "id": "nl55Gp8oRCHk"
      }
    },
    {
      "cell_type": "code",
      "source": [],
      "metadata": {
        "id": "9sW9pRHERCWD"
      },
      "execution_count": null,
      "outputs": []
    },
    {
      "cell_type": "markdown",
      "source": [
        "# Task 9\n",
        "Даны два словаря ```d1 = {'a': 1, 'b': 2}```, ```d2 = {'c': 3, 'd': 4}```, объедините их в переменной  dict9. Используйте `update()`\n",
        "\n"
      ],
      "metadata": {
        "id": "1dzCCZNlLKBs"
      }
    },
    {
      "cell_type": "code",
      "source": [
        "dict9 = ..."
      ],
      "metadata": {
        "id": "PcPu_-2NLKe-"
      },
      "execution_count": null,
      "outputs": []
    }
  ]
}